{
 "cells": [
  {
   "cell_type": "markdown",
   "id": "204a9e40",
   "metadata": {},
   "source": [
    "# GGR274 Lab 4: Introduction to Data Wrangling, Part 1\n",
    "\n",
    "## Logistics\n",
    "\n",
    "Like last week, our lab grade will be based on attendance and submission of a few small tasks to MarkUs during the lab session (or by 23:59 on Thursday).\n",
    "\n",
    "Complete the tasks in this Jupyter notebook and submit your completed file to [MarkUs](https://markus.teach.cs.toronto.edu/markus/main/login_remote_auth).\n",
    "Here are the instructions for submitting to MarkUs (same as last week):\n",
    "\n",
    "1. Download this file (`Lab_4.ipynb`) from JupyterHub. (See [our JupyterHub Guide](../../../guides/jupyterhub_guide.ipynb) for detailed instructions.)\n",
    "2. Submit this file to MarkUs under the **lab4** assignment. (See [our MarkUs Guide](../../../guides/markus_guide.ipynb) for detailed instructions.)\n",
    "\n",
    "Note: You can use autotests with this week's lab to see if you are on the right track. Your TA and instructors can look in more detail to see if you answered all questions. The submission is a part of your Lab attendance grade."
   ]
  },
  {
   "cell_type": "markdown",
   "id": "535ac824",
   "metadata": {},
   "source": [
    "## Task 1: Read the csv file into a `DataFrame`\n",
    "\n",
    "### a. Read the file \n",
    "\n",
    "Read the csv file `ArrestsStripSearches.csv` into a pandas Dataframe called `police_df`. The file contains records related to Toronto Police Race and Identity Based Data - Arrests and Strip Searches.  Inspect the data with `.head()`.\n",
    "\n",
    "_The file is located in the same folder as the notebook._"
   ]
  },
  {
   "cell_type": "code",
   "execution_count": null,
   "id": "da33b4b3",
   "metadata": {},
   "outputs": [],
   "source": [
    "import pandas as pd\n",
    "\n",
    "police_df = pd.read_csv(\"ArrestsStripSearches.csv\")\n",
    "\n",
    "police_df.head()"
   ]
  },
  {
   "cell_type": "markdown",
   "id": "cbde7209",
   "metadata": {},
   "source": [
    "### b. Check the size\n",
    "\n",
    "+  Use `.shape` to extract the the size of the table, _(number of rows, number of columns)_.\n",
    "\n",
    "+  Store the size to a variable named `police_df_size`."
   ]
  },
  {
   "cell_type": "code",
   "execution_count": null,
   "id": "159cf849",
   "metadata": {},
   "outputs": [],
   "source": [
    "police_df_size = police_df.shape\n",
    "\n",
    "police_df_size"
   ]
  },
  {
   "cell_type": "markdown",
   "id": "fe4903d4",
   "metadata": {},
   "source": [
    "## Task 2: Create a `DataFrame` of arrests in 2021\n",
    "\n",
    "### a. Subset the tabular data by rows\n",
    "\n",
    "- Create a boolean variable named `Arrests_2021` computed from `police_df` that is `True` if `Arrest_Year` is `2021` and `False` otherwise.\n",
    "\n",
    "- Use `Arrests_2021` to select rows of `police_df` that correspond to arrests in 2021.  Save this new DataFrame in a variable called `police_2021_df`.  Examine the `head()` of this `DataFrame`."
   ]
  },
  {
   "cell_type": "code",
   "execution_count": null,
   "id": "840760c8",
   "metadata": {},
   "outputs": [],
   "source": [
    "Arrests_2021 = police_df[\"Arrest_Year\"] == 2021\n",
    "\n",
    "police_2021_df = police_df[Arrests_2021]\n",
    "\n",
    "police_2021_df.head()"
   ]
  },
  {
   "cell_type": "markdown",
   "id": "aba81382",
   "metadata": {},
   "source": [
    "### b. Check the size\n",
    "\n",
    "+  Use `.shape[0]` to extract the number of rows of the subset, `police_2021_df`.\n",
    "\n",
    "+  Store the arrest coutns to a variable named `arrest_counts_2021`."
   ]
  },
  {
   "cell_type": "code",
   "execution_count": null,
   "id": "f6f50747",
   "metadata": {},
   "outputs": [],
   "source": [
    "arrest_counts_2021 = police_2021_df.shape[0]\n",
    "arrest_counts_2021"
   ]
  },
  {
   "cell_type": "markdown",
   "id": "b97e5e1e",
   "metadata": {},
   "source": [
    "### c. Inspect columns of the tabular data\n",
    "\n",
    "- Create a variable called `Arrest_column_names` that stores a list of the column names of `police_2021_df` and print the list. "
   ]
  },
  {
   "cell_type": "code",
   "execution_count": null,
   "id": "f89b19a6",
   "metadata": {},
   "outputs": [],
   "source": [
    "Arrest_column_names = list(police_2021_df)\n",
    "\n",
    "Arrest_column_names"
   ]
  },
  {
   "cell_type": "markdown",
   "id": "ac06b58c",
   "metadata": {},
   "source": [
    "## Task 3: Select columns from `police_2021_df` and examine the distributions of each column\n",
    "\n",
    "- Create a new DataFrame from `police_2021_df` with the following columns: `_id`, `Sex`,` Perceived_Race`, `SearchReason_PossessWeapons` and assign it to the variable `police_2021_raceweapons`.  Examine the `head()` of this `DataFrame`.\n",
    "\n",
    "- Use `.value_counts()` to compute the distributions of `Sex`, `Perceived_Race`, `SearchReason_PossessWeapons`. You do not need to save these values in variables, though you may do so if you want."
   ]
  },
  {
   "cell_type": "code",
   "execution_count": null,
   "id": "1f5e7c72",
   "metadata": {
    "tags": []
   },
   "outputs": [],
   "source": [
    "police_2021_raceweapons = police_2021_df[[\"_id\", \"Sex\", \"Perceived_Race\", \"SearchReason_PossessWeapons\"]]\n",
    "\n",
    "police_2021_raceweapons.head()"
   ]
  },
  {
   "cell_type": "code",
   "execution_count": null,
   "id": "0fee1817",
   "metadata": {},
   "outputs": [],
   "source": [
    "police_2021_df[\"Sex\"].value_counts()"
   ]
  },
  {
   "cell_type": "code",
   "execution_count": null,
   "id": "c3c49996",
   "metadata": {},
   "outputs": [],
   "source": [
    "police_2021_df[\"Perceived_Race\"].value_counts()"
   ]
  },
  {
   "cell_type": "code",
   "execution_count": null,
   "id": "a71d1796",
   "metadata": {},
   "outputs": [],
   "source": [
    "police_2021_df[\"SearchReason_PossessWeapons\"].value_counts()"
   ]
  }
 ],
 "metadata": {
  "kernelspec": {
   "display_name": "Python 3",
   "language": "python",
   "name": "python3"
  },
  "language_info": {
   "codemirror_mode": {
    "name": "ipython",
    "version": 3
   },
   "file_extension": ".py",
   "mimetype": "text/x-python",
   "name": "python",
   "nbconvert_exporter": "python",
   "pygments_lexer": "ipython3",
   "version": "3.10.13"
  },
  "vscode": {
   "interpreter": {
    "hash": "8b8edaa195e148f815789564e9a10f57d8b792ac9e1a5daafce5fbae42bebd0e"
   }
  }
 },
 "nbformat": 4,
 "nbformat_minor": 5
}
