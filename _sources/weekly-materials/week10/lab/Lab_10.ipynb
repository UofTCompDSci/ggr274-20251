{
 "cells": [
  {
   "cell_type": "markdown",
   "id": "61180397",
   "metadata": {},
   "source": [
    "# GGR274 Lab 10: Tell us a stroy! (Part 2)\n",
    "\n",
    "***\n",
    "\n",
    "## Introduction\n",
    "\n",
    "- This is part 2 of the communication exercise. You will use 1 minute to present your visualization during the tutorial and write some reflection after the presentation.\n",
    "\n",
    "## Logistics\n",
    "\n",
    "This lab notebook is submitted by **this Thursday (March 20) 23:59**.\n",
    "\n",
    "Submission instructions:\n",
    "\n",
    "1. Download this file (`Lab_10.ipynb`) from JupyterHub. (See [our JupyterHub Guide](../../../guides/jupyterhub_guide.ipynb) for detailed instructions.)\n",
    "2. Submit this file to MarkUs under the **lab10** assignment. (See [our MarkUs Guide](../../../guides/markus_guide.ipynb) for detailed instructions.)\n",
    "\n",
    "\n",
    "## Marking scheme\n",
    "\n",
    "You'll get half point if you submit the notebook with all the questions completed. You'll get the other half point if you attend your lab section. You TA will be checking your submission and recording your attendance."
   ]
  },
  {
   "cell_type": "markdown",
   "id": "5e66d257-43cc-42b0-be7a-6e6661a1b7c0",
   "metadata": {},
   "source": [
    "***\n",
    "## Reflection\n",
    "\n",
    "After the presentation in class, discuss the following questions with your colleagues:\n",
    "\n",
    "- What are the qualities of a good visualization?\n",
    "\n",
    "- What are the qualities of a good presentation?\n",
    "\n",
    "- What limitations do you want to avoid in visualizaiton and presentation?\n"
   ]
  },
  {
   "cell_type": "markdown",
   "id": "005ce8c7-8004-4880-b6f3-70ffbd5bbd7b",
   "metadata": {},
   "source": [
    ">Write your relection here"
   ]
  }
 ],
 "metadata": {
  "kernelspec": {
   "display_name": "Python 3 (ipykernel)",
   "language": "python",
   "name": "python3"
  },
  "language_info": {
   "codemirror_mode": {
    "name": "ipython",
    "version": 3
   },
   "file_extension": ".py",
   "mimetype": "text/x-python",
   "name": "python",
   "nbconvert_exporter": "python",
   "pygments_lexer": "ipython3",
   "version": "3.12.7"
  }
 },
 "nbformat": 4,
 "nbformat_minor": 5
}
