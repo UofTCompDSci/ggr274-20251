{
 "cells": [
  {
   "cell_type": "markdown",
   "metadata": {
    "slideshow": {
     "slide_type": "slide"
    }
   },
   "source": [
    "# Class 5: Data Transformations, Grouped Data, and Data Visualization\n",
    "\n",
    "## Last class\n",
    "\n",
    "- read in a csv file to `pandas`\n",
    "- select rows and columns from a `pandas.DataFrame`\n",
    "- rename columns of a `pandas.DataFrame`\n",
    "\n",
    "## This class\n",
    "\n",
    "- Transformations: create a new column in a `pandas.DataFrame`\n",
    "- Data summaries: mean, median, and measures of variation\n",
    "- Data visualization: boxplots, histograms, and bar charts"
   ]
  },
  {
   "cell_type": "markdown",
   "metadata": {
    "slideshow": {
     "slide_type": "subslide"
    }
   },
   "source": [
    "## Midterm Information\n",
    "\n",
    "- Covers all the content we have covered up until this class.\n",
    "\n",
    "- A [past test](../../../practice/sample_midterm/GGR274_Midterm.ipynb) is available on the course website.\n",
    "\n",
    "- We have set up 2 x 2hr online midterm review sessions (Feb 6 & Feb 7) during which you can ask questions on the practice midterm. We strongly recommend you try the practice midterm before or during the review sessions.\n",
    "\n",
    "- The test was designed to be completed in 90 minutes.\n",
    "\n",
    "- The teaching team will post a link to the test by 09:00 AM, Feb. 11 on the course website.\n",
    "\n",
    "- You can submit anytime up until 11:00 AM on February 11.\n",
    "\n",
    "- The instructors will be available on a [zoom link](https://utoronto.zoom.us/j/89236564519) in case you have any questions from 09:00 AM - 11:00 AM. We will also be in the classroom, SS2118 for those who would like to use the space and in-person support.\n"
   ]
  },
  {
   "cell_type": "markdown",
   "metadata": {
    "slideshow": {
     "slide_type": "slide"
    }
   },
   "source": [
    "## Data Transformations\n",
    "\n",
    "- Time in the time use survey is measured in minutes, but it's not easy to interpret when the numbers get very large.\n",
    "\n",
    "> _I worked four thousand six hundred thirty two minutes last week!_\n",
    "\n",
    "- It would be easier if time was reported in hours.\n",
    "\n",
    "> _I worked over seventy seven hours last week!_\n",
    "\n",
    "- Converting time measured in minutes to time measured in hours is an example of a **data transformation**.\n"
   ]
  },
  {
   "cell_type": "markdown",
   "metadata": {
    "slideshow": {
     "slide_type": "subslide"
    }
   },
   "source": [
    "## Time use survey"
   ]
  },
  {
   "cell_type": "code",
   "execution_count": 1,
   "metadata": {},
   "outputs": [
    {
     "name": "stderr",
     "output_type": "stream",
     "text": [
      "/var/folders/0j/ybsv4ncn5w50v40vdh5jjlww0000gn/T/ipykernel_15264/4239799222.py:1: DeprecationWarning: \n",
      "Pyarrow will become a required dependency of pandas in the next major release of pandas (pandas 3.0),\n",
      "(to allow more performant data types, such as the Arrow string type, and better interoperability with other libraries)\n",
      "but was not found to be installed on your system.\n",
      "If this would cause problems for you,\n",
      "please provide us feedback at https://github.com/pandas-dev/pandas/issues/54466\n",
      "        \n",
      "  import pandas as pd\n"
     ]
    },
    {
     "data": {
      "text/html": [
       "<div>\n",
       "<style scoped>\n",
       "    .dataframe tbody tr th:only-of-type {\n",
       "        vertical-align: middle;\n",
       "    }\n",
       "\n",
       "    .dataframe tbody tr th {\n",
       "        vertical-align: top;\n",
       "    }\n",
       "\n",
       "    .dataframe thead th {\n",
       "        text-align: right;\n",
       "    }\n",
       "</style>\n",
       "<table border=\"1\" class=\"dataframe\">\n",
       "  <thead>\n",
       "    <tr style=\"text-align: right;\">\n",
       "      <th></th>\n",
       "      <th>CASEID</th>\n",
       "      <th>pumfid</th>\n",
       "      <th>wght_per</th>\n",
       "      <th>survmnth</th>\n",
       "      <th>wtbs_001</th>\n",
       "      <th>agecxryg</th>\n",
       "      <th>agegr10</th>\n",
       "      <th>agehsdyc</th>\n",
       "      <th>ageprgrd</th>\n",
       "      <th>chh0014c</th>\n",
       "      <th>...</th>\n",
       "      <th>ree_02</th>\n",
       "      <th>ree_03</th>\n",
       "      <th>rlr_110</th>\n",
       "      <th>lan_01</th>\n",
       "      <th>lanhome</th>\n",
       "      <th>lanhmult</th>\n",
       "      <th>lanmt</th>\n",
       "      <th>lanmtmul</th>\n",
       "      <th>incg1</th>\n",
       "      <th>hhincg1</th>\n",
       "    </tr>\n",
       "  </thead>\n",
       "  <tbody>\n",
       "    <tr>\n",
       "      <th>0</th>\n",
       "      <td>10000</td>\n",
       "      <td>10000</td>\n",
       "      <td>616.6740</td>\n",
       "      <td>7</td>\n",
       "      <td>305.1159</td>\n",
       "      <td>96</td>\n",
       "      <td>5</td>\n",
       "      <td>62</td>\n",
       "      <td>96</td>\n",
       "      <td>0</td>\n",
       "      <td>...</td>\n",
       "      <td>1</td>\n",
       "      <td>1</td>\n",
       "      <td>1</td>\n",
       "      <td>1</td>\n",
       "      <td>1</td>\n",
       "      <td>1</td>\n",
       "      <td>1</td>\n",
       "      <td>1</td>\n",
       "      <td>1</td>\n",
       "      <td>1</td>\n",
       "    </tr>\n",
       "    <tr>\n",
       "      <th>1</th>\n",
       "      <td>10001</td>\n",
       "      <td>10001</td>\n",
       "      <td>8516.6140</td>\n",
       "      <td>7</td>\n",
       "      <td>0.0000</td>\n",
       "      <td>6</td>\n",
       "      <td>5</td>\n",
       "      <td>32</td>\n",
       "      <td>5</td>\n",
       "      <td>0</td>\n",
       "      <td>...</td>\n",
       "      <td>5</td>\n",
       "      <td>6</td>\n",
       "      <td>3</td>\n",
       "      <td>1</td>\n",
       "      <td>5</td>\n",
       "      <td>2</td>\n",
       "      <td>5</td>\n",
       "      <td>2</td>\n",
       "      <td>5</td>\n",
       "      <td>8</td>\n",
       "    </tr>\n",
       "    <tr>\n",
       "      <th>2</th>\n",
       "      <td>10002</td>\n",
       "      <td>10002</td>\n",
       "      <td>371.7520</td>\n",
       "      <td>1</td>\n",
       "      <td>362.7057</td>\n",
       "      <td>2</td>\n",
       "      <td>4</td>\n",
       "      <td>9</td>\n",
       "      <td>10</td>\n",
       "      <td>3</td>\n",
       "      <td>...</td>\n",
       "      <td>5</td>\n",
       "      <td>1</td>\n",
       "      <td>1</td>\n",
       "      <td>1</td>\n",
       "      <td>1</td>\n",
       "      <td>1</td>\n",
       "      <td>1</td>\n",
       "      <td>1</td>\n",
       "      <td>3</td>\n",
       "      <td>8</td>\n",
       "    </tr>\n",
       "    <tr>\n",
       "      <th>3</th>\n",
       "      <td>10003</td>\n",
       "      <td>10003</td>\n",
       "      <td>1019.3135</td>\n",
       "      <td>3</td>\n",
       "      <td>0.0000</td>\n",
       "      <td>96</td>\n",
       "      <td>6</td>\n",
       "      <td>65</td>\n",
       "      <td>96</td>\n",
       "      <td>0</td>\n",
       "      <td>...</td>\n",
       "      <td>3</td>\n",
       "      <td>2</td>\n",
       "      <td>2</td>\n",
       "      <td>1</td>\n",
       "      <td>1</td>\n",
       "      <td>1</td>\n",
       "      <td>1</td>\n",
       "      <td>1</td>\n",
       "      <td>2</td>\n",
       "      <td>2</td>\n",
       "    </tr>\n",
       "    <tr>\n",
       "      <th>4</th>\n",
       "      <td>10004</td>\n",
       "      <td>10004</td>\n",
       "      <td>1916.0708</td>\n",
       "      <td>9</td>\n",
       "      <td>11388.9706</td>\n",
       "      <td>96</td>\n",
       "      <td>2</td>\n",
       "      <td>25</td>\n",
       "      <td>96</td>\n",
       "      <td>0</td>\n",
       "      <td>...</td>\n",
       "      <td>9</td>\n",
       "      <td>99</td>\n",
       "      <td>9</td>\n",
       "      <td>9</td>\n",
       "      <td>99</td>\n",
       "      <td>9</td>\n",
       "      <td>99</td>\n",
       "      <td>9</td>\n",
       "      <td>2</td>\n",
       "      <td>4</td>\n",
       "    </tr>\n",
       "  </tbody>\n",
       "</table>\n",
       "<p>5 rows × 350 columns</p>\n",
       "</div>"
      ],
      "text/plain": [
       "   CASEID  pumfid   wght_per  survmnth    wtbs_001  agecxryg  agegr10  \\\n",
       "0   10000   10000   616.6740         7    305.1159        96        5   \n",
       "1   10001   10001  8516.6140         7      0.0000         6        5   \n",
       "2   10002   10002   371.7520         1    362.7057         2        4   \n",
       "3   10003   10003  1019.3135         3      0.0000        96        6   \n",
       "4   10004   10004  1916.0708         9  11388.9706        96        2   \n",
       "\n",
       "   agehsdyc  ageprgrd  chh0014c  ...  ree_02  ree_03  rlr_110  lan_01  \\\n",
       "0        62        96         0  ...       1       1        1       1   \n",
       "1        32         5         0  ...       5       6        3       1   \n",
       "2         9        10         3  ...       5       1        1       1   \n",
       "3        65        96         0  ...       3       2        2       1   \n",
       "4        25        96         0  ...       9      99        9       9   \n",
       "\n",
       "   lanhome  lanhmult  lanmt  lanmtmul  incg1  hhincg1  \n",
       "0        1         1      1         1      1        1  \n",
       "1        5         2      5         2      5        8  \n",
       "2        1         1      1         1      3        8  \n",
       "3        1         1      1         1      2        2  \n",
       "4       99         9     99         9      2        4  \n",
       "\n",
       "[5 rows x 350 columns]"
      ]
     },
     "execution_count": 1,
     "metadata": {},
     "output_type": "execute_result"
    }
   ],
   "source": [
    "import pandas as pd\n",
    "\n",
    "time_use_data = pd.read_csv(\"gss_tu2016_main_file.csv\")\n",
    "\n",
    "time_use_data.head()"
   ]
  },
  {
   "cell_type": "markdown",
   "metadata": {
    "slideshow": {
     "slide_type": "subslide"
    }
   },
   "source": [
    "## Subset the data\n",
    "\n",
    "In this class we will explore the following columns. Let's create a subset of `time_use_data` with only these columns:\n",
    "\n",
    "_(columns from last week)_\n",
    "   + `CASEID`: participant ID \n",
    "   + `luc_rst`: large urban centre vs rural and small towns\n",
    "   + `chh0014c`: number of kids 14 or under\n",
    "   + `gtu_110`: feeling rushed\n",
    "\n",
    "_(plus...)_\n",
    "   + `prv`: province of residence\n",
    "   + `agegr10`: age group\n",
    "   + `marstat`: marital status\n",
    "   + `sex`: sex\n",
    "   + `dur01`: duration spent sleeping\n",
    "   + `dur08`: duration spent working \n",
    "   "
   ]
  },
  {
   "cell_type": "code",
   "execution_count": 2,
   "metadata": {
    "slideshow": {
     "slide_type": "subslide"
    }
   },
   "outputs": [
    {
     "data": {
      "text/html": [
       "<div>\n",
       "<style scoped>\n",
       "    .dataframe tbody tr th:only-of-type {\n",
       "        vertical-align: middle;\n",
       "    }\n",
       "\n",
       "    .dataframe tbody tr th {\n",
       "        vertical-align: top;\n",
       "    }\n",
       "\n",
       "    .dataframe thead th {\n",
       "        text-align: right;\n",
       "    }\n",
       "</style>\n",
       "<table border=\"1\" class=\"dataframe\">\n",
       "  <thead>\n",
       "    <tr style=\"text-align: right;\">\n",
       "      <th></th>\n",
       "      <th>CASEID</th>\n",
       "      <th>prv</th>\n",
       "      <th>luc_rst</th>\n",
       "      <th>agegr10</th>\n",
       "      <th>marstat</th>\n",
       "      <th>sex</th>\n",
       "      <th>chh0014c</th>\n",
       "      <th>gtu_110</th>\n",
       "      <th>dur01</th>\n",
       "      <th>dur08</th>\n",
       "    </tr>\n",
       "  </thead>\n",
       "  <tbody>\n",
       "    <tr>\n",
       "      <th>0</th>\n",
       "      <td>10000</td>\n",
       "      <td>46</td>\n",
       "      <td>1</td>\n",
       "      <td>5</td>\n",
       "      <td>5</td>\n",
       "      <td>1</td>\n",
       "      <td>0</td>\n",
       "      <td>1</td>\n",
       "      <td>510</td>\n",
       "      <td>0</td>\n",
       "    </tr>\n",
       "    <tr>\n",
       "      <th>1</th>\n",
       "      <td>10001</td>\n",
       "      <td>59</td>\n",
       "      <td>1</td>\n",
       "      <td>5</td>\n",
       "      <td>1</td>\n",
       "      <td>1</td>\n",
       "      <td>0</td>\n",
       "      <td>3</td>\n",
       "      <td>420</td>\n",
       "      <td>0</td>\n",
       "    </tr>\n",
       "    <tr>\n",
       "      <th>2</th>\n",
       "      <td>10002</td>\n",
       "      <td>47</td>\n",
       "      <td>1</td>\n",
       "      <td>4</td>\n",
       "      <td>1</td>\n",
       "      <td>2</td>\n",
       "      <td>3</td>\n",
       "      <td>1</td>\n",
       "      <td>570</td>\n",
       "      <td>480</td>\n",
       "    </tr>\n",
       "    <tr>\n",
       "      <th>3</th>\n",
       "      <td>10003</td>\n",
       "      <td>35</td>\n",
       "      <td>1</td>\n",
       "      <td>6</td>\n",
       "      <td>5</td>\n",
       "      <td>2</td>\n",
       "      <td>0</td>\n",
       "      <td>2</td>\n",
       "      <td>510</td>\n",
       "      <td>20</td>\n",
       "    </tr>\n",
       "    <tr>\n",
       "      <th>4</th>\n",
       "      <td>10004</td>\n",
       "      <td>35</td>\n",
       "      <td>1</td>\n",
       "      <td>2</td>\n",
       "      <td>6</td>\n",
       "      <td>1</td>\n",
       "      <td>0</td>\n",
       "      <td>1</td>\n",
       "      <td>525</td>\n",
       "      <td>0</td>\n",
       "    </tr>\n",
       "  </tbody>\n",
       "</table>\n",
       "</div>"
      ],
      "text/plain": [
       "   CASEID  prv  luc_rst  agegr10  marstat  sex  chh0014c  gtu_110  dur01  \\\n",
       "0   10000   46        1        5        5    1         0        1    510   \n",
       "1   10001   59        1        5        1    1         0        3    420   \n",
       "2   10002   47        1        4        1    2         3        1    570   \n",
       "3   10003   35        1        6        5    2         0        2    510   \n",
       "4   10004   35        1        2        6    1         0        1    525   \n",
       "\n",
       "   dur08  \n",
       "0      0  \n",
       "1      0  \n",
       "2    480  \n",
       "3     20  \n",
       "4      0  "
      ]
     },
     "execution_count": 2,
     "metadata": {},
     "output_type": "execute_result"
    }
   ],
   "source": [
    "important_columns = [\n",
    "    \"CASEID\", \n",
    "    \"prv\", \"luc_rst\", # place of residence\n",
    "    \"agegr10\", \"marstat\", \"sex\", # age, marital status, sex\n",
    "    \"chh0014c\", # kids < 14\n",
    "    \"gtu_110\", # feeling rushed\n",
    "    \"dur01\", \"dur08\" # time sleeping and working\n",
    "]\n",
    "\n",
    "subset_time_use_data = time_use_data[important_columns]\n",
    "\n",
    "subset_time_use_data.head()"
   ]
  },
  {
   "cell_type": "markdown",
   "metadata": {
    "slideshow": {
     "slide_type": "subslide"
    }
   },
   "source": [
    "## Rename columns so that they are meaningful\n",
    "\n",
    "- Use the `rename` function to rename columns."
   ]
  },
  {
   "cell_type": "code",
   "execution_count": 3,
   "metadata": {},
   "outputs": [
    {
     "data": {
      "text/html": [
       "<div>\n",
       "<style scoped>\n",
       "    .dataframe tbody tr th:only-of-type {\n",
       "        vertical-align: middle;\n",
       "    }\n",
       "\n",
       "    .dataframe tbody tr th {\n",
       "        vertical-align: top;\n",
       "    }\n",
       "\n",
       "    .dataframe thead th {\n",
       "        text-align: right;\n",
       "    }\n",
       "</style>\n",
       "<table border=\"1\" class=\"dataframe\">\n",
       "  <thead>\n",
       "    <tr style=\"text-align: right;\">\n",
       "      <th></th>\n",
       "      <th>Participant ID</th>\n",
       "      <th>prv</th>\n",
       "      <th>Urban/Rural</th>\n",
       "      <th>Age Group</th>\n",
       "      <th>Marital Status</th>\n",
       "      <th>sex</th>\n",
       "      <th>Kids under 14</th>\n",
       "      <th>Feeling Rushed</th>\n",
       "      <th>Sleep duration</th>\n",
       "      <th>Work duration</th>\n",
       "    </tr>\n",
       "  </thead>\n",
       "  <tbody>\n",
       "    <tr>\n",
       "      <th>0</th>\n",
       "      <td>10000</td>\n",
       "      <td>46</td>\n",
       "      <td>1</td>\n",
       "      <td>5</td>\n",
       "      <td>5</td>\n",
       "      <td>1</td>\n",
       "      <td>0</td>\n",
       "      <td>1</td>\n",
       "      <td>510</td>\n",
       "      <td>0</td>\n",
       "    </tr>\n",
       "    <tr>\n",
       "      <th>1</th>\n",
       "      <td>10001</td>\n",
       "      <td>59</td>\n",
       "      <td>1</td>\n",
       "      <td>5</td>\n",
       "      <td>1</td>\n",
       "      <td>1</td>\n",
       "      <td>0</td>\n",
       "      <td>3</td>\n",
       "      <td>420</td>\n",
       "      <td>0</td>\n",
       "    </tr>\n",
       "    <tr>\n",
       "      <th>2</th>\n",
       "      <td>10002</td>\n",
       "      <td>47</td>\n",
       "      <td>1</td>\n",
       "      <td>4</td>\n",
       "      <td>1</td>\n",
       "      <td>2</td>\n",
       "      <td>3</td>\n",
       "      <td>1</td>\n",
       "      <td>570</td>\n",
       "      <td>480</td>\n",
       "    </tr>\n",
       "    <tr>\n",
       "      <th>3</th>\n",
       "      <td>10003</td>\n",
       "      <td>35</td>\n",
       "      <td>1</td>\n",
       "      <td>6</td>\n",
       "      <td>5</td>\n",
       "      <td>2</td>\n",
       "      <td>0</td>\n",
       "      <td>2</td>\n",
       "      <td>510</td>\n",
       "      <td>20</td>\n",
       "    </tr>\n",
       "    <tr>\n",
       "      <th>4</th>\n",
       "      <td>10004</td>\n",
       "      <td>35</td>\n",
       "      <td>1</td>\n",
       "      <td>2</td>\n",
       "      <td>6</td>\n",
       "      <td>1</td>\n",
       "      <td>0</td>\n",
       "      <td>1</td>\n",
       "      <td>525</td>\n",
       "      <td>0</td>\n",
       "    </tr>\n",
       "  </tbody>\n",
       "</table>\n",
       "</div>"
      ],
      "text/plain": [
       "   Participant ID  prv  Urban/Rural  Age Group  Marital Status  sex  \\\n",
       "0           10000   46            1          5               5    1   \n",
       "1           10001   59            1          5               1    1   \n",
       "2           10002   47            1          4               1    2   \n",
       "3           10003   35            1          6               5    2   \n",
       "4           10004   35            1          2               6    1   \n",
       "\n",
       "   Kids under 14  Feeling Rushed  Sleep duration  Work duration  \n",
       "0              0               1             510              0  \n",
       "1              0               3             420              0  \n",
       "2              3               1             570            480  \n",
       "3              0               2             510             20  \n",
       "4              0               1             525              0  "
      ]
     },
     "execution_count": 3,
     "metadata": {},
     "output_type": "execute_result"
    }
   ],
   "source": [
    "# dictionary of \"old name\":\"new name\"\n",
    "\n",
    "newnames = {\n",
    "        \"CASEID\": \"Participant ID\",\n",
    "        \"luc_rst\": \"Urban/Rural\",\n",
    "        \"agegr10\": \"Age Group\",\n",
    "        \"marstat\": \"Marital Status\",\n",
    "        \"sex\": \"sex\",\n",
    "        \"chh0014c\": \"Kids under 14\",\n",
    "        \"gtu_110\": \"Feeling Rushed\",\n",
    "        \"dur01\": \"Sleep duration\",\n",
    "        \"dur08\": \"Work duration\"\n",
    "    }\n",
    "\n",
    "subset_time_use_data_colnames = subset_time_use_data.rename(columns = newnames)\n",
    "\n",
    "subset_time_use_data_colnames.head()"
   ]
  },
  {
   "cell_type": "markdown",
   "metadata": {
    "slideshow": {
     "slide_type": "subslide"
    }
   },
   "source": [
    "## Create a new column in a pandas DataFrame\n",
    "\n",
    "Create a new numeric column derived from another numeric column.\n",
    "\n",
    "The code below creates a new column `Sleep duration (hours)` by dividing `Sleep duration` by 60, since 1 hour = 60 minutes.\n",
    "\n"
   ]
  },
  {
   "cell_type": "code",
   "execution_count": 4,
   "metadata": {},
   "outputs": [
    {
     "data": {
      "text/html": [
       "<div>\n",
       "<style scoped>\n",
       "    .dataframe tbody tr th:only-of-type {\n",
       "        vertical-align: middle;\n",
       "    }\n",
       "\n",
       "    .dataframe tbody tr th {\n",
       "        vertical-align: top;\n",
       "    }\n",
       "\n",
       "    .dataframe thead th {\n",
       "        text-align: right;\n",
       "    }\n",
       "</style>\n",
       "<table border=\"1\" class=\"dataframe\">\n",
       "  <thead>\n",
       "    <tr style=\"text-align: right;\">\n",
       "      <th></th>\n",
       "      <th>Participant ID</th>\n",
       "      <th>prv</th>\n",
       "      <th>Urban/Rural</th>\n",
       "      <th>Age Group</th>\n",
       "      <th>Marital Status</th>\n",
       "      <th>sex</th>\n",
       "      <th>Kids under 14</th>\n",
       "      <th>Feeling Rushed</th>\n",
       "      <th>Sleep duration</th>\n",
       "      <th>Work duration</th>\n",
       "    </tr>\n",
       "  </thead>\n",
       "  <tbody>\n",
       "    <tr>\n",
       "      <th>0</th>\n",
       "      <td>10000</td>\n",
       "      <td>46</td>\n",
       "      <td>1</td>\n",
       "      <td>5</td>\n",
       "      <td>5</td>\n",
       "      <td>1</td>\n",
       "      <td>0</td>\n",
       "      <td>1</td>\n",
       "      <td>510</td>\n",
       "      <td>0</td>\n",
       "    </tr>\n",
       "    <tr>\n",
       "      <th>1</th>\n",
       "      <td>10001</td>\n",
       "      <td>59</td>\n",
       "      <td>1</td>\n",
       "      <td>5</td>\n",
       "      <td>1</td>\n",
       "      <td>1</td>\n",
       "      <td>0</td>\n",
       "      <td>3</td>\n",
       "      <td>420</td>\n",
       "      <td>0</td>\n",
       "    </tr>\n",
       "    <tr>\n",
       "      <th>2</th>\n",
       "      <td>10002</td>\n",
       "      <td>47</td>\n",
       "      <td>1</td>\n",
       "      <td>4</td>\n",
       "      <td>1</td>\n",
       "      <td>2</td>\n",
       "      <td>3</td>\n",
       "      <td>1</td>\n",
       "      <td>570</td>\n",
       "      <td>480</td>\n",
       "    </tr>\n",
       "    <tr>\n",
       "      <th>3</th>\n",
       "      <td>10003</td>\n",
       "      <td>35</td>\n",
       "      <td>1</td>\n",
       "      <td>6</td>\n",
       "      <td>5</td>\n",
       "      <td>2</td>\n",
       "      <td>0</td>\n",
       "      <td>2</td>\n",
       "      <td>510</td>\n",
       "      <td>20</td>\n",
       "    </tr>\n",
       "    <tr>\n",
       "      <th>4</th>\n",
       "      <td>10004</td>\n",
       "      <td>35</td>\n",
       "      <td>1</td>\n",
       "      <td>2</td>\n",
       "      <td>6</td>\n",
       "      <td>1</td>\n",
       "      <td>0</td>\n",
       "      <td>1</td>\n",
       "      <td>525</td>\n",
       "      <td>0</td>\n",
       "    </tr>\n",
       "  </tbody>\n",
       "</table>\n",
       "</div>"
      ],
      "text/plain": [
       "   Participant ID  prv  Urban/Rural  Age Group  Marital Status  sex  \\\n",
       "0           10000   46            1          5               5    1   \n",
       "1           10001   59            1          5               1    1   \n",
       "2           10002   47            1          4               1    2   \n",
       "3           10003   35            1          6               5    2   \n",
       "4           10004   35            1          2               6    1   \n",
       "\n",
       "   Kids under 14  Feeling Rushed  Sleep duration  Work duration  \n",
       "0              0               1             510              0  \n",
       "1              0               3             420              0  \n",
       "2              3               1             570            480  \n",
       "3              0               2             510             20  \n",
       "4              0               1             525              0  "
      ]
     },
     "execution_count": 4,
     "metadata": {},
     "output_type": "execute_result"
    }
   ],
   "source": [
    "subset_time_use_data_colnames # create a new column\n",
    "\n",
    "subset_time_use_data_colnames.head()"
   ]
  },
  {
   "cell_type": "code",
   "execution_count": 5,
   "metadata": {
    "slideshow": {
     "slide_type": "notes"
    }
   },
   "outputs": [
    {
     "data": {
      "text/html": [
       "<div>\n",
       "<style scoped>\n",
       "    .dataframe tbody tr th:only-of-type {\n",
       "        vertical-align: middle;\n",
       "    }\n",
       "\n",
       "    .dataframe tbody tr th {\n",
       "        vertical-align: top;\n",
       "    }\n",
       "\n",
       "    .dataframe thead th {\n",
       "        text-align: right;\n",
       "    }\n",
       "</style>\n",
       "<table border=\"1\" class=\"dataframe\">\n",
       "  <thead>\n",
       "    <tr style=\"text-align: right;\">\n",
       "      <th></th>\n",
       "      <th>Participant ID</th>\n",
       "      <th>prv</th>\n",
       "      <th>Urban/Rural</th>\n",
       "      <th>Age Group</th>\n",
       "      <th>Marital Status</th>\n",
       "      <th>sex</th>\n",
       "      <th>Kids under 14</th>\n",
       "      <th>Feeling Rushed</th>\n",
       "      <th>Sleep duration</th>\n",
       "      <th>Work duration</th>\n",
       "      <th>Sleep duration (hours)</th>\n",
       "    </tr>\n",
       "  </thead>\n",
       "  <tbody>\n",
       "    <tr>\n",
       "      <th>0</th>\n",
       "      <td>10000</td>\n",
       "      <td>46</td>\n",
       "      <td>1</td>\n",
       "      <td>5</td>\n",
       "      <td>5</td>\n",
       "      <td>1</td>\n",
       "      <td>0</td>\n",
       "      <td>1</td>\n",
       "      <td>510</td>\n",
       "      <td>0</td>\n",
       "      <td>8.50</td>\n",
       "    </tr>\n",
       "    <tr>\n",
       "      <th>1</th>\n",
       "      <td>10001</td>\n",
       "      <td>59</td>\n",
       "      <td>1</td>\n",
       "      <td>5</td>\n",
       "      <td>1</td>\n",
       "      <td>1</td>\n",
       "      <td>0</td>\n",
       "      <td>3</td>\n",
       "      <td>420</td>\n",
       "      <td>0</td>\n",
       "      <td>7.00</td>\n",
       "    </tr>\n",
       "    <tr>\n",
       "      <th>2</th>\n",
       "      <td>10002</td>\n",
       "      <td>47</td>\n",
       "      <td>1</td>\n",
       "      <td>4</td>\n",
       "      <td>1</td>\n",
       "      <td>2</td>\n",
       "      <td>3</td>\n",
       "      <td>1</td>\n",
       "      <td>570</td>\n",
       "      <td>480</td>\n",
       "      <td>9.50</td>\n",
       "    </tr>\n",
       "    <tr>\n",
       "      <th>3</th>\n",
       "      <td>10003</td>\n",
       "      <td>35</td>\n",
       "      <td>1</td>\n",
       "      <td>6</td>\n",
       "      <td>5</td>\n",
       "      <td>2</td>\n",
       "      <td>0</td>\n",
       "      <td>2</td>\n",
       "      <td>510</td>\n",
       "      <td>20</td>\n",
       "      <td>8.50</td>\n",
       "    </tr>\n",
       "    <tr>\n",
       "      <th>4</th>\n",
       "      <td>10004</td>\n",
       "      <td>35</td>\n",
       "      <td>1</td>\n",
       "      <td>2</td>\n",
       "      <td>6</td>\n",
       "      <td>1</td>\n",
       "      <td>0</td>\n",
       "      <td>1</td>\n",
       "      <td>525</td>\n",
       "      <td>0</td>\n",
       "      <td>8.75</td>\n",
       "    </tr>\n",
       "  </tbody>\n",
       "</table>\n",
       "</div>"
      ],
      "text/plain": [
       "   Participant ID  prv  Urban/Rural  Age Group  Marital Status  sex  \\\n",
       "0           10000   46            1          5               5    1   \n",
       "1           10001   59            1          5               1    1   \n",
       "2           10002   47            1          4               1    2   \n",
       "3           10003   35            1          6               5    2   \n",
       "4           10004   35            1          2               6    1   \n",
       "\n",
       "   Kids under 14  Feeling Rushed  Sleep duration  Work duration  \\\n",
       "0              0               1             510              0   \n",
       "1              0               3             420              0   \n",
       "2              3               1             570            480   \n",
       "3              0               2             510             20   \n",
       "4              0               1             525              0   \n",
       "\n",
       "   Sleep duration (hours)  \n",
       "0                    8.50  \n",
       "1                    7.00  \n",
       "2                    9.50  \n",
       "3                    8.50  \n",
       "4                    8.75  "
      ]
     },
     "execution_count": 5,
     "metadata": {},
     "output_type": "execute_result"
    }
   ],
   "source": [
    "subset_time_use_data_colnames[\"Sleep duration (hours)\"] = subset_time_use_data_colnames[\"Sleep duration\"] / 60\n",
    "\n",
    "subset_time_use_data_colnames.head()"
   ]
  },
  {
   "cell_type": "markdown",
   "metadata": {
    "slideshow": {
     "slide_type": "subslide"
    }
   },
   "source": [
    "## What happened?\n",
    "\n",
    "To create a new column, use the `[]` brackets with the new column name at the left side of the assignment.\n",
    "\n",
    "The calculation of the values is done **element-wise**. This means all values in the given column are divided by the value 60 at once. You do not need to use a loop to iterate each of the rows!\n",
    "\n",
    "\n",
    "![][def]\n",
    "\n",
    "Reference is available [here](https://pandas.pydata.org/docs/getting_started/intro_tutorials/05_add_columns.html).\n",
    "\n",
    "[def]: images/min-to-hr.png"
   ]
  },
  {
   "cell_type": "markdown",
   "metadata": {
    "slideshow": {
     "slide_type": "subslide"
    }
   },
   "source": [
    "## Transform a column using if-then\n",
    "\n",
    "- The `Age Group` column has the following distribution."
   ]
  },
  {
   "cell_type": "code",
   "execution_count": 6,
   "metadata": {},
   "outputs": [
    {
     "data": {
      "text/plain": [
       "Age Group\n",
       "5    3741\n",
       "6    2958\n",
       "4    2789\n",
       "3    2597\n",
       "2    2127\n",
       "7    1875\n",
       "1    1303\n",
       "Name: count, dtype: int64"
      ]
     },
     "execution_count": 6,
     "metadata": {},
     "output_type": "execute_result"
    }
   ],
   "source": [
    "subset_time_use_data_colnames[\"Age Group\"].value_counts()"
   ]
  },
  {
   "cell_type": "markdown",
   "metadata": {
    "slideshow": {
     "slide_type": "subslide"
    }
   },
   "source": [
    "It would be easier to interpret if the labels were used.\n",
    "\n",
    "               Age group of respondent (groups of 10)\n",
    "\n",
    "           VALUE  LABEL\n",
    "               1  15 to 24 years\n",
    "               2  25 to 34 years\n",
    "               3  35 to 44 years\n",
    "               4  45 to 54 years\n",
    "               5  55 to 64 years\n",
    "               6  65 to 74 years\n",
    "               7  75 years and over\n",
    "              96  Valid skip\n",
    "              97  Don't know\n",
    "              98  Refusal\n",
    "              99  Not stated\n",
    "\n",
    "           Data type: numeric\n",
    "           Missing-data codes: 96-99\n",
    "           Record/column: 1/35"
   ]
  },
  {
   "cell_type": "code",
   "execution_count": 7,
   "metadata": {},
   "outputs": [
    {
     "data": {
      "text/html": [
       "<div>\n",
       "<style scoped>\n",
       "    .dataframe tbody tr th:only-of-type {\n",
       "        vertical-align: middle;\n",
       "    }\n",
       "\n",
       "    .dataframe tbody tr th {\n",
       "        vertical-align: top;\n",
       "    }\n",
       "\n",
       "    .dataframe thead th {\n",
       "        text-align: right;\n",
       "    }\n",
       "</style>\n",
       "<table border=\"1\" class=\"dataframe\">\n",
       "  <thead>\n",
       "    <tr style=\"text-align: right;\">\n",
       "      <th></th>\n",
       "      <th>Age Group</th>\n",
       "    </tr>\n",
       "  </thead>\n",
       "  <tbody>\n",
       "    <tr>\n",
       "      <th>5</th>\n",
       "      <td>1</td>\n",
       "    </tr>\n",
       "    <tr>\n",
       "      <th>6</th>\n",
       "      <td>1</td>\n",
       "    </tr>\n",
       "    <tr>\n",
       "      <th>27</th>\n",
       "      <td>1</td>\n",
       "    </tr>\n",
       "    <tr>\n",
       "      <th>54</th>\n",
       "      <td>1</td>\n",
       "    </tr>\n",
       "    <tr>\n",
       "      <th>59</th>\n",
       "      <td>1</td>\n",
       "    </tr>\n",
       "    <tr>\n",
       "      <th>...</th>\n",
       "      <td>...</td>\n",
       "    </tr>\n",
       "    <tr>\n",
       "      <th>17341</th>\n",
       "      <td>1</td>\n",
       "    </tr>\n",
       "    <tr>\n",
       "      <th>17357</th>\n",
       "      <td>1</td>\n",
       "    </tr>\n",
       "    <tr>\n",
       "      <th>17374</th>\n",
       "      <td>1</td>\n",
       "    </tr>\n",
       "    <tr>\n",
       "      <th>17378</th>\n",
       "      <td>1</td>\n",
       "    </tr>\n",
       "    <tr>\n",
       "      <th>17385</th>\n",
       "      <td>1</td>\n",
       "    </tr>\n",
       "  </tbody>\n",
       "</table>\n",
       "<p>1303 rows × 1 columns</p>\n",
       "</div>"
      ],
      "text/plain": [
       "       Age Group\n",
       "5              1\n",
       "6              1\n",
       "27             1\n",
       "54             1\n",
       "59             1\n",
       "...          ...\n",
       "17341          1\n",
       "17357          1\n",
       "17374          1\n",
       "17378          1\n",
       "17385          1\n",
       "\n",
       "[1303 rows x 1 columns]"
      ]
     },
     "execution_count": 7,
     "metadata": {},
     "output_type": "execute_result"
    }
   ],
   "source": [
    "age_group_1 = subset_time_use_data_colnames[\"Age Group\"] == 1\n",
    "subset_time_use_data_colnames[age_group_1]\n",
    "subset_time_use_data_colnames.loc[age_group_1, [\"Age Group\"]]"
   ]
  },
  {
   "cell_type": "code",
   "execution_count": 8,
   "metadata": {
    "slideshow": {
     "slide_type": "subslide"
    }
   },
   "outputs": [
    {
     "data": {
      "text/html": [
       "<div>\n",
       "<style scoped>\n",
       "    .dataframe tbody tr th:only-of-type {\n",
       "        vertical-align: middle;\n",
       "    }\n",
       "\n",
       "    .dataframe tbody tr th {\n",
       "        vertical-align: top;\n",
       "    }\n",
       "\n",
       "    .dataframe thead th {\n",
       "        text-align: right;\n",
       "    }\n",
       "</style>\n",
       "<table border=\"1\" class=\"dataframe\">\n",
       "  <thead>\n",
       "    <tr style=\"text-align: right;\">\n",
       "      <th></th>\n",
       "      <th>Participant ID</th>\n",
       "      <th>prv</th>\n",
       "      <th>Urban/Rural</th>\n",
       "      <th>Age Group</th>\n",
       "      <th>Marital Status</th>\n",
       "      <th>sex</th>\n",
       "      <th>Kids under 14</th>\n",
       "      <th>Feeling Rushed</th>\n",
       "      <th>Sleep duration</th>\n",
       "      <th>Work duration</th>\n",
       "      <th>Sleep duration (hours)</th>\n",
       "      <th>Age group label</th>\n",
       "    </tr>\n",
       "  </thead>\n",
       "  <tbody>\n",
       "    <tr>\n",
       "      <th>0</th>\n",
       "      <td>10000</td>\n",
       "      <td>46</td>\n",
       "      <td>1</td>\n",
       "      <td>5</td>\n",
       "      <td>5</td>\n",
       "      <td>1</td>\n",
       "      <td>0</td>\n",
       "      <td>1</td>\n",
       "      <td>510</td>\n",
       "      <td>0</td>\n",
       "      <td>8.50</td>\n",
       "      <td>55-64</td>\n",
       "    </tr>\n",
       "    <tr>\n",
       "      <th>1</th>\n",
       "      <td>10001</td>\n",
       "      <td>59</td>\n",
       "      <td>1</td>\n",
       "      <td>5</td>\n",
       "      <td>1</td>\n",
       "      <td>1</td>\n",
       "      <td>0</td>\n",
       "      <td>3</td>\n",
       "      <td>420</td>\n",
       "      <td>0</td>\n",
       "      <td>7.00</td>\n",
       "      <td>55-64</td>\n",
       "    </tr>\n",
       "    <tr>\n",
       "      <th>2</th>\n",
       "      <td>10002</td>\n",
       "      <td>47</td>\n",
       "      <td>1</td>\n",
       "      <td>4</td>\n",
       "      <td>1</td>\n",
       "      <td>2</td>\n",
       "      <td>3</td>\n",
       "      <td>1</td>\n",
       "      <td>570</td>\n",
       "      <td>480</td>\n",
       "      <td>9.50</td>\n",
       "      <td>45-54</td>\n",
       "    </tr>\n",
       "    <tr>\n",
       "      <th>3</th>\n",
       "      <td>10003</td>\n",
       "      <td>35</td>\n",
       "      <td>1</td>\n",
       "      <td>6</td>\n",
       "      <td>5</td>\n",
       "      <td>2</td>\n",
       "      <td>0</td>\n",
       "      <td>2</td>\n",
       "      <td>510</td>\n",
       "      <td>20</td>\n",
       "      <td>8.50</td>\n",
       "      <td>65-74</td>\n",
       "    </tr>\n",
       "    <tr>\n",
       "      <th>4</th>\n",
       "      <td>10004</td>\n",
       "      <td>35</td>\n",
       "      <td>1</td>\n",
       "      <td>2</td>\n",
       "      <td>6</td>\n",
       "      <td>1</td>\n",
       "      <td>0</td>\n",
       "      <td>1</td>\n",
       "      <td>525</td>\n",
       "      <td>0</td>\n",
       "      <td>8.75</td>\n",
       "      <td>25-34</td>\n",
       "    </tr>\n",
       "  </tbody>\n",
       "</table>\n",
       "</div>"
      ],
      "text/plain": [
       "   Participant ID  prv  Urban/Rural  Age Group  Marital Status  sex  \\\n",
       "0           10000   46            1          5               5    1   \n",
       "1           10001   59            1          5               1    1   \n",
       "2           10002   47            1          4               1    2   \n",
       "3           10003   35            1          6               5    2   \n",
       "4           10004   35            1          2               6    1   \n",
       "\n",
       "   Kids under 14  Feeling Rushed  Sleep duration  Work duration  \\\n",
       "0              0               1             510              0   \n",
       "1              0               3             420              0   \n",
       "2              3               1             570            480   \n",
       "3              0               2             510             20   \n",
       "4              0               1             525              0   \n",
       "\n",
       "   Sleep duration (hours) Age group label  \n",
       "0                    8.50           55-64  \n",
       "1                    7.00           55-64  \n",
       "2                    9.50           45-54  \n",
       "3                    8.50           65-74  \n",
       "4                    8.75           25-34  "
      ]
     },
     "execution_count": 8,
     "metadata": {},
     "output_type": "execute_result"
    }
   ],
   "source": [
    "# make a copy of the dataframe\n",
    "subset_time_df = subset_time_use_data_colnames.copy()\n",
    "\n",
    "# create a new column called \"Age group label\"\n",
    "\n",
    "subset_time_df.loc[subset_time_df[\"Age Group\"] == 1, \"Age group label\"] = \"15-24\"\n",
    "\n",
    "subset_time_df.loc[subset_time_df[\"Age Group\"] == 2, \"Age group label\"] = \"25-34\"\n",
    "\n",
    "subset_time_df.loc[subset_time_df[\"Age Group\"] == 3, \"Age group label\"] = \"35-44\"\n",
    "\n",
    "subset_time_df.loc[subset_time_df[\"Age Group\"] == 4, \"Age group label\"] = \"45-54\"\n",
    "\n",
    "subset_time_df.loc[subset_time_df[\"Age Group\"] == 5, \"Age group label\"] = \"55-64\"\n",
    "\n",
    "subset_time_df.loc[subset_time_df[\"Age Group\"] == 6, \"Age group label\"] = \"65-74\"\n",
    "\n",
    "subset_time_df.loc[subset_time_df[\"Age Group\"] == 7, \"Age group label\"] = \"75+\"\n",
    "\n",
    "subset_time_df.head()"
   ]
  },
  {
   "cell_type": "markdown",
   "metadata": {
    "slideshow": {
     "slide_type": "fragment"
    }
   },
   "source": [
    "## What happened?\n",
    "\n",
    "![][def]\n",
    "\n",
    "[def]: images/age-group.png"
   ]
  },
  {
   "cell_type": "markdown",
   "metadata": {
    "slideshow": {
     "slide_type": "subslide"
    }
   },
   "source": [
    "## To create a new column in a pandas DataFrame using if-then/if-then-else logic \n",
    "\n",
    "This line \n",
    "\n",
    "`subset_time_df.loc[subset_time_df[\"Age Group\"] == 1, \"Age group label\"] = \"15-24\" \n",
    "\n",
    "creates a new column in `subset_time_df` called `Age group label` according to the *if-then (conditional)* logic:\n",
    "\n",
    "**If** `subset_time_df[\"Age Group\"] == 1` **then**  `Age group label` is assigned the value `15-24`.\n",
    "  \n",
    "This line \n",
    "\n",
    "`subset_time_df.loc[subset_time_df[\"Age Group\"] == 2, 'Age group label'] = \"25-34\"`\n",
    "\n",
    "does the *else if* logic. Namely,\n",
    "\n",
    "**If** `subset_time_df[\"Age Group\"] == 2` **then**  `Age group label` is assigned the value `25-34`.\n",
    "    \n",
    "This line \n",
    "\n",
    "`subset_time_df.loc[subset_time_df[\"Age Group\"] == 3, \"Age group label\"] = \"35-44\"`\n",
    "\n",
    "does the *else if* logic. Namely,\n",
    "\n",
    "**If** `subset_time_df[\"Age Group\"] == 3` **then**  `Age group label` is assigned the value `35-44`. \n",
    "\n",
    "etc ...\n",
    "\n",
    "See [idioms in the Pandas cookbook](https://pandas.pydata.org/docs/user_guide/cookbook.html#idioms) and [a reference on different ways to subset a pandas DataFrame](https://pandas.pydata.org/pandas-docs/version/1.0/getting_started/intro_tutorials/03_subset_data.html)."
   ]
  },
  {
   "cell_type": "markdown",
   "metadata": {
    "slideshow": {
     "slide_type": "subslide"
    }
   },
   "source": [
    "## Merging pandas DataFrames\n",
    "\n",
    "- We want would like to look at the relationship between sleeping and working, on different aspects of time use at the provincial level.  In addition we would like to add provincial level data of on income and housing.\n",
    "\n",
    "- The data is in `provincial_data.csv`."
   ]
  },
  {
   "cell_type": "code",
   "execution_count": 9,
   "metadata": {},
   "outputs": [
    {
     "data": {
      "text/html": [
       "<div>\n",
       "<style scoped>\n",
       "    .dataframe tbody tr th:only-of-type {\n",
       "        vertical-align: middle;\n",
       "    }\n",
       "\n",
       "    .dataframe tbody tr th {\n",
       "        vertical-align: top;\n",
       "    }\n",
       "\n",
       "    .dataframe thead th {\n",
       "        text-align: right;\n",
       "    }\n",
       "</style>\n",
       "<table border=\"1\" class=\"dataframe\">\n",
       "  <thead>\n",
       "    <tr style=\"text-align: right;\">\n",
       "      <th></th>\n",
       "      <th>COL0</th>\n",
       "      <th>COL1</th>\n",
       "      <th>COL2</th>\n",
       "      <th>COL3</th>\n",
       "      <th>COL4</th>\n",
       "    </tr>\n",
       "  </thead>\n",
       "  <tbody>\n",
       "    <tr>\n",
       "      <th>0</th>\n",
       "      <td>1</td>\n",
       "      <td>60.2</td>\n",
       "      <td>70336.0</td>\n",
       "      <td>2.4</td>\n",
       "      <td>16.6</td>\n",
       "    </tr>\n",
       "    <tr>\n",
       "      <th>1</th>\n",
       "      <td>10</td>\n",
       "      <td>49.5</td>\n",
       "      <td>67272.0</td>\n",
       "      <td>2.3</td>\n",
       "      <td>10.6</td>\n",
       "    </tr>\n",
       "    <tr>\n",
       "      <th>2</th>\n",
       "      <td>11</td>\n",
       "      <td>58.2</td>\n",
       "      <td>61163.0</td>\n",
       "      <td>2.3</td>\n",
       "      <td>11.1</td>\n",
       "    </tr>\n",
       "    <tr>\n",
       "      <th>3</th>\n",
       "      <td>12</td>\n",
       "      <td>55.2</td>\n",
       "      <td>60764.0</td>\n",
       "      <td>2.3</td>\n",
       "      <td>12.0</td>\n",
       "    </tr>\n",
       "    <tr>\n",
       "      <th>4</th>\n",
       "      <td>13</td>\n",
       "      <td>54.6</td>\n",
       "      <td>59347.0</td>\n",
       "      <td>2.3</td>\n",
       "      <td>10.3</td>\n",
       "    </tr>\n",
       "    <tr>\n",
       "      <th>5</th>\n",
       "      <td>24</td>\n",
       "      <td>59.5</td>\n",
       "      <td>59822.0</td>\n",
       "      <td>2.3</td>\n",
       "      <td>12.9</td>\n",
       "    </tr>\n",
       "    <tr>\n",
       "      <th>6</th>\n",
       "      <td>35</td>\n",
       "      <td>59.9</td>\n",
       "      <td>74287.0</td>\n",
       "      <td>2.6</td>\n",
       "      <td>19.8</td>\n",
       "    </tr>\n",
       "    <tr>\n",
       "      <th>7</th>\n",
       "      <td>46</td>\n",
       "      <td>61.7</td>\n",
       "      <td>68147.0</td>\n",
       "      <td>2.5</td>\n",
       "      <td>11.4</td>\n",
       "    </tr>\n",
       "    <tr>\n",
       "      <th>8</th>\n",
       "      <td>47</td>\n",
       "      <td>63.5</td>\n",
       "      <td>75412.0</td>\n",
       "      <td>2.5</td>\n",
       "      <td>12.1</td>\n",
       "    </tr>\n",
       "    <tr>\n",
       "      <th>9</th>\n",
       "      <td>48</td>\n",
       "      <td>65.4</td>\n",
       "      <td>93835.0</td>\n",
       "      <td>2.6</td>\n",
       "      <td>15.1</td>\n",
       "    </tr>\n",
       "    <tr>\n",
       "      <th>10</th>\n",
       "      <td>59</td>\n",
       "      <td>59.6</td>\n",
       "      <td>69995.0</td>\n",
       "      <td>2.4</td>\n",
       "      <td>20.7</td>\n",
       "    </tr>\n",
       "    <tr>\n",
       "      <th>11</th>\n",
       "      <td>60</td>\n",
       "      <td>68.5</td>\n",
       "      <td>84521.0</td>\n",
       "      <td>2.3</td>\n",
       "      <td>12.7</td>\n",
       "    </tr>\n",
       "    <tr>\n",
       "      <th>12</th>\n",
       "      <td>61</td>\n",
       "      <td>66.2</td>\n",
       "      <td>117688.0</td>\n",
       "      <td>2.7</td>\n",
       "      <td>9.0</td>\n",
       "    </tr>\n",
       "    <tr>\n",
       "      <th>13</th>\n",
       "      <td>62</td>\n",
       "      <td>53.6</td>\n",
       "      <td>97441.0</td>\n",
       "      <td>3.6</td>\n",
       "      <td>7.9</td>\n",
       "    </tr>\n",
       "  </tbody>\n",
       "</table>\n",
       "</div>"
      ],
      "text/plain": [
       "    COL0  COL1      COL2  COL3  COL4\n",
       "0      1  60.2   70336.0   2.4  16.6\n",
       "1     10  49.5   67272.0   2.3  10.6\n",
       "2     11  58.2   61163.0   2.3  11.1\n",
       "3     12  55.2   60764.0   2.3  12.0\n",
       "4     13  54.6   59347.0   2.3  10.3\n",
       "5     24  59.5   59822.0   2.3  12.9\n",
       "6     35  59.9   74287.0   2.6  19.8\n",
       "7     46  61.7   68147.0   2.5  11.4\n",
       "8     47  63.5   75412.0   2.5  12.1\n",
       "9     48  65.4   93835.0   2.6  15.1\n",
       "10    59  59.6   69995.0   2.4  20.7\n",
       "11    60  68.5   84521.0   2.3  12.7\n",
       "12    61  66.2  117688.0   2.7   9.0\n",
       "13    62  53.6   97441.0   3.6   7.9"
      ]
     },
     "execution_count": 9,
     "metadata": {},
     "output_type": "execute_result"
    }
   ],
   "source": [
    "prov_data = pd.read_csv(\"provincial_data.csv\")\n",
    "prov_data"
   ]
  },
  {
   "cell_type": "markdown",
   "metadata": {
    "slideshow": {
     "slide_type": "subslide"
    }
   },
   "source": [
    "\n",
    "```\n",
    "COL0 - GEO UID\n",
    "COL1 - Labour - Total Sex / Employment rate\n",
    "COL2 - Income - Total Sex / Total - Income statistics in 2015 for private households by household size - 100% data / Median total income of households in 2015 ($)\n",
    "COL3 - Dwelling characteristics / Average household size\n",
    "\n",
    "COL4 - Housing - Total Sex / Total - Owner households in non-farm, non-reserve private dwellings - 25% sample data / % of owner households spending 30% or more of its income on shelter costs\n",
    "```"
   ]
  },
  {
   "cell_type": "markdown",
   "metadata": {
    "slideshow": {
     "slide_type": "subslide"
    }
   },
   "source": [
    "Let's give the columns meaningful names."
   ]
  },
  {
   "cell_type": "code",
   "execution_count": 10,
   "metadata": {
    "slideshow": {
     "slide_type": "fragment"
    }
   },
   "outputs": [
    {
     "data": {
      "text/html": [
       "<div>\n",
       "<style scoped>\n",
       "    .dataframe tbody tr th:only-of-type {\n",
       "        vertical-align: middle;\n",
       "    }\n",
       "\n",
       "    .dataframe tbody tr th {\n",
       "        vertical-align: top;\n",
       "    }\n",
       "\n",
       "    .dataframe thead th {\n",
       "        text-align: right;\n",
       "    }\n",
       "</style>\n",
       "<table border=\"1\" class=\"dataframe\">\n",
       "  <thead>\n",
       "    <tr style=\"text-align: right;\">\n",
       "      <th></th>\n",
       "      <th>Prov</th>\n",
       "      <th>Employment Rate</th>\n",
       "      <th>Income</th>\n",
       "      <th>Household Size</th>\n",
       "      <th>Pct house over 30</th>\n",
       "    </tr>\n",
       "  </thead>\n",
       "  <tbody>\n",
       "    <tr>\n",
       "      <th>0</th>\n",
       "      <td>1</td>\n",
       "      <td>60.2</td>\n",
       "      <td>70336.0</td>\n",
       "      <td>2.4</td>\n",
       "      <td>16.6</td>\n",
       "    </tr>\n",
       "    <tr>\n",
       "      <th>1</th>\n",
       "      <td>10</td>\n",
       "      <td>49.5</td>\n",
       "      <td>67272.0</td>\n",
       "      <td>2.3</td>\n",
       "      <td>10.6</td>\n",
       "    </tr>\n",
       "    <tr>\n",
       "      <th>2</th>\n",
       "      <td>11</td>\n",
       "      <td>58.2</td>\n",
       "      <td>61163.0</td>\n",
       "      <td>2.3</td>\n",
       "      <td>11.1</td>\n",
       "    </tr>\n",
       "    <tr>\n",
       "      <th>3</th>\n",
       "      <td>12</td>\n",
       "      <td>55.2</td>\n",
       "      <td>60764.0</td>\n",
       "      <td>2.3</td>\n",
       "      <td>12.0</td>\n",
       "    </tr>\n",
       "    <tr>\n",
       "      <th>4</th>\n",
       "      <td>13</td>\n",
       "      <td>54.6</td>\n",
       "      <td>59347.0</td>\n",
       "      <td>2.3</td>\n",
       "      <td>10.3</td>\n",
       "    </tr>\n",
       "    <tr>\n",
       "      <th>5</th>\n",
       "      <td>24</td>\n",
       "      <td>59.5</td>\n",
       "      <td>59822.0</td>\n",
       "      <td>2.3</td>\n",
       "      <td>12.9</td>\n",
       "    </tr>\n",
       "    <tr>\n",
       "      <th>6</th>\n",
       "      <td>35</td>\n",
       "      <td>59.9</td>\n",
       "      <td>74287.0</td>\n",
       "      <td>2.6</td>\n",
       "      <td>19.8</td>\n",
       "    </tr>\n",
       "    <tr>\n",
       "      <th>7</th>\n",
       "      <td>46</td>\n",
       "      <td>61.7</td>\n",
       "      <td>68147.0</td>\n",
       "      <td>2.5</td>\n",
       "      <td>11.4</td>\n",
       "    </tr>\n",
       "    <tr>\n",
       "      <th>8</th>\n",
       "      <td>47</td>\n",
       "      <td>63.5</td>\n",
       "      <td>75412.0</td>\n",
       "      <td>2.5</td>\n",
       "      <td>12.1</td>\n",
       "    </tr>\n",
       "    <tr>\n",
       "      <th>9</th>\n",
       "      <td>48</td>\n",
       "      <td>65.4</td>\n",
       "      <td>93835.0</td>\n",
       "      <td>2.6</td>\n",
       "      <td>15.1</td>\n",
       "    </tr>\n",
       "    <tr>\n",
       "      <th>10</th>\n",
       "      <td>59</td>\n",
       "      <td>59.6</td>\n",
       "      <td>69995.0</td>\n",
       "      <td>2.4</td>\n",
       "      <td>20.7</td>\n",
       "    </tr>\n",
       "    <tr>\n",
       "      <th>11</th>\n",
       "      <td>60</td>\n",
       "      <td>68.5</td>\n",
       "      <td>84521.0</td>\n",
       "      <td>2.3</td>\n",
       "      <td>12.7</td>\n",
       "    </tr>\n",
       "    <tr>\n",
       "      <th>12</th>\n",
       "      <td>61</td>\n",
       "      <td>66.2</td>\n",
       "      <td>117688.0</td>\n",
       "      <td>2.7</td>\n",
       "      <td>9.0</td>\n",
       "    </tr>\n",
       "    <tr>\n",
       "      <th>13</th>\n",
       "      <td>62</td>\n",
       "      <td>53.6</td>\n",
       "      <td>97441.0</td>\n",
       "      <td>3.6</td>\n",
       "      <td>7.9</td>\n",
       "    </tr>\n",
       "  </tbody>\n",
       "</table>\n",
       "</div>"
      ],
      "text/plain": [
       "    Prov  Employment Rate    Income  Household Size  Pct house over 30\n",
       "0      1             60.2   70336.0             2.4               16.6\n",
       "1     10             49.5   67272.0             2.3               10.6\n",
       "2     11             58.2   61163.0             2.3               11.1\n",
       "3     12             55.2   60764.0             2.3               12.0\n",
       "4     13             54.6   59347.0             2.3               10.3\n",
       "5     24             59.5   59822.0             2.3               12.9\n",
       "6     35             59.9   74287.0             2.6               19.8\n",
       "7     46             61.7   68147.0             2.5               11.4\n",
       "8     47             63.5   75412.0             2.5               12.1\n",
       "9     48             65.4   93835.0             2.6               15.1\n",
       "10    59             59.6   69995.0             2.4               20.7\n",
       "11    60             68.5   84521.0             2.3               12.7\n",
       "12    61             66.2  117688.0             2.7                9.0\n",
       "13    62             53.6   97441.0             3.6                7.9"
      ]
     },
     "execution_count": 10,
     "metadata": {},
     "output_type": "execute_result"
    }
   ],
   "source": [
    "colnames = {\"COL0\": \"Prov\", \n",
    "            \"COL1\": \"Employment Rate\", \n",
    "            \"COL2\": \"Income\",\n",
    "            \"COL3\": \"Household Size\",\n",
    "            \"COL4\": \"Pct house over 30\"}\n",
    "\n",
    "prov_data.rename(columns=colnames, inplace=True)\n",
    "# inplace=True applies the column name change to the current DataFrame\n",
    "prov_data"
   ]
  },
  {
   "cell_type": "markdown",
   "metadata": {
    "slideshow": {
     "slide_type": "subslide"
    }
   },
   "source": [
    "Now, we are ready to use the `merge` function in `pandas`. "
   ]
  },
  {
   "cell_type": "code",
   "execution_count": 11,
   "metadata": {
    "slideshow": {
     "slide_type": "fragment"
    }
   },
   "outputs": [
    {
     "data": {
      "text/html": [
       "<div>\n",
       "<style scoped>\n",
       "    .dataframe tbody tr th:only-of-type {\n",
       "        vertical-align: middle;\n",
       "    }\n",
       "\n",
       "    .dataframe tbody tr th {\n",
       "        vertical-align: top;\n",
       "    }\n",
       "\n",
       "    .dataframe thead th {\n",
       "        text-align: right;\n",
       "    }\n",
       "</style>\n",
       "<table border=\"1\" class=\"dataframe\">\n",
       "  <thead>\n",
       "    <tr style=\"text-align: right;\">\n",
       "      <th></th>\n",
       "      <th>Participant ID</th>\n",
       "      <th>prv</th>\n",
       "      <th>Urban/Rural</th>\n",
       "      <th>Age Group</th>\n",
       "      <th>Marital Status</th>\n",
       "      <th>sex</th>\n",
       "      <th>Kids under 14</th>\n",
       "      <th>Feeling Rushed</th>\n",
       "      <th>Sleep duration</th>\n",
       "      <th>Work duration</th>\n",
       "      <th>Sleep duration (hours)</th>\n",
       "      <th>Age group label</th>\n",
       "      <th>Prov</th>\n",
       "      <th>Employment Rate</th>\n",
       "      <th>Income</th>\n",
       "      <th>Household Size</th>\n",
       "      <th>Pct house over 30</th>\n",
       "    </tr>\n",
       "  </thead>\n",
       "  <tbody>\n",
       "    <tr>\n",
       "      <th>0</th>\n",
       "      <td>10000</td>\n",
       "      <td>46</td>\n",
       "      <td>1</td>\n",
       "      <td>5</td>\n",
       "      <td>5</td>\n",
       "      <td>1</td>\n",
       "      <td>0</td>\n",
       "      <td>1</td>\n",
       "      <td>510</td>\n",
       "      <td>0</td>\n",
       "      <td>8.50</td>\n",
       "      <td>55-64</td>\n",
       "      <td>46</td>\n",
       "      <td>61.7</td>\n",
       "      <td>68147.0</td>\n",
       "      <td>2.5</td>\n",
       "      <td>11.4</td>\n",
       "    </tr>\n",
       "    <tr>\n",
       "      <th>1</th>\n",
       "      <td>10001</td>\n",
       "      <td>59</td>\n",
       "      <td>1</td>\n",
       "      <td>5</td>\n",
       "      <td>1</td>\n",
       "      <td>1</td>\n",
       "      <td>0</td>\n",
       "      <td>3</td>\n",
       "      <td>420</td>\n",
       "      <td>0</td>\n",
       "      <td>7.00</td>\n",
       "      <td>55-64</td>\n",
       "      <td>59</td>\n",
       "      <td>59.6</td>\n",
       "      <td>69995.0</td>\n",
       "      <td>2.4</td>\n",
       "      <td>20.7</td>\n",
       "    </tr>\n",
       "    <tr>\n",
       "      <th>2</th>\n",
       "      <td>10002</td>\n",
       "      <td>47</td>\n",
       "      <td>1</td>\n",
       "      <td>4</td>\n",
       "      <td>1</td>\n",
       "      <td>2</td>\n",
       "      <td>3</td>\n",
       "      <td>1</td>\n",
       "      <td>570</td>\n",
       "      <td>480</td>\n",
       "      <td>9.50</td>\n",
       "      <td>45-54</td>\n",
       "      <td>47</td>\n",
       "      <td>63.5</td>\n",
       "      <td>75412.0</td>\n",
       "      <td>2.5</td>\n",
       "      <td>12.1</td>\n",
       "    </tr>\n",
       "    <tr>\n",
       "      <th>3</th>\n",
       "      <td>10003</td>\n",
       "      <td>35</td>\n",
       "      <td>1</td>\n",
       "      <td>6</td>\n",
       "      <td>5</td>\n",
       "      <td>2</td>\n",
       "      <td>0</td>\n",
       "      <td>2</td>\n",
       "      <td>510</td>\n",
       "      <td>20</td>\n",
       "      <td>8.50</td>\n",
       "      <td>65-74</td>\n",
       "      <td>35</td>\n",
       "      <td>59.9</td>\n",
       "      <td>74287.0</td>\n",
       "      <td>2.6</td>\n",
       "      <td>19.8</td>\n",
       "    </tr>\n",
       "    <tr>\n",
       "      <th>4</th>\n",
       "      <td>10004</td>\n",
       "      <td>35</td>\n",
       "      <td>1</td>\n",
       "      <td>2</td>\n",
       "      <td>6</td>\n",
       "      <td>1</td>\n",
       "      <td>0</td>\n",
       "      <td>1</td>\n",
       "      <td>525</td>\n",
       "      <td>0</td>\n",
       "      <td>8.75</td>\n",
       "      <td>25-34</td>\n",
       "      <td>35</td>\n",
       "      <td>59.9</td>\n",
       "      <td>74287.0</td>\n",
       "      <td>2.6</td>\n",
       "      <td>19.8</td>\n",
       "    </tr>\n",
       "  </tbody>\n",
       "</table>\n",
       "</div>"
      ],
      "text/plain": [
       "   Participant ID  prv  Urban/Rural  Age Group  Marital Status  sex  \\\n",
       "0           10000   46            1          5               5    1   \n",
       "1           10001   59            1          5               1    1   \n",
       "2           10002   47            1          4               1    2   \n",
       "3           10003   35            1          6               5    2   \n",
       "4           10004   35            1          2               6    1   \n",
       "\n",
       "   Kids under 14  Feeling Rushed  Sleep duration  Work duration  \\\n",
       "0              0               1             510              0   \n",
       "1              0               3             420              0   \n",
       "2              3               1             570            480   \n",
       "3              0               2             510             20   \n",
       "4              0               1             525              0   \n",
       "\n",
       "   Sleep duration (hours) Age group label  Prov  Employment Rate   Income  \\\n",
       "0                    8.50           55-64    46             61.7  68147.0   \n",
       "1                    7.00           55-64    59             59.6  69995.0   \n",
       "2                    9.50           45-54    47             63.5  75412.0   \n",
       "3                    8.50           65-74    35             59.9  74287.0   \n",
       "4                    8.75           25-34    35             59.9  74287.0   \n",
       "\n",
       "   Household Size  Pct house over 30  \n",
       "0             2.5               11.4  \n",
       "1             2.4               20.7  \n",
       "2             2.5               12.1  \n",
       "3             2.6               19.8  \n",
       "4             2.6               19.8  "
      ]
     },
     "execution_count": 11,
     "metadata": {},
     "output_type": "execute_result"
    }
   ],
   "source": [
    "prov_data_df = subset_time_df.merge(\n",
    "    prov_data, \n",
    "    right_on=\"Prov\", # the right data frame is prov_data \n",
    "    left_on=\"prv\"    # the left data frame is subset_time_df\n",
    ")   \n",
    "\n",
    "prov_data_df.head()"
   ]
  },
  {
   "cell_type": "markdown",
   "metadata": {
    "slideshow": {
     "slide_type": "slide"
    }
   },
   "source": [
    "## Is time spent resting different by province?\n",
    "\n",
    "### Grouped summaries of data \n",
    "\n",
    "- Many times we will want to calculate means, proportions, and other statistics by group membership.\n",
    "\n",
    "- This is so common that `pandas` has a built-in function called `groupby` that groups a data frame by another variable."
   ]
  },
  {
   "cell_type": "code",
   "execution_count": 12,
   "metadata": {
    "slideshow": {
     "slide_type": "fragment"
    }
   },
   "outputs": [
    {
     "data": {
      "text/html": [
       "<div>\n",
       "<style scoped>\n",
       "    .dataframe tbody tr th:only-of-type {\n",
       "        vertical-align: middle;\n",
       "    }\n",
       "\n",
       "    .dataframe tbody tr th {\n",
       "        vertical-align: top;\n",
       "    }\n",
       "\n",
       "    .dataframe thead th {\n",
       "        text-align: right;\n",
       "    }\n",
       "</style>\n",
       "<table border=\"1\" class=\"dataframe\">\n",
       "  <thead>\n",
       "    <tr style=\"text-align: right;\">\n",
       "      <th></th>\n",
       "      <th>Participant ID</th>\n",
       "      <th>prv</th>\n",
       "      <th>Urban/Rural</th>\n",
       "      <th>Age Group</th>\n",
       "      <th>Marital Status</th>\n",
       "      <th>sex</th>\n",
       "      <th>Kids under 14</th>\n",
       "      <th>Feeling Rushed</th>\n",
       "      <th>Sleep duration</th>\n",
       "      <th>Work duration</th>\n",
       "      <th>Sleep duration (hours)</th>\n",
       "      <th>Age group label</th>\n",
       "      <th>Prov</th>\n",
       "      <th>Employment Rate</th>\n",
       "      <th>Income</th>\n",
       "      <th>Household Size</th>\n",
       "      <th>Pct house over 30</th>\n",
       "    </tr>\n",
       "  </thead>\n",
       "  <tbody>\n",
       "    <tr>\n",
       "      <th>0</th>\n",
       "      <td>10000</td>\n",
       "      <td>46</td>\n",
       "      <td>1</td>\n",
       "      <td>5</td>\n",
       "      <td>5</td>\n",
       "      <td>1</td>\n",
       "      <td>0</td>\n",
       "      <td>1</td>\n",
       "      <td>510</td>\n",
       "      <td>0</td>\n",
       "      <td>8.50</td>\n",
       "      <td>55-64</td>\n",
       "      <td>46</td>\n",
       "      <td>61.7</td>\n",
       "      <td>68147.0</td>\n",
       "      <td>2.5</td>\n",
       "      <td>11.4</td>\n",
       "    </tr>\n",
       "    <tr>\n",
       "      <th>1</th>\n",
       "      <td>10001</td>\n",
       "      <td>59</td>\n",
       "      <td>1</td>\n",
       "      <td>5</td>\n",
       "      <td>1</td>\n",
       "      <td>1</td>\n",
       "      <td>0</td>\n",
       "      <td>3</td>\n",
       "      <td>420</td>\n",
       "      <td>0</td>\n",
       "      <td>7.00</td>\n",
       "      <td>55-64</td>\n",
       "      <td>59</td>\n",
       "      <td>59.6</td>\n",
       "      <td>69995.0</td>\n",
       "      <td>2.4</td>\n",
       "      <td>20.7</td>\n",
       "    </tr>\n",
       "    <tr>\n",
       "      <th>2</th>\n",
       "      <td>10002</td>\n",
       "      <td>47</td>\n",
       "      <td>1</td>\n",
       "      <td>4</td>\n",
       "      <td>1</td>\n",
       "      <td>2</td>\n",
       "      <td>3</td>\n",
       "      <td>1</td>\n",
       "      <td>570</td>\n",
       "      <td>480</td>\n",
       "      <td>9.50</td>\n",
       "      <td>45-54</td>\n",
       "      <td>47</td>\n",
       "      <td>63.5</td>\n",
       "      <td>75412.0</td>\n",
       "      <td>2.5</td>\n",
       "      <td>12.1</td>\n",
       "    </tr>\n",
       "    <tr>\n",
       "      <th>3</th>\n",
       "      <td>10003</td>\n",
       "      <td>35</td>\n",
       "      <td>1</td>\n",
       "      <td>6</td>\n",
       "      <td>5</td>\n",
       "      <td>2</td>\n",
       "      <td>0</td>\n",
       "      <td>2</td>\n",
       "      <td>510</td>\n",
       "      <td>20</td>\n",
       "      <td>8.50</td>\n",
       "      <td>65-74</td>\n",
       "      <td>35</td>\n",
       "      <td>59.9</td>\n",
       "      <td>74287.0</td>\n",
       "      <td>2.6</td>\n",
       "      <td>19.8</td>\n",
       "    </tr>\n",
       "    <tr>\n",
       "      <th>4</th>\n",
       "      <td>10004</td>\n",
       "      <td>35</td>\n",
       "      <td>1</td>\n",
       "      <td>2</td>\n",
       "      <td>6</td>\n",
       "      <td>1</td>\n",
       "      <td>0</td>\n",
       "      <td>1</td>\n",
       "      <td>525</td>\n",
       "      <td>0</td>\n",
       "      <td>8.75</td>\n",
       "      <td>25-34</td>\n",
       "      <td>35</td>\n",
       "      <td>59.9</td>\n",
       "      <td>74287.0</td>\n",
       "      <td>2.6</td>\n",
       "      <td>19.8</td>\n",
       "    </tr>\n",
       "  </tbody>\n",
       "</table>\n",
       "</div>"
      ],
      "text/plain": [
       "   Participant ID  prv  Urban/Rural  Age Group  Marital Status  sex  \\\n",
       "0           10000   46            1          5               5    1   \n",
       "1           10001   59            1          5               1    1   \n",
       "2           10002   47            1          4               1    2   \n",
       "3           10003   35            1          6               5    2   \n",
       "4           10004   35            1          2               6    1   \n",
       "\n",
       "   Kids under 14  Feeling Rushed  Sleep duration  Work duration  \\\n",
       "0              0               1             510              0   \n",
       "1              0               3             420              0   \n",
       "2              3               1             570            480   \n",
       "3              0               2             510             20   \n",
       "4              0               1             525              0   \n",
       "\n",
       "   Sleep duration (hours) Age group label  Prov  Employment Rate   Income  \\\n",
       "0                    8.50           55-64    46             61.7  68147.0   \n",
       "1                    7.00           55-64    59             59.6  69995.0   \n",
       "2                    9.50           45-54    47             63.5  75412.0   \n",
       "3                    8.50           65-74    35             59.9  74287.0   \n",
       "4                    8.75           25-34    35             59.9  74287.0   \n",
       "\n",
       "   Household Size  Pct house over 30  \n",
       "0             2.5               11.4  \n",
       "1             2.4               20.7  \n",
       "2             2.5               12.1  \n",
       "3             2.6               19.8  \n",
       "4             2.6               19.8  "
      ]
     },
     "execution_count": 12,
     "metadata": {},
     "output_type": "execute_result"
    }
   ],
   "source": [
    "prov_data_df.head()"
   ]
  },
  {
   "cell_type": "code",
   "execution_count": 13,
   "metadata": {
    "slideshow": {
     "slide_type": "fragment"
    }
   },
   "outputs": [
    {
     "data": {
      "text/plain": [
       "pandas.core.groupby.generic.DataFrameGroupBy"
      ]
     },
     "execution_count": 13,
     "metadata": {},
     "output_type": "execute_result"
    }
   ],
   "source": [
    "grouped_by_prov = prov_data_df.groupby(\"Prov\") #group the DataFrame by prov\n",
    "\n",
    "type(grouped_by_prov)"
   ]
  },
  {
   "cell_type": "code",
   "execution_count": 14,
   "metadata": {
    "slideshow": {
     "slide_type": "subslide"
    }
   },
   "outputs": [
    {
     "data": {
      "text/plain": [
       "Prov\n",
       "10    8.651739\n",
       "11    8.901090\n",
       "12    8.500917\n",
       "13    8.722338\n",
       "24    8.759245\n",
       "35    8.612381\n",
       "46    8.829857\n",
       "47    8.824515\n",
       "48    8.710498\n",
       "59    8.808136\n",
       "Name: Sleep duration (hours), dtype: float64"
      ]
     },
     "execution_count": 14,
     "metadata": {},
     "output_type": "execute_result"
    }
   ],
   "source": [
    "rest_by_prov_mean = grouped_by_prov[\"Sleep duration (hours)\"].mean()\n",
    "\n",
    "rest_by_prov_mean"
   ]
  },
  {
   "cell_type": "markdown",
   "metadata": {
    "slideshow": {
     "slide_type": "fragment"
    }
   },
   "source": [
    "`rest_by_prov_mean` is a pandas Series with indexed by `Prov`."
   ]
  },
  {
   "cell_type": "code",
   "execution_count": 15,
   "metadata": {
    "slideshow": {
     "slide_type": "fragment"
    }
   },
   "outputs": [
    {
     "data": {
      "text/plain": [
       "pandas.core.series.Series"
      ]
     },
     "execution_count": 15,
     "metadata": {},
     "output_type": "execute_result"
    }
   ],
   "source": [
    "type(rest_by_prov_mean)"
   ]
  },
  {
   "cell_type": "markdown",
   "metadata": {
    "slideshow": {
     "slide_type": "subslide"
    }
   },
   "source": [
    "## DataFrame Index"
   ]
  },
  {
   "cell_type": "code",
   "execution_count": 16,
   "metadata": {
    "slideshow": {
     "slide_type": "fragment"
    }
   },
   "outputs": [
    {
     "data": {
      "text/plain": [
       "Index([10, 11, 12, 13, 24, 35, 46, 47, 48, 59], dtype='int64', name='Prov')"
      ]
     },
     "execution_count": 16,
     "metadata": {},
     "output_type": "execute_result"
    }
   ],
   "source": [
    "rest_by_prov_mean.index"
   ]
  },
  {
   "cell_type": "markdown",
   "metadata": {
    "slideshow": {
     "slide_type": "fragment"
    }
   },
   "source": [
    "From the \n",
    "\n",
    "```\n",
    "  prv                Province of residence\n",
    "\n",
    "           VALUE  LABEL\n",
    "              10  Newfoundland and Labroador\n",
    "              11  Prince Edward Island\n",
    "              12  Nova Scotia\n",
    "              13  New Brunswick\n",
    "              24  Quebec\n",
    "              35  Ontario\n",
    "              46  Manitoba\n",
    "              47  Saskatchewan\n",
    "              48  Alberta\n",
    "              59  British Columbia\n",
    "              96  Valid skip\n",
    "              97  Don't know\n",
    "              98  Refusal\n",
    "              99  Not stated\n",
    "\n",
    "           Data type: numeric\n",
    "           Missing-data codes: 96-99\n",
    "           Record/columns: 1/57-58\n",
    "\n",
    "```"
   ]
  },
  {
   "cell_type": "markdown",
   "metadata": {
    "slideshow": {
     "slide_type": "subslide"
    }
   },
   "source": [
    "We can reindex `rest_by_prov_mean`."
   ]
  },
  {
   "cell_type": "code",
   "execution_count": 17,
   "metadata": {
    "slideshow": {
     "slide_type": "fragment"
    }
   },
   "outputs": [
    {
     "data": {
      "text/plain": [
       "Newfoundland and Labrador    8.651739\n",
       "Prince Edward Island         8.901090\n",
       "Nova Scotia                  8.500917\n",
       "New Brunswick                8.722338\n",
       "Quebec                       8.759245\n",
       "Ontario                      8.612381\n",
       "Manitoba                     8.829857\n",
       "Saskatchewan                 8.824515\n",
       "Alberta                      8.710498\n",
       "British Columbia             8.808136\n",
       "Name: Sleep duration (hours), dtype: float64"
      ]
     },
     "execution_count": 17,
     "metadata": {},
     "output_type": "execute_result"
    }
   ],
   "source": [
    "index_new = [\n",
    "    \"Newfoundland and Labrador\", \n",
    "    \"Prince Edward Island\", \n",
    "    \"Nova Scotia\", \n",
    "    \"New Brunswick\",\n",
    "    \"Quebec\",\n",
    "    \"Ontario\", \n",
    "    \"Manitoba\",\n",
    "    \"Saskatchewan\", \n",
    "    \"Alberta\",\n",
    "    \"British Columbia\"\n",
    "]\n",
    "\n",
    "rest_by_prov_mean.index = index_new\n",
    "\n",
    "rest_by_prov_mean"
   ]
  },
  {
   "cell_type": "markdown",
   "metadata": {
    "slideshow": {
     "slide_type": "subslide"
    }
   },
   "source": [
    "Let's also create a new column `Prov label` in `prov_data_df`."
   ]
  },
  {
   "cell_type": "code",
   "execution_count": 18,
   "metadata": {},
   "outputs": [
    {
     "data": {
      "text/html": [
       "<div>\n",
       "<style scoped>\n",
       "    .dataframe tbody tr th:only-of-type {\n",
       "        vertical-align: middle;\n",
       "    }\n",
       "\n",
       "    .dataframe tbody tr th {\n",
       "        vertical-align: top;\n",
       "    }\n",
       "\n",
       "    .dataframe thead th {\n",
       "        text-align: right;\n",
       "    }\n",
       "</style>\n",
       "<table border=\"1\" class=\"dataframe\">\n",
       "  <thead>\n",
       "    <tr style=\"text-align: right;\">\n",
       "      <th></th>\n",
       "      <th>Participant ID</th>\n",
       "      <th>prv</th>\n",
       "      <th>Urban/Rural</th>\n",
       "      <th>Age Group</th>\n",
       "      <th>Marital Status</th>\n",
       "      <th>sex</th>\n",
       "      <th>Kids under 14</th>\n",
       "      <th>Feeling Rushed</th>\n",
       "      <th>Sleep duration</th>\n",
       "      <th>Work duration</th>\n",
       "      <th>Sleep duration (hours)</th>\n",
       "      <th>Age group label</th>\n",
       "      <th>Prov</th>\n",
       "      <th>Employment Rate</th>\n",
       "      <th>Income</th>\n",
       "      <th>Household Size</th>\n",
       "      <th>Pct house over 30</th>\n",
       "      <th>Prov label</th>\n",
       "    </tr>\n",
       "  </thead>\n",
       "  <tbody>\n",
       "    <tr>\n",
       "      <th>0</th>\n",
       "      <td>10000</td>\n",
       "      <td>46</td>\n",
       "      <td>1</td>\n",
       "      <td>5</td>\n",
       "      <td>5</td>\n",
       "      <td>1</td>\n",
       "      <td>0</td>\n",
       "      <td>1</td>\n",
       "      <td>510</td>\n",
       "      <td>0</td>\n",
       "      <td>8.50</td>\n",
       "      <td>55-64</td>\n",
       "      <td>46</td>\n",
       "      <td>61.7</td>\n",
       "      <td>68147.0</td>\n",
       "      <td>2.5</td>\n",
       "      <td>11.4</td>\n",
       "      <td>Manitoba</td>\n",
       "    </tr>\n",
       "    <tr>\n",
       "      <th>1</th>\n",
       "      <td>10001</td>\n",
       "      <td>59</td>\n",
       "      <td>1</td>\n",
       "      <td>5</td>\n",
       "      <td>1</td>\n",
       "      <td>1</td>\n",
       "      <td>0</td>\n",
       "      <td>3</td>\n",
       "      <td>420</td>\n",
       "      <td>0</td>\n",
       "      <td>7.00</td>\n",
       "      <td>55-64</td>\n",
       "      <td>59</td>\n",
       "      <td>59.6</td>\n",
       "      <td>69995.0</td>\n",
       "      <td>2.4</td>\n",
       "      <td>20.7</td>\n",
       "      <td>British Columbia</td>\n",
       "    </tr>\n",
       "    <tr>\n",
       "      <th>2</th>\n",
       "      <td>10002</td>\n",
       "      <td>47</td>\n",
       "      <td>1</td>\n",
       "      <td>4</td>\n",
       "      <td>1</td>\n",
       "      <td>2</td>\n",
       "      <td>3</td>\n",
       "      <td>1</td>\n",
       "      <td>570</td>\n",
       "      <td>480</td>\n",
       "      <td>9.50</td>\n",
       "      <td>45-54</td>\n",
       "      <td>47</td>\n",
       "      <td>63.5</td>\n",
       "      <td>75412.0</td>\n",
       "      <td>2.5</td>\n",
       "      <td>12.1</td>\n",
       "      <td>Saskatchewan</td>\n",
       "    </tr>\n",
       "    <tr>\n",
       "      <th>3</th>\n",
       "      <td>10003</td>\n",
       "      <td>35</td>\n",
       "      <td>1</td>\n",
       "      <td>6</td>\n",
       "      <td>5</td>\n",
       "      <td>2</td>\n",
       "      <td>0</td>\n",
       "      <td>2</td>\n",
       "      <td>510</td>\n",
       "      <td>20</td>\n",
       "      <td>8.50</td>\n",
       "      <td>65-74</td>\n",
       "      <td>35</td>\n",
       "      <td>59.9</td>\n",
       "      <td>74287.0</td>\n",
       "      <td>2.6</td>\n",
       "      <td>19.8</td>\n",
       "      <td>Ontario</td>\n",
       "    </tr>\n",
       "    <tr>\n",
       "      <th>4</th>\n",
       "      <td>10004</td>\n",
       "      <td>35</td>\n",
       "      <td>1</td>\n",
       "      <td>2</td>\n",
       "      <td>6</td>\n",
       "      <td>1</td>\n",
       "      <td>0</td>\n",
       "      <td>1</td>\n",
       "      <td>525</td>\n",
       "      <td>0</td>\n",
       "      <td>8.75</td>\n",
       "      <td>25-34</td>\n",
       "      <td>35</td>\n",
       "      <td>59.9</td>\n",
       "      <td>74287.0</td>\n",
       "      <td>2.6</td>\n",
       "      <td>19.8</td>\n",
       "      <td>Ontario</td>\n",
       "    </tr>\n",
       "  </tbody>\n",
       "</table>\n",
       "</div>"
      ],
      "text/plain": [
       "   Participant ID  prv  Urban/Rural  Age Group  Marital Status  sex  \\\n",
       "0           10000   46            1          5               5    1   \n",
       "1           10001   59            1          5               1    1   \n",
       "2           10002   47            1          4               1    2   \n",
       "3           10003   35            1          6               5    2   \n",
       "4           10004   35            1          2               6    1   \n",
       "\n",
       "   Kids under 14  Feeling Rushed  Sleep duration  Work duration  \\\n",
       "0              0               1             510              0   \n",
       "1              0               3             420              0   \n",
       "2              3               1             570            480   \n",
       "3              0               2             510             20   \n",
       "4              0               1             525              0   \n",
       "\n",
       "   Sleep duration (hours) Age group label  Prov  Employment Rate   Income  \\\n",
       "0                    8.50           55-64    46             61.7  68147.0   \n",
       "1                    7.00           55-64    59             59.6  69995.0   \n",
       "2                    9.50           45-54    47             63.5  75412.0   \n",
       "3                    8.50           65-74    35             59.9  74287.0   \n",
       "4                    8.75           25-34    35             59.9  74287.0   \n",
       "\n",
       "   Household Size  Pct house over 30        Prov label  \n",
       "0             2.5               11.4          Manitoba  \n",
       "1             2.4               20.7  British Columbia  \n",
       "2             2.5               12.1      Saskatchewan  \n",
       "3             2.6               19.8           Ontario  \n",
       "4             2.6               19.8           Ontario  "
      ]
     },
     "execution_count": 18,
     "metadata": {},
     "output_type": "execute_result"
    }
   ],
   "source": [
    "prov_data_df.loc[prov_data_df[\"Prov\"] == 10, \"Prov label\"] = \"NL\"\n",
    "\n",
    "prov_data_df.loc[prov_data_df[\"Prov\"] == 11, \"Prov label\"] = \"Prince Edward Island\"\n",
    "\n",
    "prov_data_df.loc[prov_data_df[\"Prov\"] == 12, \"Prov label\"] = \"Nova Scotia\"\n",
    "\n",
    "prov_data_df.loc[prov_data_df[\"Prov\"] == 13, \"Prov label\"] = \"New Brunswick\"\n",
    "\n",
    "prov_data_df.loc[prov_data_df[\"Prov\"] == 24, \"Prov label\"] = \"Quebec\"\n",
    "\n",
    "prov_data_df.loc[prov_data_df[\"Prov\"] == 35, \"Prov label\"] = \"Ontario\"\n",
    "\n",
    "prov_data_df.loc[prov_data_df[\"Prov\"] == 46, \"Prov label\"] = \"Manitoba\"\n",
    "\n",
    "prov_data_df.loc[prov_data_df[\"Prov\"] == 47, \"Prov label\"] = \"Saskatchewan\"\n",
    "\n",
    "prov_data_df.loc[prov_data_df[\"Prov\"] == 48, \"Prov label\"] = \"Alberta\"\n",
    "\n",
    "prov_data_df.loc[prov_data_df[\"Prov\"] == 59, \"Prov label\"] = \"British Columbia\"\n",
    "\n",
    "prov_data_df.loc[prov_data_df[\"Prov\"] >= 96, \"Prov label\"] = None\n",
    "\n",
    "prov_data_df.head()"
   ]
  },
  {
   "cell_type": "markdown",
   "metadata": {
    "slideshow": {
     "slide_type": "slide"
    }
   },
   "source": [
    "## Summing across rows of a DataFrame\n",
    "\n",
    "How much time is spent by each respondent sleeping and working?\n",
    "\n",
    "The average time spent sleeping and working by province is:"
   ]
  },
  {
   "cell_type": "code",
   "execution_count": 19,
   "metadata": {
    "slideshow": {
     "slide_type": "fragment"
    }
   },
   "outputs": [
    {
     "data": {
      "text/html": [
       "<div>\n",
       "<style scoped>\n",
       "    .dataframe tbody tr th:only-of-type {\n",
       "        vertical-align: middle;\n",
       "    }\n",
       "\n",
       "    .dataframe tbody tr th {\n",
       "        vertical-align: top;\n",
       "    }\n",
       "\n",
       "    .dataframe thead th {\n",
       "        text-align: right;\n",
       "    }\n",
       "</style>\n",
       "<table border=\"1\" class=\"dataframe\">\n",
       "  <thead>\n",
       "    <tr style=\"text-align: right;\">\n",
       "      <th></th>\n",
       "      <th>Sleep duration</th>\n",
       "      <th>Work duration</th>\n",
       "    </tr>\n",
       "    <tr>\n",
       "      <th>Prov label</th>\n",
       "      <th></th>\n",
       "      <th></th>\n",
       "    </tr>\n",
       "  </thead>\n",
       "  <tbody>\n",
       "    <tr>\n",
       "      <th>Alberta</th>\n",
       "      <td>522.629888</td>\n",
       "      <td>199.491620</td>\n",
       "    </tr>\n",
       "    <tr>\n",
       "      <th>British Columbia</th>\n",
       "      <td>528.488161</td>\n",
       "      <td>165.233753</td>\n",
       "    </tr>\n",
       "    <tr>\n",
       "      <th>Manitoba</th>\n",
       "      <td>529.791411</td>\n",
       "      <td>175.156442</td>\n",
       "    </tr>\n",
       "    <tr>\n",
       "      <th>NL</th>\n",
       "      <td>519.104339</td>\n",
       "      <td>133.946281</td>\n",
       "    </tr>\n",
       "    <tr>\n",
       "      <th>New Brunswick</th>\n",
       "      <td>523.340265</td>\n",
       "      <td>148.428166</td>\n",
       "    </tr>\n",
       "    <tr>\n",
       "      <th>Nova Scotia</th>\n",
       "      <td>510.055019</td>\n",
       "      <td>158.398649</td>\n",
       "    </tr>\n",
       "    <tr>\n",
       "      <th>Ontario</th>\n",
       "      <td>516.742869</td>\n",
       "      <td>177.705566</td>\n",
       "    </tr>\n",
       "    <tr>\n",
       "      <th>Prince Edward Island</th>\n",
       "      <td>534.065385</td>\n",
       "      <td>134.126923</td>\n",
       "    </tr>\n",
       "    <tr>\n",
       "      <th>Quebec</th>\n",
       "      <td>525.554724</td>\n",
       "      <td>159.450461</td>\n",
       "    </tr>\n",
       "    <tr>\n",
       "      <th>Saskatchewan</th>\n",
       "      <td>529.470905</td>\n",
       "      <td>182.572198</td>\n",
       "    </tr>\n",
       "  </tbody>\n",
       "</table>\n",
       "</div>"
      ],
      "text/plain": [
       "                      Sleep duration  Work duration\n",
       "Prov label                                         \n",
       "Alberta                   522.629888     199.491620\n",
       "British Columbia          528.488161     165.233753\n",
       "Manitoba                  529.791411     175.156442\n",
       "NL                        519.104339     133.946281\n",
       "New Brunswick             523.340265     148.428166\n",
       "Nova Scotia               510.055019     158.398649\n",
       "Ontario                   516.742869     177.705566\n",
       "Prince Edward Island      534.065385     134.126923\n",
       "Quebec                    525.554724     159.450461\n",
       "Saskatchewan              529.470905     182.572198"
      ]
     },
     "execution_count": 19,
     "metadata": {},
     "output_type": "execute_result"
    }
   ],
   "source": [
    "restwork_by_prov_mean = prov_data_df.groupby(\"Prov label\")[[\"Sleep duration\", \"Work duration\"]].mean()\n",
    "\n",
    "restwork_by_prov_mean"
   ]
  },
  {
   "cell_type": "markdown",
   "metadata": {
    "slideshow": {
     "slide_type": "subslide"
    }
   },
   "source": [
    "## Two different ways to calulate row totals\n",
    "\n",
    "> There are more but we will focus on the two methods."
   ]
  },
  {
   "cell_type": "markdown",
   "metadata": {
    "slideshow": {
     "slide_type": "fragment"
    }
   },
   "source": [
    "We would like to calculate the total mean time spent sleeping and working."
   ]
  },
  {
   "cell_type": "code",
   "execution_count": 20,
   "metadata": {
    "slideshow": {
     "slide_type": "fragment"
    }
   },
   "outputs": [
    {
     "data": {
      "text/html": [
       "<div>\n",
       "<style scoped>\n",
       "    .dataframe tbody tr th:only-of-type {\n",
       "        vertical-align: middle;\n",
       "    }\n",
       "\n",
       "    .dataframe tbody tr th {\n",
       "        vertical-align: top;\n",
       "    }\n",
       "\n",
       "    .dataframe thead th {\n",
       "        text-align: right;\n",
       "    }\n",
       "</style>\n",
       "<table border=\"1\" class=\"dataframe\">\n",
       "  <thead>\n",
       "    <tr style=\"text-align: right;\">\n",
       "      <th></th>\n",
       "      <th>Sleep duration</th>\n",
       "      <th>Work duration</th>\n",
       "      <th>Total1</th>\n",
       "    </tr>\n",
       "    <tr>\n",
       "      <th>Prov label</th>\n",
       "      <th></th>\n",
       "      <th></th>\n",
       "      <th></th>\n",
       "    </tr>\n",
       "  </thead>\n",
       "  <tbody>\n",
       "    <tr>\n",
       "      <th>Alberta</th>\n",
       "      <td>522.629888</td>\n",
       "      <td>199.491620</td>\n",
       "      <td>722.121508</td>\n",
       "    </tr>\n",
       "    <tr>\n",
       "      <th>British Columbia</th>\n",
       "      <td>528.488161</td>\n",
       "      <td>165.233753</td>\n",
       "      <td>693.721914</td>\n",
       "    </tr>\n",
       "    <tr>\n",
       "      <th>Manitoba</th>\n",
       "      <td>529.791411</td>\n",
       "      <td>175.156442</td>\n",
       "      <td>704.947853</td>\n",
       "    </tr>\n",
       "    <tr>\n",
       "      <th>NL</th>\n",
       "      <td>519.104339</td>\n",
       "      <td>133.946281</td>\n",
       "      <td>653.050620</td>\n",
       "    </tr>\n",
       "    <tr>\n",
       "      <th>New Brunswick</th>\n",
       "      <td>523.340265</td>\n",
       "      <td>148.428166</td>\n",
       "      <td>671.768431</td>\n",
       "    </tr>\n",
       "  </tbody>\n",
       "</table>\n",
       "</div>"
      ],
      "text/plain": [
       "                  Sleep duration  Work duration      Total1\n",
       "Prov label                                                 \n",
       "Alberta               522.629888     199.491620  722.121508\n",
       "British Columbia      528.488161     165.233753  693.721914\n",
       "Manitoba              529.791411     175.156442  704.947853\n",
       "NL                    519.104339     133.946281  653.050620\n",
       "New Brunswick         523.340265     148.428166  671.768431"
      ]
     },
     "execution_count": 20,
     "metadata": {},
     "output_type": "execute_result"
    }
   ],
   "source": [
    "restwork_by_prov_mean[\"Total1\"] = restwork_by_prov_mean[\"Sleep duration\"] + restwork_by_prov_mean[\"Work duration\"]\n",
    "\n",
    "restwork_by_prov_mean.head()\n"
   ]
  },
  {
   "cell_type": "code",
   "execution_count": 21,
   "metadata": {
    "slideshow": {
     "slide_type": "subslide"
    }
   },
   "outputs": [
    {
     "data": {
      "text/html": [
       "<div>\n",
       "<style scoped>\n",
       "    .dataframe tbody tr th:only-of-type {\n",
       "        vertical-align: middle;\n",
       "    }\n",
       "\n",
       "    .dataframe tbody tr th {\n",
       "        vertical-align: top;\n",
       "    }\n",
       "\n",
       "    .dataframe thead th {\n",
       "        text-align: right;\n",
       "    }\n",
       "</style>\n",
       "<table border=\"1\" class=\"dataframe\">\n",
       "  <thead>\n",
       "    <tr style=\"text-align: right;\">\n",
       "      <th></th>\n",
       "      <th>Sleep duration</th>\n",
       "      <th>Work duration</th>\n",
       "      <th>Total1</th>\n",
       "      <th>Total2</th>\n",
       "    </tr>\n",
       "    <tr>\n",
       "      <th>Prov label</th>\n",
       "      <th></th>\n",
       "      <th></th>\n",
       "      <th></th>\n",
       "      <th></th>\n",
       "    </tr>\n",
       "  </thead>\n",
       "  <tbody>\n",
       "    <tr>\n",
       "      <th>Alberta</th>\n",
       "      <td>522.629888</td>\n",
       "      <td>199.491620</td>\n",
       "      <td>722.121508</td>\n",
       "      <td>722.121508</td>\n",
       "    </tr>\n",
       "    <tr>\n",
       "      <th>British Columbia</th>\n",
       "      <td>528.488161</td>\n",
       "      <td>165.233753</td>\n",
       "      <td>693.721914</td>\n",
       "      <td>693.721914</td>\n",
       "    </tr>\n",
       "    <tr>\n",
       "      <th>Manitoba</th>\n",
       "      <td>529.791411</td>\n",
       "      <td>175.156442</td>\n",
       "      <td>704.947853</td>\n",
       "      <td>704.947853</td>\n",
       "    </tr>\n",
       "    <tr>\n",
       "      <th>NL</th>\n",
       "      <td>519.104339</td>\n",
       "      <td>133.946281</td>\n",
       "      <td>653.050620</td>\n",
       "      <td>653.050620</td>\n",
       "    </tr>\n",
       "    <tr>\n",
       "      <th>New Brunswick</th>\n",
       "      <td>523.340265</td>\n",
       "      <td>148.428166</td>\n",
       "      <td>671.768431</td>\n",
       "      <td>671.768431</td>\n",
       "    </tr>\n",
       "  </tbody>\n",
       "</table>\n",
       "</div>"
      ],
      "text/plain": [
       "                  Sleep duration  Work duration      Total1      Total2\n",
       "Prov label                                                             \n",
       "Alberta               522.629888     199.491620  722.121508  722.121508\n",
       "British Columbia      528.488161     165.233753  693.721914  693.721914\n",
       "Manitoba              529.791411     175.156442  704.947853  704.947853\n",
       "NL                    519.104339     133.946281  653.050620  653.050620\n",
       "New Brunswick         523.340265     148.428166  671.768431  671.768431"
      ]
     },
     "execution_count": 21,
     "metadata": {},
     "output_type": "execute_result"
    }
   ],
   "source": [
    "restwork_by_prov_mean[\"Total2\"] = restwork_by_prov_mean[[\"Sleep duration\",\"Work duration\"]].sum(\n",
    "    axis=1 # sum across all columns \n",
    ")\n",
    "\n",
    "restwork_by_prov_mean.head()"
   ]
  },
  {
   "cell_type": "markdown",
   "metadata": {},
   "source": [
    "- In pandas `axis=1` refers to columns and `axis=0` refers to rows.\n",
    "- `DataFrame.sum(axis=1)`: sum across columns \n",
    "- `DataFrame.sum(axis=0)`: sum across rows."
   ]
  },
  {
   "cell_type": "markdown",
   "metadata": {
    "slideshow": {
     "slide_type": "slide"
    }
   },
   "source": [
    "## Statistical Variables"
   ]
  },
  {
   "cell_type": "markdown",
   "metadata": {},
   "source": [
    "<h3>Categorical variable</h3>\n",
    "<div class=\"grid-row\">\n",
    "<div class=\"col-sm-7\">\n",
    "<ul>\n",
    "<li>A <strong>categorical variable</strong> is a variable for which the measurement scale consists of a set of categories.</li>\n",
    "<li>For example, time use has ten categories, or <strong>levels</strong>.</li>\n",
    "<li>These types of variables are very common in social and biomedical sciences, and many other areas.</li>\n",
    "</ul>\n",
    "</div>\n",
    "<div class=\"col-sm-5\"><div style=\"float: right;\"><img src=\"images/variables.png\" /></div>\n",
    "</div>\n"
   ]
  },
  {
   "cell_type": "markdown",
   "metadata": {},
   "source": [
    "<div class=\"grid-row\">\n",
    "<h4>Nominal variable</h4>\n",
    "<div class=\"col-sm-7\">\n",
    "<ul>\n",
    "<li>Categorical variables that don't have a natural ordering is called a <strong>nominal variable</strong>.</li>\n",
    "<li>For example, Canadian provinces are nominal.</li>\n",
    "</ul>\n",
    "</div>\n",
    "<div class=\"col-sm-5\"><img src=\"images/variables.png\" width=\"90%\"/></div>\n",
    "</div>\n"
   ]
  },
  {
   "cell_type": "markdown",
   "metadata": {
    "slideshow": {
     "slide_type": "fragment"
    }
   },
   "source": [
    "<div class=\"grid-row\">\n",
    "<h4>Ordinal variable</h4>\n",
    "<div class=\"col-sm-7\">\n",
    "<ul>\n",
    "<li>If a categorical variable has a natural ordering, it is called an <strong>ordinal variable</strong>.</li>\n",
    "<li>For example, if <strong>levels</strong> <code>96</code> (valid skip), <code>97</code> (don't know), <code>98</code> (refusal), <code>99</code> (not stated) are removed from <code>gtu_110</code> then time use woudl be considered an ordinal variable since it's ordered from feeling rushed <code>Everyday</code> (<code>1</code>) to feeling rushed <code>Never</code> (<code>6</code>).</li>\n",
    "<li>Ordinal variables clearly order categories, but the \"distance\" between categories are unknown/meaningless.</li>\n",
    "</ul>\n",
    "</div>\n",
    "<div class=\"col-sm-5\"><img src=\"images/variables.png\" width=\"90%\"/></div>\n",
    "</div>\n"
   ]
  },
  {
   "cell_type": "markdown",
   "metadata": {
    "slideshow": {
     "slide_type": "fragment"
    }
   },
   "source": [
    "<div class=\"grid-row\">\n",
    "<h4>Quantitative variable</h4>\n",
    "<div class=\"col-sm-7\">\n",
    "<ul>\n",
    "<li>A <strong>quantitative variable</strong> consists of numerical measurements.</li>\n",
    "</ul>\n",
    "</div>\n",
    "<div class=\"col-sm-5\"><img src=\"images/variables.png\" width=\"90%\"/></div>\n",
    "</div>\n"
   ]
  },
  {
   "cell_type": "markdown",
   "metadata": {
    "slideshow": {
     "slide_type": "subslide"
    }
   },
   "source": [
    "<div class=\"grid-row\">\n",
    "<h4>Interval variable</h4>\n",
    "<div class=\"col-sm-7\">\n",
    "<ul>\n",
    "<li>An <strong>interval variable</strong> has numerical differences, but there is no relative scale and 0 holds no meaning.</li>\n",
    "<li>For example, absolute differences between 20&#8451; and 30&#8451;, and between 10&#8451; and 20&#8451; are the same while relative differences between 15&#8451; and 30&#8451;, and between 10&#8451; and 20&#8451; are not.</li>\n",
    "<li>This is because a 0 value is arbitrary. 0&#8451; does not mean \"no temperature\".</li>\n",
    "</ul>\n",
    "</div>\n",
    "<div class=\"col-sm-5\"><img src=\"images/variables.png\" width=\"90%\"/></div>\n",
    "</div>\n",
    "\n",
    "\n",
    "- An **interval variable** is one that does have numerical distances between any two levels of the measurement scale.  For example, calendar years is an interval variable."
   ]
  },
  {
   "cell_type": "markdown",
   "metadata": {
    "slideshow": {
     "slide_type": "fragment"
    }
   },
   "source": [
    "<div class=\"grid-row\">\n",
    "<h4>Ratio variable</h4>\n",
    "<div class=\"col-sm-7\">\n",
    "<ul>\n",
    "<li>A <strong>ratio variable</strong> has both numerical differences and relative scales. A 0 holds semantic meaning.</li>\n",
    "<li>Time use in minutes and age in years are examples of ratio (statistical) variables.</li>\n",
    "<li>Time use of 0 minute means no time spent.</li>\n",
    "</ul>\n",
    "</div>\n",
    "<div class=\"col-sm-5\"><img src=\"images/variables.png\" width=\"90%\"/></div>\n",
    "</div>"
   ]
  },
  {
   "cell_type": "markdown",
   "metadata": {
    "slideshow": {
     "slide_type": "subslide"
    }
   },
   "source": [
    "## What's the difference between a Statistical Variable and a Variable in python?\n",
    "\n",
    "- A variable in python is a location in computer memory to store a value.\n",
    "\n",
    "- A statistical variable is essentially a mathematical representation of data."
   ]
  },
  {
   "cell_type": "markdown",
   "metadata": {
    "slideshow": {
     "slide_type": "subslide"
    }
   },
   "source": [
    "## Examples of implementing statistical variables in python\n",
    "\n",
    "If 10 people are *randomly* selected, and asked how many minutes they slept last night, then this data could be represented by an **ratio variable**.\n",
    "   + In python the data could be represented in `pandas.Series`, where the `Series` data type is float.\n",
    "\n",
    "If 10 people are *randomly* selected, and asked if they live in urban or rural areas, then this data could be represented by an **categorical variable**.\n",
    "   + In python the data could be represented in `pandas.Series`, where the `Series` data type is Boolean (`True` if urban, and `False` if not urban).\n"
   ]
  },
  {
   "cell_type": "markdown",
   "metadata": {
    "slideshow": {
     "slide_type": "slide"
    }
   },
   "source": [
    "## Statistical Distributions\n",
    "\n",
    "- What is a statistical distribution?\n",
    "\n",
    "- How can a distribution be summarized?\n",
    "\n",
    "- What questions can we answer using a distribution? "
   ]
  },
  {
   "cell_type": "markdown",
   "metadata": {
    "slideshow": {
     "slide_type": "subslide"
    }
   },
   "source": [
    "## What is the distribution of kids under 14 in Ontario?"
   ]
  },
  {
   "cell_type": "markdown",
   "metadata": {
    "slideshow": {
     "slide_type": "fragment"
    }
   },
   "source": [
    "1. Select rows in `prov_data_df` where `Prov label` is `Ontario`\n",
    "\n",
    "2. Select the column `Kids under 14`\n",
    "\n",
    "3. Compute the number of respondents who have 0 kids, 1 kid, etc. using `.value_counts()`"
   ]
  },
  {
   "cell_type": "code",
   "execution_count": 22,
   "metadata": {
    "slideshow": {
     "slide_type": "fragment"
    }
   },
   "outputs": [
    {
     "data": {
      "text/plain": [
       "Kids under 14\n",
       "0    3918\n",
       "1     508\n",
       "2     430\n",
       "3     157\n",
       "Name: count, dtype: int64"
      ]
     },
     "execution_count": 22,
     "metadata": {},
     "output_type": "execute_result"
    }
   ],
   "source": [
    "Ontkidsdist = prov_data_df.loc[\n",
    "    prov_data_df[\"Prov label\"] == \"Ontario\",\n",
    "    \"Kids under 14\"\n",
    "].value_counts()\n",
    "\n",
    "Ontkidsdist"
   ]
  },
  {
   "cell_type": "code",
   "execution_count": 23,
   "metadata": {
    "slideshow": {
     "slide_type": "fragment"
    }
   },
   "outputs": [
    {
     "data": {
      "text/plain": [
       "pandas.core.series.Series"
      ]
     },
     "execution_count": 23,
     "metadata": {},
     "output_type": "execute_result"
    }
   ],
   "source": [
    "type(Ontkidsdist)"
   ]
  },
  {
   "cell_type": "markdown",
   "metadata": {
    "slideshow": {
     "slide_type": "subslide"
    }
   },
   "source": [
    "### A bar plot of the distribution of kids under 14 in Ontario"
   ]
  },
  {
   "cell_type": "code",
   "execution_count": 24,
   "metadata": {
    "slideshow": {
     "slide_type": "-"
    }
   },
   "outputs": [
    {
     "data": {
      "image/png": "[encoded data removed]",
      "text/plain": [
       "<Figure size 640x480 with 1 Axes>"
      ]
     },
     "metadata": {},
     "output_type": "display_data"
    }
   ],
   "source": [
    "Ontkidsdist.plot.bar();"
   ]
  },
  {
   "cell_type": "markdown",
   "metadata": {
    "slideshow": {
     "slide_type": "subslide"
    }
   },
   "source": [
    "If we want to plot proportions instead of counts then we can transform `Ontkidsdist` by dividing by the total number of observations."
   ]
  },
  {
   "cell_type": "code",
   "execution_count": 25,
   "metadata": {
    "slideshow": {
     "slide_type": "fragment"
    }
   },
   "outputs": [
    {
     "data": {
      "text/plain": [
       "Kids under 14\n",
       "0    0.781568\n",
       "1    0.101337\n",
       "2    0.085777\n",
       "3    0.031319\n",
       "Name: count, dtype: float64"
      ]
     },
     "execution_count": 25,
     "metadata": {},
     "output_type": "execute_result"
    }
   ],
   "source": [
    "Ontkidsdist_prop = Ontkidsdist / Ontkidsdist.sum()\n",
    "Ontkidsdist_prop"
   ]
  },
  {
   "cell_type": "code",
   "execution_count": 26,
   "metadata": {
    "slideshow": {
     "slide_type": "fragment"
    }
   },
   "outputs": [
    {
     "data": {
      "image/png": "[encoded data removed]",
      "text/plain": [
       "<Figure size 640x480 with 1 Axes>"
      ]
     },
     "metadata": {},
     "output_type": "display_data"
    }
   ],
   "source": [
    "Ontkidsdist_prop.plot.bar();"
   ]
  },
  {
   "cell_type": "markdown",
   "metadata": {
    "slideshow": {
     "slide_type": "subslide"
    }
   },
   "source": [
    "Distribution of counts by province"
   ]
  },
  {
   "cell_type": "code",
   "execution_count": 27,
   "metadata": {
    "slideshow": {
     "slide_type": "fragment"
    }
   },
   "outputs": [
    {
     "data": {
      "text/plain": [
       "Prov label            Kids under 14\n",
       "Alberta               0                1077\n",
       "                      1                 152\n",
       "                      2                 145\n",
       "                      3                  58\n",
       "British Columbia      0                1672\n",
       "                      1                 145\n",
       "                      2                 132\n",
       "                      3                  36\n",
       "Manitoba              0                 763\n",
       "                      1                  93\n",
       "                      2                  88\n",
       "                      3                  34\n",
       "NL                    0                 766\n",
       "                      1                 103\n",
       "                      2                  84\n",
       "                      3                  15\n",
       "New Brunswick         0                 875\n",
       "                      2                  79\n",
       "                      1                  77\n",
       "                      3                  27\n",
       "Nova Scotia           0                 858\n",
       "                      2                  86\n",
       "                      1                  77\n",
       "                      3                  15\n",
       "Ontario               0                3918\n",
       "                      1                 508\n",
       "                      2                 430\n",
       "                      3                 157\n",
       "Prince Edward Island  0                 432\n",
       "                      1                  43\n",
       "                      2                  30\n",
       "                      3                  15\n",
       "Quebec                0                2755\n",
       "                      2                 305\n",
       "                      1                 300\n",
       "                      3                 112\n",
       "Saskatchewan          0                 716\n",
       "                      1                  89\n",
       "                      2                  79\n",
       "                      3                  44\n",
       "Name: count, dtype: int64"
      ]
     },
     "execution_count": 27,
     "metadata": {},
     "output_type": "execute_result"
    }
   ],
   "source": [
    "prov_data_df.groupby([\"Prov label\"])[\"Kids under 14\"].value_counts()"
   ]
  },
  {
   "cell_type": "code",
   "execution_count": 28,
   "metadata": {},
   "outputs": [
    {
     "data": {
      "image/png": "[encoded data removed]",
      "text/plain": [
       "<Figure size 640x480 with 1 Axes>"
      ]
     },
     "metadata": {},
     "output_type": "display_data"
    }
   ],
   "source": [
    "# an exmaple of a bad plot\n",
    "prov_data_df.groupby([\"Prov label\"])[\"Kids under 14\"].value_counts().plot.bar();"
   ]
  },
  {
   "cell_type": "code",
   "execution_count": 29,
   "metadata": {},
   "outputs": [
    {
     "data": {
      "text/plain": [
       "<Axes: ylabel='Prov label'>"
      ]
     },
     "execution_count": 29,
     "metadata": {},
     "output_type": "execute_result"
    },
    {
     "data": {
      "image/png": "[encoded data removed]",
      "text/plain": [
       "<Figure size 640x480 with 1 Axes>"
      ]
     },
     "metadata": {},
     "output_type": "display_data"
    },
    {
     "data": {
      "image/png": "[encoded data removed]",
      "text/plain": [
       "<Figure size 640x480 with 1 Axes>"
      ]
     },
     "metadata": {},
     "output_type": "display_data"
    }
   ],
   "source": [
    "# ----- WON'T BE TESTED -----\n",
    "# the code below is beyond what will be tested and is provided for the purpose \n",
    "# of demonstrating examples of visualizations that achieve different goals\n",
    "\n",
    "# You can \"unstack\" the index an create  a better view to achieve different goals.\n",
    "prov_kids14_dist_df = prov_data_df.groupby([\"Prov label\"])[\"Kids under 14\"].value_counts()\n",
    "prov_kids14_dist_unstacked_df = prov_kids14_dist_df.unstack(level=1)\n",
    "\n",
    "# using \"df.plot.barh()\" to plot horizontal bars to compari proportions\n",
    "prov_kids14_totals = prov_kids14_dist_unstacked_df.sum(axis=1)\n",
    "prov_kids14_dist_unstacked_df[\"None\"] = prov_kids14_dist_unstacked_df[0] / prov_kids14_totals\n",
    "prov_kids14_dist_unstacked_df[\"One\"] = prov_kids14_dist_unstacked_df[1] / prov_kids14_totals\n",
    "prov_kids14_dist_unstacked_df[\"Two\"] = prov_kids14_dist_unstacked_df[2] / prov_kids14_totals\n",
    "prov_kids14_dist_unstacked_df[\"Three or more\"] = prov_kids14_dist_unstacked_df[3] / prov_kids14_totals\n",
    "\n",
    "## comparing within provinces\n",
    "prov_kids14_dist_unstacked_df[[\"None\", \"One\", \"Two\", \"Three or more\"]].plot.barh()\n",
    "## comparing between provinces\n",
    "prov_kids14_dist_unstacked_df[[\"None\", \"One\", \"Two\", \"Three or more\"]].plot.barh(stacked=True)"
   ]
  },
  {
   "cell_type": "code",
   "execution_count": 30,
   "metadata": {},
   "outputs": [
    {
     "data": {
      "image/png": "[encoded data removed]",
      "text/plain": [
       "<Figure size 1200x1200 with 10 Axes>"
      ]
     },
     "metadata": {},
     "output_type": "display_data"
    }
   ],
   "source": [
    "# ----- WON'T BE TESTED -----\n",
    "# the code below is beyond what will be tested and is provided for the purpose \n",
    "# of demonstrating examples of visualizations that achieve different goals\n",
    "\n",
    "# using \"matplotlib\" to create \"subplots\" - will briefly cover in Week 10\n",
    "# ustack provinces instead of responses\n",
    "prov_kids14_dist_unstacked_prov_df = prov_kids14_dist_df.unstack(level=0)\n",
    "prov_kids14_dist_with_ch14_df = prov_kids14_dist_unstacked_prov_df.loc[[1, 2, 3]] # only compare the distribution with 1 or more children\n",
    "prov_kids14_dist_with_ch14_df = prov_kids14_dist_with_ch14_df / prov_kids14_dist_with_ch14_df.sum(axis=0) # get proportions\n",
    "# prov_kids14_dist_with_ch14_df.loc[1].sort_values() # check the order by # participants with 1 child < 14\n",
    "\n",
    "import matplotlib.pyplot as plt\n",
    "fig, axes = plt.subplots(nrows=3, ncols=4, figsize = (12,12))\n",
    "# row 1, column 1\n",
    "ax = axes[0][0]\n",
    "prov_kids14_dist_with_ch14_df[\"Quebec\"].plot(ax=ax, kind=\"bar\", rot=0)\n",
    "ax.set_title(\"Quebec\")\n",
    "ax.set_xticklabels([\"1\", \"2\", \"3+\"])\n",
    "ax.set_xlabel(\"\")\n",
    "ax.set_ylim([0, 0.6])\n",
    "\n",
    "# row 1, column 2\n",
    "ax = axes[0][1]\n",
    "prov_kids14_dist_with_ch14_df[\"Saskatchewan\"].plot(ax=ax, kind=\"bar\", rot=0)\n",
    "ax.set_title(\"Saskatchewan\")\n",
    "ax.set_xticklabels([\"1\", \"2\", \"3+\"])\n",
    "ax.set_xlabel(\"\")\n",
    "ax.set_ylim([0, 0.6])\n",
    "\n",
    "# row 1, column 3\n",
    "ax = axes[0][2]\n",
    "prov_kids14_dist_with_ch14_df[\"New Brunswick\"].plot(ax=ax, kind=\"bar\", rot=0)\n",
    "ax.set_title(\"New Brunswick\")\n",
    "ax.set_xticklabels([\"1\", \"2\", \"3+\"])\n",
    "ax.set_xlabel(\"\")\n",
    "ax.set_ylim([0, 0.6])\n",
    "\n",
    "# row 1, column 4\n",
    "ax = axes[0][3]\n",
    "prov_kids14_dist_with_ch14_df[\"Alberta\"].plot(ax=ax, kind=\"bar\", rot=0)\n",
    "ax.set_title(\"Alberta\")\n",
    "ax.set_xticklabels([\"1\", \"2\", \"3+\"])\n",
    "ax.set_xlabel(\"\")\n",
    "ax.set_ylim([0, 0.6])\n",
    "\n",
    "# row 2, column 1\n",
    "ax = axes[1][0]\n",
    "prov_kids14_dist_with_ch14_df[\"Manitoba\"].plot(ax=ax, kind=\"bar\", rot=0)\n",
    "ax.set_title(\"Manitoba\")\n",
    "ax.set_xticklabels([\"1\", \"2\", \"3+\"])\n",
    "ax.set_xlabel(\"\")\n",
    "ax.set_ylim([0, 0.6])\n",
    "\n",
    "# row 2, column 2\n",
    "ax = axes[1][1]\n",
    "prov_kids14_dist_with_ch14_df[\"Nova Scotia\"].plot(ax=ax, kind=\"bar\", rot=0)\n",
    "ax.set_title(\"Nova Scotia\")\n",
    "ax.set_xticklabels([\"1\", \"2\", \"3+\"])\n",
    "ax.set_xlabel(\"\")\n",
    "ax.set_ylim([0, 0.6])\n",
    "\n",
    "# row 2, column 3\n",
    "ax = axes[1][2]\n",
    "prov_kids14_dist_with_ch14_df[\"British Columbia\"].plot(ax=ax, kind=\"bar\", rot=0)\n",
    "ax.set_title(\"British Columbia\")\n",
    "ax.set_xticklabels([\"1\", \"2\", \"3+\"])\n",
    "ax.set_xlabel(\"\")\n",
    "ax.set_ylim([0, 0.6])\n",
    "\n",
    "# row 2, column 4\n",
    "ax = axes[1][3]\n",
    "prov_kids14_dist_with_ch14_df[\"Ontario\"].plot(ax=ax, kind=\"bar\", rot=0)\n",
    "ax.set_title(\"Ontario\")\n",
    "ax.set_xticklabels([\"1\", \"2\", \"3+\"])\n",
    "ax.set_xlabel(\"\")\n",
    "ax.set_ylim([0, 0.6])\n",
    "\n",
    "# row 3, column 1\n",
    "ax = axes[2][0]\n",
    "prov_kids14_dist_with_ch14_df[\"Prince Edward Island\"].plot(ax=ax, kind=\"bar\", rot=0)\n",
    "ax.set_title(\"Prince Edward Island\")\n",
    "ax.set_xticklabels([\"1\", \"2\", \"3+\"])\n",
    "ax.set_xlabel(\"\")\n",
    "ax.set_ylim([0, 0.6])\n",
    "\n",
    "# row 3, column 2\n",
    "ax = axes[2][1]\n",
    "prov_kids14_dist_with_ch14_df[\"NL\"].plot(ax=ax, kind=\"bar\", rot=0)\n",
    "ax.set_title(\"NL\")\n",
    "ax.set_xticklabels([\"1\", \"2\", \"3+\"])\n",
    "ax.set_xlabel(\"\")\n",
    "ax.set_ylim([0, 0.6])\n",
    "\n",
    "fig.delaxes(axes[2][2])\n",
    "fig.delaxes(axes[2][3])"
   ]
  },
  {
   "cell_type": "markdown",
   "metadata": {
    "slideshow": {
     "slide_type": "subslide"
    }
   },
   "source": [
    "## Summarizing the distribution of a quantitative variable"
   ]
  },
  {
   "cell_type": "markdown",
   "metadata": {
    "slideshow": {
     "slide_type": "fragment"
    }
   },
   "source": [
    "`dur01` is time spent sleeping, resting, etc. \n",
    "\n",
    "```\n",
    "dur01              Duration - Sleeping, resting, relaxing, sick in bed\n",
    "\n",
    "           VALUE  LABEL\n",
    "               0  No time spent doing this activity\n",
    "            9996  Valid skip\n",
    "            9997  Don't know\n",
    "            9998  Refusal\n",
    "            9999  Not stated\n",
    "\n",
    "           Data type: numeric\n",
    "           Missing-data codes: 9996-9999\n",
    "           Record/columns: 1/65-68\n",
    "```"
   ]
  },
  {
   "cell_type": "code",
   "execution_count": 31,
   "metadata": {
    "slideshow": {
     "slide_type": "subslide"
    }
   },
   "outputs": [
    {
     "name": "stdout",
     "output_type": "stream",
     "text": [
      "<class 'pandas.core.series.Series'>\n"
     ]
    },
    {
     "data": {
      "text/plain": [
       "dtype('float64')"
      ]
     },
     "execution_count": 31,
     "metadata": {},
     "output_type": "execute_result"
    }
   ],
   "source": [
    "Sleepduration = prov_data_df[\"Sleep duration (hours)\"]\n",
    "\n",
    "print(type(Sleepduration))\n",
    "\n",
    "Sleepduration.dtypes"
   ]
  },
  {
   "cell_type": "code",
   "execution_count": 32,
   "metadata": {
    "slideshow": {
     "slide_type": "fragment"
    }
   },
   "outputs": [
    {
     "data": {
      "text/plain": [
       "count    17390.000000\n",
       "mean         8.706552\n",
       "std          2.217733\n",
       "min          0.000000\n",
       "25%          7.500000\n",
       "50%          8.500000\n",
       "75%          9.750000\n",
       "max         24.000000\n",
       "Name: Sleep duration (hours), dtype: float64"
      ]
     },
     "execution_count": 32,
     "metadata": {},
     "output_type": "execute_result"
    }
   ],
   "source": [
    "Sleepduration.describe()"
   ]
  },
  {
   "cell_type": "markdown",
   "metadata": {
    "slideshow": {
     "slide_type": "subslide"
    }
   },
   "source": [
    "The distributions of quantitative variables are often described as:\n",
    "\n",
    "- a measure of **centre** such as mean, median, and mode\n",
    "\n",
    "- a measure of **spread** such as standard deviation and inter-quartile range\n",
    "\n",
    "- a measure of **range** - the largest value minus the smallest value (or max - min)"
   ]
  },
  {
   "cell_type": "markdown",
   "metadata": {
    "slideshow": {
     "slide_type": "subslide"
    }
   },
   "source": [
    "## Quantiles\n",
    "\n",
    "- The median value is the 50% quantile.  50% of the values fall below this value.  The median is also called the second quartile.\n",
    "\n",
    "- The 25% quantile is the value where 25% of the values fall below.  This is often the first quartile (Q1)  \n",
    "\n",
    "- The 75% quantile is the value where 75% of the values fall below.  This is often the third quartile (Q3)\n",
    "\n",
    "- There are 17390 values.  If we sort sleep duration values from largest to smallest then find the value in the middle (17390 / 2 = 8695) then that value is the median."
   ]
  },
  {
   "cell_type": "markdown",
   "metadata": {
    "slideshow": {
     "slide_type": "subslide"
    }
   },
   "source": [
    "## Variation\n",
    "\n",
    "- One of the most important concepts in statistical reasoning.\n",
    "\n",
    "- Standard deviation is average deviation from the mean.  **Large** values mean large variation and **small** values mean small variation.   \n",
    "\n",
    "- Small samples often have large variation, so estimating a statistic from a small sample is usually less reliable."
   ]
  },
  {
   "cell_type": "markdown",
   "metadata": {
    "slideshow": {
     "slide_type": "subslide"
    }
   },
   "source": [
    "## Question\n",
    "\n",
    "A certain town is served by two hospitals. In the larger hospital about 45 babies are born each day, and in the smaller hospital about 15 babies are born each day. As you know, about 50% of all babies are boys. However, the exact percentage varies from day to day. Sometimes it may be higher than 50%, sometimes lower.\n",
    "\n",
    "\n",
    "For a period of 1 year, each hospital recorded the days on which more than 60% of the babies born were boys. Which hospital do you think recorded more such days?\n",
    "\n",
    "- The larger hospital\n",
    "- The smaller hospital\n",
    "- About the same (that is, within 5% of each other) "
   ]
  },
  {
   "cell_type": "markdown",
   "metadata": {
    "slideshow": {
     "slide_type": "slide"
    }
   },
   "source": [
    "## Histograms\n",
    "\n",
    "Histograms display the frequency distribution of a quantitative variable."
   ]
  },
  {
   "cell_type": "code",
   "execution_count": 33,
   "metadata": {
    "slideshow": {
     "slide_type": "fragment"
    }
   },
   "outputs": [
    {
     "data": {
      "image/png": "[encoded data removed]",
      "text/plain": [
       "<Figure size 800x600 with 1 Axes>"
      ]
     },
     "metadata": {},
     "output_type": "display_data"
    }
   ],
   "source": [
    "Sleepduration_hist =  Sleepduration.plot.hist(\n",
    "    bins=10, \n",
    "    edgecolor=\"black\", \n",
    "    color=\"grey\", \n",
    "    figsize = (8, 6)\n",
    ");\n",
    "\n",
    "Sleepduration_hist.set_xlabel(\"Sleep duration (hours)\");"
   ]
  },
  {
   "cell_type": "code",
   "execution_count": 34,
   "metadata": {
    "slideshow": {
     "slide_type": "fragment"
    }
   },
   "outputs": [
    {
     "data": {
      "text/plain": [
       "0          (7.2, 9.6]\n",
       "1          (4.8, 7.2]\n",
       "2          (7.2, 9.6]\n",
       "3          (7.2, 9.6]\n",
       "4          (7.2, 9.6]\n",
       "             ...     \n",
       "17385      (7.2, 9.6]\n",
       "17386     (9.6, 12.0]\n",
       "17387      (7.2, 9.6]\n",
       "17388    (12.0, 14.4]\n",
       "17389      (7.2, 9.6]\n",
       "Name: Sleep duration (hours), Length: 17390, dtype: category\n",
       "Categories (10, interval[float64, right]): [(-0.024, 2.4] < (2.4, 4.8] < (4.8, 7.2] < (7.2, 9.6] ... (14.4, 16.8] < (16.8, 19.2] < (19.2, 21.6] < (21.6, 24.0]]"
      ]
     },
     "execution_count": 34,
     "metadata": {},
     "output_type": "execute_result"
    }
   ],
   "source": [
    "pd.cut(Sleepduration, bins=10)"
   ]
  },
  {
   "cell_type": "markdown",
   "metadata": {
    "slideshow": {
     "slide_type": "subslide"
    }
   },
   "source": [
    "## Boxplots \n",
    "\n",
    "- Another way to visualize the distribution of a quantitative variable\n",
    "\n",
    "- A box plot is a method for graphically depicting groups of numerical data through their quartiles. \n",
    "- The box extends from the Q1 to Q3 quartile values of the data, with a line at the median (Q2). \n",
    "- The whiskers extend from the edges of box to show the range of the data. \n",
    "- By default, they extend no more than 1.5 * IQR (IQR = Q3 - Q1) from the edges of the box, ending at the farthest data point within that interval. Outliers are plotted as separate dots."
   ]
  },
  {
   "cell_type": "code",
   "execution_count": 35,
   "metadata": {
    "slideshow": {
     "slide_type": "fragment"
    }
   },
   "outputs": [
    {
     "data": {
      "image/png": "[encoded data removed]",
      "text/plain": [
       "<Figure size 1000x800 with 1 Axes>"
      ]
     },
     "metadata": {},
     "output_type": "display_data"
    }
   ],
   "source": [
    "Sleepduration_boxplot = Sleepduration.plot.box(figsize = (10,8));\n",
    "\n",
    "Sleepduration_boxplot;"
   ]
  },
  {
   "cell_type": "markdown",
   "metadata": {
    "slideshow": {
     "slide_type": "subslide"
    }
   },
   "source": [
    "## Anatomy of a Boxplot\n",
    "\n",
    "![](images/boxplot_anatomy.png)"
   ]
  },
  {
   "cell_type": "markdown",
   "metadata": {
    "slideshow": {
     "slide_type": "subslide"
    }
   },
   "source": [
    "Two pandas methods to create a boxplot are:\n",
    "\n",
    "1. `pandas.DataFrame.plot.box`: plot a Series or columns of a DataFrame\n",
    "   \n",
    "2. `pandas.DataFrame.boxplot`: plot the columns of a DataFrame with easy to use syntax for boxplots by a group.\n",
    "\n"
   ]
  },
  {
   "cell_type": "markdown",
   "metadata": {
    "slideshow": {
     "slide_type": "subslide"
    }
   },
   "source": [
    "Boxplots are helpful for comparing the distributions between groups."
   ]
  },
  {
   "cell_type": "code",
   "execution_count": 36,
   "metadata": {
    "slideshow": {
     "slide_type": "fragment"
    }
   },
   "outputs": [
    {
     "data": {
      "image/png": "[encoded data removed]",
      "text/plain": [
       "<Figure size 1000x800 with 1 Axes>"
      ]
     },
     "metadata": {},
     "output_type": "display_data"
    }
   ],
   "source": [
    "Sleephours_boxplot = prov_data_df.boxplot(\n",
    "    column=\"Sleep duration (hours)\", \n",
    "    by=\"Prov label\", \n",
    "    figsize=(10,8),\n",
    "    vert=False,\n",
    "    # rot = 45, \n",
    "    grid=False\n",
    ");\n",
    "\n",
    "Sleephours_boxplot;"
   ]
  },
  {
   "cell_type": "markdown",
   "metadata": {
    "slideshow": {
     "slide_type": "subslide"
    }
   },
   "source": [
    "Compare the distribution of `Sleep duration` and `Work duration` by specifying the `column` parameter of `DataFrame.boxplot` as a list."
   ]
  },
  {
   "cell_type": "code",
   "execution_count": 37,
   "metadata": {},
   "outputs": [
    {
     "data": {
      "image/png": "[encoded data removed]",
      "text/plain": [
       "<Figure size 1000x800 with 2 Axes>"
      ]
     },
     "metadata": {},
     "output_type": "display_data"
    }
   ],
   "source": [
    "Sleepwork_boxplot = prov_data_df.boxplot(\n",
    "    column = [\"Sleep duration\", \"Work duration\"], \n",
    "    by = \"Prov label\", \n",
    "    figsize = (10,8), \n",
    "    # rot = 90, \n",
    "    vert=False,\n",
    "    grid = False, \n",
    "    layout = (1,2)\n",
    ");\n",
    "\n",
    "Sleepwork_boxplot;"
   ]
  },
  {
   "cell_type": "markdown",
   "metadata": {
    "slideshow": {
     "slide_type": "subslide"
    }
   },
   "source": [
    "To further customize the look of your plots, see the [documentation](https://pandas.pydata.org/docs/reference/api/pandas.DataFrame.boxplot.html)."
   ]
  },
  {
   "cell_type": "code",
   "execution_count": 38,
   "metadata": {},
   "outputs": [
    {
     "data": {
      "text/html": [
       "<div>\n",
       "<style scoped>\n",
       "    .dataframe tbody tr th:only-of-type {\n",
       "        vertical-align: middle;\n",
       "    }\n",
       "\n",
       "    .dataframe tbody tr th {\n",
       "        vertical-align: top;\n",
       "    }\n",
       "\n",
       "    .dataframe thead th {\n",
       "        text-align: right;\n",
       "    }\n",
       "</style>\n",
       "<table border=\"1\" class=\"dataframe\">\n",
       "  <thead>\n",
       "    <tr style=\"text-align: right;\">\n",
       "      <th></th>\n",
       "      <th>Sleep duration</th>\n",
       "      <th>Work duration</th>\n",
       "      <th>Total1</th>\n",
       "      <th>Total2</th>\n",
       "    </tr>\n",
       "    <tr>\n",
       "      <th>Prov label</th>\n",
       "      <th></th>\n",
       "      <th></th>\n",
       "      <th></th>\n",
       "      <th></th>\n",
       "    </tr>\n",
       "  </thead>\n",
       "  <tbody>\n",
       "    <tr>\n",
       "      <th>NL</th>\n",
       "      <td>519.104339</td>\n",
       "      <td>133.946281</td>\n",
       "      <td>653.050620</td>\n",
       "      <td>653.050620</td>\n",
       "    </tr>\n",
       "    <tr>\n",
       "      <th>Prince Edward Island</th>\n",
       "      <td>534.065385</td>\n",
       "      <td>134.126923</td>\n",
       "      <td>668.192308</td>\n",
       "      <td>668.192308</td>\n",
       "    </tr>\n",
       "    <tr>\n",
       "      <th>New Brunswick</th>\n",
       "      <td>523.340265</td>\n",
       "      <td>148.428166</td>\n",
       "      <td>671.768431</td>\n",
       "      <td>671.768431</td>\n",
       "    </tr>\n",
       "    <tr>\n",
       "      <th>Nova Scotia</th>\n",
       "      <td>510.055019</td>\n",
       "      <td>158.398649</td>\n",
       "      <td>668.453668</td>\n",
       "      <td>668.453668</td>\n",
       "    </tr>\n",
       "    <tr>\n",
       "      <th>Quebec</th>\n",
       "      <td>525.554724</td>\n",
       "      <td>159.450461</td>\n",
       "      <td>685.005184</td>\n",
       "      <td>685.005184</td>\n",
       "    </tr>\n",
       "    <tr>\n",
       "      <th>British Columbia</th>\n",
       "      <td>528.488161</td>\n",
       "      <td>165.233753</td>\n",
       "      <td>693.721914</td>\n",
       "      <td>693.721914</td>\n",
       "    </tr>\n",
       "    <tr>\n",
       "      <th>Manitoba</th>\n",
       "      <td>529.791411</td>\n",
       "      <td>175.156442</td>\n",
       "      <td>704.947853</td>\n",
       "      <td>704.947853</td>\n",
       "    </tr>\n",
       "    <tr>\n",
       "      <th>Ontario</th>\n",
       "      <td>516.742869</td>\n",
       "      <td>177.705566</td>\n",
       "      <td>694.448434</td>\n",
       "      <td>694.448434</td>\n",
       "    </tr>\n",
       "    <tr>\n",
       "      <th>Saskatchewan</th>\n",
       "      <td>529.470905</td>\n",
       "      <td>182.572198</td>\n",
       "      <td>712.043103</td>\n",
       "      <td>712.043103</td>\n",
       "    </tr>\n",
       "    <tr>\n",
       "      <th>Alberta</th>\n",
       "      <td>522.629888</td>\n",
       "      <td>199.491620</td>\n",
       "      <td>722.121508</td>\n",
       "      <td>722.121508</td>\n",
       "    </tr>\n",
       "  </tbody>\n",
       "</table>\n",
       "</div>"
      ],
      "text/plain": [
       "                      Sleep duration  Work duration      Total1      Total2\n",
       "Prov label                                                                 \n",
       "NL                        519.104339     133.946281  653.050620  653.050620\n",
       "Prince Edward Island      534.065385     134.126923  668.192308  668.192308\n",
       "New Brunswick             523.340265     148.428166  671.768431  671.768431\n",
       "Nova Scotia               510.055019     158.398649  668.453668  668.453668\n",
       "Quebec                    525.554724     159.450461  685.005184  685.005184\n",
       "British Columbia          528.488161     165.233753  693.721914  693.721914\n",
       "Manitoba                  529.791411     175.156442  704.947853  704.947853\n",
       "Ontario                   516.742869     177.705566  694.448434  694.448434\n",
       "Saskatchewan              529.470905     182.572198  712.043103  712.043103\n",
       "Alberta                   522.629888     199.491620  722.121508  722.121508"
      ]
     },
     "execution_count": 38,
     "metadata": {},
     "output_type": "execute_result"
    }
   ],
   "source": [
    "restwork_by_prov_mean.sort_values(\"Work duration\")\n"
   ]
  },
  {
   "cell_type": "code",
   "execution_count": 39,
   "metadata": {},
   "outputs": [
    {
     "name": "stdout",
     "output_type": "stream",
     "text": [
      "<class 'matplotlib.axes._axes.Axes'>\n"
     ]
    },
    {
     "data": {
      "image/png": "[encoded data removed]",
      "text/plain": [
       "<Figure size 1200x800 with 2 Axes>"
      ]
     },
     "metadata": {},
     "output_type": "display_data"
    }
   ],
   "source": [
    "prov_data_df[\"Province ordered\"] = pd.Categorical(\n",
    "    prov_data_df[\"Prov label\"], \n",
    "    categories=restwork_by_prov_mean.sort_values(\"Work duration\").index,\n",
    "    ordered = True\n",
    ")\n",
    "Sleepwork_boxplot = prov_data_df.boxplot(\n",
    "    column = [\"Sleep duration\", \"Work duration\"], \n",
    "    by = \"Province ordered\", \n",
    "    figsize = (12,8), \n",
    "    rot = 0, \n",
    "    grid = False, \n",
    "    layout = (1,2),\n",
    "    vert = False\n",
    ");\n",
    "print(type(Sleepwork_boxplot[0]));\n",
    "Sleepwork_boxplot[0].set_ylabel(None);\n",
    "Sleepwork_boxplot;\n"
   ]
  }
 ],
 "metadata": {
  "celltoolbar": "Slideshow",
  "kernelspec": {
   "display_name": "ggr274",
   "language": "python",
   "name": "python3"
  },
  "language_info": {
   "codemirror_mode": {
    "name": "ipython",
    "version": 3
   },
   "file_extension": ".py",
   "mimetype": "text/x-python",
   "name": "python",
   "nbconvert_exporter": "python",
   "pygments_lexer": "ipython3",
   "version": "3.10.13"
  }
 },
 "nbformat": 4,
 "nbformat_minor": 4
}
