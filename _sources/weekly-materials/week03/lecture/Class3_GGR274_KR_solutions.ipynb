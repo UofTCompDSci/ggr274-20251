{
 "cells": [
  {
   "cell_type": "markdown",
   "id": "fbee9573",
   "metadata": {
    "slideshow": {
     "slide_type": "slide"
    }
   },
   "source": [
    "# GGR274 Lecture 3: Introduction to Programming, Part 2"
   ]
  },
  {
   "cell_type": "markdown",
   "id": "8ebe7f0b",
   "metadata": {
    "slideshow": {
     "slide_type": "slide"
    }
   },
   "source": [
    "## Recap\n",
    "\n",
    "Last lecture, we learned about:\n",
    "\n",
    "- Five basic Python **data types**:\n",
    "\n",
    "    | Data type | Description                      | Example   |\n",
    "    |-----------|----------------------------------|-----------|\n",
    "    | `int`     | Integers                         | `10`, `0`, `-3` |\n",
    "    | `float`   | Non-integer numbers              | `10.3`, `-3.5` |\n",
    "    | `bool`    | True/False                       | `True`, `False` |\n",
    "    | `str`     | Text                             | `\"January is cold\"` |\n",
    "    | `list`    | A sequence of data               | `[\"January\", \"is\", \"cold\"]` |"
   ]
  },
  {
   "cell_type": "markdown",
   "id": "52e3997d",
   "metadata": {
    "slideshow": {
     "slide_type": "slide"
    }
   },
   "source": [
    "Last lecture, we learned about:\n",
    "\n",
    "- Operations we can perform on different data types\n",
    "    - Arithmetic: `+`, `-`, `*`, `/`\n",
    "    - Comparison: `==`, `!=`, `<`, `<=`, `>`, `>=`\n",
    "    - Substring search: `in`\n",
    "    - Boolean (logic): `and`, `or`, `not`\n",
    "    - Indexing: `my_string[i]`, `my_list[i]`\n",
    "        - **Note**: indexing starts at 0, not 1!"
   ]
  },
  {
   "cell_type": "markdown",
   "id": "e693dbd0",
   "metadata": {
    "slideshow": {
     "slide_type": "slide"
    }
   },
   "source": [
    "Last lecture, we learned about:\n",
    "\n",
    "- Functions\n",
    "    - `len`\n",
    "    - `type`\n",
    "    - `abs`\n",
    "    - `sum`\n",
    "- String methods\n",
    "    - `str.upper()`\n",
    "    - `str.lower()`\n",
    "    - `str.replace(old, new)`\n",
    "    - `str.split()`"
   ]
  },
  {
   "cell_type": "markdown",
   "id": "a1e613eb",
   "metadata": {
    "slideshow": {
     "slide_type": "slide"
    }
   },
   "source": [
    "## Learning Objectives\n",
    "\n",
    "In this lecture, you will learn to:\n",
    "\n",
    "- \"Reset\" Python in your notebook\n",
    "- Avoid a common pitfall involving changing variables\n",
    "- Use **if statements** and **for loops** to control how Python code gets executed\n",
    "- Read in data from **files**\n",
    "- Navigate through and find your course files on JupyterHub"
   ]
  },
  {
   "cell_type": "markdown",
   "id": "563f9a7c",
   "metadata": {
    "slideshow": {
     "slide_type": "slide"
    }
   },
   "source": [
    "## Jupyter Notebook Tips"
   ]
  },
  {
   "cell_type": "markdown",
   "id": "3c0e595e",
   "metadata": {
    "slideshow": {
     "slide_type": "slide"
    }
   },
   "source": [
    "If Python seems to be behaving strangely or you've run a bunch of cells and lost track of what you're doing, don't panic!\n",
    "\n",
    "**Reset** Python your notebook by doing the following:\n",
    "\n",
    "1. Go to *Kernel -> Restart & Clear Output*.\n",
    "2. Python will restart, and all cell outputs will be removed, leaving only your code.\n",
    "3. Then, select the cell you're currently working on, and go to *Cell -> Run All Above*.\n",
    "   \n",
    "   Or, if you want to re-run all cells, select *Cell -> Run All* instead.\n"
   ]
  },
  {
   "cell_type": "markdown",
   "id": "dfcac276",
   "metadata": {
    "slideshow": {
     "slide_type": "slide"
    }
   },
   "source": [
    "### Common pitfall: changing variables and running cells out of order\n",
    "\n",
    "Demo!"
   ]
  },
  {
   "cell_type": "code",
   "execution_count": 8,
   "id": "137811cd",
   "metadata": {},
   "outputs": [],
   "source": [
    "my_number = 10"
   ]
  },
  {
   "cell_type": "code",
   "execution_count": null,
   "id": "ab7cb05e",
   "metadata": {},
   "outputs": [],
   "source": [
    "my_number"
   ]
  },
  {
   "cell_type": "code",
   "execution_count": 6,
   "id": "c3d90f75",
   "metadata": {},
   "outputs": [],
   "source": [
    "my_number = 20"
   ]
  },
  {
   "cell_type": "code",
   "execution_count": null,
   "id": "0fdb7dc3",
   "metadata": {
    "slideshow": {
     "slide_type": "fragment"
    }
   },
   "outputs": [],
   "source": [
    "my_number = my_number + 100\n",
    "\n",
    "my_number"
   ]
  },
  {
   "cell_type": "markdown",
   "id": "8547700d",
   "metadata": {
    "slideshow": {
     "slide_type": "slide"
    }
   },
   "source": [
    "**Avoiding this pitfall**:\n",
    "    \n",
    "1. Prefer making cells \"self-contained\": define and use variables in the same cell.\n",
    "2. If you're using a variable, make sure it's been defined in an *earlier* cell.\n",
    "3. After defining a variable, avoid *changing* the variable's value in a different cell. Treat the variable as \"read-only\" after the cell it's been defined in."
   ]
  },
  {
   "cell_type": "markdown",
   "id": "9e103247",
   "metadata": {
    "slideshow": {
     "slide_type": "slide"
    }
   },
   "source": [
    "## If statements"
   ]
  },
  {
   "cell_type": "markdown",
   "id": "72faf68d",
   "metadata": {
    "slideshow": {
     "slide_type": "fragment"
    }
   },
   "source": [
    "So far, all of our code has been executed one line at a time, in top-down order:"
   ]
  },
  {
   "cell_type": "code",
   "execution_count": null,
   "id": "6038ce5f",
   "metadata": {},
   "outputs": [],
   "source": [
    "name = \"Karen\"\n",
    "age = 18\n",
    "\n",
    "print(f\"Hello {name}! How old are you?\")\n",
    "print(f\"Wow {name}, you're only {age} years old? Why do they let you teach?\")\n",
    "print(f\"Goodbye {name}, nice to meet you. :)\")"
   ]
  },
  {
   "cell_type": "markdown",
   "id": "8f19ccbc",
   "metadata": {
    "slideshow": {
     "slide_type": "fragment"
    }
   },
   "source": [
    "Sometimes, we want to run different code depending on the values of our variables."
   ]
  },
  {
   "cell_type": "markdown",
   "id": "bc6f0cfc",
   "metadata": {
    "slideshow": {
     "slide_type": "slide"
    }
   },
   "source": [
    "An **if statement** is a kind of Python code that lets us *only execute some code if a specific condition is met*."
   ]
  },
  {
   "cell_type": "code",
   "execution_count": null,
   "id": "b27626f4",
   "metadata": {},
   "outputs": [],
   "source": [
    "name = \"Karen\"\n",
    "age = 18\n",
    "\n",
    "print(f\"Hello {name}! How old are you?\")\n",
    "\n",
    "# NEW\n",
    "if age < 20:\n",
    "    print(f\"Wow {name}, you're only {age} years old? Why do they let you teach?\")\n",
    "\n",
    "print(f\"Goodbye {name}, nice to meet you. :)\")"
   ]
  },
  {
   "cell_type": "markdown",
   "id": "f3c0f5c2",
   "metadata": {
    "slideshow": {
     "slide_type": "slide"
    }
   },
   "source": [
    "### If statement terminology\n",
    "\n",
    "```python\n",
    "if <condition>:\n",
    "    <statement1>\n",
    "    <statement2>\n",
    "    ...\n",
    "```\n",
    "\n",
    "We call the expression between the `if` and the colon the **if condition**.\n",
    "\n",
    "We call the statements indented on the line(s) after the colon the **if branch**."
   ]
  },
  {
   "cell_type": "markdown",
   "id": "f1ed46bd",
   "metadata": {
    "slideshow": {
     "slide_type": "slide"
    }
   },
   "source": [
    "**Warning**: indentation matters! Python uses indentation to determine what code is part of an if statement vs. what's after the if statement."
   ]
  },
  {
   "cell_type": "code",
   "execution_count": null,
   "id": "d0153be0",
   "metadata": {},
   "outputs": [],
   "source": [
    "if 3 > 5:\n",
    "    print(\"Line 1\")\n",
    "\n",
    "print(\"Line 2\")"
   ]
  },
  {
   "cell_type": "markdown",
   "id": "0ff52fd5",
   "metadata": {},
   "source": [
    "vs."
   ]
  },
  {
   "cell_type": "code",
   "execution_count": 13,
   "id": "8e9c5d20",
   "metadata": {},
   "outputs": [],
   "source": [
    "if 3 > 5:\n",
    "    print(\"Line 1\")\n",
    "    print(\"Line 2\")"
   ]
  },
  {
   "cell_type": "markdown",
   "id": "90b04897",
   "metadata": {
    "slideshow": {
     "slide_type": "slide"
    }
   },
   "source": [
    "### `if`, `elif`, `else`\n",
    "\n",
    "We can use an optional **else block** after the if block to execute code only when the if condition is False."
   ]
  },
  {
   "cell_type": "code",
   "execution_count": null,
   "id": "b1f77c30",
   "metadata": {},
   "outputs": [],
   "source": [
    "name = \"Karen\"\n",
    "age = 18\n",
    "\n",
    "print(f\"Hello {name}! How old are you?\")\n",
    "\n",
    "if age < 20:\n",
    "    print(f\"Wow {name}, you're only {age} years old? Why do they let you teach?\")\n",
    "else:\n",
    "    print(f\"Ah yes {name}, {age} is indeed a reasonable age to be teaching.\")\n",
    "\n",
    "print(f\"Goodbye {name}, nice to meet you. :)\")"
   ]
  },
  {
   "cell_type": "markdown",
   "id": "1d0878b7",
   "metadata": {
    "slideshow": {
     "slide_type": "slide"
    }
   },
   "source": [
    "Finally, we can include zero or more **elif blocks** between the if and else to express more than two cases."
   ]
  },
  {
   "cell_type": "code",
   "execution_count": null,
   "id": "abd0a085",
   "metadata": {},
   "outputs": [],
   "source": [
    "name = \"Karen\"\n",
    "age = 18\n",
    "\n",
    "print(f\"Hello {name}! How old are you?\")\n",
    "\n",
    "if age < 20:\n",
    "    print(f\"Wow {name}, you're only {age} years old? Why do they let you teach?\")\n",
    "elif age > 100:\n",
    "    print(f\"Wow {name}, you're already {age} years old? Why do they let you teach?\")\n",
    "elif age == 57:\n",
    "    print(f\"Ah {name}, you are the perfect age and they should let you do whatever you want. 😎\")\n",
    "else:\n",
    "    print(f\"Ah yes {name}, {age} is indeed a reasonable age to be teaching.\")\n",
    "\n",
    "print(f\"Goodbye {name}, nice to meet you. :)\")"
   ]
  },
  {
   "cell_type": "markdown",
   "id": "21772ae5",
   "metadata": {},
   "source": [
    "## Exercise Break\n",
    "When is a year a leap year?  A leap year is a year that has 366 days by adding February 29 to the calendar.  Leap years occur on years that are evenly divisible by 4, except years that are evenly divisible by 100 but not by 400. \n",
    "\n",
    "This question uses the modulus operator, `%`, which finds the integer remainder of the division between two integers.  For example, `x % 4 == 0` if `x` is evenly divisible by 4.  In other words `x % 4 == 0` is true if `x / 4` has no remainder.\n",
    "\n",
    "Write condtional statements below so that the statement `f\"{year} is a leap year\"` will be printed if `year` is a leap year and `f\"{year} is not a leap year\"` will be printed if `year` is not a leap year.\n",
    "\n",
    "Test your statements on the following years:\n",
    "- 2025 is not a leap year\n",
    "- 2024 is a leap year\n",
    "- 2000 is a leap year\n",
    "- 2100 is not a leap year\n"
   ]
  },
  {
   "cell_type": "code",
   "execution_count": null,
   "id": "502e4685",
   "metadata": {},
   "outputs": [],
   "source": [
    "year = 2024\n",
    "if year % 4 == 0:\n",
    "    if year % 100 == 0:\n",
    "        if year % 400 == 0:\n",
    "            print(f\"{year} is a leap year\")\n",
    "        else:\n",
    "            print(f\"{year} is not a leap year\")\n",
    "    else:\n",
    "        print(f\"{year} is a leap year\")\n",
    "else:\n",
    "    print(f\"{year} is not a leap year\")\n",
    "\n",
    "# or more compactly \n",
    "if year % 4 == 0 and year % 100 != 0 or year % 400 == 0:\n",
    "    print(f\"{year} is a leap year\")\n",
    "else:\n",
    "    print(f\"{year} is not a leap year\")"
   ]
  },
  {
   "cell_type": "markdown",
   "id": "75280bf4",
   "metadata": {
    "slideshow": {
     "slide_type": "slide"
    }
   },
   "source": [
    "## For loops"
   ]
  },
  {
   "cell_type": "markdown",
   "id": "b7bea498",
   "metadata": {
    "slideshow": {
     "slide_type": "slide"
    }
   },
   "source": [
    "Recall that we can represent and operate on a collection of data using the `list` data type:"
   ]
  },
  {
   "cell_type": "code",
   "execution_count": null,
   "id": "99c556ff",
   "metadata": {},
   "outputs": [],
   "source": [
    "numbers = [10, 20, 30, 40, 50]\n",
    "\n",
    "sum(numbers)"
   ]
  },
  {
   "cell_type": "markdown",
   "id": "e136640d",
   "metadata": {
    "slideshow": {
     "slide_type": "slide"
    }
   },
   "source": [
    "Sometimes we want to execute a piece of code *once per element in a collection*.\n",
    "\n",
    "We can do this using a **for loop**."
   ]
  },
  {
   "cell_type": "code",
   "execution_count": null,
   "id": "90041fba",
   "metadata": {},
   "outputs": [],
   "source": [
    "numbers = [10, 20, 30, 40, 50]\n",
    "\n",
    "for number in numbers:\n",
    "    print(number)"
   ]
  },
  {
   "cell_type": "markdown",
   "id": "cc465f8a",
   "metadata": {
    "slideshow": {
     "slide_type": "slide"
    }
   },
   "source": [
    "### For loop terminology\n",
    "\n",
    "```python\n",
    "for <variable> in <collection>:\n",
    "    <statement1>\n",
    "    <statement2>\n",
    "    ...\n",
    "```\n",
    "\n",
    "- We call `<variable>` the **(for) loop variable**. It refers to each element of the `<collection>`, one at a time.\n",
    "- We say that the for loop **iterates over** the `<collection>`."
   ]
  },
  {
   "cell_type": "markdown",
   "id": "e50d2f64",
   "metadata": {
    "slideshow": {
     "slide_type": "fragment"
    }
   },
   "source": [
    "- We call the statements indented after the colon the **(for) loop body**.\n",
    "\n",
    "- We call each repetition of the loop body an **iteration** of the loop."
   ]
  },
  {
   "cell_type": "markdown",
   "id": "bf3e5f0f",
   "metadata": {
    "slideshow": {
     "slide_type": "slide"
    }
   },
   "source": [
    "### Using loops: compute and print"
   ]
  },
  {
   "cell_type": "markdown",
   "id": "96041d5c",
   "metadata": {},
   "source": [
    "*Problem*: Given a list of names, compute the length of each name and display each result."
   ]
  },
  {
   "cell_type": "code",
   "execution_count": null,
   "id": "10b72197",
   "metadata": {
    "slideshow": {
     "slide_type": "-"
    }
   },
   "outputs": [],
   "source": [
    "names = [\"Karen Reid\", \"Chunjiang Li\", \"Michael Moon\"]\n",
    "\n",
    "for name in names:\n",
    "    name_length = len(name)\n",
    "    print(f\"The length of '{name}' is {name_length}.\")"
   ]
  },
  {
   "cell_type": "markdown",
   "id": "c2f7cc16",
   "metadata": {
    "slideshow": {
     "slide_type": "slide"
    }
   },
   "source": [
    "### Using loops: compute and save\n",
    "\n",
    "*Problem*: Given a list of names, compute the length of each name and *store* each result (so that we can use these values later)."
   ]
  },
  {
   "cell_type": "code",
   "execution_count": null,
   "id": "898495ec",
   "metadata": {},
   "outputs": [],
   "source": [
    "names = [\"Karen Reid\", \"Chunjiang Li\", \"Michael Moon\"]\n",
    "\n",
    "for name in names:\n",
    "    name_length = len(name)\n",
    "    # How do we \"save\" the length of the name?"
   ]
  },
  {
   "cell_type": "markdown",
   "id": "b9a7e30a",
   "metadata": {
    "slideshow": {
     "slide_type": "slide"
    }
   },
   "source": [
    "To accomplish this, we will:\n",
    "\n",
    "1. Create a new list variable to store the results.\n",
    "2. In the loop body, use the (new!) `list.append` method to add each length to the new list."
   ]
  },
  {
   "cell_type": "code",
   "execution_count": null,
   "id": "6dd56a98",
   "metadata": {
    "slideshow": {
     "slide_type": "fragment"
    }
   },
   "outputs": [],
   "source": [
    "names = [\"Karen Reid\", \"Chunjiang Li\", \"Michael Moon\"]\n",
    "lengths = []\n",
    "\n",
    "for name in names:\n",
    "    name_length = len(name)\n",
    "    lengths.append(name_length)\n",
    "    \n",
    "lengths"
   ]
  },
  {
   "cell_type": "markdown",
   "id": "c4e1d39f",
   "metadata": {
    "slideshow": {
     "slide_type": "slide"
    }
   },
   "source": [
    "### Using loops: filtering\n",
    "\n",
    "We can combine a **for loop** and an **if statement** to iterate over a collection, decide what to do based on whether the current value satisifies a condition.\n",
    "\n",
    "*Problem*: Given a list of names, compute the length of each name **that contains an `\"e\"`**, and store each result."
   ]
  },
  {
   "cell_type": "code",
   "execution_count": null,
   "id": "a66649e7",
   "metadata": {
    "slideshow": {
     "slide_type": "fragment"
    }
   },
   "outputs": [],
   "source": [
    "names = [\"Karen Reid\", \"Chunjiang Li\", \"Michael Moon\"]\n",
    "lengths = []\n",
    "\n",
    "for name in names:\n",
    "    if \"e\" in name:\n",
    "        name_length = len(name)\n",
    "        lengths.append(name_length)\n",
    "    \n",
    "lengths"
   ]
  },
  {
   "cell_type": "markdown",
   "id": "50fb0113",
   "metadata": {
    "slideshow": {
     "slide_type": "slide"
    }
   },
   "source": [
    "## Exercise Break"
   ]
  },
  {
   "cell_type": "markdown",
   "id": "0d396284",
   "metadata": {
    "slideshow": {
     "slide_type": "-"
    }
   },
   "source": [
    "1. Given a list of names, compute the length of each name that contains an `\"a\"` *and* a `\"c\"`, and store each result.\n",
    "2. Given a list of names, compute the length of each name and store each result *that is $\\geq 11$*."
   ]
  },
  {
   "cell_type": "code",
   "execution_count": null,
   "id": "3328c66b",
   "metadata": {
    "slideshow": {
     "slide_type": "-"
    }
   },
   "outputs": [],
   "source": [
    "names = [\"Karen Reid\", \"Chunjiang Li\", \"Michael Moon\"]\n",
    "\n",
    "# Write your code for Question 1 here.\n",
    "\n",
    "\n",
    "# Write your code for Question 2 here.\n",
    "\n",
    "len(names[0])\n",
    "\n"
   ]
  },
  {
   "cell_type": "code",
   "execution_count": null,
   "id": "40b1216c",
   "metadata": {
    "slideshow": {
     "slide_type": "slide"
    }
   },
   "outputs": [],
   "source": [
    "# Solutions (only look at this after attempting the problems yourself!)\n",
    "\n",
    "names = [\"Karen Reid\", \"Chunjiang Li\", \"Michael Moon\"]\n",
    "\n",
    "# Question 1\n",
    "lengths1 = []\n",
    "\n",
    "for name in names:\n",
    "    if (\"a\" in name) and (\"b\" in name):\n",
    "        name_length = len(name)\n",
    "        lengths1.append(name_length)\n",
    "\n",
    "print(f\"lengths1 is {lengths1}\")\n",
    "\n",
    "\n",
    "# Question 2\n",
    "lengths2 = []\n",
    "\n",
    "for name in names:\n",
    "    name_length = len(name)\n",
    "    if name_length >= 11:\n",
    "        lengths2.append(name_length)\n",
    "\n",
    "print(f\"lengths2 is {lengths2}\")        "
   ]
  },
  {
   "cell_type": "markdown",
   "id": "070f74a7",
   "metadata": {
    "slideshow": {
     "slide_type": "slide"
    }
   },
   "source": [
    "## Reading data from files"
   ]
  },
  {
   "cell_type": "markdown",
   "id": "b486cfb8",
   "metadata": {},
   "source": [
    "So far, we've been working entirely with data we defined inside our notebook.\n",
    "\n",
    "But in practice, we'll be reading in large quantities of data from files.\n",
    "Let's learn how to do this in JupyterHub and Python!"
   ]
  },
  {
   "cell_type": "markdown",
   "id": "882f624a",
   "metadata": {
    "slideshow": {
     "slide_type": "slide"
    }
   },
   "source": [
    "### Running example: Canada's Electoral Districts\n",
    "\n",
    "Today we'll work with a small dataset of Canada's 338 electoral districts, sourced from [Elections Canada](https://www.elections.ca/content.aspx?section=res&dir=cir/list&document=index338&lang=e#list)."
   ]
  },
  {
   "cell_type": "markdown",
   "id": "039856f2",
   "metadata": {},
   "source": [
    "We've downloaded this data in a file called `ED-Canada_2016.csv` and added it to course website in the same folder as this notebook.\n",
    "\n",
    "Let's take a look now. The easiest way to get to the file is to go to **File -> Open...** in the menu. Demo time!\n"
   ]
  },
  {
   "cell_type": "markdown",
   "id": "6d20f9e7",
   "metadata": {
    "slideshow": {
     "slide_type": "slide"
    }
   },
   "source": [
    "## CSV files\n",
    "\n",
    "`ED-Canada_2016.csv` is a type of file called a **comma-separated values (CSV)** file, which is a common way of storing tabular data.\n",
    "\n",
    "In a CSV file:\n",
    "\n",
    "- Each *line* of the file represents one row\n",
    "- Within one line, each column entry is separated by a *comma*"
   ]
  },
  {
   "cell_type": "markdown",
   "id": "e77c47ed",
   "metadata": {
    "slideshow": {
     "slide_type": "slide"
    }
   },
   "source": [
    "### Reading file data: `open` and `readlines`\n",
    "\n",
    "Now that we've seen the file, let's learn how to read the file's contents into Python.\n",
    "\n",
    "Formally, we do this in two steps:\n",
    "\n",
    "1. **Open** the file.\n",
    "2. **Read** the file data into Python, line by line."
   ]
  },
  {
   "cell_type": "code",
   "execution_count": null,
   "id": "44a797bd",
   "metadata": {
    "slideshow": {
     "slide_type": "slide"
    }
   },
   "outputs": [],
   "source": [
    "# Step 1\n",
    "district_file = open(\"ED-Canada_2016.csv\", encoding=\"utf-8\")\n",
    "\n",
    "district_file"
   ]
  },
  {
   "cell_type": "code",
   "execution_count": null,
   "id": "cd8cee48",
   "metadata": {
    "slideshow": {
     "slide_type": "fragment"
    }
   },
   "outputs": [],
   "source": [
    "district_data = district_file.readlines()\n",
    "\n",
    "district_data"
   ]
  },
  {
   "cell_type": "markdown",
   "id": "1ba134ac",
   "metadata": {
    "slideshow": {
     "slide_type": "slide"
    }
   },
   "source": [
    "### Data processing\n",
    "\n",
    "Let's look at just the first line from the file:"
   ]
  },
  {
   "cell_type": "code",
   "execution_count": null,
   "id": "d0e8946c",
   "metadata": {},
   "outputs": [],
   "source": [
    "district_data[0]"
   ]
  },
  {
   "cell_type": "markdown",
   "id": "d2940b05",
   "metadata": {
    "slideshow": {
     "slide_type": "fragment"
    }
   },
   "source": [
    "There's two annoying parts about this line:\n",
    "\n",
    "1. It's a single string, but really stores two pieces of data.\n",
    "2. There's a strange `\\n` at the end of the string, representing a *line break*."
   ]
  },
  {
   "cell_type": "markdown",
   "id": "7d09dfac",
   "metadata": {
    "slideshow": {
     "slide_type": "slide"
    }
   },
   "source": [
    "**Goal**: take the list `district_data` and extract just the population counts, converting to `int`. We'll develop this one together!"
   ]
  },
  {
   "cell_type": "code",
   "execution_count": null,
   "id": "1fb8d230",
   "metadata": {
    "slideshow": {
     "slide_type": "slide"
    }
   },
   "outputs": [],
   "source": [
    "populations = []\n",
    "\n",
    "for line in district_data:\n",
    "    entries = line.split(\",\")\n",
    "    \n",
    "    population_entry = entries[1].strip()\n",
    "    \n",
    "    population_int = int(population_entry)\n",
    "    \n",
    "    populations.append(population_int)\n",
    "    \n",
    "populations\n"
   ]
  },
  {
   "cell_type": "markdown",
   "id": "046b04d0",
   "metadata": {
    "slideshow": {
     "slide_type": "slide"
    }
   },
   "source": [
    "### Now we can compute!\n",
    "\n"
   ]
  },
  {
   "cell_type": "code",
   "execution_count": null,
   "id": "71548e87",
   "metadata": {},
   "outputs": [],
   "source": [
    "num_populations = len(populations)\n",
    "total_population = sum(populations)\n",
    "max_population = max(populations)\n",
    "min_population = min(populations)\n",
    "avg_population = total_population / num_populations\n",
    "\n",
    "print(f\"Number of population entries: {num_populations}.\")\n",
    "print(f\"Sum of populations: {total_population}.\")\n",
    "print(f\"Maximum district population: {max_population}.\")\n",
    "print(f\"Minimum district population: {min_population}.\")\n",
    "print(f\"Average district population: {avg_population}.\")"
   ]
  },
  {
   "cell_type": "markdown",
   "id": "1e0475e2",
   "metadata": {},
   "source": [
    "## Dictionaries\n",
    "It's kind of worrying to have just a list of numbers without any label for what the numbers mean. There is a Python data structure that is more useful for associating labels with values called a dictionary. As you will see it is similar to a list, but instead of a sequential index to access values, we think of a dictionary as containing _key_ _value_ pairs. \n",
    "\n",
    "Using the `district_data` lines that we read from `ED-Canada_2016.csv`, let's see how we can build a dictionary with this data instead of a list of populations:"
   ]
  },
  {
   "cell_type": "code",
   "execution_count": null,
   "id": "3ca5d8d0",
   "metadata": {},
   "outputs": [],
   "source": [
    "# create an empty dictionary\n",
    "district_populations_dict = {}\n",
    "for line in district_data:\n",
    "    entries = line.split(\",\")\n",
    "    \n",
    "    district_name = entries[0].strip()\n",
    "    population_entry = entries[1].strip()\n",
    "    population_int = int(population_entry)\n",
    "    \n",
    "    district_populations_dict[district_name] = population_int\n",
    "\n",
    "print(district_populations_dict)"
   ]
  },
  {
   "cell_type": "markdown",
   "id": "850b5c2d",
   "metadata": {},
   "source": [
    "### Now let's use the dictionary to compute the same values as above"
   ]
  },
  {
   "cell_type": "code",
   "execution_count": null,
   "id": "ddaf6e18",
   "metadata": {},
   "outputs": [],
   "source": [
    "# These are not great variable names, but I wante to create new names rather\n",
    "# than repeat the ones from above to avoid confusion.\n",
    "num_districts = len(district_populations_dict)\n",
    "total_population_dict = sum(district_populations_dict.values())\n",
    "max_population_dict = max(district_populations_dict.values())\n",
    "min_population_dict = min(district_populations_dict.values())\n",
    "avg_population_dict = total_population_dict / num_districts\n",
    "\n",
    "print(f\"Number of population entries: {num_districts}.\")\n",
    "print(f\"Sum of populations: {total_population_dict}.\")\n",
    "print(f\"Maximum district population: {max_population_dict}.\")\n",
    "print(f\"Minimum district population: {min_population_dict}.\")\n",
    "print(f\"Average district population: {avg_population_dict}.\")\n"
   ]
  },
  {
   "cell_type": "markdown",
   "id": "039dd1e5",
   "metadata": {},
   "source": [
    "### Dictionary Keys\n",
    "We can also loop over dictionary elements.  In the example below, the variable district will get the value of another key in the dictionary each iteration of the loop.  We could also have used `district_populations_dict.keys()` instead of `district_populations_dict` to get the list of keys."
   ]
  },
  {
   "cell_type": "code",
   "execution_count": null,
   "id": "7ed65b21",
   "metadata": {},
   "outputs": [],
   "source": [
    "for district in district_populations_dict:\n",
    "    print(district)"
   ]
  },
  {
   "cell_type": "markdown",
   "id": "c4a0e1c0",
   "metadata": {},
   "source": [
    "## Exercise Break\n",
    "\n",
    "Let's put some of this together.  Print the following message for each district that has `Toronto` in its name.  Use `district_populations_dict` that was defined above.\n",
    "`f\"{name} has population {district_populations[name]}`\n",
    "\n",
    "In English what we want to do is check each dictionary key to see if the string `Toronto` is in the key. If it is, then we will print the message."
   ]
  },
  {
   "cell_type": "code",
   "execution_count": null,
   "id": "6e2b4845",
   "metadata": {},
   "outputs": [],
   "source": [
    "for district in district_populations_dict:\n",
    "    if \"Toronto\" in district:\n",
    "        population = district_populations_dict[district]\n",
    "        print(f\"{district} has population {population}\")"
   ]
  },
  {
   "cell_type": "markdown",
   "id": "73b7340d",
   "metadata": {
    "slideshow": {
     "slide_type": "slide"
    }
   },
   "source": [
    "## Bridge to `pandas`"
   ]
  },
  {
   "cell_type": "markdown",
   "id": "e8cb199a",
   "metadata": {
    "slideshow": {
     "slide_type": "slide"
    }
   },
   "source": [
    "### From lists to data frames\n",
    "\n",
    "Python lists are very good at storing *one-dimensional data* (one \"column\" of data).\n",
    "\n",
    "But in practice, we don't just want to store or compute on one column—we want to compute on an entire table, containing multiple columns!\n",
    "\n",
    "While it is possible to do this in Python lists, it's more cumbersome to do so. It's also possible to do this with Python dictionaries, but we'd have to do all the work."
   ]
  },
  {
   "cell_type": "markdown",
   "id": "183cd305",
   "metadata": {
    "slideshow": {
     "slide_type": "fragment"
    }
   },
   "source": [
    "So in practice, we use a new data type called `DataFrame`, which is used to store (two-dimensional) tabular data."
   ]
  },
  {
   "cell_type": "markdown",
   "id": "d21da5fa",
   "metadata": {
    "slideshow": {
     "slide_type": "slide"
    }
   },
   "source": [
    "### Importing `pandas`\n",
    "\n",
    "The `DataFrame` type doesn't come with base Python, but instead as part of the `pandas` library for doing data science in Python.\n",
    "\n",
    "To use a library in Python, we need to **import** it into our code.\n",
    "\n",
    "You are going to start to see a lot of conventions. For example, you will almost always see pandas imported as below. There is nothing magical about `pd`, but when we all use it as a short-hand for `pandas` it is easy to remember what it means."
   ]
  },
  {
   "cell_type": "code",
   "execution_count": 10,
   "id": "68ff68bf",
   "metadata": {},
   "outputs": [],
   "source": [
    "import pandas as pd"
   ]
  },
  {
   "cell_type": "markdown",
   "id": "87735b78",
   "metadata": {
    "slideshow": {
     "slide_type": "-"
    }
   },
   "source": [
    "This line of code loads the `pandas` library, calling it `pd`."
   ]
  },
  {
   "cell_type": "markdown",
   "id": "b855e69e",
   "metadata": {
    "slideshow": {
     "slide_type": "slide"
    }
   },
   "source": [
    "Now we can use the `pd.read_csv` function to read in this data!"
   ]
  },
  {
   "cell_type": "code",
   "execution_count": null,
   "id": "a95b3780",
   "metadata": {},
   "outputs": [],
   "source": [
    "district_df = pd.read_csv(\"ED-Canada_2016.csv\", header=None)\n",
    "district_df"
   ]
  },
  {
   "cell_type": "markdown",
   "id": "655bfdbe",
   "metadata": {
    "slideshow": {
     "slide_type": "slide"
    }
   },
   "source": [
    "## Preview: Creating your own data frame\n",
    "\n",
    "Next lecture, you'll work with data frames in earnest.\n",
    "Some of the examples you'll look at will involve creating small data frames \"by hand\", since they're easier to conceptualize than large data frames.\n",
    "\n",
    "Creating a data frame manually consists of two steps."
   ]
  },
  {
   "cell_type": "markdown",
   "id": "584b95e5",
   "metadata": {
    "slideshow": {
     "slide_type": "slide"
    }
   },
   "source": [
    "### Step 1: Create a dictionary of your data\n",
    "\n",
    "A **dictionary** is another type of Python collection that lets you created associated pairs of data.\n",
    "For us, a dictionary can map *column names* (strings) to *column values* (lists) in a table.\n",
    "\n",
    "For example:"
   ]
  },
  {
   "cell_type": "code",
   "execution_count": null,
   "id": "24dbb8ce",
   "metadata": {},
   "outputs": [],
   "source": [
    "my_data = {\n",
    "    \"Name\": [\"Karen Reid\", \"Chunjiang Li\", \"Michael Moon\"],\n",
    "    \"Age\": [101, 18, 19]\n",
    "}\n",
    "\n",
    "my_data"
   ]
  },
  {
   "cell_type": "markdown",
   "id": "1a4c2be8",
   "metadata": {
    "slideshow": {
     "slide_type": "slide"
    }
   },
   "source": [
    "### Step 2: Turn the dictionary into a data frame\n",
    "\n",
    "Now, we can turn that dictionary into a pandas `DataFrame`:"
   ]
  },
  {
   "cell_type": "code",
   "execution_count": null,
   "id": "6dc6f7ab",
   "metadata": {},
   "outputs": [],
   "source": [
    "my_data_frame = pd.DataFrame(my_data)\n",
    "\n",
    "my_data_frame"
   ]
  },
  {
   "cell_type": "markdown",
   "id": "8e094317",
   "metadata": {
    "slideshow": {
     "slide_type": "slide"
    }
   },
   "source": [
    "Of course, if we wanted to we could combine the two steps into one larger statement. That's more convenient, but a bit less explicit about what's going on. Make sure you understand the previous two steps separately, and then study how they're combined below!"
   ]
  },
  {
   "cell_type": "code",
   "execution_count": null,
   "id": "c4a07e87",
   "metadata": {},
   "outputs": [],
   "source": [
    "my_data_frame2 = pd.DataFrame({\n",
    "    \"Name\": [\"Karen Reid\", \"Chunjiang Li\", \"Michael Moon\"],\n",
    "    \"Age\": [101, 18, 19]\n",
    "})\n",
    "\n",
    "my_data_frame2"
   ]
  },
  {
   "cell_type": "code",
   "execution_count": null,
   "id": "20f505a3",
   "metadata": {},
   "outputs": [],
   "source": []
  }
 ],
 "metadata": {
  "celltoolbar": "Slideshow",
  "kernelspec": {
   "display_name": "base",
   "language": "python",
   "name": "python3"
  },
  "language_info": {
   "codemirror_mode": {
    "name": "ipython",
    "version": 3
   },
   "file_extension": ".py",
   "mimetype": "text/x-python",
   "name": "python",
   "nbconvert_exporter": "python",
   "pygments_lexer": "ipython3",
   "version": "3.12.2"
  }
 },
 "nbformat": 4,
 "nbformat_minor": 5
}
