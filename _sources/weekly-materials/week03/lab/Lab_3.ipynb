{
 "cells": [
  {
   "cell_type": "markdown",
   "id": "8d8c27e5",
   "metadata": {},
   "source": [
    "# GGR274 Lab 3: Introduction to Programming, Part 2\n",
    "\n",
    "## Logistics\n",
    "\n",
    "Like last week, our lab grade will be based on attendance and submission of a few small tasks to MarkUs during the lab session (or by 23:59 on Thursday).\n",
    "\n",
    "Complete the tasks in this Jupyter notebook and submit your completed file to [MarkUs](https://markus.teach.cs.toronto.edu/markus/main/login_remote_auth).\n",
    "Here are the instructions for submitting to MarkUs (same as last week):\n",
    "\n",
    "1. Download this file (`Lab_3.ipynb`) from JupyterHub. (See [our JupyterHub Guide](../../../guides/jupyterhub_guide.ipynb) for detailed instructions.)\n",
    "2. Submit this file to MarkUs under the **lab3** assignment. (See [our MarkUs Guide](../../../guides/markus_guide.ipynb) for detailed instructions.)\n"
   ]
  },
  {
   "cell_type": "code",
   "execution_count": null,
   "id": "3e553bd0",
   "metadata": {},
   "outputs": [],
   "source": []
  },
  {
   "cell_type": "markdown",
   "id": "36dcf62d",
   "metadata": {},
   "source": [
    "## Running example: Canadian Elections\n",
    "\n",
    "Today we'll work with a small dataset of Canada's 338 electoral districts, sourced from [Elections Canada](https://www.elections.ca/content.aspx?section=res&dir=cir/list&document=index338&lang=e#list) and containing the names and populations of Canada's 338 electoral ridings.\n",
    "\n",
    "We've placed a copy of this dataset in the same folder as this lab notebook (you can see this in JupyterHub by going to **File -> Open**)."
   ]
  },
  {
   "cell_type": "markdown",
   "id": "41db444f",
   "metadata": {},
   "source": [
    "### Reading file data: `open` and `readlines`\n",
    "\n",
    "Now that we've seen the file, let's learn how to read the file's contents into Python.\n",
    "\n",
    "Formally, we do this in two steps:\n",
    "\n",
    "1. **Open** the file.\n",
    "2. **Read** the file data into Python, line by line."
   ]
  },
  {
   "cell_type": "code",
   "execution_count": null,
   "id": "0e9d0ed4",
   "metadata": {},
   "outputs": [],
   "source": [
    "# Step 1\n",
    "district_file = open(\"ED-Canada_2016.csv\", encoding=\"utf-8\")\n",
    "\n",
    "district_file"
   ]
  },
  {
   "cell_type": "code",
   "execution_count": null,
   "id": "c8bee3a8",
   "metadata": {},
   "outputs": [],
   "source": [
    "# Step 2\n",
    "district_data = district_file.readlines()\n",
    "\n",
    "district_data"
   ]
  },
  {
   "cell_type": "markdown",
   "id": "e6beafe6",
   "metadata": {},
   "source": [
    "### Data processing\n",
    "\n",
    "Let's look at just the first line from the file:"
   ]
  },
  {
   "cell_type": "code",
   "execution_count": null,
   "id": "8af948f0",
   "metadata": {},
   "outputs": [],
   "source": [
    "district_data[0]"
   ]
  },
  {
   "cell_type": "markdown",
   "id": "90c100ab",
   "metadata": {},
   "source": [
    "There's two annoying parts about this line:\n",
    "\n",
    "1. It's a single string, but really stores two pieces of data.\n",
    "2. There's a strange `\\n` at the end of the string, representing a *line break*."
   ]
  },
  {
   "cell_type": "markdown",
   "id": "c8f0cace",
   "metadata": {},
   "source": [
    "**Goal**: take the list `district_data` and extract just the population counts, converting to `int`. We'll develop this one together!\n",
    "\n",
    "**Tip**: to ensure that you understand what this code does, write a comment that explains each line of code. "
   ]
  },
  {
   "cell_type": "code",
   "execution_count": null,
   "id": "3c70a0b9",
   "metadata": {},
   "outputs": [],
   "source": [
    "populations = []\n",
    "\n",
    "for line in district_data:\n",
    "    entries = line.split(\",\")\n",
    "    \n",
    "    population_entry = entries[1].strip()\n",
    "    \n",
    "    population_int = int(population_entry)\n",
    "    \n",
    "    populations.append(population_int)\n",
    "    \n",
    "populations\n"
   ]
  },
  {
   "cell_type": "markdown",
   "id": "e10f05f1",
   "metadata": {},
   "source": [
    "### Now we can compute!\n",
    "\n"
   ]
  },
  {
   "cell_type": "code",
   "execution_count": null,
   "id": "9c422c73",
   "metadata": {},
   "outputs": [],
   "source": [
    "num_populations = len(populations)\n",
    "total_population = sum(populations)\n",
    "max_population = max(populations)\n",
    "min_population = min(populations)"
   ]
  },
  {
   "cell_type": "markdown",
   "id": "30208cdd",
   "metadata": {},
   "source": [
    "## Task 1a: Let's see what this data looks like\n",
    "\n",
    "Create a `f-string` to print the value of each of the above variables so that it is clear what they mean.  An example f-string for number of population entries `f\"Number of population entries: {num_populations}.\"`\n",
    "\n"
   ]
  },
  {
   "cell_type": "code",
   "execution_count": null,
   "id": "e49154b5",
   "metadata": {},
   "outputs": [],
   "source": [
    "# Write your code here\n"
   ]
  },
  {
   "cell_type": "markdown",
   "id": "e87104ee",
   "metadata": {},
   "source": [
    "## Task 1b: Calculate average\n",
    "\n",
    "Compute **average** population and store it in a variable called `avg_population`.  Use the variables above to compute the average population.\n"
   ]
  },
  {
   "cell_type": "code",
   "execution_count": null,
   "id": "c15b8a1b",
   "metadata": {},
   "outputs": [],
   "source": [
    "# Write your code here\n"
   ]
  },
  {
   "cell_type": "markdown",
   "id": "86f8a465",
   "metadata": {},
   "source": [
    "## Task 2: Extracting district names\n",
    "\n",
    "Next, create a empty list called `district_names`. Then, use a loop and the `str.split(\",\")` method to calculate just the name of each district, and add each name to `district_names`.\n",
    "\n",
    "(This again follows what we did lecture quite closely, so you might want to take a few minutes to review that.)"
   ]
  },
  {
   "cell_type": "code",
   "execution_count": null,
   "id": "157399bd",
   "metadata": {},
   "outputs": [],
   "source": [
    "# Write your code here\n"
   ]
  },
  {
   "cell_type": "markdown",
   "id": "4258f0d9",
   "metadata": {},
   "source": [
    "**Comprehension Question**: after you complete this task, try changing `str.split(\",\")` to `str.split()` and re-run the cell. What happens in this case, and why does this occur?"
   ]
  },
  {
   "cell_type": "markdown",
   "id": "c96635d1",
   "metadata": {},
   "source": [
    "## Task 3: Filtering names\n",
    "\n",
    "Compute a list of the names of electoral districts that contain the string `\"Toronto\"` and store the list in a variable called `toronto_districts`\n",
    "\n",
    "To do so, you should use a for loop that iterates over `district_names`, and whose body contains an if statement."
   ]
  },
  {
   "cell_type": "code",
   "execution_count": 6,
   "id": "00933150",
   "metadata": {},
   "outputs": [],
   "source": [
    "## Write your code here\n"
   ]
  },
  {
   "cell_type": "markdown",
   "id": "9082409d",
   "metadata": {},
   "source": [
    "Finally, compute a list of the names of electoral districts that are at least 30 characters long. Store this list in a variable called `long_districts`."
   ]
  },
  {
   "cell_type": "code",
   "execution_count": 7,
   "id": "f6314b98",
   "metadata": {},
   "outputs": [],
   "source": [
    "## Write your code here\n"
   ]
  }
 ],
 "metadata": {
  "kernelspec": {
   "display_name": "base",
   "language": "python",
   "name": "python3"
  },
  "language_info": {
   "codemirror_mode": {
    "name": "ipython",
    "version": 3
   },
   "file_extension": ".py",
   "mimetype": "text/x-python",
   "name": "python",
   "nbconvert_exporter": "python",
   "pygments_lexer": "ipython3",
   "version": "3.12.2"
  }
 },
 "nbformat": 4,
 "nbformat_minor": 5
}
