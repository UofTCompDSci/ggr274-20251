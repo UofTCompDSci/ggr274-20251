{
 "cells": [
  {
   "cell_type": "markdown",
   "id": "9e271477",
   "metadata": {},
   "source": [
    "# GG274 Homework 7: Summary Statistics, Histograms and Simulation\n"
   ]
  },
  {
   "cell_type": "markdown",
   "id": "96f463a4",
   "metadata": {},
   "source": [
    "## Logistics\n",
    "\n",
    "**Due date**: The homework is due 23:59 on Monday, March 03.\n",
    "\n",
    "You will submit your work on [MarkUs](https://markus.teach.cs.toronto.edu/markus/main/login_remote_auth).\n",
    "To submit your work:\n",
    "\n",
    "1. Download this file (`Homework_7.ipynb`) from JupyterHub. (See [our JupyterHub Guide](../../../guides/jupyterhub_guide.ipynb) for detailed instructions.)\n",
    "2. Submit this file to MarkUs under the **hw7** assignment. (See [our MarkUs Guide](../../../guides/markus_guide.ipynb) for detailed instructions.)\n",
    "All homeworks will take place in a Jupyter notebook (like this one). When you are done, you will download this notebook and submit it to MarkUs."
   ]
  },
  {
   "cell_type": "markdown",
   "id": "7d83f68d",
   "metadata": {},
   "source": [
    "## Introduction\n",
    "\n",
    "For this week's homework, we'll investigate the behaviour of sample statistics and distributions as we vary our sample size. Specifically, we'll be investigating the mean amount of time spent cleaning by respondents. Furthermore, we will extend our analysis by studying how our sample mean estimate tends to change when we take samples of increasing sizes.\n",
    "\n",
    "## Question\n",
    "\n",
    "_Question: How much time on average do respondents spend on indoor house cleaning?  How does our estimate of a sample mean change as we take increasingly larger samples?_\n"
   ]
  },
  {
   "cell_type": "markdown",
   "id": "b309f4b2",
   "metadata": {},
   "source": [
    "## Instructions and Learning Objectives\n",
    "\n",
    "In this homework, you will:\n",
    "* Work with the Time Use dataset from lecture to investigate properties of sampling means as the sample size changes\n",
    "  \n",
    "* Create and modify for loops and functions to run sampling simulations\n",
    "  \n",
    "* Visualize data using histograms and scatter plots"
   ]
  },
  {
   "cell_type": "markdown",
   "id": "17db2919",
   "metadata": {},
   "source": [
    "## Task 1 - Read in data\n",
    "\n",
    "The Data part of your notebook should read the raw data, extract a `DataFrame` containing the important columns, rename the columns, and filter out missing values.\n",
    "\n",
    "You might find it helpful to name intermediate values in your algorithms. That way you can examine them to make sure they have the type you expect and that they look like what you expect. Very helpful when debugging!\n",
    "\n",
    "## Step 1\n",
    "\n",
    "Create the following pandas `DataFrame`s:\n",
    "\n",
    "+ `time_use_data_raw`: the `DataFrame` created by reading the `gss_tu2016_week7.csv` file. __(1 mark)__\n",
    "\n",
    "\n",
    "+ `time_use_dur`: the `DataFrame` containing the following columns from `time_use_data_raw`: `CASEID`, `dur18`. __(1 mark)__ (We test this after any changes are made to it. We do not check the initial value.)"
   ]
  },
  {
   "cell_type": "code",
   "execution_count": 1,
   "id": "72fc4ee9",
   "metadata": {},
   "outputs": [],
   "source": [
    "import pandas as pd\n",
    "import numpy as np\n",
    "import matplotlib.pyplot as plt"
   ]
  },
  {
   "cell_type": "code",
   "execution_count": 2,
   "id": "05e5d823",
   "metadata": {},
   "outputs": [],
   "source": [
    "# Sample solution, delete to create handout\n",
    "\n",
    "\n",
    "time_use_data_raw = pd.read_csv(\"gss_tu2016_week7.csv\")\n",
    "\n",
    "time_use_dur = time_use_data_raw[[\"CASEID\", \"dur18\"]]"
   ]
  },
  {
   "cell_type": "markdown",
   "id": "98471738",
   "metadata": {},
   "source": [
    "## Step 2\n",
    "\n",
    "`time_use_dur` could use more informative column names. \n",
    "\n",
    "Replace `CASEID` and `dur18` in `time_use_dur` by \n",
    "\n",
    "+ creating a dictionary `new_column_names` that maps the column names from `time_use_dur` to the values `\"participant_id\"` and `\"time_spent_cleaning\"`. __(1 mark)__\n",
    "\n",
    "+ create a new `DataFrame` stored in `time_use_data` that is a copy of `time_use_dur`, but with the columns renamed using `new_column_names`. __(1 mark)__"
   ]
  },
  {
   "cell_type": "code",
   "execution_count": 3,
   "id": "f5eb4a7d",
   "metadata": {},
   "outputs": [
    {
     "data": {
      "text/html": [
       "<div>\n",
       "<style scoped>\n",
       "    .dataframe tbody tr th:only-of-type {\n",
       "        vertical-align: middle;\n",
       "    }\n",
       "\n",
       "    .dataframe tbody tr th {\n",
       "        vertical-align: top;\n",
       "    }\n",
       "\n",
       "    .dataframe thead th {\n",
       "        text-align: right;\n",
       "    }\n",
       "</style>\n",
       "<table border=\"1\" class=\"dataframe\">\n",
       "  <thead>\n",
       "    <tr style=\"text-align: right;\">\n",
       "      <th></th>\n",
       "      <th>participant_id</th>\n",
       "      <th>time_spent_cleaning</th>\n",
       "    </tr>\n",
       "  </thead>\n",
       "  <tbody>\n",
       "    <tr>\n",
       "      <th>0</th>\n",
       "      <td>10000</td>\n",
       "      <td>0</td>\n",
       "    </tr>\n",
       "    <tr>\n",
       "      <th>1</th>\n",
       "      <td>10001</td>\n",
       "      <td>0</td>\n",
       "    </tr>\n",
       "    <tr>\n",
       "      <th>2</th>\n",
       "      <td>10002</td>\n",
       "      <td>120</td>\n",
       "    </tr>\n",
       "    <tr>\n",
       "      <th>3</th>\n",
       "      <td>10003</td>\n",
       "      <td>0</td>\n",
       "    </tr>\n",
       "    <tr>\n",
       "      <th>4</th>\n",
       "      <td>10004</td>\n",
       "      <td>0</td>\n",
       "    </tr>\n",
       "    <tr>\n",
       "      <th>...</th>\n",
       "      <td>...</td>\n",
       "      <td>...</td>\n",
       "    </tr>\n",
       "    <tr>\n",
       "      <th>17385</th>\n",
       "      <td>27385</td>\n",
       "      <td>0</td>\n",
       "    </tr>\n",
       "    <tr>\n",
       "      <th>17386</th>\n",
       "      <td>27386</td>\n",
       "      <td>0</td>\n",
       "    </tr>\n",
       "    <tr>\n",
       "      <th>17387</th>\n",
       "      <td>27387</td>\n",
       "      <td>30</td>\n",
       "    </tr>\n",
       "    <tr>\n",
       "      <th>17388</th>\n",
       "      <td>27388</td>\n",
       "      <td>10</td>\n",
       "    </tr>\n",
       "    <tr>\n",
       "      <th>17389</th>\n",
       "      <td>27389</td>\n",
       "      <td>135</td>\n",
       "    </tr>\n",
       "  </tbody>\n",
       "</table>\n",
       "<p>17390 rows × 2 columns</p>\n",
       "</div>"
      ],
      "text/plain": [
       "       participant_id  time_spent_cleaning\n",
       "0               10000                    0\n",
       "1               10001                    0\n",
       "2               10002                  120\n",
       "3               10003                    0\n",
       "4               10004                    0\n",
       "...               ...                  ...\n",
       "17385           27385                    0\n",
       "17386           27386                    0\n",
       "17387           27387                   30\n",
       "17388           27388                   10\n",
       "17389           27389                  135\n",
       "\n",
       "[17390 rows x 2 columns]"
      ]
     },
     "execution_count": 3,
     "metadata": {},
     "output_type": "execute_result"
    }
   ],
   "source": [
    "# Sample solution, delete to create handout\n",
    "new_column_names = {\n",
    "    \"CASEID\": \"participant_id\",\n",
    "    \"dur18\": \"time_spent_cleaning\",\n",
    "}\n",
    "\n",
    "time_use_data = time_use_dur.copy()\n",
    "\n",
    "time_use_data.rename(columns=new_column_names, inplace=True)\n",
    "\n",
    "time_use_data"
   ]
  },
  {
   "cell_type": "code",
   "execution_count": 4,
   "id": "fcffeb38",
   "metadata": {},
   "outputs": [
    {
     "name": "stdout",
     "output_type": "stream",
     "text": [
      "Column names are correct!\n"
     ]
    }
   ],
   "source": [
    "# Step 2 check that you have the correct column names\n",
    "# leave this for students to check work\n",
    "\n",
    "expected_columnnames = [\"participant_id\", \"time_spent_cleaning\"]\n",
    "\n",
    "try:\n",
    "    assert expected_columnnames == list(time_use_data.columns)\n",
    "    print(\"Column names are correct!\")\n",
    "except:\n",
    "    print(\"Something is wrong, check your column names\")\n"
   ]
  },
  {
   "cell_type": "markdown",
   "id": "4168d767",
   "metadata": {},
   "source": [
    "## Task 2 - Compute and Visualize Distribution\n",
    "\n",
    "### Step 1\n",
    "\n",
    "Compute the distribution of the column `time_spent_cleaning` for respondents that spent at least some time cleaning (i.e., had a non-zero value of `time_spent_cleaning`) in `time_use_data` using the `describe` function.  To do this \n",
    "\n",
    "- Create a pandas `Series` called `clean_nonzero` that only has respondents with non-zero values of `time_spent_cleaning`.  \n",
    "  \n",
    "- Use the `describe` function to describe the distribution of `time_spent_cleaning`, and store the results in a variable called `summary_stats`."
   ]
  },
  {
   "cell_type": "code",
   "execution_count": 5,
   "id": "a8f87ae5",
   "metadata": {},
   "outputs": [
    {
     "data": {
      "text/plain": [
       "count    7154.000000\n",
       "mean       91.095192\n",
       "std        94.963051\n",
       "min         5.000000\n",
       "25%        30.000000\n",
       "50%        60.000000\n",
       "75%       120.000000\n",
       "max       855.000000\n",
       "Name: time_spent_cleaning, dtype: float64"
      ]
     },
     "execution_count": 5,
     "metadata": {},
     "output_type": "execute_result"
    }
   ],
   "source": [
    "clean_nonzero = time_use_data[time_use_data[\"time_spent_cleaning\"] > 0][\"time_spent_cleaning\"]\n",
    "\n",
    "summary_stats = clean_nonzero.describe()\n",
    "\n",
    "summary_stats"
   ]
  },
  {
   "cell_type": "markdown",
   "id": "835b1df3",
   "metadata": {},
   "source": [
    "### Step 2\n",
    "\n",
    "\n",
    "Visualize `clean_nonzero` column by creating a histogram using `maptplotlib` with the following parameters: \n",
    "\n",
    "```\n",
    "bins=time_bins, linewidth = 1.3, edgecolor=\"black\", color=\"white\"\n",
    "\n",
    "```\n",
    "\n",
    "Label the horizontal axis (x-axis) `Time spent cleaning (minutes)`."
   ]
  },
  {
   "cell_type": "code",
   "execution_count": 6,
   "id": "68c59a68",
   "metadata": {},
   "outputs": [
    {
     "data": {
      "image/png": "[encoded data removed]",
      "text/plain": [
       "<Figure size 640x480 with 1 Axes>"
      ]
     },
     "metadata": {},
     "output_type": "display_data"
    }
   ],
   "source": [
    "# Sample solution\n",
    "time_bins = np.arange(start=0, stop=900, step=30)\n",
    "\n",
    "plt.hist(\n",
    "    clean_nonzero, \n",
    "    bins=time_bins, \n",
    "    linewidth = 1.3, \n",
    "    edgecolor=\"black\", \n",
    "    color=\"white\");\n",
    "\n",
    "plt.xlabel(\"Time spent cleaning (minutes)\");\n"
   ]
  },
  {
   "cell_type": "markdown",
   "id": "33b485d9",
   "metadata": {},
   "source": [
    "### Step 3\n",
    "\n",
    "In a markdown cell, describe the distribution of data, pointing out features like mode (where most observations lie), skew (the shape of the distribution symmetric or not), and potential outliers. Do our results make sense given what we know about time spent on daily cleaning?\n",
    "\n",
    "Are there any strange values? Specifically, does it make sense that there are more people that spend less/more than 30 minutes cleaning in a day than those who spend more than 4 hours? Briefly explain.\n",
    "__(2 marks)__\n"
   ]
  },
  {
   "cell_type": "markdown",
   "id": "76082725",
   "metadata": {},
   "source": [
    "> From the histogram, you can tell that the data is **right-skewed** (or a decreasing shape; you don't need to use the exact term), ranges between 0 and just above 800, centred around the lower end (0~200), etc. \n",
    ">\n",
    "> There is a large number of values in the first bar which starts at 0 minute and ends at 30 minutes. It's not surprising that there are more people who spend less than 30 minutes than those who spend more than 4 hours. What's suprising is that there are a few who spend more than 10 hours cleaning indoors. \n",
    ">\n",
    "> Or one may argue that it's surprising to see there are so many people who don't spend much time cleaning their home indoors. Perhaps, they were cleaning while doing other activities and didn't indicate their cleaning activity.\n",
    ">\n",
    "> Any reasonable explanation based on the context would be acceptable.\n",
    ">"
   ]
  },
  {
   "cell_type": "markdown",
   "id": "8e2bc319",
   "metadata": {},
   "source": [
    "## Task 3: Compute the empirical mean\n",
    "\n",
    "The **empirical mean** is the mean of all observed data. In this homework, we distinguish this from the **sample mean** which is the mean of a sample or portion of all data.\n",
    "\n",
    "Compute the empirical mean time spent cleaning by respondents and name it `empirical_mean_time_spent_cleaning`. __(1 mark)__\n"
   ]
  },
  {
   "cell_type": "code",
   "execution_count": 7,
   "id": "91683e09",
   "metadata": {},
   "outputs": [
    {
     "data": {
      "text/plain": [
       "91.09519150125804"
      ]
     },
     "execution_count": 7,
     "metadata": {},
     "output_type": "execute_result"
    }
   ],
   "source": [
    "# Sample solution, delete to create handout\n",
    "empirical_mean_time_spent_cleaning = clean_nonzero.mean()\n",
    "\n",
    "empirical_mean_time_spent_cleaning"
   ]
  },
  {
   "cell_type": "markdown",
   "id": "00ecd5b7",
   "metadata": {},
   "source": [
    "## Task 4: Set up a Simulation Experiment\n",
    "\n",
    "You will investigate the behaviour of sample means for the following sample sizes:\n",
    "\n",
    "5, 10, 20, 50, 100, 200, 500, and 1000.\n",
    "\n",
    "### Step 1 - Specify Sample Sizes\n",
    "\n",
    "Create a `numpy` array named `sample_sizes` with the aforementioned values in the specified order using `np.array()`. __(1 mark)__"
   ]
  },
  {
   "cell_type": "code",
   "execution_count": 8,
   "id": "fc14a3f7",
   "metadata": {
    "scrolled": true
   },
   "outputs": [],
   "source": [
    "# Sample solution\n",
    "sample_sizes = np.array([5, 10, 20, 50, 100, 200, 500, 1000])"
   ]
  },
  {
   "cell_type": "markdown",
   "id": "c0e3c5ba",
   "metadata": {
    "tags": []
   },
   "source": [
    "### Step 2 - Simulating Sample Means\n",
    "\n",
    "In this part, you will complete a function that creates and returns a list of the sample means of the sample draws.\n",
    "\n",
    "Name the function `simulate_sample_means`. \n",
    "\n",
    "The function will have two arguments: \n",
    "+ `data`: a `pandas` `Series` or column of a `DataFrame` that we are sampling\n",
    "+ `N`: an `int`, the size of the sample we draw\n",
    "\n",
    "Your function should make and return a list of 100 sample means of size `N` from `data`. Sample *without* replacement.\n",
    "\n",
    "The function will return a list. The list will be of size 100, with each element in the list representing the sample *mean* from the sample of size N.  \n",
    "*Hint: Initialize an empty list used to store the sample means. Inside your for loop generate a sample from the data, calculate the sample mean, and append it to your list.*"
   ]
  },
  {
   "cell_type": "code",
   "execution_count": 9,
   "id": "7bc0440c",
   "metadata": {},
   "outputs": [],
   "source": [
    "# Sample solution, delete to create handout\n",
    "\n",
    "def simulate_sample_means(data, N):\n",
    "    '''Return a list of 100 sample means from a sample of size N from data.'''\n",
    "    \n",
    "    # This next statement is for reproducability: each random number is generated\n",
    "    # mathematically based on the previous random number, and we can say which\n",
    "    # number to start with when we call sample. This allows us to have reproducability\n",
    "    # with \"random\" numbers and so we can autotest! Yay!\n",
    "    seed = 0\n",
    "\n",
    "    # Here, create any variables that needs to be updated inside the loop.\n",
    "    sample_means = []\n",
    "    \n",
    "    # generate a sample of size N and compute sample mean.\n",
    "    # append the sample mean to the list of sample means.\n",
    "    # repeat 100 times.\n",
    "    \n",
    "    for _ in range(100):\n",
    "        seed += 5 # Don't change this line\n",
    "        \n",
    "        # Here, write code to:\n",
    "        # 1) Take a sample of data, and calculate the sample mean.\n",
    "        #    When you call .sample, make sure you use random_state=seed as one of the\n",
    "        #    arguments.\n",
    "        # 2) Append the sample mean to the list of sample means.\n",
    "        sample_mean = data.sample(N, replace=False, random_state=seed).mean()\n",
    "        \n",
    "        sample_means.append(sample_mean)\n",
    "        \n",
    "    return sample_means\n"
   ]
  },
  {
   "cell_type": "code",
   "execution_count": 10,
   "id": "5cdfffac",
   "metadata": {},
   "outputs": [
    {
     "data": {
      "text/plain": [
       "[102.0,\n",
       " 103.0,\n",
       " 70.0,\n",
       " 53.0,\n",
       " 200.0,\n",
       " 47.0,\n",
       " 140.0,\n",
       " 106.0,\n",
       " 77.0,\n",
       " 46.0,\n",
       " 70.0,\n",
       " 159.0,\n",
       " 84.0,\n",
       " 52.0,\n",
       " 49.0,\n",
       " 93.0,\n",
       " 82.0,\n",
       " 33.0,\n",
       " 68.0,\n",
       " 108.0,\n",
       " 42.0,\n",
       " 63.0,\n",
       " 49.0,\n",
       " 58.0,\n",
       " 126.0,\n",
       " 83.0,\n",
       " 163.0,\n",
       " 41.0,\n",
       " 79.0,\n",
       " 133.0,\n",
       " 70.0,\n",
       " 45.0,\n",
       " 147.0,\n",
       " 90.0,\n",
       " 37.0,\n",
       " 62.0,\n",
       " 67.0,\n",
       " 154.0,\n",
       " 34.0,\n",
       " 90.0,\n",
       " 62.0,\n",
       " 46.0,\n",
       " 94.0,\n",
       " 61.0,\n",
       " 27.0,\n",
       " 71.0,\n",
       " 60.0,\n",
       " 108.0,\n",
       " 68.0,\n",
       " 41.0,\n",
       " 93.0,\n",
       " 34.0,\n",
       " 23.0,\n",
       " 209.0,\n",
       " 65.0,\n",
       " 66.0,\n",
       " 111.0,\n",
       " 65.0,\n",
       " 130.0,\n",
       " 98.0,\n",
       " 68.0,\n",
       " 86.0,\n",
       " 174.0,\n",
       " 139.0,\n",
       " 53.0,\n",
       " 72.0,\n",
       " 53.0,\n",
       " 63.0,\n",
       " 75.0,\n",
       " 89.0,\n",
       " 55.0,\n",
       " 117.0,\n",
       " 73.0,\n",
       " 53.0,\n",
       " 115.0,\n",
       " 204.0,\n",
       " 163.0,\n",
       " 42.0,\n",
       " 57.0,\n",
       " 56.0,\n",
       " 62.0,\n",
       " 46.0,\n",
       " 133.0,\n",
       " 113.0,\n",
       " 92.0,\n",
       " 32.0,\n",
       " 63.0,\n",
       " 60.0,\n",
       " 60.0,\n",
       " 106.0,\n",
       " 200.0,\n",
       " 45.0,\n",
       " 104.0,\n",
       " 100.0,\n",
       " 165.0,\n",
       " 51.0,\n",
       " 45.0,\n",
       " 63.0,\n",
       " 67.8,\n",
       " 124.0]"
      ]
     },
     "execution_count": 10,
     "metadata": {},
     "output_type": "execute_result"
    }
   ],
   "source": [
    "simulate_sample_means(clean_nonzero, 5)"
   ]
  },
  {
   "cell_type": "markdown",
   "id": "9c47009b",
   "metadata": {},
   "source": [
    "## Task 5 - Simulate Sample Means\n",
    "\n",
    "In this part, you will complete a code block that computes and compiles simulated means for each sample size.\n",
    "\n",
    "For each sample size in `sample_sizes`, call function `simulate_sample_means` from the previous step to calculate 100 sample means at that sample size. You're going to build a dictionary where each key is a sample size and each value is the corresponding list of means that `simulate_sample_means` returned."
   ]
  },
  {
   "cell_type": "markdown",
   "id": "079e5de9",
   "metadata": {},
   "source": [
    "### Accumulating information in a dictionary\n",
    "Remember in lecture we used a for loop to add up a series of numbers? And then we used a for loop to accumulate a list of means? As it turns out, you can use the same technique to make a dictionary.\n",
    "\n",
    "Here's how you add a key/value pair to a dictionary (this is also called \"inserting\"):"
   ]
  },
  {
   "cell_type": "code",
   "execution_count": 11,
   "id": "ef639193",
   "metadata": {},
   "outputs": [
    {
     "data": {
      "text/plain": [
       "{'key1': 'value1'}"
      ]
     },
     "execution_count": 11,
     "metadata": {},
     "output_type": "execute_result"
    }
   ],
   "source": [
    "d = {} # this creates an empty dictionary named \"d\"\n",
    "d[\"key1\"] = \"value1\"\n",
    "d"
   ]
  },
  {
   "cell_type": "code",
   "execution_count": 12,
   "id": "020992b2",
   "metadata": {},
   "outputs": [
    {
     "data": {
      "text/plain": [
       "{'key1': 'value1', 'key2': 'value2'}"
      ]
     },
     "execution_count": 12,
     "metadata": {},
     "output_type": "execute_result"
    }
   ],
   "source": [
    "d[\"key2\"] = \"value2\"\n",
    "d"
   ]
  },
  {
   "cell_type": "code",
   "execution_count": 13,
   "id": "747bc447",
   "metadata": {
    "scrolled": false
   },
   "outputs": [
    {
     "data": {
      "text/plain": [
       "{'key1': 'new_value', 'key2': 'value2'}"
      ]
     },
     "execution_count": 13,
     "metadata": {},
     "output_type": "execute_result"
    }
   ],
   "source": [
    "d[\"key1\"] = \"new_value\"\n",
    "d"
   ]
  },
  {
   "cell_type": "markdown",
   "id": "fbc18e86",
   "metadata": {},
   "source": [
    "You can accumulate a new dictionary using a for loop:"
   ]
  },
  {
   "cell_type": "code",
   "execution_count": 14,
   "id": "9961bd4f",
   "metadata": {},
   "outputs": [
    {
     "data": {
      "text/plain": [
       "{'Ibrahim': 'GGR274',\n",
       " 'Adrienne': 'GGR274',\n",
       " 'Asana': 'GGR274',\n",
       " 'Yifeng': 'GGR274',\n",
       " 'Yongxin': 'GGR274'}"
      ]
     },
     "execution_count": 14,
     "metadata": {},
     "output_type": "execute_result"
    }
   ],
   "source": [
    "ta_to_course = {}\n",
    "for name in [\"Ibrahim\", \"Adrienne\", \"Asana\", \"Yifeng\", \"Yongxin\"]:\n",
    "    ta_to_course[name] = 'GGR274'\n",
    "\n",
    "ta_to_course"
   ]
  },
  {
   "cell_type": "code",
   "execution_count": 15,
   "id": "0943eb26",
   "metadata": {},
   "outputs": [
    {
     "data": {
      "text/plain": [
       "{'Ibrahim': 'GGR274',\n",
       " 'Adrienne': 'GGR274',\n",
       " 'Asana': 'GGR274',\n",
       " 'Yifeng': 'GGR274',\n",
       " 'Yongxin': 'GGR274',\n",
       " 'Meng': 'EEB125',\n",
       " 'Alan': 'EEB125'}"
      ]
     },
     "execution_count": 15,
     "metadata": {},
     "output_type": "execute_result"
    }
   ],
   "source": [
    "for name in [\"Meng\", \"Alan\"]:\n",
    "    ta_to_course[name] = 'EEB125'\n",
    "\n",
    "ta_to_course"
   ]
  },
  {
   "cell_type": "code",
   "execution_count": 16,
   "id": "543faa46",
   "metadata": {},
   "outputs": [
    {
     "data": {
      "text/plain": [
       "'EEB125'"
      ]
     },
     "execution_count": 16,
     "metadata": {},
     "output_type": "execute_result"
    }
   ],
   "source": [
    "# use \"key\" to access the associated value\n",
    "ta_to_course[\"Meng\"]"
   ]
  },
  {
   "cell_type": "markdown",
   "id": "018c3ce1",
   "metadata": {},
   "source": [
    "### Step 1 - Create a dictionary of simulated means for each sample size\n",
    "\n",
    "As you loop through each element in `sample_sizes` (you can loop through the `numpy` array as you would a list), you will pass the current sample size to the function `simulate_sample_means` (specifically, the argument `N`). You will be sampling from the cleaned dataset, so make sure to pass the value of `clean_nonzero` to the `data` parameter.\n",
    "\n",
    "The result of calling `simulate_sample_means` is a list of means. Add a new key/value pair to `all_sample_means_by_sample_size`. The key is the current sample size and the value is the list of means.\n",
    "\n",
    "Finally we will be checking this in the autotester:\n",
    "+ `all_sample_means_by_sample_size`: a dictionary mapping the sample sizes to a list of 100 sample means. _Because we'll use the same random seed, we'll get the same \"random\" sequence. That means that we can autotest it._ __(2 marks)__"
   ]
  },
  {
   "cell_type": "code",
   "execution_count": 17,
   "id": "878c48eb",
   "metadata": {},
   "outputs": [],
   "source": [
    "# Sample solution\n",
    "\n",
    "all_sample_means_by_sample_size = {}\n",
    "\n",
    "for sample_size in sample_sizes:\n",
    "        \n",
    "    mean_at_sample_mean = simulate_sample_means(\n",
    "        data=clean_nonzero, \n",
    "        N=sample_size)\n",
    "        \n",
    "    all_sample_means_by_sample_size[sample_size] = mean_at_sample_mean"
   ]
  },
  {
   "cell_type": "markdown",
   "id": "aadedf9c",
   "metadata": {},
   "source": [
    "## Step 2 - Answer this question\n",
    "\n",
    "Briefly explain what the keys and values represent in the dictionary `all_sample_means_by_sample_size`.  \n",
    "+  You can inspect the keys by using the `keys` method `all_sample_means_by_sample_size.keys()`.\n",
    "+  You can inspect the values by using the `values` method `all_sample_means_by_sample_size.values()`."
   ]
  },
  {
   "cell_type": "code",
   "execution_count": 18,
   "id": "51b20507",
   "metadata": {},
   "outputs": [
    {
     "name": "stdout",
     "output_type": "stream",
     "text": [
      "dict_keys([5, 10, 20, 50, 100, 200, 500, 1000])\n",
      "dict_values([[102.0, 103.0, 70.0, 53.0, 200.0, 47.0, 140.0, 106.0, 77.0, 46.0, 70.0, 159.0, 84.0, 52.0, 49.0, 93.0, 82.0, 33.0, 68.0, 108.0, 42.0, 63.0, 49.0, 58.0, 126.0, 83.0, 163.0, 41.0, 79.0, 133.0, 70.0, 45.0, 147.0, 90.0, 37.0, 62.0, 67.0, 154.0, 34.0, 90.0, 62.0, 46.0, 94.0, 61.0, 27.0, 71.0, 60.0, 108.0, 68.0, 41.0, 93.0, 34.0, 23.0, 209.0, 65.0, 66.0, 111.0, 65.0, 130.0, 98.0, 68.0, 86.0, 174.0, 139.0, 53.0, 72.0, 53.0, 63.0, 75.0, 89.0, 55.0, 117.0, 73.0, 53.0, 115.0, 204.0, 163.0, 42.0, 57.0, 56.0, 62.0, 46.0, 133.0, 113.0, 92.0, 32.0, 63.0, 60.0, 60.0, 106.0, 200.0, 45.0, 104.0, 100.0, 165.0, 51.0, 45.0, 63.0, 67.8, 124.0], [123.5, 99.0, 74.5, 65.5, 130.0, 72.0, 112.0, 84.0, 88.5, 70.5, 62.0, 128.5, 100.5, 96.5, 92.0, 73.0, 90.5, 47.0, 106.0, 82.5, 41.0, 83.5, 69.5, 55.5, 102.0, 140.0, 162.0, 68.0, 72.0, 130.0, 63.5, 83.5, 113.0, 113.0, 62.0, 101.0, 68.0, 126.0, 109.0, 69.0, 107.0, 86.0, 87.5, 89.5, 69.0, 69.0, 57.0, 93.0, 56.0, 52.0, 72.5, 55.5, 52.0, 168.5, 70.5, 105.5, 95.5, 53.5, 123.0, 75.0, 106.0, 64.0, 110.5, 96.5, 49.5, 113.5, 107.5, 62.0, 78.0, 153.0, 95.5, 80.5, 74.5, 58.0, 125.0, 146.0, 104.5, 79.5, 70.5, 40.0, 96.5, 63.5, 109.0, 157.5, 100.0, 57.5, 62.5, 89.5, 76.0, 93.5, 138.0, 68.0, 70.5, 94.0, 115.5, 47.5, 69.5, 70.5, 87.4, 70.5], [106.75, 84.75, 86.25, 80.0, 97.0, 95.75, 124.5, 96.75, 74.0, 49.5, 65.25, 119.5, 78.75, 88.0, 75.25, 81.0, 76.25, 60.5, 112.25, 95.0, 54.5, 74.75, 116.75, 94.25, 74.0, 111.0, 125.0, 92.25, 55.0, 117.25, 71.0, 86.5, 111.05, 109.5, 84.25, 89.5, 78.75, 125.0, 147.5, 95.75, 109.25, 86.25, 67.0, 65.25, 73.25, 89.75, 95.5, 90.5, 80.5, 69.0, 89.25, 74.0, 87.25, 118.5, 94.5, 87.75, 80.5, 86.25, 117.5, 58.75, 87.25, 55.25, 94.5, 96.25, 106.75, 107.25, 78.75, 102.0, 119.0, 107.5, 122.0, 104.75, 129.0, 57.25, 88.25, 132.25, 81.25, 85.0, 64.75, 58.25, 104.75, 90.0, 112.0, 155.0, 94.75, 103.75, 93.5, 99.5, 89.5, 92.75, 147.0, 72.0, 73.0, 115.75, 97.5, 73.75, 92.75, 77.5, 114.95, 79.5], [100.5, 76.0, 114.7, 94.0, 87.8, 90.6, 110.8, 83.5, 88.7, 74.8, 107.8, 97.9, 98.4, 110.2, 81.1, 93.5, 71.1, 60.2, 103.8, 139.5, 77.0, 84.22, 108.8, 95.5, 70.4, 127.5, 96.5, 97.6, 72.8, 103.9, 81.3, 74.0, 88.42, 98.9, 80.3, 112.4, 110.2, 112.7, 132.8, 95.5, 96.4, 90.7, 84.0, 68.3, 74.1, 83.3, 108.4, 92.52, 80.7, 82.4, 92.7, 99.2, 83.8, 91.8, 78.7, 95.5, 74.4, 82.6, 92.6, 70.2, 78.1, 68.6, 103.4, 101.4, 92.3, 90.9, 91.8, 94.8, 94.9, 98.1, 118.3, 96.4, 107.1, 71.0, 99.2, 101.9, 91.3, 89.2, 83.6, 72.9, 87.5, 95.1, 100.6, 118.3, 85.1, 90.5, 94.7, 101.7, 83.4, 99.8, 112.4, 74.2, 81.4, 102.4, 83.4, 71.6, 109.8, 79.4, 119.88, 80.2], [91.5, 68.0, 105.4, 93.5, 99.5, 89.25, 99.55, 77.45, 87.35, 81.05, 93.25, 88.55, 89.5, 94.3, 83.6, 85.75, 78.95, 82.55, 106.4, 110.4, 73.7, 86.36, 89.3, 91.25, 90.5, 105.15, 101.45, 98.9, 81.8, 110.65, 85.65, 90.35, 86.86, 96.1, 76.95, 96.45, 92.8, 100.15, 114.7, 107.45, 83.4, 104.45, 85.85, 71.85, 75.05, 88.25, 97.6, 95.56, 79.65, 87.9, 102.65, 85.25, 89.9, 98.9, 86.61, 88.25, 79.7, 81.7, 86.1, 87.45, 73.6, 83.85, 97.2, 93.95, 87.6, 96.1, 94.35, 87.4, 97.4, 98.75, 107.1, 97.4, 100.05, 90.8, 97.3, 111.45, 90.55, 83.15, 95.0, 76.25, 74.95, 95.2, 94.1, 99.35, 83.0, 97.95, 88.85, 92.9, 91.5, 100.7, 99.45, 91.15, 85.8, 90.45, 99.5, 82.1, 103.45, 88.15, 101.14, 92.8], [89.25, 86.075, 93.025, 89.675, 89.125, 84.8, 94.6, 81.575, 92.2, 89.55, 91.475, 91.645, 82.55, 87.85, 88.2, 83.175, 92.85, 83.025, 96.225, 99.5, 79.325, 93.405, 87.05, 86.675, 89.375, 102.575, 96.6, 95.65, 80.75, 96.975, 92.3, 88.275, 85.43, 103.075, 84.525, 93.7, 95.425, 91.9, 107.05, 109.75, 89.5, 103.605, 92.025, 80.3, 84.5, 92.2, 95.55, 101.755, 92.85, 91.125, 101.275, 88.225, 92.675, 96.5, 82.18, 89.8, 77.1, 88.0, 88.525, 87.675, 87.35, 81.775, 93.85, 100.375, 92.975, 86.25, 93.825, 92.775, 106.075, 91.95, 102.125, 102.48, 102.2, 88.425, 93.225, 97.45, 93.025, 91.05, 92.6, 76.15, 82.225, 95.55, 87.15, 93.725, 87.95, 88.6, 87.75, 93.025, 91.45, 97.05, 92.8, 92.025, 80.35, 91.15, 91.7, 85.395, 93.6, 93.425, 85.645, 89.975], [86.88, 92.79, 92.27, 86.602, 94.46, 83.59, 92.448, 87.03, 95.9, 90.64, 88.452, 93.238, 86.26, 92.238, 87.18, 87.46, 91.158, 90.58, 101.17, 97.11, 87.77, 93.262, 86.61, 88.78, 89.218, 100.34, 93.31, 92.87, 81.5, 88.47, 92.01, 87.37, 91.55, 97.82, 89.76, 95.41, 92.67, 94.54, 94.11, 94.35, 90.98, 93.372, 86.552, 81.44, 89.34, 95.93, 91.37, 98.242, 88.7, 93.69, 91.17, 90.9, 95.422, 89.12, 85.582, 89.47, 84.21, 91.51, 92.19, 91.18, 90.11, 89.032, 92.09, 101.65, 93.29, 87.74, 92.56, 92.45, 101.02, 87.78, 95.92, 100.672, 97.22, 88.738, 98.05, 90.92, 96.79, 90.93, 93.082, 83.79, 86.75, 92.37, 81.95, 88.56, 87.63, 93.18, 82.22, 94.21, 89.18, 92.928, 90.92, 90.348, 88.26, 91.14, 87.38, 85.828, 92.3, 92.11, 91.12, 88.41], [93.335, 94.24, 92.92, 91.286, 94.991, 86.45, 90.37, 91.715, 92.1, 91.18, 87.531, 93.721, 89.125, 93.219, 88.89, 89.244, 92.129, 90.03, 99.355, 93.94, 89.585, 88.137, 88.919, 91.124, 93.135, 95.69, 95.874, 87.955, 88.104, 90.95, 92.646, 90.005, 90.35, 97.205, 91.32, 94.265, 90.84, 93.3, 91.444, 89.671, 88.665, 93.276, 85.049, 84.0, 88.304, 92.945, 89.134, 91.511, 89.12, 92.194, 89.95, 90.366, 91.27, 90.998, 93.346, 86.774, 84.915, 89.191, 88.73, 88.145, 89.61, 92.471, 90.935, 96.975, 93.631, 90.001, 91.93, 91.345, 95.95, 88.86, 93.88, 93.71, 93.749, 91.815, 92.286, 92.351, 89.15, 90.515, 94.131, 86.151, 89.64, 91.28, 89.535, 89.852, 90.251, 89.555, 84.271, 90.715, 89.91, 87.494, 95.255, 92.114, 87.636, 88.945, 90.58, 86.47, 91.866, 89.089, 92.355, 90.025]])\n"
     ]
    }
   ],
   "source": [
    "print(all_sample_means_by_sample_size.keys())\n",
    "print(all_sample_means_by_sample_size.values())"
   ]
  },
  {
   "cell_type": "markdown",
   "id": "409ccb10",
   "metadata": {},
   "source": [
    "> The `keys` in the dictionary represent the sample size used to simulate the `values`. Note that the `keys` have 8 numbers and `values` have 8 list of 100 simulated values using the sample sizes in the corresponding `keys`.)"
   ]
  },
  {
   "cell_type": "markdown",
   "id": "c30e4074",
   "metadata": {},
   "source": [
    "## Task 6 - Plot the results\n",
    "\n",
    "### Step 1: Create Data for Plotting\n",
    "\n",
    "In this section you will calculate the mean of simulation. \n",
    "\n",
    "Create the following variables:\n",
    "\n",
    "+ `sample_means_by_sample_size`: a `DataFrame` created from the dictionary `all_sample_means_by_sample_size`. __(1 mark)__\n",
    "\n",
    "+ `mean_of_sample_means_by_sample_size`: compute the column means of `sample_means_by_sample_size`, that is the mean sample means at each sample size. __(1 mark)__ \n",
    "\n",
    "+ `diff_sample_mean_empirical_means_by_sample_size`: the difference between mean of sample means and the empirical mean at each sample size. __(1 mark)__"
   ]
  },
  {
   "cell_type": "code",
   "execution_count": 19,
   "id": "cc95a471",
   "metadata": {},
   "outputs": [],
   "source": [
    "sample_means_by_sample_size = pd.DataFrame(all_sample_means_by_sample_size)\n",
    "\n",
    "mean_of_sample_means_by_sample_size = sample_means_by_sample_size.mean()\n",
    "\n",
    "diff_sample_mean_empirical_means_by_sample_size = (\n",
    "    mean_of_sample_means_by_sample_size - empirical_mean_time_spent_cleaning)\n"
   ]
  },
  {
   "cell_type": "markdown",
   "id": "575e9eb3",
   "metadata": {},
   "source": [
    "### Step 2: Plot the data\n",
    "\n",
    "In this section you will plot the results.\n",
    "\n",
    "Create a scatter plot using `matplotlib` with \n",
    "\n",
    "- `diff_sample_mean_empirical_means_by_sample_size.index` on the horizontal axis (x-axis) and \n",
    "  \n",
    "- `diff_sample_mean_empirical_means_by_sample_size` on the vertical axis (y-axis)\n",
    "\n",
    "by completing the code below. You may find the [reference page](https://matplotlib.org/stable/api/_as_gen/matplotlib.pyplot.scatter.html) of `matplotlib.pyplot.scatter()` helpful.\n",
    "\n",
    "\n",
    "Label the horizontal axis with the text `Sample size` and the vertical axis with the text `Difference between sample mean and population mean`."
   ]
  },
  {
   "cell_type": "code",
   "execution_count": 20,
   "id": "9f735d69",
   "metadata": {},
   "outputs": [
    {
     "data": {
      "image/png": "[encoded data removed]",
      "text/plain": [
       "<Figure size 640x480 with 1 Axes>"
      ]
     },
     "metadata": {},
     "output_type": "display_data"
    }
   ],
   "source": [
    "plt.axhline(y=0, linestyle=\":\", color=\"coral\")\n",
    "plt.scatter(\n",
    "    diff_sample_mean_empirical_means_by_sample_size.index, \n",
    "    diff_sample_mean_empirical_means_by_sample_size);\n",
    "\n",
    "plt.xlabel('Sample size');\n",
    "\n",
    "plt.ylabel('Difference between sample mean and population mean');"
   ]
  },
  {
   "cell_type": "markdown",
   "id": "9f463b1f",
   "metadata": {},
   "source": [
    "## Task 7 - Answer the following Questions\n",
    "\n",
    "Include cells with your answers to each of these questions:\n",
    " \n",
    "1. What is the empirical mean time spent cleaning by respondents per day (in minutes). Does this value make sense? Why or why not? Answer in one line. __(1 mark)__"
   ]
  },
  {
   "cell_type": "markdown",
   "id": "a10fc819",
   "metadata": {},
   "source": [
    "> The empirical mean time spent cleaning is stored in `empirical_mean_time_spent_cleaning`. It is approximately 91 minutes. It seems reasonable that people spend about an hour and a half cleaning per day on average. \n",
    ">\n",
    "> (Any reasonable argument based on the context and the correct value is acceptable.)"
   ]
  },
  {
   "cell_type": "markdown",
   "id": "c96ef074",
   "metadata": {},
   "source": [
    "2. Based on your final scatter plot, what trend or pattern do you notice between sample size and difference between the mean of sample means and empirical mean? Does the difference decrease or increase with sample size? Explain why this trend is seen, drawing on your understanding of randomness of sampling. __(2 marks)__"
   ]
  },
  {
   "cell_type": "markdown",
   "id": "437d24ca",
   "metadata": {},
   "source": [
    "> As the sample size increases, the difference becomes closer to 0. This is due to the law of averages (or explain that with a larger sample size, a random sample is more likely to represent the population closesly.)"
   ]
  },
  {
   "cell_type": "markdown",
   "id": "85860957",
   "metadata": {},
   "source": [
    "\n",
    "\n",
    "3. If you were to do further analysis to study how the time spent cleaning is different for various subpopulations, which additional sociodemographic variables might you consider? Why? Write 3-5 sentences identifying 1-2 variables (e.g. age - don't pick this!) of interest and what differences in cleaning time you might expect to find."
   ]
  },
  {
   "cell_type": "markdown",
   "id": "b53c9515",
   "metadata": {},
   "source": [
    "> (Any sociodemographic variable is acceptable with a reasonable expected difference identified.)"
   ]
  }
 ],
 "metadata": {
  "kernelspec": {
   "display_name": "ggr274",
   "language": "python",
   "name": "python3"
  },
  "language_info": {
   "codemirror_mode": {
    "name": "ipython",
    "version": 3
   },
   "file_extension": ".py",
   "mimetype": "text/x-python",
   "name": "python",
   "nbconvert_exporter": "python",
   "pygments_lexer": "ipython3",
   "version": "3.10.13"
  },
  "markus": {
   "assessment_id": 138,
   "course_id": 9,
   "url": "https://markus-ds.teach.cs.toronto.edu"
  }
 },
 "nbformat": 4,
 "nbformat_minor": 5
}
