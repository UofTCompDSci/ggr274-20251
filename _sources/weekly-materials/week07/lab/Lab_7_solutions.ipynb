{
 "cells": [
  {
   "cell_type": "markdown",
   "id": "1f64c28c",
   "metadata": {},
   "source": [
    "# GGR274 Lab 7: Functions "
   ]
  },
  {
   "cell_type": "markdown",
   "id": "f50ccfbf",
   "metadata": {},
   "source": [
    "## Logistics\n",
    "\n",
    "Like previous weeks, our lab grade will be based on attendance and submission of a few small tasks to MarkUs during the lab session (or by 23:59 on Thursday).\n",
    "\n",
    "Complete the tasks in this Jupyter notebook and submit your completed file to [MarkUs](https://markus.teach.cs.toronto.edu/markus/main/login_remote_auth).\n",
    "Here are the instructions for submitting to MarkUs (same as last week):\n",
    "\n",
    "1. Download this file (`Lab_7.ipynb`) from JupyterHub. (See [our JupyterHub Guide](../../../guides/jupyterhub_guide.ipynb) for detailed instructions.)\n",
    "2. Submit this file to MarkUs under the **lab7** assignment. (See [our MarkUs Guide](../../../guides/markus_guide.ipynb) for detailed instructions.)"
   ]
  },
  {
   "cell_type": "markdown",
   "id": "0a166459",
   "metadata": {},
   "source": [
    "### MarkUs JupyterHub Extension (optional)\n",
    "\n",
    "If you haven't already, try to submit files to MarkUs directly from JupyterHub (without needing to download them). This is **optional** so you can still submit your work the usual way, but if you have some time, please try it out by following the instructions on the [MarkUs Guide](../../../guides/markus_guide.ipynb)."
   ]
  },
  {
   "cell_type": "markdown",
   "id": "102ad291",
   "metadata": {},
   "source": [
    "## Lab Instructions and Learning Objectives\n",
    "- Learn how to use Python dictionaries to store data.\n",
    "- Learn how to use Python to create simulated means."
   ]
  },
  {
   "cell_type": "markdown",
   "id": "6bc34421",
   "metadata": {},
   "source": [
    "### Accumulating information in a dictionary\n",
    "Remember in lecture we used a for loop to add up a series of numbers? And then we used a for loop to accumulate a list of means? As it turns out, you can use the same technique to make a dictionary.\n",
    "\n",
    "Here's how you add a key/value pair to a dictionary (this is also called \"inserting\"):"
   ]
  },
  {
   "cell_type": "code",
   "execution_count": 25,
   "id": "3d8f3c34",
   "metadata": {},
   "outputs": [
    {
     "data": {
      "text/plain": [
       "{'key1': 'value1'}"
      ]
     },
     "execution_count": 25,
     "metadata": {},
     "output_type": "execute_result"
    }
   ],
   "source": [
    "d = {} # this creates an empty dictionary named \"d\"\n",
    "d[\"key1\"] = \"value1\"\n",
    "d"
   ]
  },
  {
   "cell_type": "code",
   "execution_count": 26,
   "id": "faf1d180",
   "metadata": {},
   "outputs": [
    {
     "data": {
      "text/plain": [
       "{'key1': 'value1', 'key2': 'value2'}"
      ]
     },
     "execution_count": 26,
     "metadata": {},
     "output_type": "execute_result"
    }
   ],
   "source": [
    "d[\"key2\"] = \"value2\"\n",
    "d"
   ]
  },
  {
   "cell_type": "code",
   "execution_count": 27,
   "id": "bb5928bf",
   "metadata": {},
   "outputs": [
    {
     "data": {
      "text/plain": [
       "{'key1': 'new_value', 'key2': 'value2'}"
      ]
     },
     "execution_count": 27,
     "metadata": {},
     "output_type": "execute_result"
    }
   ],
   "source": [
    "d[\"key1\"] = \"new_value\"\n",
    "d"
   ]
  },
  {
   "cell_type": "markdown",
   "id": "282c1b5b",
   "metadata": {},
   "source": [
    "You can accumulate a new dictionary using a for loop:"
   ]
  },
  {
   "cell_type": "code",
   "execution_count": 28,
   "id": "792721f5",
   "metadata": {},
   "outputs": [
    {
     "data": {
      "text/plain": [
       "{'Ibrahim': 'GGR274',\n",
       " 'Adrienne': 'GGR274',\n",
       " 'Asana': 'GGR274',\n",
       " 'Yifeng': 'GGR274',\n",
       " 'Yongxin': 'GGR274'}"
      ]
     },
     "execution_count": 28,
     "metadata": {},
     "output_type": "execute_result"
    }
   ],
   "source": [
    "ta_to_course = {}\n",
    "for name in [\"Ibrahim\", \"Adrienne\", \"Asana\", \"Yifeng\", \"Yongxin\"]:\n",
    "    ta_to_course[name] = \"GGR274\"\n",
    "\n",
    "ta_to_course"
   ]
  },
  {
   "cell_type": "code",
   "execution_count": 29,
   "id": "68043427",
   "metadata": {},
   "outputs": [
    {
     "data": {
      "text/plain": [
       "{'Ibrahim': 'GGR274',\n",
       " 'Adrienne': 'GGR274',\n",
       " 'Asana': 'GGR274',\n",
       " 'Yifeng': 'GGR274',\n",
       " 'Yongxin': 'GGR274',\n",
       " 'Meng': 'EEB125',\n",
       " 'Alan': 'EEB125'}"
      ]
     },
     "execution_count": 29,
     "metadata": {},
     "output_type": "execute_result"
    }
   ],
   "source": [
    "for name in [\"Meng\", \"Alan\"]:\n",
    "    ta_to_course[name] = \"EEB125\"\n",
    "\n",
    "ta_to_course"
   ]
  },
  {
   "cell_type": "code",
   "execution_count": 30,
   "id": "d7168d5c",
   "metadata": {},
   "outputs": [
    {
     "data": {
      "text/plain": [
       "'EEB125'"
      ]
     },
     "execution_count": 30,
     "metadata": {},
     "output_type": "execute_result"
    }
   ],
   "source": [
    "# use \"key\" to access the associated value\n",
    "ta_to_course[\"Meng\"]"
   ]
  },
  {
   "cell_type": "code",
   "execution_count": 31,
   "id": "e3a3f075",
   "metadata": {},
   "outputs": [
    {
     "data": {
      "text/plain": [
       "(368, 2)"
      ]
     },
     "execution_count": 31,
     "metadata": {},
     "output_type": "execute_result"
    }
   ],
   "source": [
    "import pandas as pd\n",
    "\n",
    "time_use_data_raw = pd.read_csv(\"gss_tu2016_week7.csv\")\n",
    "\n",
    "time_use_dur = time_use_data_raw.loc[\n",
    "    time_use_data_raw[\"dur44\"] > 0, [\"CASEID\", \"dur44\"]]\n",
    "\n",
    "time_use_dur.shape"
   ]
  },
  {
   "cell_type": "markdown",
   "id": "b95f1229",
   "metadata": {},
   "source": [
    "## Task 1\n",
    "\n",
    "Take 5 random samples from the column `dur44` with replacement, and calculate the mean of each random sample.  Set the parameter `n` in `.sample` to the first element of `sample_size`  and store the means in a list called `simulated_means_10`.  \n",
    "\n",
    "### Steps to create simulated means:\n",
    "\n",
    "0. Create a list called `sample_size` with the values 10, 20.\n",
    "1. Create an empty list called `simulated_means_10`\n",
    "2. Create a `for` loop \n",
    "3. within the `for` loop take a random sample with replacement from the `dur44` column of `time_use_dur` of size `n=sample_size[0]` with `replace = True` and calculate the mean of this sample.  Store this value in `rsample`\n",
    "4. append `rsample` to `simulated_means_10`.\n"
   ]
  },
  {
   "cell_type": "code",
   "execution_count": 32,
   "id": "d140d0bc",
   "metadata": {},
   "outputs": [
    {
     "data": {
      "text/plain": [
       "[101.5, 165.8, 98.0, 126.9, 154.5]"
      ]
     },
     "execution_count": 32,
     "metadata": {},
     "output_type": "execute_result"
    }
   ],
   "source": [
    "sample_size = [10, 20]\n",
    "\n",
    "simulated_means_10 = []\n",
    "\n",
    "for _ in range(5):\n",
    "    rsample = time_use_dur['dur44'].sample(\n",
    "        n=sample_size[0], replace=True).mean()\n",
    "    simulated_means_10.append(rsample)\n",
    "\n",
    "simulated_means_10"
   ]
  },
  {
   "cell_type": "markdown",
   "id": "5e18baaa",
   "metadata": {},
   "source": [
    "## Task 2\n",
    "\n",
    "Create an empty dictionary called `sim_dict`.  Add the key `sample_size[0]` with values `simulated_means_10`."
   ]
  },
  {
   "cell_type": "code",
   "execution_count": 33,
   "id": "4abde130",
   "metadata": {},
   "outputs": [],
   "source": [
    "sim_dict = {}\n",
    "\n",
    "sim_dict[sample_size[0]] = simulated_means_10"
   ]
  },
  {
   "cell_type": "markdown",
   "id": "2da9b655",
   "metadata": {},
   "source": [
    "## Task 3\n",
    "\n",
    "Repeat the steps in Task 1 to create simulated means for `sample_size[1]` and store the results in `simulated_means_20`."
   ]
  },
  {
   "cell_type": "code",
   "execution_count": 34,
   "id": "60c72519",
   "metadata": {},
   "outputs": [
    {
     "data": {
      "text/plain": [
       "[142.5, 180.25, 165.5, 191.5, 215.75]"
      ]
     },
     "execution_count": 34,
     "metadata": {},
     "output_type": "execute_result"
    }
   ],
   "source": [
    "simulated_means_20 = []\n",
    "\n",
    "for _ in range(5):\n",
    "    rsample = time_use_dur[\"dur44\"].sample(\n",
    "        n =sample_size[1], replace = True).mean()\n",
    "    simulated_means_20.append(rsample)\n",
    "\n",
    "simulated_means_20"
   ]
  },
  {
   "cell_type": "markdown",
   "id": "2171ebc8",
   "metadata": {},
   "source": [
    "## Task 4\n",
    "\n",
    "Add `sample_size[1]` as a key with values `simulated_means_20` to `sim_dict`."
   ]
  },
  {
   "cell_type": "code",
   "execution_count": 35,
   "id": "5c14e784",
   "metadata": {},
   "outputs": [],
   "source": [
    "sim_dict[sample_size[1]] =  simulated_means_20"
   ]
  },
  {
   "cell_type": "markdown",
   "id": "a56a002b",
   "metadata": {},
   "source": [
    "## Task 5\n",
    "\n",
    "Store the data in `sim_dict` in a `pandas` `DataFrame` called `sim_df`."
   ]
  },
  {
   "cell_type": "code",
   "execution_count": 36,
   "id": "dc237e42",
   "metadata": {},
   "outputs": [
    {
     "data": {
      "text/html": [
       "<div>\n",
       "<style scoped>\n",
       "    .dataframe tbody tr th:only-of-type {\n",
       "        vertical-align: middle;\n",
       "    }\n",
       "\n",
       "    .dataframe tbody tr th {\n",
       "        vertical-align: top;\n",
       "    }\n",
       "\n",
       "    .dataframe thead th {\n",
       "        text-align: right;\n",
       "    }\n",
       "</style>\n",
       "<table border=\"1\" class=\"dataframe\">\n",
       "  <thead>\n",
       "    <tr style=\"text-align: right;\">\n",
       "      <th></th>\n",
       "      <th>10</th>\n",
       "      <th>20</th>\n",
       "    </tr>\n",
       "  </thead>\n",
       "  <tbody>\n",
       "    <tr>\n",
       "      <th>0</th>\n",
       "      <td>101.5</td>\n",
       "      <td>142.50</td>\n",
       "    </tr>\n",
       "    <tr>\n",
       "      <th>1</th>\n",
       "      <td>165.8</td>\n",
       "      <td>180.25</td>\n",
       "    </tr>\n",
       "    <tr>\n",
       "      <th>2</th>\n",
       "      <td>98.0</td>\n",
       "      <td>165.50</td>\n",
       "    </tr>\n",
       "    <tr>\n",
       "      <th>3</th>\n",
       "      <td>126.9</td>\n",
       "      <td>191.50</td>\n",
       "    </tr>\n",
       "    <tr>\n",
       "      <th>4</th>\n",
       "      <td>154.5</td>\n",
       "      <td>215.75</td>\n",
       "    </tr>\n",
       "  </tbody>\n",
       "</table>\n",
       "</div>"
      ],
      "text/plain": [
       "      10      20\n",
       "0  101.5  142.50\n",
       "1  165.8  180.25\n",
       "2   98.0  165.50\n",
       "3  126.9  191.50\n",
       "4  154.5  215.75"
      ]
     },
     "execution_count": 36,
     "metadata": {},
     "output_type": "execute_result"
    }
   ],
   "source": [
    "sim_df = pd.DataFrame(sim_dict)\n",
    "\n",
    "sim_df"
   ]
  }
 ],
 "metadata": {
  "kernelspec": {
   "display_name": "ggr274",
   "language": "python",
   "name": "python3"
  },
  "language_info": {
   "codemirror_mode": {
    "name": "ipython",
    "version": 3
   },
   "file_extension": ".py",
   "mimetype": "text/x-python",
   "name": "python",
   "nbconvert_exporter": "python",
   "pygments_lexer": "ipython3",
   "version": "3.10.13"
  },
  "markus": {
   "assessment_id": 150,
   "course_id": 9,
   "url": "https://markus-ds.teach.cs.toronto.edu"
  }
 },
 "nbformat": 4,
 "nbformat_minor": 5
}
