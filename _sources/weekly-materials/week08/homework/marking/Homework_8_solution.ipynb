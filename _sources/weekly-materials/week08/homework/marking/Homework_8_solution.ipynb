{
 "cells": [
  {
   "cell_type": "markdown",
   "id": "bd13e811",
   "metadata": {},
   "source": [
    "# GG274 Homework 8: Hypothesis Testing"
   ]
  },
  {
   "cell_type": "markdown",
   "id": "11051ec0",
   "metadata": {},
   "source": [
    "## Introduction\n",
    "\n",
    "Residential instability is one component of the [Ontario Marginalization Index](https://www.publichealthontario.ca/-/media/Documents/O/2017/on-marg-technical.pdf?la=en≻lang=en&hash=EED54DF437EDEDA2DFE1A00A4B14A50A) that includes indicators of types and density of residential accommodations, and certain family structure characteristics, such as living alone and dwelling owndership. ([see OCHPP](https://www.ontariohealthprofiles.ca/canmargCAN.php))\n",
    "\n",
    "In this homework you will explore the following question:\n",
    "\n",
    "> **Are mental health visits different in Toronto neighbourhoods with higher \"residential instability\"?**"
   ]
  },
  {
   "cell_type": "code",
   "execution_count": 3,
   "id": "498ebc38",
   "metadata": {},
   "outputs": [],
   "source": [
    "import numpy as np\n",
    "import pandas as pd"
   ]
  },
  {
   "cell_type": "markdown",
   "id": "dd16cb9a",
   "metadata": {},
   "source": [
    "## Step 1 - Read the Neighbourhood Instability data into a `pandas` `DataFrame`\n",
    "\n",
    "a)  The data is stored in `1_marg_neighb_toronto_2006_OnMarg.xls` - a Microsoft Excel file format with file extension `.xls`.\n",
    "\n",
    "Use the `pandas` function `read_excel` to read the sheet `Neighbourhood_Toronto_OnMarg` into a `pandas` `DataFrame` named `marg_neighbourhoods`. \n"
   ]
  },
  {
   "cell_type": "code",
   "execution_count": 4,
   "id": "0e70a55c",
   "metadata": {},
   "outputs": [
    {
     "data": {
      "text/html": [
       "<div>\n",
       "<style scoped>\n",
       "    .dataframe tbody tr th:only-of-type {\n",
       "        vertical-align: middle;\n",
       "    }\n",
       "\n",
       "    .dataframe tbody tr th {\n",
       "        vertical-align: top;\n",
       "    }\n",
       "\n",
       "    .dataframe thead th {\n",
       "        text-align: right;\n",
       "    }\n",
       "</style>\n",
       "<table border=\"1\" class=\"dataframe\">\n",
       "  <thead>\n",
       "    <tr style=\"text-align: right;\">\n",
       "      <th></th>\n",
       "      <th>Neighb id</th>\n",
       "      <th>Neighbourhood name</th>\n",
       "      <th>POPULATION</th>\n",
       "      <th>INSTABILITY</th>\n",
       "      <th>INSTABILITY_Q</th>\n",
       "      <th>DEPRIVATION</th>\n",
       "      <th>DEPRIVATION_Q</th>\n",
       "      <th>ETHNICCONCENTRATION</th>\n",
       "      <th>ETHNICCONCENTRATION_Q</th>\n",
       "      <th>DEPENDENCY</th>\n",
       "      <th>DEPENDENCY_Q</th>\n",
       "      <th>ONMARG_COMBINED_Q</th>\n",
       "    </tr>\n",
       "  </thead>\n",
       "  <tbody>\n",
       "    <tr>\n",
       "      <th>0</th>\n",
       "      <td>1</td>\n",
       "      <td>West Humber-Clairville</td>\n",
       "      <td>32252</td>\n",
       "      <td>-0.6639</td>\n",
       "      <td>1</td>\n",
       "      <td>0.1620</td>\n",
       "      <td>3</td>\n",
       "      <td>2.4548</td>\n",
       "      <td>5</td>\n",
       "      <td>-0.2021</td>\n",
       "      <td>3</td>\n",
       "      <td>2.4</td>\n",
       "    </tr>\n",
       "    <tr>\n",
       "      <th>1</th>\n",
       "      <td>2</td>\n",
       "      <td>Mount Olive-Silverstone-Jamestown</td>\n",
       "      <td>32127</td>\n",
       "      <td>-0.1081</td>\n",
       "      <td>1</td>\n",
       "      <td>1.0195</td>\n",
       "      <td>5</td>\n",
       "      <td>3.7433</td>\n",
       "      <td>5</td>\n",
       "      <td>-0.5975</td>\n",
       "      <td>1</td>\n",
       "      <td>2.4</td>\n",
       "    </tr>\n",
       "    <tr>\n",
       "      <th>2</th>\n",
       "      <td>3</td>\n",
       "      <td>Thistletown-Beaumond Heights</td>\n",
       "      <td>9928</td>\n",
       "      <td>-0.3131</td>\n",
       "      <td>1</td>\n",
       "      <td>0.3460</td>\n",
       "      <td>4</td>\n",
       "      <td>1.6220</td>\n",
       "      <td>4</td>\n",
       "      <td>0.2845</td>\n",
       "      <td>5</td>\n",
       "      <td>2.8</td>\n",
       "    </tr>\n",
       "    <tr>\n",
       "      <th>3</th>\n",
       "      <td>4</td>\n",
       "      <td>Rexdale-Kipling</td>\n",
       "      <td>10725</td>\n",
       "      <td>0.1866</td>\n",
       "      <td>2</td>\n",
       "      <td>0.4704</td>\n",
       "      <td>4</td>\n",
       "      <td>1.2396</td>\n",
       "      <td>3</td>\n",
       "      <td>0.2734</td>\n",
       "      <td>5</td>\n",
       "      <td>2.8</td>\n",
       "    </tr>\n",
       "    <tr>\n",
       "      <th>4</th>\n",
       "      <td>5</td>\n",
       "      <td>Elms-Old Rexdale</td>\n",
       "      <td>9879</td>\n",
       "      <td>-0.0150</td>\n",
       "      <td>2</td>\n",
       "      <td>0.8040</td>\n",
       "      <td>5</td>\n",
       "      <td>1.9911</td>\n",
       "      <td>4</td>\n",
       "      <td>-0.3527</td>\n",
       "      <td>2</td>\n",
       "      <td>2.6</td>\n",
       "    </tr>\n",
       "  </tbody>\n",
       "</table>\n",
       "</div>"
      ],
      "text/plain": [
       "   Neighb id                 Neighbourhood name   POPULATION  INSTABILITY  \\\n",
       "0           1             West Humber-Clairville       32252      -0.6639   \n",
       "1           2  Mount Olive-Silverstone-Jamestown       32127      -0.1081   \n",
       "2           3       Thistletown-Beaumond Heights        9928      -0.3131   \n",
       "3           4                    Rexdale-Kipling       10725       0.1866   \n",
       "4           5                   Elms-Old Rexdale        9879      -0.0150   \n",
       "\n",
       "   INSTABILITY_Q  DEPRIVATION  DEPRIVATION_Q  ETHNICCONCENTRATION  \\\n",
       "0              1       0.1620              3               2.4548   \n",
       "1              1       1.0195              5               3.7433   \n",
       "2              1       0.3460              4               1.6220   \n",
       "3              2       0.4704              4               1.2396   \n",
       "4              2       0.8040              5               1.9911   \n",
       "\n",
       "   ETHNICCONCENTRATION_Q  DEPENDENCY  DEPENDENCY_Q  ONMARG_COMBINED_Q  \n",
       "0                      5     -0.2021             3                2.4  \n",
       "1                      5     -0.5975             1                2.4  \n",
       "2                      4      0.2845             5                2.8  \n",
       "3                      3      0.2734             5                2.8  \n",
       "4                      4     -0.3527             2                2.6  "
      ]
     },
     "execution_count": 4,
     "metadata": {},
     "output_type": "execute_result"
    }
   ],
   "source": [
    "marg_neighbourhoods = pd.read_excel(\"1_marg_neighb_toronto_2006_OnMarg.xls\",\n",
    "                                    sheet_name=\"Neighbourhood_Toronto_OnMarg\", \n",
    "                                    header=1)\n",
    "\n",
    "marg_neighbourhoods.head()"
   ]
  },
  {
   "cell_type": "markdown",
   "id": "a9b80a4d",
   "metadata": {},
   "source": [
    "Use `marg_neighbourhoods` to create a another `DataFrame` called `instability_df` that has three columns: `\"Neighb id \", \"Neighbourhood name \", \"INSTABILITY\"`. "
   ]
  },
  {
   "cell_type": "code",
   "execution_count": 5,
   "id": "260275b5",
   "metadata": {},
   "outputs": [
    {
     "data": {
      "text/plain": [
       "['Neighb id ', 'Neighbourhood name ', 'INSTABILITY']"
      ]
     },
     "execution_count": 5,
     "metadata": {},
     "output_type": "execute_result"
    }
   ],
   "source": [
    "instability_df = marg_neighbourhoods[marg_neighbourhoods.columns[[0, 1, 3]]]\n",
    "\n",
    "list(instability_df)\n"
   ]
  },
  {
   "cell_type": "markdown",
   "id": "ba21291a",
   "metadata": {},
   "source": [
    "b) Rename the column names of `instability_df` using the following table.  The DataFrame with the new column names should be called `instability_df` (i.e., don't change the name of the DataFrame).\n",
    "\n",
    "\n",
    "Original column name | New column name\n",
    "----|----\n",
    "\"Neighb id \" | n_id\n",
    "\"INSTABILITY\" | instability\n",
    "\"Neighbourhood name \" | name\n",
    "\n",
    "_Be aware of the trailing spaces!_"
   ]
  },
  {
   "cell_type": "code",
   "execution_count": 6,
   "id": "911d50e5",
   "metadata": {},
   "outputs": [
    {
     "data": {
      "text/html": [
       "<div>\n",
       "<style scoped>\n",
       "    .dataframe tbody tr th:only-of-type {\n",
       "        vertical-align: middle;\n",
       "    }\n",
       "\n",
       "    .dataframe tbody tr th {\n",
       "        vertical-align: top;\n",
       "    }\n",
       "\n",
       "    .dataframe thead th {\n",
       "        text-align: right;\n",
       "    }\n",
       "</style>\n",
       "<table border=\"1\" class=\"dataframe\">\n",
       "  <thead>\n",
       "    <tr style=\"text-align: right;\">\n",
       "      <th></th>\n",
       "      <th>n_id</th>\n",
       "      <th>name</th>\n",
       "      <th>instability</th>\n",
       "    </tr>\n",
       "  </thead>\n",
       "  <tbody>\n",
       "    <tr>\n",
       "      <th>0</th>\n",
       "      <td>1</td>\n",
       "      <td>West Humber-Clairville</td>\n",
       "      <td>-0.6639</td>\n",
       "    </tr>\n",
       "    <tr>\n",
       "      <th>1</th>\n",
       "      <td>2</td>\n",
       "      <td>Mount Olive-Silverstone-Jamestown</td>\n",
       "      <td>-0.1081</td>\n",
       "    </tr>\n",
       "    <tr>\n",
       "      <th>2</th>\n",
       "      <td>3</td>\n",
       "      <td>Thistletown-Beaumond Heights</td>\n",
       "      <td>-0.3131</td>\n",
       "    </tr>\n",
       "    <tr>\n",
       "      <th>3</th>\n",
       "      <td>4</td>\n",
       "      <td>Rexdale-Kipling</td>\n",
       "      <td>0.1866</td>\n",
       "    </tr>\n",
       "    <tr>\n",
       "      <th>4</th>\n",
       "      <td>5</td>\n",
       "      <td>Elms-Old Rexdale</td>\n",
       "      <td>-0.0150</td>\n",
       "    </tr>\n",
       "  </tbody>\n",
       "</table>\n",
       "</div>"
      ],
      "text/plain": [
       "   n_id                               name  instability\n",
       "0     1             West Humber-Clairville      -0.6639\n",
       "1     2  Mount Olive-Silverstone-Jamestown      -0.1081\n",
       "2     3       Thistletown-Beaumond Heights      -0.3131\n",
       "3     4                    Rexdale-Kipling       0.1866\n",
       "4     5                   Elms-Old Rexdale      -0.0150"
      ]
     },
     "execution_count": 6,
     "metadata": {},
     "output_type": "execute_result"
    }
   ],
   "source": [
    "colnames = {\"Neighb id \": \"n_id\",\n",
    "            \"INSTABILITY\" : \"instability\",\n",
    "            \"Neighbourhood name \": \"name\"}\n",
    "\n",
    "instability_df = instability_df.copy()\n",
    "\n",
    "instability_df.rename(columns=colnames, inplace=True)\n",
    "\n",
    "instability_df.head()"
   ]
  },
  {
   "cell_type": "markdown",
   "id": "cf32e981",
   "metadata": {},
   "source": [
    "## Step 2 - Read the mental health visit data into a `pandas` `DataFrame`.\n",
    "\n",
    "a) In this step you will read in data on rates of mental health visits stored in `2_ahd_neighb_db_ast_hbp_mhv_copd_2012.xls` into a `pandas` `DataFrame` named `mental_health_neighbourhoods`.\n"
   ]
  },
  {
   "cell_type": "code",
   "execution_count": 7,
   "id": "0243bcf1",
   "metadata": {},
   "outputs": [
    {
     "data": {
      "text/html": [
       "<div>\n",
       "<style scoped>\n",
       "    .dataframe tbody tr th:only-of-type {\n",
       "        vertical-align: middle;\n",
       "    }\n",
       "\n",
       "    .dataframe tbody tr th {\n",
       "        vertical-align: top;\n",
       "    }\n",
       "\n",
       "    .dataframe thead th {\n",
       "        text-align: right;\n",
       "    }\n",
       "</style>\n",
       "<table border=\"1\" class=\"dataframe\">\n",
       "  <thead>\n",
       "    <tr style=\"text-align: right;\">\n",
       "      <th></th>\n",
       "      <th>Unnamed: 0</th>\n",
       "      <th>Unnamed: 1</th>\n",
       "      <th>Male</th>\n",
       "      <th>Female</th>\n",
       "      <th>Both sexes</th>\n",
       "      <th>Male.1</th>\n",
       "      <th>Female.1</th>\n",
       "      <th>Both sexes.1</th>\n",
       "      <th>Male.2</th>\n",
       "      <th>Female.2</th>\n",
       "      <th>...</th>\n",
       "      <th>Female.12</th>\n",
       "      <th>Both sexes.12</th>\n",
       "      <th>Rate Ratio**, Both sexes.4</th>\n",
       "      <th>H/ L/ NS, Both sexes.4</th>\n",
       "      <th>(95% CI) LL, Male.4</th>\n",
       "      <th>(95% CI) UL,  Male.4</th>\n",
       "      <th>(95% CI) LL, Female.4</th>\n",
       "      <th>(95% CI) UL, Female.4</th>\n",
       "      <th>(95% CI) LL, Both sexes.4</th>\n",
       "      <th>(95% CI) UL, Both sexes.4</th>\n",
       "    </tr>\n",
       "  </thead>\n",
       "  <tbody>\n",
       "    <tr>\n",
       "      <th>0</th>\n",
       "      <td>1</td>\n",
       "      <td>West Humber-Clairville</td>\n",
       "      <td>938</td>\n",
       "      <td>1168</td>\n",
       "      <td>2106</td>\n",
       "      <td>13915</td>\n",
       "      <td>14046</td>\n",
       "      <td>27961</td>\n",
       "      <td>6.6</td>\n",
       "      <td>8.2</td>\n",
       "      <td>...</td>\n",
       "      <td>7.2</td>\n",
       "      <td>7.2</td>\n",
       "      <td>0.85</td>\n",
       "      <td>L</td>\n",
       "      <td>6.1</td>\n",
       "      <td>8.3</td>\n",
       "      <td>6.2</td>\n",
       "      <td>8.3</td>\n",
       "      <td>6.4</td>\n",
       "      <td>8.0</td>\n",
       "    </tr>\n",
       "    <tr>\n",
       "      <th>1</th>\n",
       "      <td>2</td>\n",
       "      <td>Mount Olive-Silverstone-Jamestown</td>\n",
       "      <td>866</td>\n",
       "      <td>1130</td>\n",
       "      <td>1996</td>\n",
       "      <td>12256</td>\n",
       "      <td>13082</td>\n",
       "      <td>25338</td>\n",
       "      <td>7.0</td>\n",
       "      <td>8.6</td>\n",
       "      <td>...</td>\n",
       "      <td>8.5</td>\n",
       "      <td>8.2</td>\n",
       "      <td>0.96</td>\n",
       "      <td>NS</td>\n",
       "      <td>6.6</td>\n",
       "      <td>9.4</td>\n",
       "      <td>7.2</td>\n",
       "      <td>10.0</td>\n",
       "      <td>7.3</td>\n",
       "      <td>9.3</td>\n",
       "    </tr>\n",
       "    <tr>\n",
       "      <th>2</th>\n",
       "      <td>3</td>\n",
       "      <td>Thistletown-Beaumond Heights</td>\n",
       "      <td>275</td>\n",
       "      <td>410</td>\n",
       "      <td>685</td>\n",
       "      <td>4124</td>\n",
       "      <td>4453</td>\n",
       "      <td>8577</td>\n",
       "      <td>6.4</td>\n",
       "      <td>9.2</td>\n",
       "      <td>...</td>\n",
       "      <td>8.1</td>\n",
       "      <td>7.9</td>\n",
       "      <td>0.93</td>\n",
       "      <td>NS</td>\n",
       "      <td>5.9</td>\n",
       "      <td>9.9</td>\n",
       "      <td>6.4</td>\n",
       "      <td>10.0</td>\n",
       "      <td>6.7</td>\n",
       "      <td>9.3</td>\n",
       "    </tr>\n",
       "    <tr>\n",
       "      <th>3</th>\n",
       "      <td>4</td>\n",
       "      <td>Rexdale-Kipling</td>\n",
       "      <td>328</td>\n",
       "      <td>453</td>\n",
       "      <td>781</td>\n",
       "      <td>4130</td>\n",
       "      <td>4470</td>\n",
       "      <td>8600</td>\n",
       "      <td>7.7</td>\n",
       "      <td>10.0</td>\n",
       "      <td>...</td>\n",
       "      <td>9.0</td>\n",
       "      <td>9.1</td>\n",
       "      <td>1.07</td>\n",
       "      <td>NS</td>\n",
       "      <td>7.2</td>\n",
       "      <td>11.6</td>\n",
       "      <td>7.3</td>\n",
       "      <td>11.0</td>\n",
       "      <td>7.8</td>\n",
       "      <td>10.6</td>\n",
       "    </tr>\n",
       "    <tr>\n",
       "      <th>4</th>\n",
       "      <td>5</td>\n",
       "      <td>Elms-Old Rexdale</td>\n",
       "      <td>287</td>\n",
       "      <td>396</td>\n",
       "      <td>683</td>\n",
       "      <td>3787</td>\n",
       "      <td>4028</td>\n",
       "      <td>7815</td>\n",
       "      <td>7.4</td>\n",
       "      <td>9.6</td>\n",
       "      <td>...</td>\n",
       "      <td>8.1</td>\n",
       "      <td>7.5</td>\n",
       "      <td>0.88</td>\n",
       "      <td>NS</td>\n",
       "      <td>4.8</td>\n",
       "      <td>9.2</td>\n",
       "      <td>6.2</td>\n",
       "      <td>10.5</td>\n",
       "      <td>6.1</td>\n",
       "      <td>9.1</td>\n",
       "    </tr>\n",
       "  </tbody>\n",
       "</table>\n",
       "<p>5 rows × 81 columns</p>\n",
       "</div>"
      ],
      "text/plain": [
       "  Unnamed: 0                         Unnamed: 1    Male  Female  Both sexes  \\\n",
       "0          1             West Humber-Clairville     938    1168        2106   \n",
       "1          2  Mount Olive-Silverstone-Jamestown     866    1130        1996   \n",
       "2          3       Thistletown-Beaumond Heights     275     410         685   \n",
       "3          4                    Rexdale-Kipling     328     453         781   \n",
       "4          5                   Elms-Old Rexdale     287     396         683   \n",
       "\n",
       "     Male.1  Female.1  Both sexes.1    Male.2  Female.2  ...  Female.12  \\\n",
       "0     13915     14046         27961       6.6       8.2  ...        7.2   \n",
       "1     12256     13082         25338       7.0       8.6  ...        8.5   \n",
       "2      4124      4453          8577       6.4       9.2  ...        8.1   \n",
       "3      4130      4470          8600       7.7      10.0  ...        9.0   \n",
       "4      3787      4028          7815       7.4       9.6  ...        8.1   \n",
       "\n",
       "   Both sexes.12 Rate Ratio**, Both sexes.4  H/ L/ NS, Both sexes.4  \\\n",
       "0            7.2                       0.85                       L   \n",
       "1            8.2                       0.96                      NS   \n",
       "2            7.9                       0.93                      NS   \n",
       "3            9.1                       1.07                      NS   \n",
       "4            7.5                       0.88                      NS   \n",
       "\n",
       "   (95% CI) LL, Male.4  (95% CI) UL,  Male.4  (95% CI) LL, Female.4  \\\n",
       "0                  6.1                   8.3                    6.2   \n",
       "1                  6.6                   9.4                    7.2   \n",
       "2                  5.9                   9.9                    6.4   \n",
       "3                  7.2                  11.6                    7.3   \n",
       "4                  4.8                   9.2                    6.2   \n",
       "\n",
       "   (95% CI) UL, Female.4  (95% CI) LL, Both sexes.4  (95% CI) UL, Both sexes.4  \n",
       "0                    8.3                        6.4                        8.0  \n",
       "1                   10.0                        7.3                        9.3  \n",
       "2                   10.0                        6.7                        9.3  \n",
       "3                   11.0                        7.8                       10.6  \n",
       "4                   10.5                        6.1                        9.1  \n",
       "\n",
       "[5 rows x 81 columns]"
      ]
     },
     "execution_count": 7,
     "metadata": {},
     "output_type": "execute_result"
    }
   ],
   "source": [
    "mental_health_neighbourhoods = pd.read_excel(\"2_ahd_neighb_db_ast_hbp_mhv_copd_2012.xls\",\n",
    "                                             sheet_name=\"2_MentalHealthV_2012\", \n",
    "                                             header=11)\n",
    "mental_health_neighbourhoods.head()"
   ]
  },
  {
   "cell_type": "markdown",
   "id": "637787f9",
   "metadata": {},
   "source": [
    "b) Create a new DataFrame `mh_visit_rates` by selecting the columns in `mental_health_neighbourhoods` that corresponds to Neighbourhood ID, Neighbourhood Name, and 'Age-Standardized rate of Mental Health Visits (2012), All Ages 20+' rename this column in `mh_visit_rates` to `mh_visit_rates_mf`.  When you rename this column don't change the name of the DataFrame `mh_visit_rates`."
   ]
  },
  {
   "cell_type": "code",
   "execution_count": 8,
   "id": "449b31ab",
   "metadata": {},
   "outputs": [
    {
     "data": {
      "text/html": [
       "<div>\n",
       "<style scoped>\n",
       "    .dataframe tbody tr th:only-of-type {\n",
       "        vertical-align: middle;\n",
       "    }\n",
       "\n",
       "    .dataframe tbody tr th {\n",
       "        vertical-align: top;\n",
       "    }\n",
       "\n",
       "    .dataframe thead th {\n",
       "        text-align: right;\n",
       "    }\n",
       "</style>\n",
       "<table border=\"1\" class=\"dataframe\">\n",
       "  <thead>\n",
       "    <tr style=\"text-align: right;\">\n",
       "      <th></th>\n",
       "      <th>n_id</th>\n",
       "      <th>name</th>\n",
       "      <th>mh_visit_rates_mf</th>\n",
       "    </tr>\n",
       "  </thead>\n",
       "  <tbody>\n",
       "    <tr>\n",
       "      <th>0</th>\n",
       "      <td>1</td>\n",
       "      <td>West Humber-Clairville</td>\n",
       "      <td>7.4</td>\n",
       "    </tr>\n",
       "    <tr>\n",
       "      <th>1</th>\n",
       "      <td>2</td>\n",
       "      <td>Mount Olive-Silverstone-Jamestown</td>\n",
       "      <td>7.8</td>\n",
       "    </tr>\n",
       "    <tr>\n",
       "      <th>2</th>\n",
       "      <td>3</td>\n",
       "      <td>Thistletown-Beaumond Heights</td>\n",
       "      <td>7.8</td>\n",
       "    </tr>\n",
       "    <tr>\n",
       "      <th>3</th>\n",
       "      <td>4</td>\n",
       "      <td>Rexdale-Kipling</td>\n",
       "      <td>8.9</td>\n",
       "    </tr>\n",
       "    <tr>\n",
       "      <th>4</th>\n",
       "      <td>5</td>\n",
       "      <td>Elms-Old Rexdale</td>\n",
       "      <td>8.5</td>\n",
       "    </tr>\n",
       "  </tbody>\n",
       "</table>\n",
       "</div>"
      ],
      "text/plain": [
       "  n_id                               name  mh_visit_rates_mf\n",
       "0    1             West Humber-Clairville                7.4\n",
       "1    2  Mount Olive-Silverstone-Jamestown                7.8\n",
       "2    3       Thistletown-Beaumond Heights                7.8\n",
       "3    4                    Rexdale-Kipling                8.9\n",
       "4    5                   Elms-Old Rexdale                8.5"
      ]
     },
     "execution_count": 8,
     "metadata": {},
     "output_type": "execute_result"
    }
   ],
   "source": [
    "mh_visit_rates = mental_health_neighbourhoods[mental_health_neighbourhoods.columns[[0, 1, 10]]]\n",
    "\n",
    "colnames = {\"Unnamed: 0\": \"n_id\",\n",
    "            \"Both sexes.2\" : \"mh_visit_rates_mf\",\n",
    "            \"Unnamed: 1\" : \"name\"}\n",
    "\n",
    "mh_visit_rates = mh_visit_rates.copy()\n",
    "\n",
    "mh_visit_rates.rename(columns=colnames, inplace=True)\n",
    "\n",
    "mh_visit_rates.head()"
   ]
  },
  {
   "cell_type": "markdown",
   "id": "6e4619af",
   "metadata": {},
   "source": [
    "## Step 3 - Merge mental health visits and instability\n",
    "\n",
    "In this step you will merge the `mh_visit_rates` with `mental_health_neighbourhoods`.\n",
    "\n",
    "a) Merge `mh_visit_rates` with `instability_df` by matching the values of `\"n_id\"` and `\"name\"`, and name this DataFrame `mh_visit_instability`."
   ]
  },
  {
   "cell_type": "code",
   "execution_count": 9,
   "id": "5debecca",
   "metadata": {},
   "outputs": [
    {
     "data": {
      "text/html": [
       "<div>\n",
       "<style scoped>\n",
       "    .dataframe tbody tr th:only-of-type {\n",
       "        vertical-align: middle;\n",
       "    }\n",
       "\n",
       "    .dataframe tbody tr th {\n",
       "        vertical-align: top;\n",
       "    }\n",
       "\n",
       "    .dataframe thead th {\n",
       "        text-align: right;\n",
       "    }\n",
       "</style>\n",
       "<table border=\"1\" class=\"dataframe\">\n",
       "  <thead>\n",
       "    <tr style=\"text-align: right;\">\n",
       "      <th></th>\n",
       "      <th>n_id</th>\n",
       "      <th>name</th>\n",
       "      <th>mh_visit_rates_mf</th>\n",
       "      <th>instability</th>\n",
       "    </tr>\n",
       "  </thead>\n",
       "  <tbody>\n",
       "    <tr>\n",
       "      <th>0</th>\n",
       "      <td>1</td>\n",
       "      <td>West Humber-Clairville</td>\n",
       "      <td>7.4</td>\n",
       "      <td>-0.6639</td>\n",
       "    </tr>\n",
       "    <tr>\n",
       "      <th>1</th>\n",
       "      <td>2</td>\n",
       "      <td>Mount Olive-Silverstone-Jamestown</td>\n",
       "      <td>7.8</td>\n",
       "      <td>-0.1081</td>\n",
       "    </tr>\n",
       "    <tr>\n",
       "      <th>2</th>\n",
       "      <td>3</td>\n",
       "      <td>Thistletown-Beaumond Heights</td>\n",
       "      <td>7.8</td>\n",
       "      <td>-0.3131</td>\n",
       "    </tr>\n",
       "    <tr>\n",
       "      <th>3</th>\n",
       "      <td>4</td>\n",
       "      <td>Rexdale-Kipling</td>\n",
       "      <td>8.9</td>\n",
       "      <td>0.1866</td>\n",
       "    </tr>\n",
       "    <tr>\n",
       "      <th>4</th>\n",
       "      <td>5</td>\n",
       "      <td>Elms-Old Rexdale</td>\n",
       "      <td>8.5</td>\n",
       "      <td>-0.0150</td>\n",
       "    </tr>\n",
       "  </tbody>\n",
       "</table>\n",
       "</div>"
      ],
      "text/plain": [
       "  n_id                               name  mh_visit_rates_mf  instability\n",
       "0    1             West Humber-Clairville                7.4      -0.6639\n",
       "1    2  Mount Olive-Silverstone-Jamestown                7.8      -0.1081\n",
       "2    3       Thistletown-Beaumond Heights                7.8      -0.3131\n",
       "3    4                    Rexdale-Kipling                8.9       0.1866\n",
       "4    5                   Elms-Old Rexdale                8.5      -0.0150"
      ]
     },
     "execution_count": 9,
     "metadata": {},
     "output_type": "execute_result"
    }
   ],
   "source": [
    "mh_visit_instability = mh_visit_rates.merge(instability_df, on=[\"n_id\", \"name\"])\n",
    "mh_visit_instability.head()"
   ]
  },
  {
   "cell_type": "markdown",
   "id": "b748c831",
   "metadata": {},
   "source": [
    "## Step 4\n",
    "\n",
    "a) Create a new column in `mh_visit_instability` named `instability_binary` that categorizes neighbourhoods. The new columns should have two possible values:\n",
    "\n",
    "- `\"High\"`, if the neighbourhood's instability value is greater than or equal to the mean of `\"instability\"`\n",
    "- `\"Low\"`, if the neighbourhood's instability value is less than the mean of `\"instability\"`"
   ]
  },
  {
   "cell_type": "code",
   "execution_count": 10,
   "id": "bcf2d441",
   "metadata": {},
   "outputs": [],
   "source": [
    "mean_instab = mh_visit_instability[\"instability\"].mean()\n",
    "\n",
    "mh_visit_instability.loc[\n",
    "    mh_visit_instability[\"instability\"] >= mean_instab, \n",
    "    \"instability_binary\"] = \"High\"\n",
    "\n",
    "mh_visit_instability.loc[\n",
    "    mh_visit_instability[\"instability\"] < mean_instab, \n",
    "    \"instability_binary\"] = \"Low\""
   ]
  },
  {
   "cell_type": "markdown",
   "id": "05edf48a",
   "metadata": {},
   "source": [
    "b) Compute the frequency distribution of `instability_binary`. Save the results in `instability_binary_frequencies`.  "
   ]
  },
  {
   "cell_type": "code",
   "execution_count": 11,
   "id": "12d2561d",
   "metadata": {},
   "outputs": [
    {
     "data": {
      "text/plain": [
       "instability_binary\n",
       "Low     70\n",
       "High    66\n",
       "Name: count, dtype: int64"
      ]
     },
     "execution_count": 11,
     "metadata": {},
     "output_type": "execute_result"
    }
   ],
   "source": [
    "instability_binary_frequencies = mh_visit_instability[\"instability_binary\"].value_counts()\n",
    "\n",
    "instability_binary_frequencies"
   ]
  },
  {
   "cell_type": "markdown",
   "id": "66a0de88",
   "metadata": {},
   "source": [
    "c) Is there evidence that Toronto has many neighbourhoods that have residential instability?  Briefly explain. __(1 mark)__"
   ]
  },
  {
   "cell_type": "markdown",
   "id": "10873e1a",
   "metadata": {},
   "source": [
    "> There is more than one possible way to answer the question. e.g., \n",
    ">\n",
    "> i. The data shows that about half of the neighbourhoods in Toronto, 66 out of 136, having residential instability measures that are higher than the city-wide mean. It is difficult to provide a definite answer to the question based on the result since it only provide comparison within the city.\n",
    ">\n",
    "> ii. (a bit more naive answer) About half of the neighbourhoods in Toronto have high residential instability. \n",
    ">\n",
    "> Any answer with a sensible reasoning based on the data is acceptable."
   ]
  },
  {
   "cell_type": "markdown",
   "id": "c240f8cb",
   "metadata": {},
   "source": [
    "## Step 5 - Do neighbourhoods with high residential instability have more mental health visits compared to neighbourhoods with low residential isntability?\n",
    "\n",
    "a) Use the `DataFrame` `describe` method to compute the distribution of `mh_visit_rates_mf` in `mh_visit_instability` **grouped by** `instability_binary`.  Store the results in `median_table`."
   ]
  },
  {
   "cell_type": "code",
   "execution_count": 12,
   "id": "26535b3d",
   "metadata": {},
   "outputs": [
    {
     "data": {
      "text/html": [
       "<div>\n",
       "<style scoped>\n",
       "    .dataframe tbody tr th:only-of-type {\n",
       "        vertical-align: middle;\n",
       "    }\n",
       "\n",
       "    .dataframe tbody tr th {\n",
       "        vertical-align: top;\n",
       "    }\n",
       "\n",
       "    .dataframe thead th {\n",
       "        text-align: right;\n",
       "    }\n",
       "</style>\n",
       "<table border=\"1\" class=\"dataframe\">\n",
       "  <thead>\n",
       "    <tr style=\"text-align: right;\">\n",
       "      <th></th>\n",
       "      <th>count</th>\n",
       "      <th>mean</th>\n",
       "      <th>std</th>\n",
       "      <th>min</th>\n",
       "      <th>25%</th>\n",
       "      <th>50%</th>\n",
       "      <th>75%</th>\n",
       "      <th>max</th>\n",
       "    </tr>\n",
       "    <tr>\n",
       "      <th>instability_binary</th>\n",
       "      <th></th>\n",
       "      <th></th>\n",
       "      <th></th>\n",
       "      <th></th>\n",
       "      <th></th>\n",
       "      <th></th>\n",
       "      <th></th>\n",
       "      <th></th>\n",
       "    </tr>\n",
       "  </thead>\n",
       "  <tbody>\n",
       "    <tr>\n",
       "      <th>High</th>\n",
       "      <td>66.0</td>\n",
       "      <td>8.362121</td>\n",
       "      <td>0.937388</td>\n",
       "      <td>5.9</td>\n",
       "      <td>7.825</td>\n",
       "      <td>8.45</td>\n",
       "      <td>9.075</td>\n",
       "      <td>10.5</td>\n",
       "    </tr>\n",
       "    <tr>\n",
       "      <th>Low</th>\n",
       "      <td>70.0</td>\n",
       "      <td>7.867143</td>\n",
       "      <td>1.000539</td>\n",
       "      <td>5.7</td>\n",
       "      <td>7.025</td>\n",
       "      <td>7.80</td>\n",
       "      <td>8.775</td>\n",
       "      <td>9.9</td>\n",
       "    </tr>\n",
       "  </tbody>\n",
       "</table>\n",
       "</div>"
      ],
      "text/plain": [
       "                    count      mean       std  min    25%   50%    75%   max\n",
       "instability_binary                                                          \n",
       "High                 66.0  8.362121  0.937388  5.9  7.825  8.45  9.075  10.5\n",
       "Low                  70.0  7.867143  1.000539  5.7  7.025  7.80  8.775   9.9"
      ]
     },
     "execution_count": 12,
     "metadata": {},
     "output_type": "execute_result"
    }
   ],
   "source": [
    "median_table = mh_visit_instability.groupby(\"instability_binary\")[\"mh_visit_rates_mf\"].describe()\n",
    "\n",
    "median_table"
   ]
  },
  {
   "cell_type": "markdown",
   "id": "2cd0db75",
   "metadata": {},
   "source": [
    "Use `median_table` to compute the difference in medians between neighbourhoods with high and low instability.  Store this value in `median_diff`. "
   ]
  },
  {
   "cell_type": "code",
   "execution_count": 13,
   "id": "978a9570",
   "metadata": {},
   "outputs": [
    {
     "name": "stderr",
     "output_type": "stream",
     "text": [
      "C:\\Users\\yukiz\\AppData\\Local\\Temp\\ipykernel_26372\\2073326976.py:1: FutureWarning: Series.__getitem__ treating keys as positions is deprecated. In a future version, integer keys will always be treated as labels (consistent with DataFrame behavior). To access a value by position, use `ser.iloc[pos]`\n",
      "  median_diff = median_table[\"50%\"][0] - median_table[\"50%\"][1]\n"
     ]
    },
    {
     "data": {
      "text/plain": [
       "0.6499999999999995"
      ]
     },
     "execution_count": 13,
     "metadata": {},
     "output_type": "execute_result"
    }
   ],
   "source": [
    "median_diff = median_table[\"50%\"][0] - median_table[\"50%\"][1]\n",
    "\n",
    "median_diff"
   ]
  },
  {
   "cell_type": "markdown",
   "id": "5da0b797",
   "metadata": {},
   "source": [
    "## Step 6 - Set up a simulation in python to test if the medians are equal\n",
    "\n",
    "a) In this step you will write a function `random_shuffle_median` that returns a simulated value of the median difference (a simulated value of the test statistic) of mental health visit rates in neighbourhoods with high versus low residential instability assuming that there really is no difference in mental health visit rates between these types of neighbourhoods.\n",
    "\n",
    "A step-by-step explantion of a similar function was given in lecture, and you can follow this example to help guide you through this step.\n",
    "\n",
    "The function `random_shuffle_median` is started for you below. Your task is to complete the function by filling in the `...`.\n",
    "\n",
    "Try writing a meaningful docstring for `random_shuffle_median`.  The `pandas` [docstring guide](https://pandas.pydata.org/docs/development/contributing_docstring.html) has some great examples and guidelines.  (NB: this will not be graded)"
   ]
  },
  {
   "cell_type": "code",
   "execution_count": 14,
   "id": "81c53baa",
   "metadata": {},
   "outputs": [],
   "source": [
    "# def random_shuffle_median():\n",
    "#     \"\"\"\n",
    "#     Put your docstring here (optional)\n",
    "#     \"\"\"\n",
    "\n",
    "#     # shuffle the column of mh_visit_instability that corresponds to high/low instability\n",
    "\n",
    "#     instability_binary_shuffle = mh_visit_instability[...].sample(\n",
    "#         frac=1, replace=False).reset_index(drop=True)\n",
    "    \n",
    "#     # calculate the median visit rate for high and low instability neighbourhoods\n",
    "\n",
    "#     visitrate_low_shuffle = mh_visit_instability.loc[instability_binary_shuffle == ..., ...].median()\n",
    "    \n",
    "#     visitrate_high_shuffle  = mh_visit_instability.loc[instability_binary_shuffle ==  ..., ...].median()\n",
    "    \n",
    "#     shuffled_diff = ... - ...\n",
    "    \n",
    "#     return shuffled_diff\n"
   ]
  },
  {
   "cell_type": "code",
   "execution_count": 15,
   "id": "20b977f6",
   "metadata": {},
   "outputs": [
    {
     "data": {
      "text/plain": [
       "0.0"
      ]
     },
     "execution_count": 15,
     "metadata": {},
     "output_type": "execute_result"
    }
   ],
   "source": [
    "def random_shuffle_median():\n",
    "    \"\"\"\n",
    "    Randomly shuffles the column of mh_visit_instability that corresponds to \n",
    "\n",
    "    high/low instability and calculates the difference in median visit rates \n",
    "    \n",
    "    for high and low instability neighbourhoods\n",
    "    \"\"\"\n",
    "\n",
    "    instability_binary_shuffle = mh_visit_instability[\"instability_binary\"].sample(\n",
    "        frac=1, replace=False).reset_index(drop = True)\n",
    "    visitrate_low_shuffle = mh_visit_instability.loc[\n",
    "        instability_binary_shuffle == \"Low\", \"mh_visit_rates_mf\"].median()\n",
    "    visitrate_high_shuffle  = mh_visit_instability.loc[\n",
    "        instability_binary_shuffle == \"High\", \"mh_visit_rates_mf\"].median()\n",
    "    shuffled_diff = visitrate_high_shuffle - visitrate_low_shuffle \n",
    "    return shuffled_diff\n",
    "\n",
    "random_shuffle_median()\n"
   ]
  },
  {
   "cell_type": "code",
   "execution_count": 16,
   "id": "4b22ef64",
   "metadata": {},
   "outputs": [
    {
     "name": "stdout",
     "output_type": "stream",
     "text": [
      "\n",
      "    Randomly shuffles the column of mh_visit_instability that corresponds to \n",
      "\n",
      "    high/low instability and calculates the difference in median visit rates \n",
      "    \n",
      "    for high and low instability neighbourhoods\n",
      "    \n"
     ]
    }
   ],
   "source": [
    "print(random_shuffle_median.__doc__)"
   ]
  },
  {
   "cell_type": "markdown",
   "id": "2cd897a2",
   "metadata": {},
   "source": [
    "b) Explain the purpose of \n",
    "\n",
    "```python\n",
    "mh_visit_instability[...].sample(\n",
    "    frac=1, replace=False).reset_index(drop=True)\n",
    "```\n",
    "\n",
    "in 1-2 sentences."
   ]
  },
  {
   "cell_type": "markdown",
   "id": "1727b2fb",
   "metadata": {},
   "source": [
    "> The line randomly samples 100% (`frac=1`) of the selected column (`'instability_binary'`) without replacements (`replace=False`) and removes the old ordering (`reset_index(drop=True)`). It mimicks random asingment of the high vs low labels to each neighbourhood."
   ]
  },
  {
   "cell_type": "markdown",
   "id": "3b012943",
   "metadata": {},
   "source": [
    "## Step 7 - Compute the distribution of simulated values of the median difference assuming the null hypothesis is true\n",
    "\n"
   ]
  },
  {
   "cell_type": "markdown",
   "id": "976af74e",
   "metadata": {},
   "source": [
    "We will use your student number to generate data for this homework. Complete the assignment statement below by typing your student number as an `int`. In other words assign your student number as an integer to the variable `student_number`.\n"
   ]
  },
  {
   "cell_type": "code",
   "execution_count": 17,
   "id": "f50aed80",
   "metadata": {},
   "outputs": [],
   "source": [
    "# # Replace the ... with your student number\n",
    "student_number = 12345\n",
    "\n",
    "# # This checks that you correctly typed in your student_number as an int.\n",
    "# # Make sure there's no error when you run this cell!\n",
    "# assert type(student_number) == int"
   ]
  },
  {
   "cell_type": "markdown",
   "id": "32fb4d54",
   "metadata": {},
   "source": [
    "a) Write a function called `shuffled_diffs` that returns a list.  The function should use a `for` loop that iterates the function `random_shuffle_median` an arbitrary number of times.  The number of times that the `for` loop iterates should be controlled by a function parameter named `number_of_shuffles`. "
   ]
  },
  {
   "cell_type": "code",
   "execution_count": 18,
   "id": "9c843e7c",
   "metadata": {},
   "outputs": [],
   "source": [
    "def shuffled_diffs(number_of_shuffles):\n",
    "    shuffled_diffs = []\n",
    "    for _ in range(number_of_shuffles):\n",
    "        shuffled_diffs.append(random_shuffle_median())\n",
    "    return shuffled_diffs"
   ]
  },
  {
   "cell_type": "markdown",
   "id": "f06d8325",
   "metadata": {},
   "source": [
    "b) Use `shuffled_diffs` to compute 10 000 simulated median differences between high and low instability neighbourhoods assuming that there is no difference in median mental health visit rates between high and low instability neighbourhoods.  Store the values in `shuffled_diffs_10000`."
   ]
  },
  {
   "cell_type": "code",
   "execution_count": 19,
   "id": "2edcc0f2",
   "metadata": {},
   "outputs": [],
   "source": [
    "np.random.seed(student_number)\n",
    "\n",
    "shuffled_diffs_10000 = shuffled_diffs(10000)"
   ]
  },
  {
   "cell_type": "markdown",
   "id": "c2ec390e",
   "metadata": {},
   "source": [
    "c) Plot the distribution of the 10,000 simulated values stored in `shuffled_diffs_10000` using a `matplotlib` histogram. Name the plot `null_hypothesis_distribution_plot`.  Label the horizontal axis as `\"Difference in median visit rates for high and low instability neighbourhoods\"` and the vertical axis as `\"Frequency\"`."
   ]
  },
  {
   "cell_type": "code",
   "execution_count": 20,
   "id": "add94761",
   "metadata": {},
   "outputs": [
    {
     "data": {
      "text/plain": [
       "Text(0, 0.5, 'Frequency')"
      ]
     },
     "execution_count": 20,
     "metadata": {},
     "output_type": "execute_result"
    },
    {
     "data": {
      "image/png": "[encoded data removed]",
      "text/plain": [
       "<Figure size 640x480 with 1 Axes>"
      ]
     },
     "metadata": {},
     "output_type": "display_data"
    }
   ],
   "source": [
    "import matplotlib.pyplot as plt\n",
    "\n",
    "null_hypothesis_distribution_plot = plt.hist(shuffled_diffs_10000)\n",
    "\n",
    "plt.xlabel(\"Difference in median visit rates for high and low instability neighbourhoods\")\n",
    "\n",
    "plt.ylabel(\"Frequency\")"
   ]
  },
  {
   "cell_type": "markdown",
   "id": "e699095a",
   "metadata": {},
   "source": [
    "## Step 8 - Compute the p-value\n",
    "\n",
    "a) Compute the number of simulated differences in medians in `shuffled_diffs_10000` that are greater than or equal to the observed median difference (`median_diff`).  Store this value in `right_extreme`."
   ]
  },
  {
   "cell_type": "code",
   "execution_count": 21,
   "id": "1a34886f",
   "metadata": {},
   "outputs": [],
   "source": [
    "right_extreme = shuffled_diffs_10000 >= median_diff\n",
    "\n",
    "right_extreme = right_extreme.sum()"
   ]
  },
  {
   "cell_type": "markdown",
   "id": "8391adaf",
   "metadata": {},
   "source": [
    "b) Compute the number of simulated differences in medians in `shuffled_diffs_10000` that are less than the observed median difference (`median_diff`).  Store this value in `left_extreme`."
   ]
  },
  {
   "cell_type": "code",
   "execution_count": 22,
   "id": "50e101da",
   "metadata": {},
   "outputs": [],
   "source": [
    "left_extreme = shuffled_diffs_10000 < -median_diff\n",
    "\n",
    "left_extreme = left_extreme.sum()"
   ]
  },
  {
   "cell_type": "markdown",
   "id": "117f46b6",
   "metadata": {},
   "source": [
    "c) Use `right_extreme` and `left_extreme` to compute the p-value.  Store the p-value in `pvalue`. "
   ]
  },
  {
   "cell_type": "code",
   "execution_count": 23,
   "id": "1cebcf55",
   "metadata": {},
   "outputs": [
    {
     "data": {
      "text/plain": [
       "0.0064"
      ]
     },
     "execution_count": 23,
     "metadata": {},
     "output_type": "execute_result"
    }
   ],
   "source": [
    "pvalue = (left_extreme + right_extreme) / 10000\n",
    "\n",
    "pvalue"
   ]
  },
  {
   "cell_type": "markdown",
   "id": "b40e7f61",
   "metadata": {},
   "source": [
    "## Step 9 - Communicate what you did in the steps above\n",
    "\n",
    "\n",
    "a) In a few sentences introduce the question that you explored in this homework (see the [beginning](#gg274-homework-8-hypothesis-testing) of this homework).  For example, why do you or others think this is an important question?  (__1 mark__)"
   ]
  },
  {
   "cell_type": "markdown",
   "id": "904406ca",
   "metadata": {},
   "source": [
    "> We investigated whether neighbourhoods whose residential statuses are relatively instable visit mental health services more or less frequently compared to those with relatively stable residential statuses. The analysis may tell us whether the marginalized neighbourhoods need more support for their mental health."
   ]
  },
  {
   "cell_type": "markdown",
   "id": "dd1f4fd1",
   "metadata": {},
   "source": [
    "b)  Briefly describe the data sources that you used to answer the question.  Which statistical variables did you use and why did you use these varaibles? (__1 mark__)"
   ]
  },
  {
   "cell_type": "markdown",
   "id": "331f2bb5",
   "metadata": {},
   "source": [
    "> We used the residential instabilty measure from the Ontario Marginalization Index and the age-standardized rates for mental health visits among those above age 20. We computed the mean of the instability measure to dicotomize the neighbourhoods to those whose measures are above the mean and those whose measures are below the mean. This allowed us to label the neighbourhoods into two groups - high vs. low residential instability. \n",
    ">\n",
    "> We then computed the difference in the median mental health visit rates between the two groups. The medians provided the \"typical\" (or centre of the distributions) visit rates of the two groups."
   ]
  },
  {
   "cell_type": "markdown",
   "id": "1a773e29",
   "metadata": {},
   "source": [
    "c) What computational and statistical methods or analyses did you use to answer the question?  Briefly describe these methods and how they were used to answer the question.  (__1 mark__)"
   ]
  },
  {
   "cell_type": "markdown",
   "id": "4d0390e8",
   "metadata": {},
   "source": [
    "> We simulated the distribution of the difference in median mental health visits rates under the assumption that there is no difference in the median rates betwee the two groups using the bootstrap. We then located the observed difference in the simulated distribution to assess high likely it would be to observe the value when there is actually no difference. When the location of the value in the distribution indicates that it is unlikely, we can reasonably conclude that the median mental health visit rates are different between the two groups.\n",
    ">\n",
    "> Note: Full marks if the data and method used are reasonably well explained between part b) and c)."
   ]
  },
  {
   "cell_type": "markdown",
   "id": "a6bc5e37",
   "metadata": {},
   "source": [
    "d) Briefly describe the results of your statistical analysis in a few sentences. (__1 mark__)"
   ]
  },
  {
   "cell_type": "markdown",
   "id": "2affe526",
   "metadata": {},
   "source": [
    "> After locating the observed difference in the simulated distribution, the resulting p-value is 0.0064 which is very small. It is reasonable to reject the hypothtesis that there is no difference between the two groups and conclude that the mental health visit rates are different between high and low residential instability neighbourhoods. Specifically, the visit rates are higher for those in neighbourhood with higher residential instability."
   ]
  },
  {
   "cell_type": "markdown",
   "id": "edd25c8b",
   "metadata": {},
   "source": [
    "e) What conclusions can you draw about the question you set out to answer that is supported by the data and statistical analysis of the data?  State at least one limitation of your conclusions. (See the [USC Research Guide section on study limitations](https://libguides.usc.edu/writingguide/limitations)) (__1 mark__)"
   ]
  },
  {
   "cell_type": "markdown",
   "id": "8d121d9a",
   "metadata": {},
   "source": [
    "> The data shows that the typical mental health visit rates in Toronto neighbourhoods with relatively unstable residential statuses is higher. Our statistical analysis provides a reasonably strong evidence that there is a systematic difference and we didn't observe the difference by chance. \n",
    ">\n",
    "> Limitations may include...\n",
    ">\n",
    "> - the mental health visit rate data are from 2012 whereas the Ontario Marginalization Index is from 2006; a significant change in the neighbourhood composition may have altered the residential stability.\n",
    "> - the mental health visit rates are based on OHIP only (this requires some diggin on the data source: https://www.ontariohealthprofiles.ca/o_documents/aboutTheDataON/1_AboutTheData_AdultHealthDisease.pdf); other types of mental health visits may be relevant.\n",
    "> - ...\n",
    ">\n",
    "> Any reasonable limitation identified is acceptable."
   ]
  }
 ],
 "metadata": {
  "kernelspec": {
   "display_name": "venv",
   "language": "python",
   "name": "python3"
  },
  "language_info": {
   "codemirror_mode": {
    "name": "ipython",
    "version": 3
   },
   "file_extension": ".py",
   "mimetype": "text/x-python",
   "name": "python",
   "nbconvert_exporter": "python",
   "pygments_lexer": "ipython3",
   "version": "3.10.2"
  }
 },
 "nbformat": 4,
 "nbformat_minor": 5
}
