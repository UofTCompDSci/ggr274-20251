{
 "cells": [
  {
   "cell_type": "markdown",
   "id": "acb6306f-044e-4760-8ad2-ed982e5f8b00",
   "metadata": {
    "editable": true,
    "slideshow": {
     "slide_type": "slide"
    },
    "tags": []
   },
   "source": [
    "# Class 9\n",
    "\n",
    "## Mar. 11, 2024\n",
    "\n",
    "## Arrangment of the last 3 tutorials\n",
    "\n",
    "- You will conduct a communication exercise in three parts guided by your TAs.\n",
    "\n",
    "    - Visualize some data and write a statement about it.\n",
    "    - Do a short presentation.\n",
    "    - Reflect your presentation and improve your work.\n",
    "\n",
    "## Learning objectives\n",
    "\n",
    "By the end of this class, you'll be able to:\n",
    "\n",
    "- Obtain bootstrap confidence intervals;\n",
    "\n",
    "- Compare two samples using shuffling and bootstrapped resampling;\n",
    "\n",
    "- Propose hypothesis and use p-value to test hypothesis\n",
    "\n",
    "- Learn linear regression\n",
    "\n"
   ]
  },
  {
   "cell_type": "markdown",
   "id": "3860008a",
   "metadata": {
    "editable": true,
    "slideshow": {
     "slide_type": "slide"
    },
    "tags": []
   },
   "source": [
    "# Bootstrap - start with a story\n",
    "\n",
    "- A data scientist is using the data in a random sample to estimate an unknown statistical parameter such as **the mean time spent resting**. She uses the sample to calculate the value of a statistic that she will use as her estimate."
   ]
  },
  {
   "cell_type": "markdown",
   "id": "f66f165d",
   "metadata": {
    "editable": true,
    "slideshow": {
     "slide_type": "fragment"
    },
    "tags": []
   },
   "source": [
    "- Once she has calculated the observed value of her statistic, she could just present it as her estimate and go on her merry way. But she’s a data scientist. She knows that her random sample is just one of numerous possible random samples, and thus her estimate is just one of numerous plausible estimates."
   ]
  },
  {
   "cell_type": "markdown",
   "id": "ef2e805e",
   "metadata": {
    "editable": true,
    "slideshow": {
     "slide_type": "fragment"
    },
    "tags": []
   },
   "source": [
    "- By how much could those estimates vary? To answer this, it appears as though she needs to draw another sample from the population, and compute a new estimate based on the new sample. But she doesn’t have the resources to go back to the population and draw another sample."
   ]
  },
  {
   "cell_type": "markdown",
   "id": "e6214d63-3c94-40bc-b052-508ec8f20989",
   "metadata": {
    "editable": true,
    "slideshow": {
     "slide_type": ""
    },
    "tags": []
   },
   "source": [
    "![](stats.png)"
   ]
  },
  {
   "cell_type": "markdown",
   "id": "433e4c80",
   "metadata": {
    "editable": true,
    "slideshow": {
     "slide_type": "slide"
    },
    "tags": []
   },
   "source": [
    "- It looks as though the data scientist is stuck."
   ]
  },
  {
   "cell_type": "markdown",
   "id": "8313aa0a-6b55-42e1-8ad0-45aeb28b670a",
   "metadata": {
    "editable": true,
    "slideshow": {
     "slide_type": "fragment"
    },
    "tags": []
   },
   "source": [
    "- Fortunately, a brilliant idea called the bootstrap can help her out. Since it is not feasible to generate new samples from the population, the bootstrap generates new random samples by a method called resampling: the new samples are drawn at random from the **original sample**, instead of from the *population*."
   ]
  },
  {
   "cell_type": "markdown",
   "id": "d670c6a1-5ef6-4d57-80b9-0a2580f41d70",
   "metadata": {
    "editable": true,
    "slideshow": {
     "slide_type": "fragment"
    },
    "tags": []
   },
   "source": [
    "- We observed before that a large random sample from a population resembles the population from which it was drawn."
   ]
  },
  {
   "cell_type": "code",
   "execution_count": 1,
   "id": "05c36ed5-b89f-4fad-9dba-8464b9134cae",
   "metadata": {
    "editable": true,
    "slideshow": {
     "slide_type": "slide"
    },
    "tags": []
   },
   "outputs": [],
   "source": [
    "import pandas as pd\n",
    "import matplotlib.pyplot as plt \n",
    "import numpy as np\n",
    "import seaborn as sns\n",
    "\n",
    "\n",
    "time_use_df = pd.read_csv('gss_tu2016_main_file.csv')"
   ]
  },
  {
   "cell_type": "markdown",
   "id": "379220ef-81ae-4b7c-91de-2513c1f68c82",
   "metadata": {
    "editable": true,
    "slideshow": {
     "slide_type": ""
    },
    "tags": []
   },
   "source": [
    "```\n",
    "dur01              Duration - Sleeping, resting, relaxing, sick in bed\n",
    "\n",
    "           VALUE  LABEL\n",
    "               0  No time spent doing this activity\n",
    "            9996  Valid skip\n",
    "            9997  Don't know\n",
    "            9998  Refusal\n",
    "            9999  Not stated\n",
    "\n",
    "           Data type: numeric\n",
    "           Missing-data codes: 9996-9999\n",
    "           Record/columns: 1/65-68\n",
    "```\n",
    "\n"
   ]
  },
  {
   "cell_type": "code",
   "execution_count": 2,
   "id": "405316c7-cda5-4e8a-aeee-4efa79370a25",
   "metadata": {
    "editable": true,
    "slideshow": {
     "slide_type": "slide"
    },
    "tags": []
   },
   "outputs": [
    {
     "data": {
      "image/png": "[encoded data removed]",
      "text/plain": [
       "<Figure size 640x480 with 1 Axes>"
      ]
     },
     "metadata": {},
     "output_type": "display_data"
    }
   ],
   "source": [
    "time_use_df['dur01'].plot.hist(color = 'grey', edgecolor = 'black');"
   ]
  },
  {
   "cell_type": "code",
   "execution_count": 3,
   "id": "2b7fec49-8e5a-43f0-9f1f-8a4ef471cd5c",
   "metadata": {
    "editable": true,
    "slideshow": {
     "slide_type": ""
    },
    "tags": []
   },
   "outputs": [
    {
     "name": "stdout",
     "output_type": "stream",
     "text": [
      "510.0\n",
      "522.3930994824611\n"
     ]
    }
   ],
   "source": [
    "print(time_use_df['dur01'].median())\n",
    "print(time_use_df['dur01'].mean())"
   ]
  },
  {
   "cell_type": "code",
   "execution_count": 4,
   "id": "bb5b0438-fba4-48e4-b22d-26f1f4d574b9",
   "metadata": {
    "editable": true,
    "slideshow": {
     "slide_type": ""
    },
    "tags": []
   },
   "outputs": [
    {
     "data": {
      "text/plain": [
       "(17390, 350)"
      ]
     },
     "execution_count": 4,
     "metadata": {},
     "output_type": "execute_result"
    }
   ],
   "source": [
    "time_use_df.shape"
   ]
  },
  {
   "cell_type": "markdown",
   "id": "e2126334-e5e3-458f-a03e-37742809945b",
   "metadata": {
    "editable": true,
    "slideshow": {
     "slide_type": "slide"
    },
    "tags": []
   },
   "source": [
    "Recall what've done before in understanding the Laws of Average:"
   ]
  },
  {
   "cell_type": "code",
   "execution_count": 5,
   "id": "f90689fe-16de-4e02-b263-acc792658db1",
   "metadata": {
    "editable": true,
    "slideshow": {
     "slide_type": ""
    },
    "tags": []
   },
   "outputs": [
    {
     "data": {
      "application/vnd.jupyter.widget-view+json": {
       "model_id": "47009a0e262b4483b29b558635a84f9a",
       "version_major": 2,
       "version_minor": 0
      },
      "text/plain": [
       "interactive(children=(IntSlider(value=10, description='n', max=5000, min=10, step=50), Output()), _dom_classes…"
      ]
     },
     "metadata": {},
     "output_type": "display_data"
    }
   ],
   "source": [
    "from ipywidgets import interact\n",
    "import ipywidgets as widgets\n",
    "\n",
    "def emp_hist_plot(n):\n",
    "    time_use_df['dur01'].sample(n, replace = True).plot.hist(bins=10, edgecolor=\"white\", color=\"darkgrey\");\n",
    "\n",
    "interact(emp_hist_plot, n = widgets.IntSlider(min = 10, max= 5000, step=50, value=10));"
   ]
  },
  {
   "cell_type": "markdown",
   "id": "23dd250a-bb55-4459-b863-b38b136b08b5",
   "metadata": {
    "editable": true,
    "slideshow": {
     "slide_type": "slide"
    },
    "tags": []
   },
   "source": [
    "- In this time, we acknowledge that this dataset only has one sample of entire Canada population.\n",
    "\n",
    "- How can we get the statstics, e.g., the average sleeping time, of the entire population?\n",
    "\n",
    "- Draw a random sample with replacement of the **same size (number of rows) as the original sample**\n",
    "\n",
    "- This opens the possibility for the new sample to be different from the original sample."
   ]
  },
  {
   "cell_type": "code",
   "execution_count": 6,
   "id": "4dfe0955-e3ac-4d60-9ace-a802de0ffadd",
   "metadata": {
    "editable": true,
    "slideshow": {
     "slide_type": "fragment"
    },
    "tags": []
   },
   "outputs": [
    {
     "name": "stdout",
     "output_type": "stream",
     "text": [
      "510.0\n",
      "520.910753306498\n"
     ]
    },
    {
     "data": {
      "image/png": "[encoded data removed]",
      "text/plain": [
       "<Figure size 640x480 with 1 Axes>"
      ]
     },
     "metadata": {},
     "output_type": "display_data"
    }
   ],
   "source": [
    "sleep_bs_sample = time_use_df['dur01'].sample(frac = 1, replace=True)\n",
    "\n",
    "sleep_bs_sample.plot.hist(color = 'grey', edgecolor = 'black');\n",
    "\n",
    "print(sleep_bs_sample.median())\n",
    "print(sleep_bs_sample.mean())"
   ]
  },
  {
   "cell_type": "markdown",
   "id": "c7a5eba8-1d54-422b-9f59-23e599549b16",
   "metadata": {
    "editable": true,
    "slideshow": {
     "slide_type": "slide"
    },
    "tags": []
   },
   "source": [
    "## Why is this a good idea?\n",
    "\n",
    "- By the law of averages, the distribution of the original sample is likely to resemble the population.  \n",
    "\n",
    "- The distributions of all the “resamples” are likely to resemble the original sample. \n",
    "\n",
    "- So the distributions of all the resamples are likely to resemble the population as well."
   ]
  },
  {
   "cell_type": "markdown",
   "id": "5b903b10-f489-4d6e-a24f-72c39e77b65d",
   "metadata": {
    "editable": true,
    "slideshow": {
     "slide_type": "fragment"
    },
    "tags": []
   },
   "source": [
    "## Resampled mean\n",
    "\n",
    "- We generated one resampled or *bootstrapped* mean above.\n",
    "\n",
    "- By resampling many times we can compute the empirical distribution of the mean sleep time.\n",
    "\n",
    "- The distribution of the boostrapped means should contain the population mean."
   ]
  },
  {
   "cell_type": "code",
   "execution_count": 7,
   "id": "41a53037-8eef-4639-a488-485c97dcf17b",
   "metadata": {
    "editable": true,
    "slideshow": {
     "slide_type": "slide"
    },
    "tags": []
   },
   "outputs": [
    {
     "data": {
      "text/plain": [
       "522.288269120184"
      ]
     },
     "execution_count": 7,
     "metadata": {},
     "output_type": "execute_result"
    }
   ],
   "source": [
    "def one_bs_mean():\n",
    "    mean_bsample = time_use_df['dur01'].sample(frac = 1, replace=True).mean()\n",
    "    return mean_bsample\n",
    "\n",
    "one_bs_mean()"
   ]
  },
  {
   "cell_type": "markdown",
   "id": "b83d2454-acee-424f-8682-c573278d3741",
   "metadata": {
    "editable": true,
    "slideshow": {
     "slide_type": "fragment"
    },
    "tags": []
   },
   "source": [
    "- Now let's compute many resampled mean by writing a `for` loop."
   ]
  },
  {
   "cell_type": "code",
   "execution_count": 8,
   "id": "d8d793ce-be2d-49e0-85f2-276b34253cc5",
   "metadata": {
    "editable": true,
    "slideshow": {
     "slide_type": ""
    },
    "tags": []
   },
   "outputs": [],
   "source": [
    "bootstrap_means = []  # empty list to collect means\n",
    "\n",
    "for _ in range(5000):\n",
    "    bootstrap_means.append(one_bs_mean())"
   ]
  },
  {
   "cell_type": "code",
   "execution_count": 9,
   "id": "e7be41a3-629a-4d94-8857-2a942a9a60ae",
   "metadata": {
    "editable": true,
    "slideshow": {
     "slide_type": "fragment"
    },
    "tags": []
   },
   "outputs": [
    {
     "data": {
      "image/png": "[encoded data removed]",
      "text/plain": [
       "<Figure size 640x480 with 1 Axes>"
      ]
     },
     "metadata": {},
     "output_type": "display_data"
    }
   ],
   "source": [
    "plt.hist(bootstrap_means, color = 'grey', edgecolor = 'black');"
   ]
  },
  {
   "cell_type": "markdown",
   "id": "ca296bbc-b1c0-4260-b5c6-bf1b41954080",
   "metadata": {
    "editable": true,
    "slideshow": {
     "slide_type": "slide"
    },
    "tags": []
   },
   "source": [
    "## Boostrap confidence intervals (CIs)\n",
    "\n",
    "- We can use the bootstrap distribution to construct a range of values such that 95% of the random samples will contain the true mean (i.e., population mean).\n",
    "\n",
    "- The range of values is called a confidence interval.\n",
    "\n",
    "- A 95% confidence interval for the mean can be constructed finding the 2.5% percentile and the 97.5% percentile.  \n",
    "\n",
    "- The reason for choosing 2.5% and 97.5% is that 0.05/2 = 0.025, and 1 - 0.025 = 0.975.   \n",
    "\n",
    "- We can do this using the `percentile` function in `numpy`."
   ]
  },
  {
   "cell_type": "code",
   "execution_count": 10,
   "id": "7dcb3edb-4372-4e40-9b70-5464ef90aa88",
   "metadata": {
    "editable": true,
    "slideshow": {
     "slide_type": "fragment"
    },
    "tags": []
   },
   "outputs": [
    {
     "name": "stdout",
     "output_type": "stream",
     "text": [
      "A 95% bootstrap confidence interval for mean is 520.46 minutes to 524.37 minutes.\n"
     ]
    }
   ],
   "source": [
    "low_range = np.percentile(bootstrap_means, 2.5)\n",
    "high_range = np.percentile(bootstrap_means, 97.5)\n",
    "print(f\"A 95% bootstrap confidence interval for mean is {round(low_range,2)} minutes to {round(high_range,2)} minutes.\")"
   ]
  },
  {
   "cell_type": "markdown",
   "id": "b7fe4d25-0fb4-4ff0-b682-69f4745c84bf",
   "metadata": {
    "editable": true,
    "slideshow": {
     "slide_type": "slide"
    },
    "tags": []
   },
   "source": [
    "### The choice of percentage and CIs\n",
    "\n",
    "Larger percentages means larger CIs: having more confidence that true value is contained in this range."
   ]
  },
  {
   "cell_type": "code",
   "execution_count": 11,
   "id": "702a667d-13d3-4af1-9988-d4061feb28a5",
   "metadata": {
    "editable": true,
    "slideshow": {
     "slide_type": "slide"
    },
    "tags": []
   },
   "outputs": [
    {
     "data": {
      "application/vnd.jupyter.widget-view+json": {
       "model_id": "9f4ba4366c494ffab972e59e149da98e",
       "version_major": 2,
       "version_minor": 0
      },
      "text/plain": [
       "interactive(children=(IntSlider(value=80, description='p', max=99, min=80), Output()), _dom_classes=('widget-i…"
      ]
     },
     "metadata": {},
     "output_type": "display_data"
    }
   ],
   "source": [
    "def plot_CIs(p):\n",
    "    plt.axvline(x = np.percentile(bootstrap_means, (100-p)/2), color = 'r', label = 'axvline - full height')\n",
    "    plt.axvline(x = np.percentile(bootstrap_means, p+(100-p)/2), color = 'r', label = 'axvline - full height')\n",
    "    plt.xlim(519, 526)\n",
    "\n",
    "interact(plot_CIs, p = widgets.IntSlider(min = 80, max= 99, value=5));"
   ]
  },
  {
   "cell_type": "markdown",
   "id": "2701bbb8-867f-4ae4-ade0-8e18973c40e0",
   "metadata": {
    "editable": true,
    "slideshow": {
     "slide_type": "slide"
    },
    "tags": []
   },
   "source": [
    "## Using Bootstrap confidence intervals to compare samples"
   ]
  },
  {
   "cell_type": "markdown",
   "id": "cd427010-66a9-4b43-8abb-02ae5ea66a6f",
   "metadata": {
    "editable": true,
    "slideshow": {
     "slide_type": "fragment"
    },
    "tags": []
   },
   "source": [
    "### Do people with no children under 14 spend more time resting? \n",
    "\n",
    "- Firstly, create a dataset (`DataFrame`) with children under 14 and time spent resting."
   ]
  },
  {
   "cell_type": "markdown",
   "id": "c5d3ffbc",
   "metadata": {
    "editable": true,
    "slideshow": {
     "slide_type": "subslide"
    },
    "tags": []
   },
   "source": [
    "```\n",
    "chh0014c           Child(ren) in household - 0 to 14 years\n",
    "\n",
    "           VALUE  LABEL\n",
    "               0  None\n",
    "               1  One\n",
    "               2  Two\n",
    "               3  Three or more\n",
    "               6  Valid skip\n",
    "               7  Don't know\n",
    "               8  Refusal\n",
    "               9  Not stated\n",
    "\n",
    "```"
   ]
  },
  {
   "cell_type": "code",
   "execution_count": 12,
   "id": "ace720ab-2da6-4987-a59c-ee3255ce88fb",
   "metadata": {
    "editable": true,
    "slideshow": {
     "slide_type": "subslide"
    },
    "tags": []
   },
   "outputs": [
    {
     "data": {
      "text/html": [
       "<div>\n",
       "<style scoped>\n",
       "    .dataframe tbody tr th:only-of-type {\n",
       "        vertical-align: middle;\n",
       "    }\n",
       "\n",
       "    .dataframe tbody tr th {\n",
       "        vertical-align: top;\n",
       "    }\n",
       "\n",
       "    .dataframe thead th {\n",
       "        text-align: right;\n",
       "    }\n",
       "</style>\n",
       "<table border=\"1\" class=\"dataframe\">\n",
       "  <thead>\n",
       "    <tr style=\"text-align: right;\">\n",
       "      <th></th>\n",
       "      <th>resttime</th>\n",
       "      <th>children</th>\n",
       "    </tr>\n",
       "  </thead>\n",
       "  <tbody>\n",
       "    <tr>\n",
       "      <th>0</th>\n",
       "      <td>510</td>\n",
       "      <td>0</td>\n",
       "    </tr>\n",
       "    <tr>\n",
       "      <th>1</th>\n",
       "      <td>420</td>\n",
       "      <td>0</td>\n",
       "    </tr>\n",
       "    <tr>\n",
       "      <th>2</th>\n",
       "      <td>570</td>\n",
       "      <td>3</td>\n",
       "    </tr>\n",
       "    <tr>\n",
       "      <th>3</th>\n",
       "      <td>510</td>\n",
       "      <td>0</td>\n",
       "    </tr>\n",
       "    <tr>\n",
       "      <th>4</th>\n",
       "      <td>525</td>\n",
       "      <td>0</td>\n",
       "    </tr>\n",
       "  </tbody>\n",
       "</table>\n",
       "</div>"
      ],
      "text/plain": [
       "   resttime  children\n",
       "0       510         0\n",
       "1       420         0\n",
       "2       570         3\n",
       "3       510         0\n",
       "4       525         0"
      ]
     },
     "execution_count": 12,
     "metadata": {},
     "output_type": "execute_result"
    }
   ],
   "source": [
    "cols = ['dur01', 'chh0014c']\n",
    "\n",
    "colnames = {cols[0] : 'resttime',\n",
    "            cols[1] : 'children'}\n",
    "\n",
    "restchild_df = time_use_df[cols]\n",
    "\n",
    "restchild_df = restchild_df.copy()\n",
    "\n",
    "restchild_df.rename(columns = colnames, inplace=True)\n",
    "\n",
    "restchild_df.head()"
   ]
  },
  {
   "cell_type": "markdown",
   "id": "6a16c3f7",
   "metadata": {
    "editable": true,
    "slideshow": {
     "slide_type": "slide"
    },
    "tags": []
   },
   "source": [
    "### Hypothesis testing\n",
    "\n",
    "Two claims:\n",
    "\n",
    "1. Null hypothesis: There is no difference in the average resting time between people with and without children under 14.  \n",
    "2. Alternative hypothesis: There is difference in the average resting time between people with and without children under 14.\n",
    "    - 2a. Alternative hypothesis: People with children with children under 14 have *less* resting time than the people with no children under 14 (preferred).\n",
    "    - 2b. Alternative hypothesis: People with children with children under 14 have *more* resting time than the people with no children under 14."
   ]
  },
  {
   "cell_type": "markdown",
   "id": "3f25392a-3982-4eca-a176-da1f859ac03b",
   "metadata": {
    "editable": true,
    "slideshow": {
     "slide_type": "slide"
    },
    "tags": []
   },
   "source": [
    "### Step 1: divide the samples with two subsamples (with and without children)\n",
    "\n",
    "Create a new column `'Child_in_house'` that indicates if a child is in the house."
   ]
  },
  {
   "cell_type": "code",
   "execution_count": 13,
   "id": "f642a7de-cbb6-4023-ac0f-bc4be701502b",
   "metadata": {
    "editable": true,
    "slideshow": {
     "slide_type": ""
    },
    "tags": []
   },
   "outputs": [
    {
     "data": {
      "text/html": [
       "<div>\n",
       "<style scoped>\n",
       "    .dataframe tbody tr th:only-of-type {\n",
       "        vertical-align: middle;\n",
       "    }\n",
       "\n",
       "    .dataframe tbody tr th {\n",
       "        vertical-align: top;\n",
       "    }\n",
       "\n",
       "    .dataframe thead th {\n",
       "        text-align: right;\n",
       "    }\n",
       "</style>\n",
       "<table border=\"1\" class=\"dataframe\">\n",
       "  <thead>\n",
       "    <tr style=\"text-align: right;\">\n",
       "      <th></th>\n",
       "      <th>resttime</th>\n",
       "      <th>children</th>\n",
       "      <th>Child_in_house</th>\n",
       "    </tr>\n",
       "  </thead>\n",
       "  <tbody>\n",
       "    <tr>\n",
       "      <th>0</th>\n",
       "      <td>510</td>\n",
       "      <td>0</td>\n",
       "      <td>No</td>\n",
       "    </tr>\n",
       "    <tr>\n",
       "      <th>1</th>\n",
       "      <td>420</td>\n",
       "      <td>0</td>\n",
       "      <td>No</td>\n",
       "    </tr>\n",
       "    <tr>\n",
       "      <th>2</th>\n",
       "      <td>570</td>\n",
       "      <td>3</td>\n",
       "      <td>Yes</td>\n",
       "    </tr>\n",
       "    <tr>\n",
       "      <th>3</th>\n",
       "      <td>510</td>\n",
       "      <td>0</td>\n",
       "      <td>No</td>\n",
       "    </tr>\n",
       "    <tr>\n",
       "      <th>4</th>\n",
       "      <td>525</td>\n",
       "      <td>0</td>\n",
       "      <td>No</td>\n",
       "    </tr>\n",
       "  </tbody>\n",
       "</table>\n",
       "</div>"
      ],
      "text/plain": [
       "   resttime  children Child_in_house\n",
       "0       510         0             No\n",
       "1       420         0             No\n",
       "2       570         3            Yes\n",
       "3       510         0             No\n",
       "4       525         0             No"
      ]
     },
     "execution_count": 13,
     "metadata": {},
     "output_type": "execute_result"
    }
   ],
   "source": [
    "restchild_df.loc[restchild_df['children'] > 0, 'Child_in_house'] = 'Yes'\n",
    "\n",
    "restchild_df.loc[restchild_df['children'] == 0, 'Child_in_house'] = 'No'\n",
    "\n",
    "restchild_df.head()"
   ]
  },
  {
   "cell_type": "code",
   "execution_count": 14,
   "id": "fd1f6571-7392-4a59-ae14-6f36b846760e",
   "metadata": {
    "editable": true,
    "slideshow": {
     "slide_type": ""
    },
    "tags": []
   },
   "outputs": [
    {
     "name": "stdout",
     "output_type": "stream",
     "text": [
      "Child_in_house\n",
      "No     525.826128\n",
      "Yes    509.046936\n",
      "Name: resttime, dtype: float64\n"
     ]
    }
   ],
   "source": [
    "mean_rest_times = restchild_df.groupby('Child_in_house')['resttime'].mean()\n",
    "print(mean_rest_times)"
   ]
  },
  {
   "cell_type": "code",
   "execution_count": 15,
   "id": "3a8ebc03-4a50-4228-bc9d-cdcee4ebbd89",
   "metadata": {
    "editable": true,
    "slideshow": {
     "slide_type": ""
    },
    "tags": []
   },
   "outputs": [
    {
     "name": "stdout",
     "output_type": "stream",
     "text": [
      "Mean difference: 16.77919133837969\n"
     ]
    }
   ],
   "source": [
    "print('Mean difference:', mean_rest_times.iloc[0] - mean_rest_times.iloc[1])"
   ]
  },
  {
   "cell_type": "code",
   "execution_count": 16,
   "id": "7c5ae602-3a55-4f4e-bf8d-3905fb310d5e",
   "metadata": {
    "editable": true,
    "slideshow": {
     "slide_type": "slide"
    },
    "tags": []
   },
   "outputs": [
    {
     "data": {
      "image/png": "[encoded data removed]",
      "text/plain": [
       "<Figure size 640x480 with 2 Axes>"
      ]
     },
     "metadata": {},
     "output_type": "display_data"
    }
   ],
   "source": [
    "restchild_df[['Child_in_house', 'resttime']].hist(by = 'Child_in_house', bins = 10, edgecolor = 'black', color = 'grey');"
   ]
  },
  {
   "cell_type": "markdown",
   "id": "de888864-f4b5-45ce-a540-ab23150baf87",
   "metadata": {
    "editable": true,
    "slideshow": {
     "slide_type": "slide"
    },
    "tags": []
   },
   "source": [
    "### Step 2: Create a function to create one bootstrap sample of the mean difference."
   ]
  },
  {
   "cell_type": "code",
   "execution_count": 17,
   "id": "dbd62ecb-b137-42b9-918f-e4d89e05aa8e",
   "metadata": {
    "editable": true,
    "slideshow": {
     "slide_type": ""
    },
    "tags": []
   },
   "outputs": [
    {
     "data": {
      "text/plain": [
       "18.52855583994142"
      ]
     },
     "execution_count": 17,
     "metadata": {},
     "output_type": "execute_result"
    }
   ],
   "source": [
    "child = restchild_df['Child_in_house'] == 'Yes'\n",
    "\n",
    "nochild = restchild_df['Child_in_house'] == 'No'\n",
    "\n",
    "def bs_one_mean_diff():\n",
    "    # sample sleep and rest with replacement\n",
    "    bssample = restchild_df.sample(frac = 1, replace =  True)\n",
    "    \n",
    "    # compute difference in means on bootstrap sample\n",
    "    bs_mean_diff = (bssample.loc[nochild, 'resttime'].mean() - \n",
    "                   bssample.loc[child, 'resttime'].mean())\n",
    "    return bs_mean_diff\n",
    "\n",
    "bs_one_mean_diff()"
   ]
  },
  {
   "cell_type": "markdown",
   "id": "8dbaeefe-6697-4b13-b14d-1672fbbd977d",
   "metadata": {
    "editable": true,
    "slideshow": {
     "slide_type": "slide"
    },
    "tags": []
   },
   "source": [
    "### Step 3: Compute bootstrap distribution "
   ]
  },
  {
   "cell_type": "code",
   "execution_count": 18,
   "id": "52253fe5-71d4-46be-8afe-599b12d18fa3",
   "metadata": {
    "editable": true,
    "slideshow": {
     "slide_type": ""
    },
    "tags": []
   },
   "outputs": [],
   "source": [
    "bootst_mean_diffs = []\n",
    "\n",
    "for _ in range(5000):\n",
    "    bootst_mean_diffs.append(bs_one_mean_diff())"
   ]
  },
  {
   "cell_type": "code",
   "execution_count": 19,
   "id": "c1e01f8e-24f0-47f9-8dc5-72cace020074",
   "metadata": {
    "editable": true,
    "slideshow": {
     "slide_type": ""
    },
    "tags": []
   },
   "outputs": [
    {
     "data": {
      "image/png": "[encoded data removed]",
      "text/plain": [
       "<Figure size 640x480 with 1 Axes>"
      ]
     },
     "metadata": {},
     "output_type": "display_data"
    }
   ],
   "source": [
    "plt.hist(bootst_mean_diffs, color = 'grey', edgecolor = 'black');"
   ]
  },
  {
   "cell_type": "markdown",
   "id": "ea7ff042-269a-490b-85a7-3eebf7b07c41",
   "metadata": {
    "editable": true,
    "slideshow": {
     "slide_type": "slide"
    },
    "tags": []
   },
   "source": [
    "### Step 4: obtain a 95% confidence interval for the mean difference"
   ]
  },
  {
   "cell_type": "code",
   "execution_count": 20,
   "id": "584a39aa-8cff-428a-ac3e-728da6efa3f3",
   "metadata": {
    "editable": true,
    "slideshow": {
     "slide_type": ""
    },
    "tags": []
   },
   "outputs": [
    {
     "data": {
      "text/plain": [
       "(12.135336878345978, 21.382890125552613)"
      ]
     },
     "execution_count": 20,
     "metadata": {},
     "output_type": "execute_result"
    }
   ],
   "source": [
    "np.percentile(bootst_mean_diffs, 2.5), np.percentile(bootst_mean_diffs, 97.5) "
   ]
  },
  {
   "cell_type": "markdown",
   "id": "a076632b-a50f-4251-a3af-915600d2dd2d",
   "metadata": {
    "editable": true,
    "slideshow": {
     "slide_type": "fragment"
    },
    "tags": []
   },
   "source": [
    "The confidence interval does not contain 0 and larger than 0.\n",
    "- The null hypothesis is rejected; the alternative hypothesis is accepted (in 95% CI).\n",
    "- The people with children have *significantly* less resting time than the people without children in 95% CI, thus supportting Hypothesis 2a. "
   ]
  },
  {
   "cell_type": "markdown",
   "id": "0b39808a-c6a5-43e6-8da8-e7f55302b093",
   "metadata": {
    "editable": true,
    "slideshow": {
     "slide_type": "slide"
    },
    "tags": []
   },
   "source": [
    "## In-class exercise\n",
    "\n",
    "Modify the code above to compute a 95% bootstrap confidence interval for the difference in 90th percentiles between respondents with and without children under 14. \n",
    "\n",
    "Does the confidence interval contain 0?"
   ]
  },
  {
   "cell_type": "code",
   "execution_count": 21,
   "id": "6e08b687",
   "metadata": {
    "editable": true,
    "slideshow": {
     "slide_type": "fragment"
    },
    "tags": []
   },
   "outputs": [
    {
     "data": {
      "text/plain": [
       "(12.830596120247355, 20.646659562254072)"
      ]
     },
     "execution_count": 21,
     "metadata": {},
     "output_type": "execute_result"
    }
   ],
   "source": [
    "np.percentile(bootst_mean_diffs, 5), np.percentile(bootst_mean_diffs, 95) "
   ]
  },
  {
   "cell_type": "code",
   "execution_count": 22,
   "id": "c10f79ac",
   "metadata": {
    "editable": true,
    "slideshow": {
     "slide_type": "slide"
    },
    "tags": []
   },
   "outputs": [
    {
     "data": {
      "image/png": "[encoded data removed]",
      "text/plain": [
       "<Figure size 640x480 with 1 Axes>"
      ]
     },
     "metadata": {},
     "output_type": "display_data"
    }
   ],
   "source": [
    "plt.hist(bootst_mean_diffs, color = 'grey', edgecolor = 'black')\n",
    "# 95% confidence intervel in red line\n",
    "plt.axvline(x = np.percentile(bootst_mean_diffs, 2.5), color = 'r', label = 'axvline - full height')\n",
    "plt.axvline(x = np.percentile(bootst_mean_diffs, 97.5), color = 'r', label = 'axvline - full height')\n",
    "# 90% confidence intervel in blue line\n",
    "plt.axvline(x = np.percentile(bootst_mean_diffs, 5), color = 'b', label = 'axvline - full height')\n",
    "plt.axvline(x = np.percentile(bootst_mean_diffs, 95), color = 'b', label = 'axvline - full height');\n"
   ]
  },
  {
   "cell_type": "markdown",
   "id": "2bf04463",
   "metadata": {
    "editable": true,
    "slideshow": {
     "slide_type": "fragment"
    },
    "tags": []
   },
   "source": [
    "Larger confidence interval (95% v.s. 90%) mean wider distribution \n",
    "- Less likely (5% v.s. 10%) to be wrong to reject the null hypothesis"
   ]
  },
  {
   "cell_type": "markdown",
   "id": "7f1ea009",
   "metadata": {
    "editable": true,
    "slideshow": {
     "slide_type": "slide"
    },
    "tags": []
   },
   "source": [
    "## Another method to compare two samples (A review of shuffling)"
   ]
  },
  {
   "cell_type": "markdown",
   "id": "a666b573",
   "metadata": {
    "editable": true,
    "slideshow": {
     "slide_type": ""
    },
    "tags": []
   },
   "source": [
    "### Hypothesis testing\n",
    "\n",
    "Two claims:\n",
    "\n",
    "1. Null hypothesis: The average resting time of people with children is the same as the average resting time of people without children.\n",
    "2. Alternative hypothesis: The average resting time of people with children is different from the average resting time of people without children.\n",
    "- 2a. Alternative hypothesis: People with children with children under 14 have less resting time than the people with no children under 14."
   ]
  },
  {
   "cell_type": "markdown",
   "id": "96c8f22f",
   "metadata": {
    "editable": true,
    "slideshow": {
     "slide_type": "slide"
    },
    "tags": []
   },
   "source": [
    "#### A thought expriement: shuffling process\n",
    "\n",
    "\n",
    "- Imagine we have `len(restchild_df.loc[child])` cards labelled `Child` and `len(restchild_df.loc[nochild])` cards labelled `No_child`.\n",
    "\n",
    "\n",
    "- Shuffle the cards ...\n",
    "\n",
    "\n",
    "- Assign the cards to the samples then calculate the mean resting time difference between `Child` and `No_child`.  This is one simulated value of the test statistic. \n",
    "\n",
    "\n",
    "- Shuffle the cards again ...\n",
    "\n",
    "\n",
    "- Assign the cards to the samples then calculate the mean resting time difference between `Child` and `No_child`. This is second simulated value of the test statistic. \n",
    "\n",
    "\n",
    "- Continue shuffling, assigning , and computing the mean difference... in many times\n",
    "\n",
    "If there is no differences of the average rest time between people with or without children (null hypothesis), the shuffling process will change the mean difference. In other words, we will observe many 'unusual' mean differences."
   ]
  },
  {
   "cell_type": "code",
   "execution_count": 23,
   "id": "b39a0928",
   "metadata": {
    "editable": true,
    "slideshow": {
     "slide_type": "slide"
    },
    "tags": []
   },
   "outputs": [
    {
     "data": {
      "text/html": [
       "<div>\n",
       "<style scoped>\n",
       "    .dataframe tbody tr th:only-of-type {\n",
       "        vertical-align: middle;\n",
       "    }\n",
       "\n",
       "    .dataframe tbody tr th {\n",
       "        vertical-align: top;\n",
       "    }\n",
       "\n",
       "    .dataframe thead th {\n",
       "        text-align: right;\n",
       "    }\n",
       "</style>\n",
       "<table border=\"1\" class=\"dataframe\">\n",
       "  <thead>\n",
       "    <tr style=\"text-align: right;\">\n",
       "      <th></th>\n",
       "      <th>resttime</th>\n",
       "      <th>children</th>\n",
       "      <th>Child_in_house</th>\n",
       "    </tr>\n",
       "  </thead>\n",
       "  <tbody>\n",
       "    <tr>\n",
       "      <th>0</th>\n",
       "      <td>510</td>\n",
       "      <td>0</td>\n",
       "      <td>No</td>\n",
       "    </tr>\n",
       "    <tr>\n",
       "      <th>1</th>\n",
       "      <td>420</td>\n",
       "      <td>0</td>\n",
       "      <td>No</td>\n",
       "    </tr>\n",
       "    <tr>\n",
       "      <th>2</th>\n",
       "      <td>570</td>\n",
       "      <td>3</td>\n",
       "      <td>Yes</td>\n",
       "    </tr>\n",
       "    <tr>\n",
       "      <th>3</th>\n",
       "      <td>510</td>\n",
       "      <td>0</td>\n",
       "      <td>No</td>\n",
       "    </tr>\n",
       "    <tr>\n",
       "      <th>4</th>\n",
       "      <td>525</td>\n",
       "      <td>0</td>\n",
       "      <td>No</td>\n",
       "    </tr>\n",
       "  </tbody>\n",
       "</table>\n",
       "</div>"
      ],
      "text/plain": [
       "   resttime  children Child_in_house\n",
       "0       510         0             No\n",
       "1       420         0             No\n",
       "2       570         3            Yes\n",
       "3       510         0             No\n",
       "4       525         0             No"
      ]
     },
     "execution_count": 23,
     "metadata": {},
     "output_type": "execute_result"
    }
   ],
   "source": [
    "restchild_df.head()"
   ]
  },
  {
   "cell_type": "markdown",
   "id": "6bd75650",
   "metadata": {
    "editable": true,
    "slideshow": {
     "slide_type": "fragment"
    },
    "tags": []
   },
   "source": [
    "### Step 1: shuffling the children label and assignment to the samples"
   ]
  },
  {
   "cell_type": "code",
   "execution_count": 24,
   "id": "67aa4b87",
   "metadata": {
    "editable": true,
    "slideshow": {
     "slide_type": ""
    },
    "tags": []
   },
   "outputs": [
    {
     "data": {
      "text/plain": [
       "0     No\n",
       "1     No\n",
       "2     No\n",
       "3    Yes\n",
       "4    Yes\n",
       "Name: Child_in_house, dtype: object"
      ]
     },
     "execution_count": 24,
     "metadata": {},
     "output_type": "execute_result"
    }
   ],
   "source": [
    "shuffle_df = restchild_df.copy()\n",
    "restchild_sim = shuffle_df['Child_in_house'].sample(frac=1, replace = False).reset_index(drop = True)\n",
    "restchild_sim.head()"
   ]
  },
  {
   "cell_type": "markdown",
   "id": "954c8e90",
   "metadata": {
    "editable": true,
    "slideshow": {
     "slide_type": "slide"
    },
    "tags": []
   },
   "source": [
    "### Step 2: compute the mean resting time difference between people with and without children"
   ]
  },
  {
   "cell_type": "code",
   "execution_count": 25,
   "id": "75e3ae63",
   "metadata": {
    "editable": true,
    "slideshow": {
     "slide_type": ""
    },
    "tags": []
   },
   "outputs": [
    {
     "data": {
      "text/plain": [
       "-3.9714576199221483"
      ]
     },
     "execution_count": 25,
     "metadata": {},
     "output_type": "execute_result"
    }
   ],
   "source": [
    "mean_child = shuffle_df.loc[restchild_sim == 'Yes', 'resttime'].mean()\n",
    "mean_nochild = shuffle_df.loc[restchild_sim == 'No', 'resttime'].mean()\n",
    "\n",
    "sim_diff = mean_nochild - mean_child\n",
    "sim_diff"
   ]
  },
  {
   "cell_type": "markdown",
   "id": "4c09b408",
   "metadata": {
    "editable": true,
    "slideshow": {
     "slide_type": "slide"
    },
    "tags": []
   },
   "source": [
    "### Step 3: Repeat Steps 1 and 2 a large number of times (e.g., 5000) to get the distribution of mean differences. "
   ]
  },
  {
   "cell_type": "code",
   "execution_count": 26,
   "id": "fe5448d1",
   "metadata": {
    "editable": true,
    "slideshow": {
     "slide_type": ""
    },
    "tags": []
   },
   "outputs": [],
   "source": [
    "simulated_diffs = []\n",
    "\n",
    "for _ in range(5000):\n",
    "    restchild_sim = shuffle_df['Child_in_house'].sample(frac=1, replace = False).reset_index(drop = True)\n",
    "    mean_child = shuffle_df.loc[restchild_sim == 'Yes', 'resttime'].mean()\n",
    "    mean_nochild = shuffle_df.loc[restchild_sim == 'No', 'resttime'].mean()\n",
    "    sim_diff = mean_nochild - mean_child\n",
    "    simulated_diffs.append(sim_diff)"
   ]
  },
  {
   "cell_type": "code",
   "execution_count": 27,
   "id": "6b186af3",
   "metadata": {
    "editable": true,
    "slideshow": {
     "slide_type": ""
    },
    "tags": []
   },
   "outputs": [
    {
     "data": {
      "image/png": "[encoded data removed]",
      "text/plain": [
       "<Figure size 640x480 with 1 Axes>"
      ]
     },
     "metadata": {},
     "output_type": "display_data"
    }
   ],
   "source": [
    "import matplotlib.pyplot as plt\n",
    "\n",
    "plt.hist(simulated_diffs, edgecolor = 'black', color = 'lightgrey');"
   ]
  },
  {
   "cell_type": "markdown",
   "id": "588369ed",
   "metadata": {
    "editable": true,
    "slideshow": {
     "slide_type": "slide"
    },
    "tags": []
   },
   "source": [
    "### Step 4: Compare the simulate mean differences to the observed mean difference and calculate p-value"
   ]
  },
  {
   "cell_type": "code",
   "execution_count": 28,
   "id": "8e9217f4",
   "metadata": {
    "editable": true,
    "slideshow": {
     "slide_type": ""
    },
    "tags": []
   },
   "outputs": [
    {
     "data": {
      "text/plain": [
       "16.77919133837969"
      ]
     },
     "execution_count": 28,
     "metadata": {},
     "output_type": "execute_result"
    }
   ],
   "source": [
    "obs_mean_nochild = restchild_df.loc[restchild_df['Child_in_house']=='No', 'resttime'].mean()\n",
    "obs_mean_child = restchild_df.loc[restchild_df['Child_in_house']=='Yes', 'resttime'].mean()\n",
    "\n",
    "obs_diff = obs_mean_nochild - obs_mean_child\n",
    "obs_diff"
   ]
  },
  {
   "cell_type": "code",
   "execution_count": 29,
   "id": "d703e5e9",
   "metadata": {
    "editable": true,
    "slideshow": {
     "slide_type": ""
    },
    "tags": []
   },
   "outputs": [
    {
     "name": "stdout",
     "output_type": "stream",
     "text": [
      "The number of simulated differences greater than the observed difference is: 0\n",
      "The number of simulated differences smaller than the observed difference is: 0\n",
      "The p-value is: 0.0\n"
     ]
    }
   ],
   "source": [
    "simulated_diffs_df = pd.DataFrame({'sim_diffs' : simulated_diffs})\n",
    "\n",
    "numgreater = (simulated_diffs_df['sim_diffs'] >= obs_diff).sum()\n",
    "print('The number of simulated differences greater than the observed difference is:', numgreater)\n",
    "\n",
    "numsmaller = (simulated_diffs_df['sim_diffs'] < -1 * obs_diff).sum()\n",
    "print('The number of simulated differences smaller than the observed difference is:', numsmaller)\n",
    "\n",
    "pvalue = (numgreater + numsmaller)/ 5000\n",
    "\n",
    "print('The p-value is:', pvalue)"
   ]
  },
  {
   "cell_type": "markdown",
   "id": "543d3151",
   "metadata": {
    "editable": true,
    "slideshow": {
     "slide_type": "slide"
    },
    "tags": []
   },
   "source": [
    "### Step 5: Interpretation\n",
    "\n",
    "None of the simulated differences is greater or smaller than the observed differences.\n",
    "- The null hypothesis is rejected.\n",
    "\n",
    "The observed differences of resting time between people with and without children are true difference (instead of random error).\n",
    "- obs_diff > 0, indicating people without children have more restting time.  "
   ]
  },
  {
   "cell_type": "markdown",
   "id": "680676cc",
   "metadata": {
    "editable": true,
    "slideshow": {
     "slide_type": "slide"
    },
    "tags": []
   },
   "source": [
    "## Think about: what is the difference between bootstrap and shuffling?\n"
   ]
  },
  {
   "cell_type": "markdown",
   "id": "9f9b89fd",
   "metadata": {
    "editable": true,
    "slideshow": {
     "slide_type": "subslide"
    },
    "tags": []
   },
   "source": [
    "1. Both bootstrap and shuffling can be applied to compare two samples, but their logics are different.\n",
    "- Bootstrap: resampling **with replacement** and get the distribution of mean differences, which represents the *mean differences in population*\n",
    "\n",
    "```bssample = restchild_df.sample(frac = 1, replace =  True)```\n",
    "\n",
    "- Shuffling: shuffle the label (reampling **without replacement**) and reassign to the samples to get the distribution of mean differences, which represents the *\"unusual\" values*\n",
    "\n",
    "```restchild_sim = shuffle_df['Child_in_house'].sample(frac=1, replace = False).reset_index(drop = True) ```\n",
    "\n",
    "2. Bootstrap can be applied to many other situations in order to obtain robust results (e.g., regression), while shuffling can only applied in comparison between samples.\n"
   ]
  },
  {
   "cell_type": "code",
   "execution_count": null,
   "id": "5a50b780-b156-4f68-a958-cb392dae7870",
   "metadata": {
    "editable": true,
    "slideshow": {
     "slide_type": ""
    },
    "tags": []
   },
   "outputs": [],
   "source": []
  },
  {
   "cell_type": "markdown",
   "id": "220300d3-0cab-4c66-bc66-dfae39fc1f5e",
   "metadata": {
    "editable": true,
    "slideshow": {
     "slide_type": "slide"
    },
    "tags": []
   },
   "source": [
    "# Linear Regression\n",
    "\n",
    "## Basic idea\n",
    "\n",
    "- Linear regression is a useful technique for creating models to explain (linear) relationships between variables. \n",
    "\n",
    "- For use in multiple regression, the dependent variable must be numeric and have meaningful numeric values (i.e., must be an interval variable).\n",
    "\n",
    "- The independent variables can be categorical or interval variables."
   ]
  },
  {
   "cell_type": "markdown",
   "id": "152d67e0-34de-45d3-b948-103fc4339746",
   "metadata": {
    "editable": true,
    "slideshow": {
     "slide_type": "slide"
    },
    "tags": []
   },
   "source": [
    "## Example 1: perfect linear relationship between dependent and independent variables\n",
    "\n",
    "### Data"
   ]
  },
  {
   "cell_type": "code",
   "execution_count": 30,
   "id": "4219d97b-78d7-4c83-b5d2-cf92bb7692ee",
   "metadata": {
    "editable": true,
    "slideshow": {
     "slide_type": ""
    },
    "tags": []
   },
   "outputs": [
    {
     "data": {
      "text/html": [
       "<div>\n",
       "<style scoped>\n",
       "    .dataframe tbody tr th:only-of-type {\n",
       "        vertical-align: middle;\n",
       "    }\n",
       "\n",
       "    .dataframe tbody tr th {\n",
       "        vertical-align: top;\n",
       "    }\n",
       "\n",
       "    .dataframe thead th {\n",
       "        text-align: right;\n",
       "    }\n",
       "</style>\n",
       "<table border=\"1\" class=\"dataframe\">\n",
       "  <thead>\n",
       "    <tr style=\"text-align: right;\">\n",
       "      <th></th>\n",
       "      <th>depvar</th>\n",
       "      <th>indvar</th>\n",
       "    </tr>\n",
       "  </thead>\n",
       "  <tbody>\n",
       "    <tr>\n",
       "      <th>0</th>\n",
       "      <td>0</td>\n",
       "      <td>0</td>\n",
       "    </tr>\n",
       "    <tr>\n",
       "      <th>1</th>\n",
       "      <td>1</td>\n",
       "      <td>1</td>\n",
       "    </tr>\n",
       "    <tr>\n",
       "      <th>2</th>\n",
       "      <td>2</td>\n",
       "      <td>2</td>\n",
       "    </tr>\n",
       "    <tr>\n",
       "      <th>3</th>\n",
       "      <td>3</td>\n",
       "      <td>3</td>\n",
       "    </tr>\n",
       "    <tr>\n",
       "      <th>4</th>\n",
       "      <td>4</td>\n",
       "      <td>4</td>\n",
       "    </tr>\n",
       "    <tr>\n",
       "      <th>5</th>\n",
       "      <td>5</td>\n",
       "      <td>5</td>\n",
       "    </tr>\n",
       "    <tr>\n",
       "      <th>6</th>\n",
       "      <td>6</td>\n",
       "      <td>6</td>\n",
       "    </tr>\n",
       "    <tr>\n",
       "      <th>7</th>\n",
       "      <td>7</td>\n",
       "      <td>7</td>\n",
       "    </tr>\n",
       "  </tbody>\n",
       "</table>\n",
       "</div>"
      ],
      "text/plain": [
       "   depvar  indvar\n",
       "0       0       0\n",
       "1       1       1\n",
       "2       2       2\n",
       "3       3       3\n",
       "4       4       4\n",
       "5       5       5\n",
       "6       6       6\n",
       "7       7       7"
      ]
     },
     "execution_count": 30,
     "metadata": {},
     "output_type": "execute_result"
    }
   ],
   "source": [
    "import pandas as pd\n",
    "import numpy as np\n",
    "\n",
    "data = {'depvar' : np.arange(start = 0, stop = 8, step =1),\n",
    "       'indvar' : np.arange(start = 0, stop = 8, step =1)}\n",
    "\n",
    "df = pd.DataFrame(data)\n",
    "\n",
    "df"
   ]
  },
  {
   "cell_type": "markdown",
   "id": "0656b45c-b961-416f-bbfd-fca0919bc52c",
   "metadata": {
    "slideshow": {
     "slide_type": "slide"
    }
   },
   "source": [
    "### Plot the data"
   ]
  },
  {
   "cell_type": "code",
   "execution_count": 31,
   "id": "edc1f32b-e190-418e-90c7-b8a2f01f8a02",
   "metadata": {
    "editable": true,
    "slideshow": {
     "slide_type": ""
    },
    "tags": []
   },
   "outputs": [
    {
     "data": {
      "image/png": "[encoded data removed]",
      "text/plain": [
       "<Figure size 640x480 with 1 Axes>"
      ]
     },
     "metadata": {},
     "output_type": "display_data"
    }
   ],
   "source": [
    "import matplotlib.pyplot as plt\n",
    "\n",
    "plt.scatter(x = df['indvar'], y = df['depvar'])\n",
    "plt.xlabel('indvar')\n",
    "plt.ylabel('depvar');"
   ]
  },
  {
   "cell_type": "markdown",
   "id": "1cd74e7b-2c64-492b-baf4-a5510f1be516",
   "metadata": {
    "editable": true,
    "slideshow": {
     "slide_type": "-"
    },
    "tags": []
   },
   "source": [
    "- The scatter plot shows each pair of points (1, 1), (2, 2), etc. \n",
    "\n",
    "- `'indvar'` is sometimes called a predictor variable or covariate, and `'depvar'` is called the dependent variable.\n",
    "\n",
    "- The dependent variable is predicted exactly by the independent variable."
   ]
  },
  {
   "cell_type": "markdown",
   "id": "fd5318bf-1204-4b5d-a59c-7efe71fae001",
   "metadata": {
    "editable": true,
    "slideshow": {
     "slide_type": "slide"
    },
    "tags": []
   },
   "source": [
    "### Compute the regression line"
   ]
  },
  {
   "cell_type": "code",
   "execution_count": 32,
   "id": "67a4c767-de14-440c-aa0d-d4253f96a1a1",
   "metadata": {
    "editable": true,
    "slideshow": {
     "slide_type": ""
    },
    "tags": []
   },
   "outputs": [],
   "source": [
    "from statsmodels.formula.api import ols\n",
    "\n",
    "regmod = ols('depvar ~ indvar', data = df) # setup the model"
   ]
  },
  {
   "cell_type": "markdown",
   "id": "ba52a7f4-4084-486a-9b53-aca3c9761627",
   "metadata": {
    "editable": true,
    "slideshow": {
     "slide_type": "fragment"
    },
    "tags": []
   },
   "source": [
    "- The code above uses the `ols` function from [`statsmodels.formula.api`](https://www.statsmodels.org/stable/api.html#statsmodels-formula-api)\n",
    "\n",
    "- The syntax in the function `ols` function `'depvar ~ indvar'` is a special syntax for describing statistical models.  \n",
    "\n",
    "- The column name to the **left** of `~` specifies the dependent variable.\n",
    "\n",
    "- The column name to the **right** of `~` specifies the independent variable(s)."
   ]
  },
  {
   "cell_type": "code",
   "execution_count": 33,
   "id": "e317b998-1729-4816-a544-45f97e9a5db8",
   "metadata": {
    "editable": true,
    "slideshow": {
     "slide_type": "fragment"
    },
    "tags": []
   },
   "outputs": [],
   "source": [
    "regmod_fit = regmod.fit() # estimate/fit the model "
   ]
  },
  {
   "cell_type": "markdown",
   "id": "d733d036-d8ec-48e3-8ce4-02aeaac6f02f",
   "metadata": {},
   "source": [
    "After the model is setup then the `fit` function can be applied to the model.  This function computes the equation of the regression line."
   ]
  },
  {
   "cell_type": "code",
   "execution_count": 34,
   "id": "f3a027a3-e2a9-4fec-a8b5-d1fde1312259",
   "metadata": {
    "editable": true,
    "slideshow": {
     "slide_type": "subslide"
    },
    "tags": []
   },
   "outputs": [
    {
     "data": {
      "text/plain": [
       "Intercept   -1.110223e-16\n",
       "indvar       1.000000e+00\n",
       "dtype: float64"
      ]
     },
     "execution_count": 34,
     "metadata": {},
     "output_type": "execute_result"
    }
   ],
   "source": [
    "regmod_fit.params # get parameter estimates"
   ]
  },
  {
   "cell_type": "markdown",
   "id": "577973f4-bea1-40c2-9fd6-886315af8b9c",
   "metadata": {},
   "source": [
    "- The estimates of the **y-intercept** and **slope** are labelled `Intercept` (1.11e-16 approx 0)  and `indvar` (1.00e+00 approx 1).\n",
    "\n",
    "- This means the regression equation is: $$\\texttt{depvar} = 0 + 1 \\times \\texttt{indvar}$$"
   ]
  },
  {
   "cell_type": "markdown",
   "id": "3f64f756-bd14-4083-a6ec-23a481cb1aff",
   "metadata": {
    "slideshow": {
     "slide_type": "slide"
    }
   },
   "source": [
    "## Example 2: another perfect linear relationship"
   ]
  },
  {
   "cell_type": "code",
   "execution_count": 35,
   "id": "506058f5-cd7d-4428-b707-3618cb1a04e9",
   "metadata": {
    "editable": true,
    "slideshow": {
     "slide_type": ""
    },
    "tags": []
   },
   "outputs": [
    {
     "data": {
      "text/html": [
       "<div>\n",
       "<style scoped>\n",
       "    .dataframe tbody tr th:only-of-type {\n",
       "        vertical-align: middle;\n",
       "    }\n",
       "\n",
       "    .dataframe tbody tr th {\n",
       "        vertical-align: top;\n",
       "    }\n",
       "\n",
       "    .dataframe thead th {\n",
       "        text-align: right;\n",
       "    }\n",
       "</style>\n",
       "<table border=\"1\" class=\"dataframe\">\n",
       "  <thead>\n",
       "    <tr style=\"text-align: right;\">\n",
       "      <th></th>\n",
       "      <th>depvar</th>\n",
       "      <th>indvar</th>\n",
       "    </tr>\n",
       "  </thead>\n",
       "  <tbody>\n",
       "    <tr>\n",
       "      <th>0</th>\n",
       "      <td>2</td>\n",
       "      <td>0</td>\n",
       "    </tr>\n",
       "    <tr>\n",
       "      <th>1</th>\n",
       "      <td>3</td>\n",
       "      <td>1</td>\n",
       "    </tr>\n",
       "    <tr>\n",
       "      <th>2</th>\n",
       "      <td>4</td>\n",
       "      <td>2</td>\n",
       "    </tr>\n",
       "    <tr>\n",
       "      <th>3</th>\n",
       "      <td>5</td>\n",
       "      <td>3</td>\n",
       "    </tr>\n",
       "    <tr>\n",
       "      <th>4</th>\n",
       "      <td>6</td>\n",
       "      <td>4</td>\n",
       "    </tr>\n",
       "    <tr>\n",
       "      <th>5</th>\n",
       "      <td>7</td>\n",
       "      <td>5</td>\n",
       "    </tr>\n",
       "    <tr>\n",
       "      <th>6</th>\n",
       "      <td>8</td>\n",
       "      <td>6</td>\n",
       "    </tr>\n",
       "    <tr>\n",
       "      <th>7</th>\n",
       "      <td>9</td>\n",
       "      <td>7</td>\n",
       "    </tr>\n",
       "  </tbody>\n",
       "</table>\n",
       "</div>"
      ],
      "text/plain": [
       "   depvar  indvar\n",
       "0       2       0\n",
       "1       3       1\n",
       "2       4       2\n",
       "3       5       3\n",
       "4       6       4\n",
       "5       7       5\n",
       "6       8       6\n",
       "7       9       7"
      ]
     },
     "execution_count": 35,
     "metadata": {},
     "output_type": "execute_result"
    }
   ],
   "source": [
    "data = {'depvar' : np.arange(start = 0, stop = 8, step =1) + 2,\n",
    "       'indvar' : np.arange(start = 0, stop = 8, step =1)}\n",
    "\n",
    "df = pd.DataFrame(data)\n",
    "\n",
    "df"
   ]
  },
  {
   "cell_type": "code",
   "execution_count": 36,
   "id": "9f22aad3-1582-45c7-b756-8edc969ed8ff",
   "metadata": {
    "editable": true,
    "slideshow": {
     "slide_type": "slide"
    },
    "tags": []
   },
   "outputs": [
    {
     "data": {
      "image/png": "[encoded data removed]",
      "text/plain": [
       "<Figure size 640x480 with 1 Axes>"
      ]
     },
     "metadata": {},
     "output_type": "display_data"
    }
   ],
   "source": [
    "plt.scatter(x = df['indvar'], y = df['depvar'])\n",
    "plt.ylim([0, 10])\n",
    "plt.xlabel('indvar')\n",
    "plt.ylabel('depvar');"
   ]
  },
  {
   "cell_type": "code",
   "execution_count": 37,
   "id": "ae1d07cd-1ec6-4512-a8b3-a998f4e6e910",
   "metadata": {
    "editable": true,
    "slideshow": {
     "slide_type": "fragment"
    },
    "tags": []
   },
   "outputs": [
    {
     "data": {
      "text/plain": [
       "Intercept    2.0\n",
       "indvar       1.0\n",
       "dtype: float64"
      ]
     },
     "execution_count": 37,
     "metadata": {},
     "output_type": "execute_result"
    }
   ],
   "source": [
    "regmod = ols('depvar ~ indvar', data = df) # setup the model\n",
    "\n",
    "regmod_fit = regmod.fit() # estimate/fit the model \n",
    "\n",
    "regmod_fit.params # get parameter estimates"
   ]
  },
  {
   "cell_type": "markdown",
   "id": "8dc59280-a239-4dcd-87f8-d053439efd40",
   "metadata": {
    "editable": true,
    "slideshow": {
     "slide_type": "fragment"
    },
    "tags": []
   },
   "source": [
    "- The scatter plot is similar to Example 1 except that the values of the dependent variable has been increased by 2.\n",
    "\n",
    "- The equation of the regression line for this data is:  $$\\texttt{depvar} = 2 + 1 \\times \\texttt{indvar} $$\n",
    "\n",
    "### Interpretation of y-intercept\n",
    "\n",
    "- When the independent variable is 0 the dependent variable is 2.  This is the meaning of the **y-intercept** value of 2.\n",
    "\n",
    "### Interpretation of slope\n",
    "\n",
    "- For a one-unit change in the independent variable the dependent variable changes by 1 unit."
   ]
  },
  {
   "cell_type": "markdown",
   "id": "cb246ece-bd30-4a87-9dcb-cd906e03950d",
   "metadata": {
    "editable": true,
    "slideshow": {
     "slide_type": "slide"
    },
    "tags": []
   },
   "source": [
    "## Example 3: close to linear\n",
    "\n",
    "- Examples 1 and 2 were perfect linear relationships.\n",
    "\n",
    "- In this example we examine what happens if the relationship between the dependent and independent variables is almost linear."
   ]
  },
  {
   "cell_type": "code",
   "execution_count": 38,
   "id": "991c323d-b0d2-407d-aa7a-d6b1d16d3fdb",
   "metadata": {
    "editable": true,
    "slideshow": {
     "slide_type": "fragment"
    },
    "tags": []
   },
   "outputs": [
    {
     "data": {
      "text/html": [
       "<div>\n",
       "<style scoped>\n",
       "    .dataframe tbody tr th:only-of-type {\n",
       "        vertical-align: middle;\n",
       "    }\n",
       "\n",
       "    .dataframe tbody tr th {\n",
       "        vertical-align: top;\n",
       "    }\n",
       "\n",
       "    .dataframe thead th {\n",
       "        text-align: right;\n",
       "    }\n",
       "</style>\n",
       "<table border=\"1\" class=\"dataframe\">\n",
       "  <thead>\n",
       "    <tr style=\"text-align: right;\">\n",
       "      <th></th>\n",
       "      <th>depvar</th>\n",
       "      <th>indvar</th>\n",
       "    </tr>\n",
       "  </thead>\n",
       "  <tbody>\n",
       "    <tr>\n",
       "      <th>0</th>\n",
       "      <td>2</td>\n",
       "      <td>0.360539</td>\n",
       "    </tr>\n",
       "    <tr>\n",
       "      <th>1</th>\n",
       "      <td>3</td>\n",
       "      <td>1.038950</td>\n",
       "    </tr>\n",
       "    <tr>\n",
       "      <th>2</th>\n",
       "      <td>4</td>\n",
       "      <td>2.926437</td>\n",
       "    </tr>\n",
       "    <tr>\n",
       "      <th>3</th>\n",
       "      <td>5</td>\n",
       "      <td>4.449868</td>\n",
       "    </tr>\n",
       "    <tr>\n",
       "      <th>4</th>\n",
       "      <td>6</td>\n",
       "      <td>4.840407</td>\n",
       "    </tr>\n",
       "    <tr>\n",
       "      <th>5</th>\n",
       "      <td>7</td>\n",
       "      <td>5.970854</td>\n",
       "    </tr>\n",
       "    <tr>\n",
       "      <th>6</th>\n",
       "      <td>8</td>\n",
       "      <td>6.025562</td>\n",
       "    </tr>\n",
       "    <tr>\n",
       "      <th>7</th>\n",
       "      <td>9</td>\n",
       "      <td>7.974743</td>\n",
       "    </tr>\n",
       "  </tbody>\n",
       "</table>\n",
       "</div>"
      ],
      "text/plain": [
       "   depvar    indvar\n",
       "0       2  0.360539\n",
       "1       3  1.038950\n",
       "2       4  2.926437\n",
       "3       5  4.449868\n",
       "4       6  4.840407\n",
       "5       7  5.970854\n",
       "6       8  6.025562\n",
       "7       9  7.974743"
      ]
     },
     "execution_count": 38,
     "metadata": {},
     "output_type": "execute_result"
    }
   ],
   "source": [
    "np.random.seed(11) #set the seed so that it's reproducible\n",
    "\n",
    "data = {'depvar' : np.arange(start = 0, stop = 8, step =1) + 2,\n",
    "        'indvar' : np.arange(start = 0, stop = 8, step =1) + np.random.uniform(low = 0, high = 2, size = 8)}\n",
    "\n",
    "df = pd.DataFrame(data)\n",
    "\n",
    "df"
   ]
  },
  {
   "cell_type": "code",
   "execution_count": 39,
   "id": "051aa2ec-f2cf-4721-a4d7-e35be1772575",
   "metadata": {
    "editable": true,
    "slideshow": {
     "slide_type": "subslide"
    },
    "tags": []
   },
   "outputs": [
    {
     "data": {
      "image/png": "[encoded data removed]",
      "text/plain": [
       "<Figure size 640x480 with 1 Axes>"
      ]
     },
     "metadata": {},
     "output_type": "display_data"
    }
   ],
   "source": [
    "plt.scatter(x = df['indvar'], y = df['depvar'])\n",
    "plt.ylim([0, 10])\n",
    "plt.xlabel('indvar')\n",
    "plt.ylabel('depvar');"
   ]
  },
  {
   "cell_type": "code",
   "execution_count": 40,
   "id": "e82978fe-86ff-464e-ad13-bc8fc6b164ee",
   "metadata": {
    "editable": true,
    "slideshow": {
     "slide_type": "subslide"
    },
    "tags": []
   },
   "outputs": [
    {
     "data": {
      "text/plain": [
       "Intercept    1.625418\n",
       "indvar       0.922867\n",
       "dtype: float64"
      ]
     },
     "execution_count": 40,
     "metadata": {},
     "output_type": "execute_result"
    }
   ],
   "source": [
    "regmod = ols('depvar ~ indvar', data = df) # setup the model\n",
    "\n",
    "regmod_fit = regmod.fit() # estimate/fit the model \n",
    "\n",
    "regmod_fit.params # get parameter estimates"
   ]
  },
  {
   "cell_type": "markdown",
   "id": "65c2f434-b5ac-41e4-aaad-8ffa3ce8f3a9",
   "metadata": {
    "editable": true,
    "slideshow": {
     "slide_type": "fragment"
    },
    "tags": []
   },
   "source": [
    "So, now the relationship isn't perfectly linear, but close.  The equation of this regression line is:\n",
    "\n",
    "$$\\texttt{depvar} = 1.63 + 0.92 \\times \\texttt{indvar}$$"
   ]
  },
  {
   "cell_type": "code",
   "execution_count": 41,
   "id": "699e57b4-651d-480a-80e2-5dd09a6c4a19",
   "metadata": {
    "editable": true,
    "slideshow": {
     "slide_type": "subslide"
    },
    "tags": []
   },
   "outputs": [
    {
     "data": {
      "image/png": "[encoded data removed]",
      "text/plain": [
       "<Figure size 640x480 with 1 Axes>"
      ]
     },
     "metadata": {},
     "output_type": "display_data"
    }
   ],
   "source": [
    "import seaborn as sns\n",
    "\n",
    "sns.regplot(x = 'indvar', y = 'depvar', data = df, ci = None);"
   ]
  },
  {
   "cell_type": "markdown",
   "id": "dd580628-d97a-48af-81f4-e94dce9d64c2",
   "metadata": {
    "editable": true,
    "slideshow": {
     "slide_type": "fragment"
    },
    "tags": []
   },
   "source": [
    "The `regplot` function in the `seaborn` library will produce a scatter plot with the regression line.\n",
    "\n",
    "The parameters of `regplot`\n",
    "\n",
    "- `x` is the independent variable.\n",
    "- `y` is the dependent variable.\n",
    "- `ci = None` specifies no confidence interval for the regression line "
   ]
  },
  {
   "cell_type": "markdown",
   "id": "526f21e5-9706-4a8b-a86c-f3ab20ab1a04",
   "metadata": {
    "slideshow": {
     "slide_type": "slide"
    }
   },
   "source": [
    "### Statistical summary of linear regression"
   ]
  },
  {
   "cell_type": "code",
   "execution_count": 42,
   "id": "c6cdec22-2569-49fd-8e44-aeecb18a8695",
   "metadata": {
    "editable": true,
    "slideshow": {
     "slide_type": ""
    },
    "tags": []
   },
   "outputs": [],
   "source": [
    "import warnings\n",
    "warnings.filterwarnings('ignore') # turn off warnings\n",
    "\n",
    "regsum = regmod_fit.summary()"
   ]
  },
  {
   "cell_type": "markdown",
   "id": "dd463289",
   "metadata": {
    "editable": true,
    "slideshow": {
     "slide_type": ""
    },
    "tags": []
   },
   "source": [
    "- A statistical summary of the regression model is given above using the `summary` function in `statsmodels`.\n",
    "\n",
    "- There are three summary tables, but we will only be interested in the second summary table---`regsum.tables[1]` (in this course)."
   ]
  },
  {
   "cell_type": "code",
   "execution_count": 43,
   "id": "744adbae",
   "metadata": {
    "editable": true,
    "slideshow": {
     "slide_type": "slide"
    },
    "tags": []
   },
   "outputs": [
    {
     "data": {
      "text/html": [
       "<table class=\"simpletable\">\n",
       "<tr>\n",
       "      <td></td>         <th>coef</th>     <th>std err</th>      <th>t</th>      <th>P>|t|</th>  <th>[0.025</th>    <th>0.975]</th>  \n",
       "</tr>\n",
       "<tr>\n",
       "  <th>Intercept</th> <td>    1.6254</td> <td>    0.353</td> <td>    4.607</td> <td> 0.004</td> <td>    0.762</td> <td>    2.489</td>\n",
       "</tr>\n",
       "<tr>\n",
       "  <th>indvar</th>    <td>    0.9229</td> <td>    0.073</td> <td>   12.700</td> <td> 0.000</td> <td>    0.745</td> <td>    1.101</td>\n",
       "</tr>\n",
       "</table>"
      ],
      "text/latex": [
       "\\begin{center}\n",
       "\\begin{tabular}{lcccccc}\n",
       "\\toprule\n",
       "                   & \\textbf{coef} & \\textbf{std err} & \\textbf{t} & \\textbf{P$> |$t$|$} & \\textbf{[0.025} & \\textbf{0.975]}  \\\\\n",
       "\\midrule\n",
       "\\textbf{Intercept} &       1.6254  &        0.353     &     4.607  &         0.004        &        0.762    &        2.489     \\\\\n",
       "\\textbf{indvar}    &       0.9229  &        0.073     &    12.700  &         0.000        &        0.745    &        1.101     \\\\\n",
       "\\bottomrule\n",
       "\\end{tabular}\n",
       "\\end{center}"
      ],
      "text/plain": [
       "<class 'statsmodels.iolib.table.SimpleTable'>"
      ]
     },
     "execution_count": 43,
     "metadata": {},
     "output_type": "execute_result"
    }
   ],
   "source": [
    "regsum.tables[1]"
   ]
  },
  {
   "cell_type": "markdown",
   "id": "68d50f9f",
   "metadata": {
    "slideshow": {
     "slide_type": "fragment"
    }
   },
   "source": [
    "What does the statistical summary represent?\n",
    "\n",
    "- the column labelled `coef` are same values as `regmod_fit.params`.  In this case the average increase `depvar` for a one unit change in `indvar` is 0.9229."
   ]
  },
  {
   "cell_type": "markdown",
   "id": "50e3c144",
   "metadata": {
    "slideshow": {
     "slide_type": "fragment"
    }
   },
   "source": [
    "- the `std err` column represents the standard deviation of the intercept and slope (we won't discuss in this course)."
   ]
  },
  {
   "cell_type": "markdown",
   "id": "eda83280",
   "metadata": {
    "slideshow": {
     "slide_type": "fragment"
    }
   },
   "source": [
    "- the `t` column represents the value of the t-statistic (we won't discuss in this course)."
   ]
  },
  {
   "cell_type": "code",
   "execution_count": 44,
   "id": "fcde898f",
   "metadata": {
    "slideshow": {
     "slide_type": "slide"
    }
   },
   "outputs": [
    {
     "data": {
      "text/html": [
       "<table class=\"simpletable\">\n",
       "<tr>\n",
       "      <td></td>         <th>coef</th>     <th>std err</th>      <th>t</th>      <th>P>|t|</th>  <th>[0.025</th>    <th>0.975]</th>  \n",
       "</tr>\n",
       "<tr>\n",
       "  <th>Intercept</th> <td>    1.6254</td> <td>    0.353</td> <td>    4.607</td> <td> 0.004</td> <td>    0.762</td> <td>    2.489</td>\n",
       "</tr>\n",
       "<tr>\n",
       "  <th>indvar</th>    <td>    0.9229</td> <td>    0.073</td> <td>   12.700</td> <td> 0.000</td> <td>    0.745</td> <td>    1.101</td>\n",
       "</tr>\n",
       "</table>"
      ],
      "text/latex": [
       "\\begin{center}\n",
       "\\begin{tabular}{lcccccc}\n",
       "\\toprule\n",
       "                   & \\textbf{coef} & \\textbf{std err} & \\textbf{t} & \\textbf{P$> |$t$|$} & \\textbf{[0.025} & \\textbf{0.975]}  \\\\\n",
       "\\midrule\n",
       "\\textbf{Intercept} &       1.6254  &        0.353     &     4.607  &         0.004        &        0.762    &        2.489     \\\\\n",
       "\\textbf{indvar}    &       0.9229  &        0.073     &    12.700  &         0.000        &        0.745    &        1.101     \\\\\n",
       "\\bottomrule\n",
       "\\end{tabular}\n",
       "\\end{center}"
      ],
      "text/plain": [
       "<class 'statsmodels.iolib.table.SimpleTable'>"
      ]
     },
     "execution_count": 44,
     "metadata": {},
     "output_type": "execute_result"
    }
   ],
   "source": [
    "regsum.tables[1]"
   ]
  },
  {
   "cell_type": "markdown",
   "id": "3053dba5",
   "metadata": {
    "slideshow": {
     "slide_type": "fragment"
    }
   },
   "source": [
    "- the column `P>|t|` represents the p-value corresponding to the null hypothesis that the intercept or slope are equal to 0.  If the value is small then this is evidence against the null hypothesis.  But if the p-value is large then there is no evidence against the null hypothesis.  "
   ]
  },
  {
   "cell_type": "markdown",
   "id": "b51f3c8a",
   "metadata": {
    "slideshow": {
     "slide_type": "fragment"
    }
   },
   "source": [
    "- Currently, how small a p-value should be to provide evidence against a null hypothesis is being debated.  Although, the traditional threshold is 0.05 (i.e., a p-value less than or equal to 0.05 is supposed to indicate evidence against the null hypothesis)."
   ]
  },
  {
   "cell_type": "markdown",
   "id": "16e7416b",
   "metadata": {
    "slideshow": {
     "slide_type": "fragment"
    }
   },
   "source": [
    "- In the example above the p-value for the slope is 0.  This indicates strong evidence that the *true* value of the slope is non-zero."
   ]
  },
  {
   "cell_type": "markdown",
   "id": "c594adc6-f532-4a8e-9783-3f8557a2d035",
   "metadata": {
    "slideshow": {
     "slide_type": "fragment"
    }
   },
   "source": [
    "- The columns `[0.025   0.975]` form a plausible range of values for the y-intercept and slope (formally known as a 95% confidence interval). In this case the plausible values for the slope are 0.745 and 1.101.  If the plausible range includes 0 then this is usually interpreted as not providing evidence against the null hypothesis.  "
   ]
  },
  {
   "cell_type": "markdown",
   "id": "e28fdc4e-bcaa-40ed-ac92-2863d7a6569c",
   "metadata": {
    "editable": true,
    "slideshow": {
     "slide_type": "slide"
    },
    "tags": []
   },
   "source": [
    "## Predicted values and residuals\n",
    "\n",
    "If the values of the independent variable are plugged into the regression equation then we obtain the fitted values.\n",
    "\n",
    "$$\\texttt{depvar} = 1.63 + 0.92 \\times \\texttt{indvar}$$"
   ]
  },
  {
   "cell_type": "code",
   "execution_count": 45,
   "id": "66fc7319-4336-4dbf-95c9-7ba4cddf2876",
   "metadata": {
    "editable": true,
    "slideshow": {
     "slide_type": ""
    },
    "tags": []
   },
   "outputs": [
    {
     "data": {
      "text/html": [
       "<div>\n",
       "<style scoped>\n",
       "    .dataframe tbody tr th:only-of-type {\n",
       "        vertical-align: middle;\n",
       "    }\n",
       "\n",
       "    .dataframe tbody tr th {\n",
       "        vertical-align: top;\n",
       "    }\n",
       "\n",
       "    .dataframe thead th {\n",
       "        text-align: right;\n",
       "    }\n",
       "</style>\n",
       "<table border=\"1\" class=\"dataframe\">\n",
       "  <thead>\n",
       "    <tr style=\"text-align: right;\">\n",
       "      <th></th>\n",
       "      <th>depvar</th>\n",
       "      <th>indvar</th>\n",
       "    </tr>\n",
       "  </thead>\n",
       "  <tbody>\n",
       "    <tr>\n",
       "      <th>0</th>\n",
       "      <td>2</td>\n",
       "      <td>0.360539</td>\n",
       "    </tr>\n",
       "    <tr>\n",
       "      <th>1</th>\n",
       "      <td>3</td>\n",
       "      <td>1.038950</td>\n",
       "    </tr>\n",
       "    <tr>\n",
       "      <th>2</th>\n",
       "      <td>4</td>\n",
       "      <td>2.926437</td>\n",
       "    </tr>\n",
       "    <tr>\n",
       "      <th>3</th>\n",
       "      <td>5</td>\n",
       "      <td>4.449868</td>\n",
       "    </tr>\n",
       "    <tr>\n",
       "      <th>4</th>\n",
       "      <td>6</td>\n",
       "      <td>4.840407</td>\n",
       "    </tr>\n",
       "    <tr>\n",
       "      <th>5</th>\n",
       "      <td>7</td>\n",
       "      <td>5.970854</td>\n",
       "    </tr>\n",
       "    <tr>\n",
       "      <th>6</th>\n",
       "      <td>8</td>\n",
       "      <td>6.025562</td>\n",
       "    </tr>\n",
       "    <tr>\n",
       "      <th>7</th>\n",
       "      <td>9</td>\n",
       "      <td>7.974743</td>\n",
       "    </tr>\n",
       "  </tbody>\n",
       "</table>\n",
       "</div>"
      ],
      "text/plain": [
       "   depvar    indvar\n",
       "0       2  0.360539\n",
       "1       3  1.038950\n",
       "2       4  2.926437\n",
       "3       5  4.449868\n",
       "4       6  4.840407\n",
       "5       7  5.970854\n",
       "6       8  6.025562\n",
       "7       9  7.974743"
      ]
     },
     "execution_count": 45,
     "metadata": {},
     "output_type": "execute_result"
    }
   ],
   "source": [
    "df"
   ]
  },
  {
   "cell_type": "markdown",
   "id": "8de88140-fa49-46a5-b777-70d0308229b3",
   "metadata": {
    "editable": true,
    "slideshow": {
     "slide_type": ""
    },
    "tags": []
   },
   "source": [
    "The fitted value for the first row of `df` is (when `indvar` == 0.360539) :"
   ]
  },
  {
   "cell_type": "code",
   "execution_count": 46,
   "id": "c5fc3cad-fe61-44c5-b161-17f09628d009",
   "metadata": {
    "editable": true,
    "slideshow": {
     "slide_type": ""
    },
    "tags": []
   },
   "outputs": [
    {
     "data": {
      "text/plain": [
       "1.9581414431"
      ]
     },
     "execution_count": 46,
     "metadata": {},
     "output_type": "execute_result"
    }
   ],
   "source": [
    "1.6254 + 0.9229*0.360539"
   ]
  },
  {
   "cell_type": "markdown",
   "id": "d18df29c-3e11-4760-b96e-523cedca003b",
   "metadata": {
    "editable": true,
    "slideshow": {
     "slide_type": "subslide"
    },
    "tags": []
   },
   "source": [
    "To extract the fitted values from a regression model use the `fittedvalues` function in `statsmodels`."
   ]
  },
  {
   "cell_type": "code",
   "execution_count": 47,
   "id": "54c6977e-53f6-4e00-bf17-12cc0b7b8bb3",
   "metadata": {
    "editable": true,
    "slideshow": {
     "slide_type": ""
    },
    "tags": []
   },
   "outputs": [
    {
     "data": {
      "text/plain": [
       "0    1.958148\n",
       "1    2.584231\n",
       "2    4.326129\n",
       "3    5.732053\n",
       "4    6.092469\n",
       "5    7.135720\n",
       "6    7.186208\n",
       "7    8.985043\n",
       "dtype: float64"
      ]
     },
     "execution_count": 47,
     "metadata": {},
     "output_type": "execute_result"
    }
   ],
   "source": [
    "regmod_fit.fittedvalues"
   ]
  },
  {
   "cell_type": "markdown",
   "id": "38cedecc-86c2-4ba5-8719-0f250f33324c",
   "metadata": {
    "editable": true,
    "slideshow": {
     "slide_type": "slide"
    },
    "tags": []
   },
   "source": [
    "- If the linear regression model is used on an independent variable that is not in the data set used to build the model then it's often referred to as a predicted value."
   ]
  },
  {
   "cell_type": "code",
   "execution_count": 48,
   "id": "c7b01649",
   "metadata": {
    "editable": true,
    "slideshow": {
     "slide_type": ""
    },
    "tags": []
   },
   "outputs": [
    {
     "data": {
      "text/plain": [
       "0    10.854085\n",
       "1    11.776952\n",
       "2    12.699818\n",
       "3    13.622685\n",
       "dtype: float64"
      ]
     },
     "execution_count": 48,
     "metadata": {},
     "output_type": "execute_result"
    }
   ],
   "source": [
    "new_indvar = pd.DataFrame(data = {'indvar':[10,11,12,13]})\n",
    "regmod_fit.predict(new_indvar['indvar'])"
   ]
  },
  {
   "cell_type": "markdown",
   "id": "cc498828-9521-4237-9001-f2035dae6ed4",
   "metadata": {
    "editable": true,
    "slideshow": {
     "slide_type": "slide"
    },
    "tags": []
   },
   "source": [
    "The residual is the dependent variable minus the fitted value."
   ]
  },
  {
   "cell_type": "code",
   "execution_count": 49,
   "id": "f6c9128a",
   "metadata": {
    "editable": true,
    "slideshow": {
     "slide_type": ""
    },
    "tags": []
   },
   "outputs": [
    {
     "data": {
      "text/html": [
       "<div>\n",
       "<style scoped>\n",
       "    .dataframe tbody tr th:only-of-type {\n",
       "        vertical-align: middle;\n",
       "    }\n",
       "\n",
       "    .dataframe tbody tr th {\n",
       "        vertical-align: top;\n",
       "    }\n",
       "\n",
       "    .dataframe thead th {\n",
       "        text-align: right;\n",
       "    }\n",
       "</style>\n",
       "<table border=\"1\" class=\"dataframe\">\n",
       "  <thead>\n",
       "    <tr style=\"text-align: right;\">\n",
       "      <th></th>\n",
       "      <th>depvar</th>\n",
       "      <th>indvar</th>\n",
       "    </tr>\n",
       "  </thead>\n",
       "  <tbody>\n",
       "    <tr>\n",
       "      <th>0</th>\n",
       "      <td>2</td>\n",
       "      <td>0.360539</td>\n",
       "    </tr>\n",
       "    <tr>\n",
       "      <th>1</th>\n",
       "      <td>3</td>\n",
       "      <td>1.038950</td>\n",
       "    </tr>\n",
       "  </tbody>\n",
       "</table>\n",
       "</div>"
      ],
      "text/plain": [
       "   depvar    indvar\n",
       "0       2  0.360539\n",
       "1       3  1.038950"
      ]
     },
     "execution_count": 49,
     "metadata": {},
     "output_type": "execute_result"
    }
   ],
   "source": [
    "df.head(2)"
   ]
  },
  {
   "cell_type": "code",
   "execution_count": 50,
   "id": "0d6e6f55",
   "metadata": {
    "editable": true,
    "slideshow": {
     "slide_type": ""
    },
    "tags": []
   },
   "outputs": [
    {
     "data": {
      "text/plain": [
       "0    1.958148\n",
       "1    2.584231\n",
       "dtype: float64"
      ]
     },
     "execution_count": 50,
     "metadata": {},
     "output_type": "execute_result"
    }
   ],
   "source": [
    "regmod_fit.fittedvalues.head(2)"
   ]
  },
  {
   "cell_type": "markdown",
   "id": "980d5171",
   "metadata": {
    "editable": true,
    "slideshow": {
     "slide_type": "fragment"
    },
    "tags": []
   },
   "source": [
    " So, for the first row the residual is:"
   ]
  },
  {
   "cell_type": "code",
   "execution_count": 51,
   "id": "218a3aba-e0ed-4ecd-a1f4-afb8ffdb855a",
   "metadata": {
    "editable": true,
    "slideshow": {
     "slide_type": ""
    },
    "tags": []
   },
   "outputs": [
    {
     "data": {
      "text/plain": [
       "0.041858556900000066"
      ]
     },
     "execution_count": 51,
     "metadata": {},
     "output_type": "execute_result"
    }
   ],
   "source": [
    "2 - 1.9581414431"
   ]
  },
  {
   "cell_type": "markdown",
   "id": "78330734-7069-4dfb-b0c6-baca2870126d",
   "metadata": {
    "editable": true,
    "slideshow": {
     "slide_type": "slide"
    },
    "tags": []
   },
   "source": [
    "To extract the residuals from a regression model use the `resid` function in `statsmodels`."
   ]
  },
  {
   "cell_type": "code",
   "execution_count": 52,
   "id": "37cfe949-6ce5-40e3-9162-918dc27cc02d",
   "metadata": {
    "editable": true,
    "slideshow": {
     "slide_type": ""
    },
    "tags": []
   },
   "outputs": [
    {
     "data": {
      "text/plain": [
       "0    0.041852\n",
       "1    0.415769\n",
       "2   -0.326129\n",
       "3   -0.732053\n",
       "4   -0.092469\n",
       "5   -0.135720\n",
       "6    0.813792\n",
       "7    0.014957\n",
       "dtype: float64"
      ]
     },
     "execution_count": 52,
     "metadata": {},
     "output_type": "execute_result"
    }
   ],
   "source": [
    "regmod_fit.resid"
   ]
  },
  {
   "cell_type": "markdown",
   "id": "1bd1dd03-8f92-4b1f-b145-cfb941e52204",
   "metadata": {
    "editable": true,
    "slideshow": {
     "slide_type": "slide"
    },
    "tags": []
   },
   "source": [
    "- If the linear regression model fits the data well then the residuals should be close to 0.\n",
    "\n",
    "- One indication that the linear regression model fits well is to examine the **diagnostic** scatter plot of residuals versus fitted values.\n",
    "\n",
    "- **A plot that looks like a random scatter of points around 0 indicates that linear regression is an appropriate model.**\n",
    "\n",
    "- Since there are only 8 points it's hard to spot a pattern."
   ]
  },
  {
   "cell_type": "code",
   "execution_count": 53,
   "id": "a0e40793-2dad-479e-81c6-82eef86663c6",
   "metadata": {
    "editable": true,
    "slideshow": {
     "slide_type": ""
    },
    "tags": []
   },
   "outputs": [
    {
     "data": {
      "text/plain": [
       "Text(0, 0.5, 'residuals')"
      ]
     },
     "execution_count": 53,
     "metadata": {},
     "output_type": "execute_result"
    },
    {
     "data": {
      "image/png": "[encoded data removed]",
      "text/plain": [
       "<Figure size 640x480 with 1 Axes>"
      ]
     },
     "metadata": {},
     "output_type": "display_data"
    }
   ],
   "source": [
    "plt.scatter(regmod_fit.fittedvalues, regmod_fit.resid)\n",
    "plt.axhline(y = 0)\n",
    "plt.xlabel('fitted values')\n",
    "plt.ylabel('residuals')"
   ]
  },
  {
   "cell_type": "markdown",
   "id": "67e9c545-9881-4a6b-86bb-53c8a8917389",
   "metadata": {
    "editable": true,
    "slideshow": {
     "slide_type": "slide"
    },
    "tags": []
   },
   "source": [
    "## Accuracy of linear regression\n",
    "\n",
    "- There are several measures of accuracy for linear regression.\n",
    "\n",
    "- One popular measure is R-squared, representing how much the dependent variable are explained by the independent variable(s).\n",
    "\n",
    "- R-squared can be calculated from a fitted model regression model using the `rsquared` function in `statsmodels`.\n",
    "\n",
    "- R-squared is always between 0 and 1.  \n",
    "     + R-squared of 0 indicates a poor fit\n",
    "     + R-squared of 1 indicates a perfect fit"
   ]
  },
  {
   "cell_type": "code",
   "execution_count": 54,
   "id": "477426e6-74b4-43c7-9958-2cf9e159a8f7",
   "metadata": {
    "editable": true,
    "slideshow": {
     "slide_type": ""
    },
    "tags": []
   },
   "outputs": [
    {
     "data": {
      "text/plain": [
       "0.9641350308570086"
      ]
     },
     "execution_count": 54,
     "metadata": {},
     "output_type": "execute_result"
    }
   ],
   "source": [
    "regmod_fit.rsquared"
   ]
  },
  {
   "cell_type": "markdown",
   "id": "14c42520-e8fd-40f7-8eb3-bbacc52b9280",
   "metadata": {
    "editable": true,
    "slideshow": {
     "slide_type": "slide"
    },
    "tags": []
   },
   "source": [
    "## Example 4: regression with two or more independent variables\n",
    "\n",
    "It's possible to include more than one independent variable in a regression model.  "
   ]
  },
  {
   "cell_type": "code",
   "execution_count": 55,
   "id": "ed511e4e-394c-4f5c-97d0-e0c0b56f9c7f",
   "metadata": {
    "editable": true,
    "slideshow": {
     "slide_type": ""
    },
    "tags": []
   },
   "outputs": [
    {
     "data": {
      "text/html": [
       "<div>\n",
       "<style scoped>\n",
       "    .dataframe tbody tr th:only-of-type {\n",
       "        vertical-align: middle;\n",
       "    }\n",
       "\n",
       "    .dataframe tbody tr th {\n",
       "        vertical-align: top;\n",
       "    }\n",
       "\n",
       "    .dataframe thead th {\n",
       "        text-align: right;\n",
       "    }\n",
       "</style>\n",
       "<table border=\"1\" class=\"dataframe\">\n",
       "  <thead>\n",
       "    <tr style=\"text-align: right;\">\n",
       "      <th></th>\n",
       "      <th>depvar</th>\n",
       "      <th>indvar1</th>\n",
       "      <th>indvar2</th>\n",
       "    </tr>\n",
       "  </thead>\n",
       "  <tbody>\n",
       "    <tr>\n",
       "      <th>0</th>\n",
       "      <td>2</td>\n",
       "      <td>0.360539</td>\n",
       "      <td>-0.536629</td>\n",
       "    </tr>\n",
       "    <tr>\n",
       "      <th>1</th>\n",
       "      <td>3</td>\n",
       "      <td>1.038950</td>\n",
       "      <td>1.315403</td>\n",
       "    </tr>\n",
       "    <tr>\n",
       "      <th>2</th>\n",
       "      <td>4</td>\n",
       "      <td>2.926437</td>\n",
       "      <td>2.421051</td>\n",
       "    </tr>\n",
       "    <tr>\n",
       "      <th>3</th>\n",
       "      <td>5</td>\n",
       "      <td>4.449868</td>\n",
       "      <td>1.934397</td>\n",
       "    </tr>\n",
       "    <tr>\n",
       "      <th>4</th>\n",
       "      <td>6</td>\n",
       "      <td>4.840407</td>\n",
       "      <td>3.113760</td>\n",
       "    </tr>\n",
       "    <tr>\n",
       "      <th>5</th>\n",
       "      <td>7</td>\n",
       "      <td>5.970854</td>\n",
       "      <td>4.524267</td>\n",
       "    </tr>\n",
       "    <tr>\n",
       "      <th>6</th>\n",
       "      <td>8</td>\n",
       "      <td>6.025562</td>\n",
       "      <td>6.689682</td>\n",
       "    </tr>\n",
       "    <tr>\n",
       "      <th>7</th>\n",
       "      <td>9</td>\n",
       "      <td>7.974743</td>\n",
       "      <td>7.561192</td>\n",
       "    </tr>\n",
       "  </tbody>\n",
       "</table>\n",
       "</div>"
      ],
      "text/plain": [
       "   depvar   indvar1   indvar2\n",
       "0       2  0.360539 -0.536629\n",
       "1       3  1.038950  1.315403\n",
       "2       4  2.926437  2.421051\n",
       "3       5  4.449868  1.934397\n",
       "4       6  4.840407  3.113760\n",
       "5       7  5.970854  4.524267\n",
       "6       8  6.025562  6.689682\n",
       "7       9  7.974743  7.561192"
      ]
     },
     "execution_count": 55,
     "metadata": {},
     "output_type": "execute_result"
    }
   ],
   "source": [
    "np.random.seed(11) #set the seed so that it's reproducible\n",
    "\n",
    "data = {'depvar' : np.arange(start = 0, stop = 8, step =1) + 2,\n",
    "        'indvar1' : np.arange(start = 0, stop = 8, step =1) + np.random.uniform(low = 0, high = 2, size = 8),\n",
    "        'indvar2' : np.arange(start = 0, stop = 8, step =1) + np.random.normal(loc = 0, scale = 1, size = 8)}\n",
    "\n",
    "df = pd.DataFrame(data)\n",
    "\n",
    "df"
   ]
  },
  {
   "cell_type": "markdown",
   "id": "c2b6ae14-8ed3-4d88-b15c-1dd7e4e17345",
   "metadata": {
    "editable": true,
    "slideshow": {
     "slide_type": "slide"
    },
    "tags": []
   },
   "source": [
    "To include more than one independent variable in a regression model add it to the right side of syntax for describing statistical models.\n",
    "\n",
    "`'depvar ~ indvar1 + indvar2'`"
   ]
  },
  {
   "cell_type": "code",
   "execution_count": 56,
   "id": "6f3a1923-f061-4d60-997f-8970b8204dc1",
   "metadata": {
    "editable": true,
    "slideshow": {
     "slide_type": ""
    },
    "tags": []
   },
   "outputs": [],
   "source": [
    "regmod = ols('depvar ~ indvar1 + indvar2', data = df) # setup the model"
   ]
  },
  {
   "cell_type": "markdown",
   "id": "500b8b42-1792-4e9a-9b68-c4ff412d09b6",
   "metadata": {
    "editable": true,
    "slideshow": {
     "slide_type": "fragment"
    },
    "tags": []
   },
   "source": [
    "Now `fit` `regmod`."
   ]
  },
  {
   "cell_type": "code",
   "execution_count": 57,
   "id": "e3e15379-8d0e-4f3d-82c5-f6fc2dd2e0d7",
   "metadata": {
    "editable": true,
    "slideshow": {
     "slide_type": ""
    },
    "tags": []
   },
   "outputs": [],
   "source": [
    "regmod_fit = regmod.fit() # estimate/fit the model "
   ]
  },
  {
   "cell_type": "markdown",
   "id": "fb7e9939-f15d-4359-9502-91397911f7f1",
   "metadata": {
    "editable": true,
    "slideshow": {
     "slide_type": "subslide"
    },
    "tags": []
   },
   "source": [
    "Extract the regression parameter estimates using `params`."
   ]
  },
  {
   "cell_type": "code",
   "execution_count": 58,
   "id": "fa1c1eac-0d29-442f-baa7-a4c8e4d0ac95",
   "metadata": {
    "editable": true,
    "slideshow": {
     "slide_type": ""
    },
    "tags": []
   },
   "outputs": [
    {
     "data": {
      "text/plain": [
       "Intercept    1.892482\n",
       "indvar1      0.549341\n",
       "indvar2      0.385197\n",
       "dtype: float64"
      ]
     },
     "execution_count": 58,
     "metadata": {},
     "output_type": "execute_result"
    }
   ],
   "source": [
    "regmod_fit.params # get parameter estimates"
   ]
  },
  {
   "cell_type": "markdown",
   "id": "e82bd6e0-c278-4cbe-8002-2cf2199c9e4d",
   "metadata": {
    "editable": true,
    "slideshow": {
     "slide_type": "fragment"
    },
    "tags": []
   },
   "source": [
    "The estimated linear (multiple) linear regression model is:\n",
    "\n",
    "$$\\texttt{depvar} = 1.892482 + 0.549341 \\times \\texttt{indvar1} + 0.385197 \\times \\texttt{indvar2}$$\n",
    "\n",
    "- The y-intercept value (1.892482) is the value of the dependent variable when `indvar1` and `indvar2` are both 0.\n",
    "\n",
    "-  If `indvar1` changes by one-unit, `depvar` changes (on average) by 0.549341 (when `indvar2` remains the same).\n",
    "\n",
    "-  If `indvar2` changes by one-unit, `depvar` changes (on average) by 0.385197 (when `indvar1` remains the same)."
   ]
  },
  {
   "cell_type": "markdown",
   "id": "2dfbe7d1-c3ec-4a6a-9754-d820fecd2074",
   "metadata": {
    "editable": true,
    "slideshow": {
     "slide_type": "slide"
    },
    "tags": []
   },
   "source": [
    "### Statistical summary of a multiple regression model"
   ]
  },
  {
   "cell_type": "code",
   "execution_count": 59,
   "id": "28396441-c511-4ab3-9b83-d4542eb112d3",
   "metadata": {
    "editable": true,
    "slideshow": {
     "slide_type": ""
    },
    "tags": []
   },
   "outputs": [
    {
     "data": {
      "text/html": [
       "<table class=\"simpletable\">\n",
       "<tr>\n",
       "      <td></td>         <th>coef</th>     <th>std err</th>      <th>t</th>      <th>P>|t|</th>  <th>[0.025</th>    <th>0.975]</th>  \n",
       "</tr>\n",
       "<tr>\n",
       "  <th>Intercept</th> <td>    1.8925</td> <td>    0.201</td> <td>    9.432</td> <td> 0.000</td> <td>    1.377</td> <td>    2.408</td>\n",
       "</tr>\n",
       "<tr>\n",
       "  <th>indvar1</th>   <td>    0.5493</td> <td>    0.102</td> <td>    5.411</td> <td> 0.003</td> <td>    0.288</td> <td>    0.810</td>\n",
       "</tr>\n",
       "<tr>\n",
       "  <th>indvar2</th>   <td>    0.3852</td> <td>    0.097</td> <td>    3.984</td> <td> 0.010</td> <td>    0.137</td> <td>    0.634</td>\n",
       "</tr>\n",
       "</table>"
      ],
      "text/latex": [
       "\\begin{center}\n",
       "\\begin{tabular}{lcccccc}\n",
       "\\toprule\n",
       "                   & \\textbf{coef} & \\textbf{std err} & \\textbf{t} & \\textbf{P$> |$t$|$} & \\textbf{[0.025} & \\textbf{0.975]}  \\\\\n",
       "\\midrule\n",
       "\\textbf{Intercept} &       1.8925  &        0.201     &     9.432  &         0.000        &        1.377    &        2.408     \\\\\n",
       "\\textbf{indvar1}   &       0.5493  &        0.102     &     5.411  &         0.003        &        0.288    &        0.810     \\\\\n",
       "\\textbf{indvar2}   &       0.3852  &        0.097     &     3.984  &         0.010        &        0.137    &        0.634     \\\\\n",
       "\\bottomrule\n",
       "\\end{tabular}\n",
       "\\end{center}"
      ],
      "text/plain": [
       "<class 'statsmodels.iolib.table.SimpleTable'>"
      ]
     },
     "execution_count": 59,
     "metadata": {},
     "output_type": "execute_result"
    }
   ],
   "source": [
    "multregsummary = regmod_fit.summary()\n",
    "\n",
    "multregsummary.tables[1]"
   ]
  },
  {
   "cell_type": "markdown",
   "id": "dea969f8-bf51-4bf5-81ab-510c2c5a5e7d",
   "metadata": {
    "editable": true,
    "slideshow": {
     "slide_type": ""
    },
    "tags": []
   },
   "source": [
    "The statistical summary indicates:\n",
    "\n",
    "- the p-value for `indvar1` is 0.003 and the range of plausible values for the slope is 0.288 to 0.810.\n",
    "\n",
    "- the p-value for `indvar2` is 0.010 and the range of plausible values for the slope is 0.137 to 0.634.  \n",
    "\n",
    "- Since, both p-values are small there is evidence that slope is different from 0, and the range of plausible values does not include 0."
   ]
  },
  {
   "cell_type": "markdown",
   "id": "1d3fa76f-76d0-4202-9756-914c687961bb",
   "metadata": {
    "editable": true,
    "slideshow": {
     "slide_type": "slide"
    },
    "tags": []
   },
   "source": [
    "### Accuracy of multiple regression model"
   ]
  },
  {
   "cell_type": "code",
   "execution_count": 60,
   "id": "785ae14d-82d3-4f73-b77d-e4a3a9fac628",
   "metadata": {
    "editable": true,
    "slideshow": {
     "slide_type": ""
    },
    "tags": []
   },
   "outputs": [
    {
     "data": {
      "text/plain": [
       "0.9914100322269062"
      ]
     },
     "execution_count": 60,
     "metadata": {},
     "output_type": "execute_result"
    }
   ],
   "source": [
    "regmod_fit.rsquared"
   ]
  },
  {
   "cell_type": "code",
   "execution_count": 61,
   "id": "2b32863d-66f5-4252-a48a-cfc4fc148f69",
   "metadata": {
    "editable": true,
    "slideshow": {
     "slide_type": ""
    },
    "tags": []
   },
   "outputs": [
    {
     "data": {
      "text/plain": [
       "Text(0, 0.5, 'residuals')"
      ]
     },
     "execution_count": 61,
     "metadata": {},
     "output_type": "execute_result"
    },
    {
     "data": {
      "image/png": "[encoded data removed]",
      "text/plain": [
       "<Figure size 640x480 with 1 Axes>"
      ]
     },
     "metadata": {},
     "output_type": "display_data"
    }
   ],
   "source": [
    "plt.scatter(regmod_fit.fittedvalues, regmod_fit.resid)\n",
    "plt.axhline(y = 0)\n",
    "plt.xlabel('fitted values')\n",
    "plt.ylabel('residuals')"
   ]
  },
  {
   "cell_type": "markdown",
   "id": "c7184b67",
   "metadata": {
    "editable": true,
    "slideshow": {
     "slide_type": "fragment"
    },
    "tags": []
   },
   "source": [
    "Questions?"
   ]
  },
  {
   "cell_type": "markdown",
   "id": "aa9fea67-328b-48da-b3b0-68c1d3cfefe2",
   "metadata": {
    "editable": true,
    "slideshow": {
     "slide_type": "slide"
    },
    "tags": []
   },
   "source": [
    "## What is the effect of recent immigration on asthma rates in Toronto neighbourhoods?\n",
    "\n",
    "### Data\n",
    "\n",
    "- Data from <http://torontohealthprofiles.ca> contains data on asthma and immigration for each neighbourhood in Toronto.\n",
    "\n",
    "#### Sociodemographic data\n",
    "\n",
    "- Read sociodemographic data from the excel file `1_socdem_neighb_2006-2.xls` with sheet name `socdem_2006` into `pandas` using `read_excel`.\n"
   ]
  },
  {
   "cell_type": "code",
   "execution_count": 62,
   "id": "26d12b0a-8674-4cb8-b626-b9a8571817e5",
   "metadata": {},
   "outputs": [
    {
     "data": {
      "text/html": [
       "<div>\n",
       "<style scoped>\n",
       "    .dataframe tbody tr th:only-of-type {\n",
       "        vertical-align: middle;\n",
       "    }\n",
       "\n",
       "    .dataframe tbody tr th {\n",
       "        vertical-align: top;\n",
       "    }\n",
       "\n",
       "    .dataframe thead th {\n",
       "        text-align: right;\n",
       "    }\n",
       "</style>\n",
       "<table border=\"1\" class=\"dataframe\">\n",
       "  <thead>\n",
       "    <tr style=\"text-align: right;\">\n",
       "      <th></th>\n",
       "      <th>Neighbourhood id</th>\n",
       "      <th>Neighbourhood Name</th>\n",
       "      <th>Total Population</th>\n",
       "      <th>% 19 and under</th>\n",
       "      <th>% 65 and over</th>\n",
       "      <th>% Living alone</th>\n",
       "      <th>% Aged 65+ living alone</th>\n",
       "      <th>% Lone parent families §</th>\n",
       "      <th>% 1 year mobility in population</th>\n",
       "      <th>Median household income before-tax $</th>\n",
       "      <th>...</th>\n",
       "      <th>% Less than high school education **</th>\n",
       "      <th>% With a University degree **</th>\n",
       "      <th>% No knowledge of English/French</th>\n",
       "      <th>% Recent immigrants-within 5 years</th>\n",
       "      <th>% Recent immigrants-within 10 years</th>\n",
       "      <th>% Immigrants</th>\n",
       "      <th>% Visible minority</th>\n",
       "      <th>Top 3 Home Languages for non-English speaking households, #1</th>\n",
       "      <th>Top 3 Home Languages for non-English speaking households, #2</th>\n",
       "      <th>Top 3 Home Languages for non-English speaking households, #3</th>\n",
       "    </tr>\n",
       "  </thead>\n",
       "  <tbody>\n",
       "    <tr>\n",
       "      <th>0</th>\n",
       "      <td>1</td>\n",
       "      <td>West Humber-Clairville</td>\n",
       "      <td>32252</td>\n",
       "      <td>26.8</td>\n",
       "      <td>11.3</td>\n",
       "      <td>3.7</td>\n",
       "      <td>11.7</td>\n",
       "      <td>26.3</td>\n",
       "      <td>11.6</td>\n",
       "      <td>63413</td>\n",
       "      <td>...</td>\n",
       "      <td>18.4</td>\n",
       "      <td>22.9</td>\n",
       "      <td>5.4</td>\n",
       "      <td>12.2</td>\n",
       "      <td>22.1</td>\n",
       "      <td>60.0</td>\n",
       "      <td>77.9</td>\n",
       "      <td>Panjabi (Punjabi)</td>\n",
       "      <td>Gujarati</td>\n",
       "      <td>Spanish</td>\n",
       "    </tr>\n",
       "    <tr>\n",
       "      <th>1</th>\n",
       "      <td>2</td>\n",
       "      <td>Mount Olive-Silverstone-Jamestown</td>\n",
       "      <td>32127</td>\n",
       "      <td>32.2</td>\n",
       "      <td>8.1</td>\n",
       "      <td>4.1</td>\n",
       "      <td>15.4</td>\n",
       "      <td>31.5</td>\n",
       "      <td>15.7</td>\n",
       "      <td>48146</td>\n",
       "      <td>...</td>\n",
       "      <td>20.1</td>\n",
       "      <td>23.6</td>\n",
       "      <td>7.6</td>\n",
       "      <td>22.2</td>\n",
       "      <td>35.1</td>\n",
       "      <td>67.1</td>\n",
       "      <td>85.3</td>\n",
       "      <td>Panjabi (Punjabi)</td>\n",
       "      <td>Gujarati</td>\n",
       "      <td>Arabic</td>\n",
       "    </tr>\n",
       "    <tr>\n",
       "      <th>2</th>\n",
       "      <td>3</td>\n",
       "      <td>Thistletown-Beaumond Heights</td>\n",
       "      <td>9928</td>\n",
       "      <td>25.3</td>\n",
       "      <td>16.7</td>\n",
       "      <td>5.4</td>\n",
       "      <td>17.5</td>\n",
       "      <td>30.1</td>\n",
       "      <td>10.9</td>\n",
       "      <td>55032</td>\n",
       "      <td>...</td>\n",
       "      <td>16.7</td>\n",
       "      <td>20.7</td>\n",
       "      <td>5.0</td>\n",
       "      <td>9.7</td>\n",
       "      <td>19.3</td>\n",
       "      <td>55.9</td>\n",
       "      <td>53.8</td>\n",
       "      <td>Panjabi (Punjabi)</td>\n",
       "      <td>Italian</td>\n",
       "      <td>Spanish</td>\n",
       "    </tr>\n",
       "    <tr>\n",
       "      <th>3</th>\n",
       "      <td>4</td>\n",
       "      <td>Rexdale-Kipling</td>\n",
       "      <td>10725</td>\n",
       "      <td>23.6</td>\n",
       "      <td>18.3</td>\n",
       "      <td>10.2</td>\n",
       "      <td>28.8</td>\n",
       "      <td>33.3</td>\n",
       "      <td>13.2</td>\n",
       "      <td>52428</td>\n",
       "      <td>...</td>\n",
       "      <td>15.3</td>\n",
       "      <td>18.8</td>\n",
       "      <td>3.0</td>\n",
       "      <td>8.3</td>\n",
       "      <td>14.0</td>\n",
       "      <td>47.2</td>\n",
       "      <td>41.8</td>\n",
       "      <td>Spanish</td>\n",
       "      <td>Panjabi (Punjabi)</td>\n",
       "      <td>Croatian</td>\n",
       "    </tr>\n",
       "    <tr>\n",
       "      <th>4</th>\n",
       "      <td>5</td>\n",
       "      <td>Elms-Old Rexdale</td>\n",
       "      <td>9437</td>\n",
       "      <td>29.9</td>\n",
       "      <td>10.5</td>\n",
       "      <td>5.8</td>\n",
       "      <td>13.0</td>\n",
       "      <td>39.1</td>\n",
       "      <td>9.7</td>\n",
       "      <td>53779</td>\n",
       "      <td>...</td>\n",
       "      <td>15.2</td>\n",
       "      <td>18.8</td>\n",
       "      <td>3.6</td>\n",
       "      <td>9.8</td>\n",
       "      <td>18.2</td>\n",
       "      <td>53.8</td>\n",
       "      <td>60.5</td>\n",
       "      <td>Spanish</td>\n",
       "      <td>Italian</td>\n",
       "      <td>Urdu</td>\n",
       "    </tr>\n",
       "  </tbody>\n",
       "</table>\n",
       "<p>5 rows × 28 columns</p>\n",
       "</div>"
      ],
      "text/plain": [
       "   Neighbourhood id                 Neighbourhood Name  Total Population  \\\n",
       "0                 1             West Humber-Clairville             32252   \n",
       "1                 2  Mount Olive-Silverstone-Jamestown             32127   \n",
       "2                 3       Thistletown-Beaumond Heights              9928   \n",
       "3                 4                    Rexdale-Kipling             10725   \n",
       "4                 5                   Elms-Old Rexdale              9437   \n",
       "\n",
       "   % 19 and under  % 65 and over  % Living alone  % Aged 65+ living alone  \\\n",
       "0            26.8           11.3             3.7                     11.7   \n",
       "1            32.2            8.1             4.1                     15.4   \n",
       "2            25.3           16.7             5.4                     17.5   \n",
       "3            23.6           18.3            10.2                     28.8   \n",
       "4            29.9           10.5             5.8                     13.0   \n",
       "\n",
       "   % Lone parent families §  % 1 year mobility in population  \\\n",
       "0                      26.3                             11.6   \n",
       "1                      31.5                             15.7   \n",
       "2                      30.1                             10.9   \n",
       "3                      33.3                             13.2   \n",
       "4                      39.1                              9.7   \n",
       "\n",
       "   Median household income before-tax $  ...  \\\n",
       "0                                 63413  ...   \n",
       "1                                 48146  ...   \n",
       "2                                 55032  ...   \n",
       "3                                 52428  ...   \n",
       "4                                 53779  ...   \n",
       "\n",
       "   % Less than high school education **  % With a University degree **  \\\n",
       "0                                  18.4                           22.9   \n",
       "1                                  20.1                           23.6   \n",
       "2                                  16.7                           20.7   \n",
       "3                                  15.3                           18.8   \n",
       "4                                  15.2                           18.8   \n",
       "\n",
       "   % No knowledge of English/French  % Recent immigrants-within 5 years  \\\n",
       "0                               5.4                                12.2   \n",
       "1                               7.6                                22.2   \n",
       "2                               5.0                                 9.7   \n",
       "3                               3.0                                 8.3   \n",
       "4                               3.6                                 9.8   \n",
       "\n",
       "   % Recent immigrants-within 10 years  % Immigrants  % Visible minority  \\\n",
       "0                                 22.1          60.0                77.9   \n",
       "1                                 35.1          67.1                85.3   \n",
       "2                                 19.3          55.9                53.8   \n",
       "3                                 14.0          47.2                41.8   \n",
       "4                                 18.2          53.8                60.5   \n",
       "\n",
       "   Top 3 Home Languages for non-English speaking households, #1  \\\n",
       "0                                  Panjabi (Punjabi)              \n",
       "1                                  Panjabi (Punjabi)              \n",
       "2                                  Panjabi (Punjabi)              \n",
       "3                                            Spanish              \n",
       "4                                            Spanish              \n",
       "\n",
       "   Top 3 Home Languages for non-English speaking households, #2  \\\n",
       "0                                           Gujarati              \n",
       "1                                           Gujarati              \n",
       "2                                            Italian              \n",
       "3                                  Panjabi (Punjabi)              \n",
       "4                                            Italian              \n",
       "\n",
       "   Top 3 Home Languages for non-English speaking households, #3  \n",
       "0                                            Spanish             \n",
       "1                                             Arabic             \n",
       "2                                            Spanish             \n",
       "3                                           Croatian             \n",
       "4                                               Urdu             \n",
       "\n",
       "[5 rows x 28 columns]"
      ]
     },
     "execution_count": 62,
     "metadata": {},
     "output_type": "execute_result"
    }
   ],
   "source": [
    "fname = '1_socdem_neighb_2006-2.xls'\n",
    "sname = 'socdem_2006'\n",
    "socdem_neighb = pd.read_excel(fname, sheet_name = sname, header = 10) # the table starts in row #11\n",
    "socdem_neighb.head()"
   ]
  },
  {
   "cell_type": "markdown",
   "id": "4b539540-8056-4e1a-a853-9c9515764dec",
   "metadata": {
    "slideshow": {
     "slide_type": "slide"
    }
   },
   "source": [
    "Which column should we select to measure immigration?  There are several choices."
   ]
  },
  {
   "cell_type": "code",
   "execution_count": 63,
   "id": "ca2e691e-d951-492d-96ef-308f1c74837b",
   "metadata": {},
   "outputs": [
    {
     "data": {
      "text/plain": [
       "Index(['Neighbourhood id', 'Neighbourhood Name', 'Total Population',\n",
       "       '% 19 and under', '% 65 and over', '% Living alone',\n",
       "       '% Aged 65+ living alone', '% Lone parent families §',\n",
       "       '% 1 year mobility in population',\n",
       "       'Median household income before-tax $',\n",
       "       'Median household income after-tax $ ‡',\n",
       "       '% Families-Incidence of low income before-tax',\n",
       "       '% Families-Incidence of low income after-tax ‡',\n",
       "       '% Individuals-Incidence of low income before-tax',\n",
       "       '% Individuals-Incidence of low income after-tax ‡',\n",
       "       '% Rented Dwellings', '% Unemployment rate *',\n",
       "       '% Not in labour force *', '% Less than high school education **',\n",
       "       '% With a University degree **', '% No knowledge of English/French',\n",
       "       '% Recent immigrants-within 5 years',\n",
       "       '% Recent immigrants-within 10 years', '% Immigrants',\n",
       "       '% Visible minority',\n",
       "       'Top 3 Home Languages for non-English speaking households, #1',\n",
       "       'Top 3 Home Languages for non-English speaking households, #2',\n",
       "       'Top 3 Home Languages for non-English speaking households, #3'],\n",
       "      dtype='object')"
      ]
     },
     "execution_count": 63,
     "metadata": {},
     "output_type": "execute_result"
    }
   ],
   "source": [
    "socdem_neighb.columns"
   ]
  },
  {
   "cell_type": "markdown",
   "id": "52be3a7e-2df5-40ac-bf08-73b69890bacc",
   "metadata": {},
   "source": [
    "- Let's use `'% Recent immigrants-within 5 years'` to represent recent immigrants in a neighborhood.\n",
    "\n",
    "- Later on we will want a few more sociodemographic columns, so let's create a new `DataFrame` and rename the columns."
   ]
  },
  {
   "cell_type": "code",
   "execution_count": 64,
   "id": "db48fc31-2069-42a2-93e8-66995437fbdc",
   "metadata": {
    "slideshow": {
     "slide_type": "slide"
    }
   },
   "outputs": [],
   "source": [
    "cols = ['Neighbourhood id', 'Neighbourhood Name', \n",
    "        'Median household income after-tax $ ‡', \n",
    "        '% Rented Dwellings', '% Unemployment rate *', \n",
    "        '% Recent immigrants-within 5 years', '% Visible minority']\n",
    "\n",
    "socdem_neighb = socdem_neighb[cols]\n",
    "\n",
    "colnames = {cols[0] : 'Neighbid',\n",
    "            cols[1] : 'name',\n",
    "            cols[2] : 'median_income',\n",
    "            cols[3] : 'rented_dwell',\n",
    "            cols[4] : 'unemployment',\n",
    "            cols[5] : 'immigration5',\n",
    "            cols[6] : 'vismin'}\n",
    "\n",
    "socdem_neighb = socdem_neighb.copy()\n",
    "\n",
    "socdem_neighb.rename(columns = colnames, inplace = True)"
   ]
  },
  {
   "cell_type": "code",
   "execution_count": 65,
   "id": "745a7301-e587-447d-9660-85ded9f5a687",
   "metadata": {},
   "outputs": [
    {
     "data": {
      "text/html": [
       "<div>\n",
       "<style scoped>\n",
       "    .dataframe tbody tr th:only-of-type {\n",
       "        vertical-align: middle;\n",
       "    }\n",
       "\n",
       "    .dataframe tbody tr th {\n",
       "        vertical-align: top;\n",
       "    }\n",
       "\n",
       "    .dataframe thead th {\n",
       "        text-align: right;\n",
       "    }\n",
       "</style>\n",
       "<table border=\"1\" class=\"dataframe\">\n",
       "  <thead>\n",
       "    <tr style=\"text-align: right;\">\n",
       "      <th></th>\n",
       "      <th>Neighbid</th>\n",
       "      <th>name</th>\n",
       "      <th>median_income</th>\n",
       "      <th>rented_dwell</th>\n",
       "      <th>unemployment</th>\n",
       "      <th>immigration5</th>\n",
       "      <th>vismin</th>\n",
       "    </tr>\n",
       "  </thead>\n",
       "  <tbody>\n",
       "    <tr>\n",
       "      <th>0</th>\n",
       "      <td>1</td>\n",
       "      <td>West Humber-Clairville</td>\n",
       "      <td>56220</td>\n",
       "      <td>27.4</td>\n",
       "      <td>7.0</td>\n",
       "      <td>12.2</td>\n",
       "      <td>77.9</td>\n",
       "    </tr>\n",
       "    <tr>\n",
       "      <th>1</th>\n",
       "      <td>2</td>\n",
       "      <td>Mount Olive-Silverstone-Jamestown</td>\n",
       "      <td>43975</td>\n",
       "      <td>52.0</td>\n",
       "      <td>9.9</td>\n",
       "      <td>22.2</td>\n",
       "      <td>85.3</td>\n",
       "    </tr>\n",
       "    <tr>\n",
       "      <th>2</th>\n",
       "      <td>3</td>\n",
       "      <td>Thistletown-Beaumond Heights</td>\n",
       "      <td>49800</td>\n",
       "      <td>34.4</td>\n",
       "      <td>6.3</td>\n",
       "      <td>9.7</td>\n",
       "      <td>53.8</td>\n",
       "    </tr>\n",
       "    <tr>\n",
       "      <th>3</th>\n",
       "      <td>4</td>\n",
       "      <td>Rexdale-Kipling</td>\n",
       "      <td>46033</td>\n",
       "      <td>45.1</td>\n",
       "      <td>7.7</td>\n",
       "      <td>8.3</td>\n",
       "      <td>41.8</td>\n",
       "    </tr>\n",
       "    <tr>\n",
       "      <th>4</th>\n",
       "      <td>5</td>\n",
       "      <td>Elms-Old Rexdale</td>\n",
       "      <td>48055</td>\n",
       "      <td>41.2</td>\n",
       "      <td>7.8</td>\n",
       "      <td>9.8</td>\n",
       "      <td>60.5</td>\n",
       "    </tr>\n",
       "  </tbody>\n",
       "</table>\n",
       "</div>"
      ],
      "text/plain": [
       "   Neighbid                               name  median_income  rented_dwell  \\\n",
       "0         1             West Humber-Clairville          56220          27.4   \n",
       "1         2  Mount Olive-Silverstone-Jamestown          43975          52.0   \n",
       "2         3       Thistletown-Beaumond Heights          49800          34.4   \n",
       "3         4                    Rexdale-Kipling          46033          45.1   \n",
       "4         5                   Elms-Old Rexdale          48055          41.2   \n",
       "\n",
       "   unemployment  immigration5  vismin  \n",
       "0           7.0          12.2    77.9  \n",
       "1           9.9          22.2    85.3  \n",
       "2           6.3           9.7    53.8  \n",
       "3           7.7           8.3    41.8  \n",
       "4           7.8           9.8    60.5  "
      ]
     },
     "execution_count": 65,
     "metadata": {},
     "output_type": "execute_result"
    }
   ],
   "source": [
    "socdem_neighb.head()"
   ]
  },
  {
   "cell_type": "markdown",
   "id": "2c178336-f458-4297-84c6-1b44be7a68bd",
   "metadata": {
    "slideshow": {
     "slide_type": "slide"
    }
   },
   "source": [
    "#### Asthma data\n",
    "\n",
    "- Read data from the excel file `1_ahd_neighb_db_ast_hbp_mhv_copd_2007.xls` with sheet name `1_ahd_neighb_asthma_2007` into `pandas` using `read_excel`."
   ]
  },
  {
   "cell_type": "code",
   "execution_count": 66,
   "id": "4783abcf-e435-413d-87c9-dc6cc1924c9f",
   "metadata": {},
   "outputs": [
    {
     "data": {
      "text/html": [
       "<div>\n",
       "<style scoped>\n",
       "    .dataframe tbody tr th:only-of-type {\n",
       "        vertical-align: middle;\n",
       "    }\n",
       "\n",
       "    .dataframe tbody tr th {\n",
       "        vertical-align: top;\n",
       "    }\n",
       "\n",
       "    .dataframe thead th {\n",
       "        text-align: right;\n",
       "    }\n",
       "</style>\n",
       "<table border=\"1\" class=\"dataframe\">\n",
       "  <thead>\n",
       "    <tr style=\"text-align: right;\">\n",
       "      <th></th>\n",
       "      <th>Unnamed: 0</th>\n",
       "      <th>Unnamed: 1</th>\n",
       "      <th>Demographics ª</th>\n",
       "      <th>% With asthma</th>\n",
       "      <th>LL (95% CI)</th>\n",
       "      <th>UL (95% CI)</th>\n",
       "      <th>Demographics ª.1</th>\n",
       "      <th>% With asthma.1</th>\n",
       "      <th>LL (95% CI) .1</th>\n",
       "      <th>UL (95% CI) .1</th>\n",
       "      <th>...</th>\n",
       "      <th>Demographics ª.7</th>\n",
       "      <th>% With asthma.7</th>\n",
       "      <th>LL (95% CI) .7</th>\n",
       "      <th>UL (95% CI) .7</th>\n",
       "      <th>Demographics ª.8</th>\n",
       "      <th>% With asthma.8</th>\n",
       "      <th>LL (95% CI) .8</th>\n",
       "      <th>UL (95% CI) .8</th>\n",
       "      <th>Rate Ratio**.2</th>\n",
       "      <th>H/L/NS.2</th>\n",
       "    </tr>\n",
       "  </thead>\n",
       "  <tbody>\n",
       "    <tr>\n",
       "      <th>0</th>\n",
       "      <td>1</td>\n",
       "      <td>West Humber-Clairville</td>\n",
       "      <td>11977</td>\n",
       "      <td>9.7</td>\n",
       "      <td>9.2</td>\n",
       "      <td>10.2</td>\n",
       "      <td>11770</td>\n",
       "      <td>10.6</td>\n",
       "      <td>10.0</td>\n",
       "      <td>11.2</td>\n",
       "      <td>...</td>\n",
       "      <td>4435</td>\n",
       "      <td>12.3</td>\n",
       "      <td>11.3</td>\n",
       "      <td>13.3</td>\n",
       "      <td>8921</td>\n",
       "      <td>10.9</td>\n",
       "      <td>10.3</td>\n",
       "      <td>11.6</td>\n",
       "      <td>1.07</td>\n",
       "      <td>H</td>\n",
       "    </tr>\n",
       "    <tr>\n",
       "      <th>1</th>\n",
       "      <td>2</td>\n",
       "      <td>Mount Olive-Silverstone-Jamestown</td>\n",
       "      <td>11157</td>\n",
       "      <td>7.9</td>\n",
       "      <td>7.4</td>\n",
       "      <td>8.4</td>\n",
       "      <td>11462</td>\n",
       "      <td>10.2</td>\n",
       "      <td>9.6</td>\n",
       "      <td>10.8</td>\n",
       "      <td>...</td>\n",
       "      <td>3819</td>\n",
       "      <td>13.5</td>\n",
       "      <td>12.5</td>\n",
       "      <td>14.6</td>\n",
       "      <td>7726</td>\n",
       "      <td>11.2</td>\n",
       "      <td>10.5</td>\n",
       "      <td>11.9</td>\n",
       "      <td>1.10</td>\n",
       "      <td>H</td>\n",
       "    </tr>\n",
       "    <tr>\n",
       "      <th>2</th>\n",
       "      <td>3</td>\n",
       "      <td>Thistletown-Beaumond Heights</td>\n",
       "      <td>3307</td>\n",
       "      <td>9.4</td>\n",
       "      <td>8.4</td>\n",
       "      <td>10.4</td>\n",
       "      <td>3322</td>\n",
       "      <td>10.5</td>\n",
       "      <td>9.5</td>\n",
       "      <td>11.6</td>\n",
       "      <td>...</td>\n",
       "      <td>1307</td>\n",
       "      <td>12.3</td>\n",
       "      <td>10.5</td>\n",
       "      <td>14.1</td>\n",
       "      <td>2587</td>\n",
       "      <td>10.8</td>\n",
       "      <td>9.6</td>\n",
       "      <td>12.0</td>\n",
       "      <td>1.06</td>\n",
       "      <td>NS</td>\n",
       "    </tr>\n",
       "    <tr>\n",
       "      <th>3</th>\n",
       "      <td>4</td>\n",
       "      <td>Rexdale-Kipling</td>\n",
       "      <td>3317</td>\n",
       "      <td>9.7</td>\n",
       "      <td>8.7</td>\n",
       "      <td>10.7</td>\n",
       "      <td>3438</td>\n",
       "      <td>13.0</td>\n",
       "      <td>11.9</td>\n",
       "      <td>14.2</td>\n",
       "      <td>...</td>\n",
       "      <td>1468</td>\n",
       "      <td>13.2</td>\n",
       "      <td>11.5</td>\n",
       "      <td>14.9</td>\n",
       "      <td>2897</td>\n",
       "      <td>10.4</td>\n",
       "      <td>9.3</td>\n",
       "      <td>11.5</td>\n",
       "      <td>1.02</td>\n",
       "      <td>NS</td>\n",
       "    </tr>\n",
       "    <tr>\n",
       "      <th>4</th>\n",
       "      <td>5</td>\n",
       "      <td>Elms-Old Rexdale</td>\n",
       "      <td>3209</td>\n",
       "      <td>10.2</td>\n",
       "      <td>9.1</td>\n",
       "      <td>11.2</td>\n",
       "      <td>3379</td>\n",
       "      <td>13.0</td>\n",
       "      <td>11.8</td>\n",
       "      <td>14.1</td>\n",
       "      <td>...</td>\n",
       "      <td>1314</td>\n",
       "      <td>15.1</td>\n",
       "      <td>13.1</td>\n",
       "      <td>17.0</td>\n",
       "      <td>2610</td>\n",
       "      <td>11.8</td>\n",
       "      <td>10.6</td>\n",
       "      <td>13.0</td>\n",
       "      <td>1.16</td>\n",
       "      <td>H</td>\n",
       "    </tr>\n",
       "  </tbody>\n",
       "</table>\n",
       "<p>5 rows × 44 columns</p>\n",
       "</div>"
      ],
      "text/plain": [
       "   Unnamed: 0                         Unnamed: 1  Demographics ª  \\\n",
       "0           1             West Humber-Clairville           11977   \n",
       "1           2  Mount Olive-Silverstone-Jamestown           11157   \n",
       "2           3       Thistletown-Beaumond Heights            3307   \n",
       "3           4                    Rexdale-Kipling            3317   \n",
       "4           5                   Elms-Old Rexdale            3209   \n",
       "\n",
       "   % With asthma  LL (95% CI)   UL (95% CI)   Demographics ª.1  \\\n",
       "0            9.7           9.2          10.2             11770   \n",
       "1            7.9           7.4           8.4             11462   \n",
       "2            9.4           8.4          10.4              3322   \n",
       "3            9.7           8.7          10.7              3438   \n",
       "4           10.2           9.1          11.2              3379   \n",
       "\n",
       "   % With asthma.1  LL (95% CI) .1  UL (95% CI) .1  ...  Demographics ª.7  \\\n",
       "0             10.6            10.0            11.2  ...              4435   \n",
       "1             10.2             9.6            10.8  ...              3819   \n",
       "2             10.5             9.5            11.6  ...              1307   \n",
       "3             13.0            11.9            14.2  ...              1468   \n",
       "4             13.0            11.8            14.1  ...              1314   \n",
       "\n",
       "   % With asthma.7  LL (95% CI) .7  UL (95% CI) .7  Demographics ª.8  \\\n",
       "0             12.3            11.3            13.3              8921   \n",
       "1             13.5            12.5            14.6              7726   \n",
       "2             12.3            10.5            14.1              2587   \n",
       "3             13.2            11.5            14.9              2897   \n",
       "4             15.1            13.1            17.0              2610   \n",
       "\n",
       "  % With asthma.8  LL (95% CI) .8  UL (95% CI) .8  Rate Ratio**.2  H/L/NS.2  \n",
       "0            10.9            10.3            11.6            1.07         H  \n",
       "1            11.2            10.5            11.9            1.10         H  \n",
       "2            10.8             9.6            12.0            1.06        NS  \n",
       "3            10.4             9.3            11.5            1.02        NS  \n",
       "4            11.8            10.6            13.0            1.16         H  \n",
       "\n",
       "[5 rows x 44 columns]"
      ]
     },
     "execution_count": 66,
     "metadata": {},
     "output_type": "execute_result"
    }
   ],
   "source": [
    "fname = '1_ahd_neighb_db_ast_hbp_mhv_copd_2007.xls'\n",
    "sname = '1_ahd_neighb_asthma_2007'\n",
    "\n",
    "asthma_neighb = pd.read_excel(fname, sheet_name = sname, header = 11) #the table starts with row #12\n",
    "asthma_neighb.head()"
   ]
  },
  {
   "cell_type": "markdown",
   "id": "cc43520d-f3b9-4d6b-ab9a-0d6e7f30e9cb",
   "metadata": {},
   "source": [
    "- The asthma rates are broken down by sex and age.  \n",
    "\n",
    "- Which rates should we choose?  \n",
    "\n",
    "- For this example, let's select asthma rates for both sexes age 20 - 64."
   ]
  },
  {
   "cell_type": "code",
   "execution_count": 67,
   "id": "832a17a5-48e4-428f-8210-0f41b15513f7",
   "metadata": {
    "slideshow": {
     "slide_type": "slide"
    }
   },
   "outputs": [
    {
     "data": {
      "text/plain": [
       "Index(['Unnamed: 0', 'Unnamed: 1', 'Demographics ª', '% With asthma',\n",
       "       'LL (95% CI) ', 'UL (95% CI) ', 'Demographics ª.1', '% With asthma.1',\n",
       "       'LL (95% CI) .1', 'UL (95% CI) .1', 'Demographics ª.2',\n",
       "       '% With asthma.2', 'LL (95% CI) .2', 'UL (95% CI) .2', 'Rate Ratio**',\n",
       "       'H/L/NS', 'Demographics ª.3', '% With asthma.3', 'LL (95% CI) .3',\n",
       "       'UL (95% CI) .3', 'Demographics ª.4', '% With asthma.4',\n",
       "       'LL (95% CI) .4', 'UL (95% CI) .4', 'Demographics ª.5',\n",
       "       '% With asthma.5', 'LL (95% CI) .5', 'UL (95% CI) .5', 'Rate Ratio**.1',\n",
       "       'H/L/NS.1', 'Demographics ª.6', '% With asthma.6', 'LL (95% CI) .6',\n",
       "       'UL (95% CI) .6', 'Demographics ª.7', '% With asthma.7',\n",
       "       'LL (95% CI) .7', 'UL (95% CI) .7', 'Demographics ª.8',\n",
       "       '% With asthma.8', 'LL (95% CI) .8', 'UL (95% CI) .8', 'Rate Ratio**.2',\n",
       "       'H/L/NS.2'],\n",
       "      dtype='object')"
      ]
     },
     "execution_count": 67,
     "metadata": {},
     "output_type": "execute_result"
    }
   ],
   "source": [
    "asthma_neighb.columns"
   ]
  },
  {
   "cell_type": "code",
   "execution_count": 68,
   "id": "f4325284-4f52-4743-84ab-b3896c4c2b1b",
   "metadata": {},
   "outputs": [],
   "source": [
    "# Select the neghborhood_id, neighborhood_name, and both sexes with asthma\n",
    "\n",
    "important_cols = asthma_neighb.columns[[0, 1, 11]]"
   ]
  },
  {
   "cell_type": "code",
   "execution_count": 69,
   "id": "aac0a460-5cd0-43a4-a9db-244187a6ed5d",
   "metadata": {
    "slideshow": {
     "slide_type": "slide"
    }
   },
   "outputs": [
    {
     "data": {
      "text/html": [
       "<div>\n",
       "<style scoped>\n",
       "    .dataframe tbody tr th:only-of-type {\n",
       "        vertical-align: middle;\n",
       "    }\n",
       "\n",
       "    .dataframe tbody tr th {\n",
       "        vertical-align: top;\n",
       "    }\n",
       "\n",
       "    .dataframe thead th {\n",
       "        text-align: right;\n",
       "    }\n",
       "</style>\n",
       "<table border=\"1\" class=\"dataframe\">\n",
       "  <thead>\n",
       "    <tr style=\"text-align: right;\">\n",
       "      <th></th>\n",
       "      <th>Neighbid</th>\n",
       "      <th>name</th>\n",
       "      <th>asthma_pct</th>\n",
       "    </tr>\n",
       "  </thead>\n",
       "  <tbody>\n",
       "    <tr>\n",
       "      <th>0</th>\n",
       "      <td>1</td>\n",
       "      <td>West Humber-Clairville</td>\n",
       "      <td>10.2</td>\n",
       "    </tr>\n",
       "    <tr>\n",
       "      <th>1</th>\n",
       "      <td>2</td>\n",
       "      <td>Mount Olive-Silverstone-Jamestown</td>\n",
       "      <td>9.1</td>\n",
       "    </tr>\n",
       "    <tr>\n",
       "      <th>2</th>\n",
       "      <td>3</td>\n",
       "      <td>Thistletown-Beaumond Heights</td>\n",
       "      <td>10.0</td>\n",
       "    </tr>\n",
       "    <tr>\n",
       "      <th>3</th>\n",
       "      <td>4</td>\n",
       "      <td>Rexdale-Kipling</td>\n",
       "      <td>11.4</td>\n",
       "    </tr>\n",
       "    <tr>\n",
       "      <th>4</th>\n",
       "      <td>5</td>\n",
       "      <td>Elms-Old Rexdale</td>\n",
       "      <td>11.6</td>\n",
       "    </tr>\n",
       "  </tbody>\n",
       "</table>\n",
       "</div>"
      ],
      "text/plain": [
       "   Neighbid                               name  asthma_pct\n",
       "0         1             West Humber-Clairville        10.2\n",
       "1         2  Mount Olive-Silverstone-Jamestown         9.1\n",
       "2         3       Thistletown-Beaumond Heights        10.0\n",
       "3         4                    Rexdale-Kipling        11.4\n",
       "4         5                   Elms-Old Rexdale        11.6"
      ]
     },
     "execution_count": 69,
     "metadata": {},
     "output_type": "execute_result"
    }
   ],
   "source": [
    "colnames = {important_cols[0]: 'Neighbid',\n",
    "           important_cols[1] : 'name',\n",
    "           important_cols[2] : 'asthma_pct'}\n",
    "\n",
    "asthma_rates = asthma_neighb.copy()\n",
    "\n",
    "asthma_rates = asthma_rates[important_cols]\n",
    "\n",
    "asthma_rates.rename(columns = colnames, inplace=True)\n",
    "\n",
    "asthma_rates.head()"
   ]
  },
  {
   "cell_type": "markdown",
   "id": "ed781842-9ac0-4c18-9a08-1e5e1d20d684",
   "metadata": {
    "slideshow": {
     "slide_type": "slide"
    }
   },
   "source": [
    "### Merge Sociodemographic and asthma data\n",
    "\n",
    "- To examine the relationship between asthma and immigration we will need to merge `socdem_neighb` and `asthma_rates`.\n",
    "\n",
    "- The `DataFrame`s can be merged on neighbourhood id."
   ]
  },
  {
   "cell_type": "code",
   "execution_count": 70,
   "id": "6c8a9c83-c0be-43db-91e7-1fa5dcdad87d",
   "metadata": {},
   "outputs": [
    {
     "data": {
      "text/html": [
       "<div>\n",
       "<style scoped>\n",
       "    .dataframe tbody tr th:only-of-type {\n",
       "        vertical-align: middle;\n",
       "    }\n",
       "\n",
       "    .dataframe tbody tr th {\n",
       "        vertical-align: top;\n",
       "    }\n",
       "\n",
       "    .dataframe thead th {\n",
       "        text-align: right;\n",
       "    }\n",
       "</style>\n",
       "<table border=\"1\" class=\"dataframe\">\n",
       "  <thead>\n",
       "    <tr style=\"text-align: right;\">\n",
       "      <th></th>\n",
       "      <th>Neighbid</th>\n",
       "      <th>name_x</th>\n",
       "      <th>asthma_pct</th>\n",
       "      <th>name_y</th>\n",
       "      <th>median_income</th>\n",
       "      <th>rented_dwell</th>\n",
       "      <th>unemployment</th>\n",
       "      <th>immigration5</th>\n",
       "      <th>vismin</th>\n",
       "    </tr>\n",
       "  </thead>\n",
       "  <tbody>\n",
       "    <tr>\n",
       "      <th>0</th>\n",
       "      <td>1</td>\n",
       "      <td>West Humber-Clairville</td>\n",
       "      <td>10.2</td>\n",
       "      <td>West Humber-Clairville</td>\n",
       "      <td>56220</td>\n",
       "      <td>27.4</td>\n",
       "      <td>7.0</td>\n",
       "      <td>12.2</td>\n",
       "      <td>77.9</td>\n",
       "    </tr>\n",
       "    <tr>\n",
       "      <th>1</th>\n",
       "      <td>2</td>\n",
       "      <td>Mount Olive-Silverstone-Jamestown</td>\n",
       "      <td>9.1</td>\n",
       "      <td>Mount Olive-Silverstone-Jamestown</td>\n",
       "      <td>43975</td>\n",
       "      <td>52.0</td>\n",
       "      <td>9.9</td>\n",
       "      <td>22.2</td>\n",
       "      <td>85.3</td>\n",
       "    </tr>\n",
       "    <tr>\n",
       "      <th>2</th>\n",
       "      <td>3</td>\n",
       "      <td>Thistletown-Beaumond Heights</td>\n",
       "      <td>10.0</td>\n",
       "      <td>Thistletown-Beaumond Heights</td>\n",
       "      <td>49800</td>\n",
       "      <td>34.4</td>\n",
       "      <td>6.3</td>\n",
       "      <td>9.7</td>\n",
       "      <td>53.8</td>\n",
       "    </tr>\n",
       "    <tr>\n",
       "      <th>3</th>\n",
       "      <td>4</td>\n",
       "      <td>Rexdale-Kipling</td>\n",
       "      <td>11.4</td>\n",
       "      <td>Rexdale-Kipling</td>\n",
       "      <td>46033</td>\n",
       "      <td>45.1</td>\n",
       "      <td>7.7</td>\n",
       "      <td>8.3</td>\n",
       "      <td>41.8</td>\n",
       "    </tr>\n",
       "    <tr>\n",
       "      <th>4</th>\n",
       "      <td>5</td>\n",
       "      <td>Elms-Old Rexdale</td>\n",
       "      <td>11.6</td>\n",
       "      <td>Elms-Old Rexdale</td>\n",
       "      <td>48055</td>\n",
       "      <td>41.2</td>\n",
       "      <td>7.8</td>\n",
       "      <td>9.8</td>\n",
       "      <td>60.5</td>\n",
       "    </tr>\n",
       "  </tbody>\n",
       "</table>\n",
       "</div>"
      ],
      "text/plain": [
       "   Neighbid                             name_x  asthma_pct  \\\n",
       "0         1             West Humber-Clairville        10.2   \n",
       "1         2  Mount Olive-Silverstone-Jamestown         9.1   \n",
       "2         3       Thistletown-Beaumond Heights        10.0   \n",
       "3         4                    Rexdale-Kipling        11.4   \n",
       "4         5                   Elms-Old Rexdale        11.6   \n",
       "\n",
       "                              name_y  median_income  rented_dwell  \\\n",
       "0             West Humber-Clairville          56220          27.4   \n",
       "1  Mount Olive-Silverstone-Jamestown          43975          52.0   \n",
       "2       Thistletown-Beaumond Heights          49800          34.4   \n",
       "3                    Rexdale-Kipling          46033          45.1   \n",
       "4                   Elms-Old Rexdale          48055          41.2   \n",
       "\n",
       "   unemployment  immigration5  vismin  \n",
       "0           7.0          12.2    77.9  \n",
       "1           9.9          22.2    85.3  \n",
       "2           6.3           9.7    53.8  \n",
       "3           7.7           8.3    41.8  \n",
       "4           7.8           9.8    60.5  "
      ]
     },
     "execution_count": 70,
     "metadata": {},
     "output_type": "execute_result"
    }
   ],
   "source": [
    "# Two datasets are merged based on neighborhood id\n",
    "\n",
    "asthma_socdem = asthma_rates.merge(socdem_neighb, left_on='Neighbid', right_on='Neighbid')\n",
    "\n",
    "asthma_socdem.head()"
   ]
  },
  {
   "cell_type": "markdown",
   "id": "a8353899-596b-4600-8429-74596ad838c8",
   "metadata": {
    "slideshow": {
     "slide_type": "slide"
    }
   },
   "source": [
    "## A regression model of asthma on immigration\n",
    "\n",
    "### Plot the data\n",
    "\n",
    "- What are the dependent and independent variables?\n",
    "\n",
    "- Does the relationship look linear?"
   ]
  },
  {
   "cell_type": "code",
   "execution_count": 71,
   "id": "da76e715-2f1d-43a6-b005-16484cb4ae1c",
   "metadata": {},
   "outputs": [
    {
     "data": {
      "image/png": "[encoded data removed]",
      "text/plain": [
       "<Figure size 640x480 with 1 Axes>"
      ]
     },
     "metadata": {},
     "output_type": "display_data"
    }
   ],
   "source": [
    "sns.regplot(y = 'asthma_pct', x = 'immigration5', data = asthma_socdem, ci = None);"
   ]
  },
  {
   "cell_type": "markdown",
   "id": "2486528b",
   "metadata": {},
   "source": [
    "Describe the relationship between asthma and immigration."
   ]
  },
  {
   "cell_type": "markdown",
   "id": "01fec488-1c99-4d5f-80d6-4533afe8c530",
   "metadata": {
    "slideshow": {
     "slide_type": "slide"
    }
   },
   "source": [
    "### Fit the regression model"
   ]
  },
  {
   "cell_type": "code",
   "execution_count": 72,
   "id": "bc712fed-ea95-4a44-8789-e95cb65f695b",
   "metadata": {},
   "outputs": [],
   "source": [
    "reg_asthmaimm = ols('asthma_pct ~ immigration5', data = asthma_socdem) # setup the model\n",
    "\n",
    "reg_asthmaimm_fit = reg_asthmaimm.fit() # estimate/fit the model "
   ]
  },
  {
   "cell_type": "markdown",
   "id": "7eef08ae-f71a-4523-944a-258e192e305f",
   "metadata": {},
   "source": [
    "### Statistical summary of the regression model"
   ]
  },
  {
   "cell_type": "code",
   "execution_count": 73,
   "id": "5ce14cca-bf23-4185-bf48-aadd0e2e5909",
   "metadata": {},
   "outputs": [
    {
     "data": {
      "text/html": [
       "<table class=\"simpletable\">\n",
       "<tr>\n",
       "        <td></td>          <th>coef</th>     <th>std err</th>      <th>t</th>      <th>P>|t|</th>  <th>[0.025</th>    <th>0.975]</th>  \n",
       "</tr>\n",
       "<tr>\n",
       "  <th>Intercept</th>    <td>   11.8266</td> <td>    0.218</td> <td>   54.328</td> <td> 0.000</td> <td>   11.396</td> <td>   12.257</td>\n",
       "</tr>\n",
       "<tr>\n",
       "  <th>immigration5</th> <td>   -0.1597</td> <td>    0.019</td> <td>   -8.475</td> <td> 0.000</td> <td>   -0.197</td> <td>   -0.122</td>\n",
       "</tr>\n",
       "</table>"
      ],
      "text/latex": [
       "\\begin{center}\n",
       "\\begin{tabular}{lcccccc}\n",
       "\\toprule\n",
       "                      & \\textbf{coef} & \\textbf{std err} & \\textbf{t} & \\textbf{P$> |$t$|$} & \\textbf{[0.025} & \\textbf{0.975]}  \\\\\n",
       "\\midrule\n",
       "\\textbf{Intercept}    &      11.8266  &        0.218     &    54.328  &         0.000        &       11.396    &       12.257     \\\\\n",
       "\\textbf{immigration5} &      -0.1597  &        0.019     &    -8.475  &         0.000        &       -0.197    &       -0.122     \\\\\n",
       "\\bottomrule\n",
       "\\end{tabular}\n",
       "\\end{center}"
      ],
      "text/plain": [
       "<class 'statsmodels.iolib.table.SimpleTable'>"
      ]
     },
     "execution_count": 73,
     "metadata": {},
     "output_type": "execute_result"
    }
   ],
   "source": [
    "reg_asthmaimm_summ = reg_asthmaimm_fit.summary()\n",
    "\n",
    "reg_asthmaimm_summ.tables[1]"
   ]
  },
  {
   "cell_type": "markdown",
   "id": "065c9aed-d70c-4368-a41c-d20c594076cb",
   "metadata": {},
   "source": [
    "#  The regression model is the equation:\n",
    "\n",
    "$$\\texttt{asthma_pct} = 11.8266  - 0.1597 \\times \\texttt{immigration5}$$\n",
    "\n",
    "- The **slope** indicates that for a 1% **increase** in immigration in the past 5 years the percentage of asthma cases in a neighbourhood **decrease** by 0.1597 (approximately 16%).\n",
    "\n",
    "- The **y-intercept** indicates that when a neighbourhood has 0% immigration the past 5 years then asthma rates are 11%.  \n",
    "\n",
    "- Are there any neighbourhoods with 0% immigration in the past 5 years?"
   ]
  },
  {
   "cell_type": "code",
   "execution_count": 74,
   "id": "4efcd6e5-c58c-4d5d-a75f-b099997a67cb",
   "metadata": {
    "slideshow": {
     "slide_type": "slide"
    }
   },
   "outputs": [
    {
     "data": {
      "text/plain": [
       "count    140.000000\n",
       "mean       9.864286\n",
       "std        6.037045\n",
       "min        1.200000\n",
       "25%        4.975000\n",
       "50%        8.650000\n",
       "75%       13.100000\n",
       "max       32.800000\n",
       "Name: immigration5, dtype: float64"
      ]
     },
     "execution_count": 74,
     "metadata": {},
     "output_type": "execute_result"
    }
   ],
   "source": [
    "asthma_socdem['immigration5'].describe()"
   ]
  },
  {
   "cell_type": "markdown",
   "id": "471059ea-079e-4ce7-9449-2378c465af8f",
   "metadata": {},
   "source": [
    "- The **y-intercept** in regression models often doesn't have a sensible interpretation, but is often mathematically important for regression to work well."
   ]
  },
  {
   "cell_type": "markdown",
   "id": "d54410e6-2539-46aa-a1a5-363e9ea16185",
   "metadata": {
    "slideshow": {
     "slide_type": "slide"
    }
   },
   "source": [
    "## Accuracy of the regression model "
   ]
  },
  {
   "cell_type": "code",
   "execution_count": 75,
   "id": "92e0cd87-f0ab-4347-8f40-8f276c0c6048",
   "metadata": {},
   "outputs": [
    {
     "data": {
      "text/plain": [
       "0.3423323970420009"
      ]
     },
     "execution_count": 75,
     "metadata": {},
     "output_type": "execute_result"
    }
   ],
   "source": [
    "reg_asthmaimm_fit.rsquared"
   ]
  },
  {
   "cell_type": "code",
   "execution_count": 76,
   "id": "31963fa1-fb91-4917-9142-6a0fc7c97e2f",
   "metadata": {},
   "outputs": [
    {
     "data": {
      "text/plain": [
       "Text(0, 0.5, 'residuals')"
      ]
     },
     "execution_count": 76,
     "metadata": {},
     "output_type": "execute_result"
    },
    {
     "data": {
      "image/png": "[encoded data removed]",
      "text/plain": [
       "<Figure size 640x480 with 1 Axes>"
      ]
     },
     "metadata": {},
     "output_type": "display_data"
    }
   ],
   "source": [
    "plt.scatter(x = reg_asthmaimm_fit.fittedvalues , y = reg_asthmaimm_fit.resid)\n",
    "plt.axhline(y = 0)\n",
    "plt.xlabel('fitted values')\n",
    "plt.ylabel('residuals')"
   ]
  },
  {
   "cell_type": "markdown",
   "id": "69b027b8",
   "metadata": {
    "slideshow": {
     "slide_type": "fragment"
    }
   },
   "source": [
    "- The R-squared statistics indicates a relatively good explanation of the model (quite larger than 0)\n",
    "\n",
    "- The residual plot indicates some important variables are missing, as we can see larger abolute values as fitted values increase (not a random distributed pattern)"
   ]
  },
  {
   "cell_type": "markdown",
   "id": "6e49a657",
   "metadata": {
    "slideshow": {
     "slide_type": "subslide"
    }
   },
   "source": [
    "### Summary\n",
    "\n",
    "Therefore, we can conclude that the immigration rate in recent 5 years in a neighborhood is negatively associated with the prevalence of asthma in the neighborhood.\n",
    "\n",
    "Why not causal relationship?\n",
    "\n",
    "What is the implication?\n"
   ]
  },
  {
   "cell_type": "code",
   "execution_count": null,
   "id": "76a16b06",
   "metadata": {},
   "outputs": [],
   "source": []
  },
  {
   "cell_type": "markdown",
   "id": "febf86a6-4c9c-4dd7-9ab9-7a3ad63db7b4",
   "metadata": {
    "slideshow": {
     "slide_type": "slide"
    },
    "tags": []
   },
   "source": [
    "## Training and testing a model\n",
    "\n",
    "- Ideally we could assess the accuracy of this linear regression model on a new set of data (i.e., immigration rates in Toronto neighbourhoods in future years.) \n",
    "\n",
    "- But, we don't have this data.\n",
    "\n",
    "- One trick that data scientists use to fit the model on part of the data (training data) and use the remaining part (testing data) to test the accuracy.\n",
    "\n",
    "- If we only have one data set then the training data can be obtained by randomly selecting rows from the data to fit the regression model, then the remaining rows can be used to test the accuracy of the model."
   ]
  },
  {
   "cell_type": "markdown",
   "id": "f3053abf-1539-4987-b995-527f849a5f60",
   "metadata": {
    "slideshow": {
     "slide_type": "slide"
    }
   },
   "source": [
    "### Splitting a `pandas` `DataFrame` by `index`"
   ]
  },
  {
   "cell_type": "code",
   "execution_count": 77,
   "id": "bf20f6cb-0617-4723-9f27-fa49b04d362c",
   "metadata": {},
   "outputs": [
    {
     "data": {
      "text/plain": [
       "RangeIndex(start=0, stop=5, step=1)"
      ]
     },
     "execution_count": 77,
     "metadata": {},
     "output_type": "execute_result"
    }
   ],
   "source": [
    "data = {'a' : [1, 2, 3, 4, 5]}\n",
    "\n",
    "df = pd.DataFrame(data)\n",
    "\n",
    "df.index"
   ]
  },
  {
   "cell_type": "markdown",
   "id": "43ae2793-7975-4131-8202-0e749ba2fdaa",
   "metadata": {},
   "source": [
    "A Boolean array that is `True` if the index is `0` or `1` and `False` otherwise. "
   ]
  },
  {
   "cell_type": "code",
   "execution_count": 78,
   "id": "3e371a29-01a8-4a23-9e66-c2feebcc43f4",
   "metadata": {},
   "outputs": [
    {
     "data": {
      "text/plain": [
       "array([ True,  True, False, False, False])"
      ]
     },
     "execution_count": 78,
     "metadata": {},
     "output_type": "execute_result"
    }
   ],
   "source": [
    "df.index.isin([0,1])"
   ]
  },
  {
   "cell_type": "markdown",
   "id": "bf1f5310-28e8-48c1-a994-dec914ae031a",
   "metadata": {},
   "source": [
    "To create a Boolean series that is `False` if the index is `0` or `1` and `True` otherwise we can negate `df.index.isin([0,1])` this Boolean series using the `~` operator `~df.index.isin([0,1])`"
   ]
  },
  {
   "cell_type": "code",
   "execution_count": 79,
   "id": "9c32e20a-f682-4b6d-bdd8-cdb943535ced",
   "metadata": {},
   "outputs": [
    {
     "data": {
      "text/plain": [
       "array([False, False,  True,  True,  True])"
      ]
     },
     "execution_count": 79,
     "metadata": {},
     "output_type": "execute_result"
    }
   ],
   "source": [
    "~df.index.isin([0,1])"
   ]
  },
  {
   "cell_type": "code",
   "execution_count": 80,
   "id": "d8619ec2-f59d-432b-967c-8f80515c2889",
   "metadata": {},
   "outputs": [
    {
     "data": {
      "text/html": [
       "<div>\n",
       "<style scoped>\n",
       "    .dataframe tbody tr th:only-of-type {\n",
       "        vertical-align: middle;\n",
       "    }\n",
       "\n",
       "    .dataframe tbody tr th {\n",
       "        vertical-align: top;\n",
       "    }\n",
       "\n",
       "    .dataframe thead th {\n",
       "        text-align: right;\n",
       "    }\n",
       "</style>\n",
       "<table border=\"1\" class=\"dataframe\">\n",
       "  <thead>\n",
       "    <tr style=\"text-align: right;\">\n",
       "      <th></th>\n",
       "      <th>a</th>\n",
       "    </tr>\n",
       "  </thead>\n",
       "  <tbody>\n",
       "    <tr>\n",
       "      <th>2</th>\n",
       "      <td>3</td>\n",
       "    </tr>\n",
       "    <tr>\n",
       "      <th>3</th>\n",
       "      <td>4</td>\n",
       "    </tr>\n",
       "    <tr>\n",
       "      <th>4</th>\n",
       "      <td>5</td>\n",
       "    </tr>\n",
       "  </tbody>\n",
       "</table>\n",
       "</div>"
      ],
      "text/plain": [
       "   a\n",
       "2  3\n",
       "3  4\n",
       "4  5"
      ]
     },
     "execution_count": 80,
     "metadata": {},
     "output_type": "execute_result"
    }
   ],
   "source": [
    "df[~df.index.isin([0,1])]"
   ]
  },
  {
   "cell_type": "markdown",
   "id": "2a1c5620-b7e3-4f84-b914-955f1edf9ad1",
   "metadata": {
    "slideshow": {
     "slide_type": "slide"
    },
    "tags": []
   },
   "source": [
    "### Creating training and test data sets from a single dataset"
   ]
  },
  {
   "cell_type": "markdown",
   "id": "35e64299-3f9b-445b-b366-5e43b4e3d129",
   "metadata": {},
   "source": [
    "### Step 1: \n",
    "\n",
    "- split the data into a training set with 75% of the rows.\n",
    "\n",
    "- use the remaining 25% of the data for testing. "
   ]
  },
  {
   "cell_type": "code",
   "execution_count": 81,
   "id": "e651f3a7-637c-4e83-985a-68ee170d2170",
   "metadata": {},
   "outputs": [],
   "source": [
    "np.random.seed(11) # for reproducibility\n",
    "\n",
    "# randomly select 75% of neighbourhoods\n",
    "reg_df_train = asthma_socdem.sample(frac = 0.75, replace = False) \n",
    "\n",
    "# get index of training data\n",
    "train_index = reg_df_train.index"
   ]
  },
  {
   "cell_type": "markdown",
   "id": "c7cccdbb-7931-4120-9817-5e1edefe646e",
   "metadata": {
    "tags": []
   },
   "source": [
    "- Exclude indicies from `reg_df_train` using `pandas` `isin` function. "
   ]
  },
  {
   "cell_type": "code",
   "execution_count": 82,
   "id": "6df8c9c9-aa05-4aa6-8e2a-36f8d2d29d74",
   "metadata": {},
   "outputs": [
    {
     "name": "stdout",
     "output_type": "stream",
     "text": [
      "(140, 9)\n",
      "(105, 9)\n",
      "(35, 9)\n"
     ]
    }
   ],
   "source": [
    "# exclude rows in training to define test data\n",
    "reg_df_test = asthma_socdem[~asthma_socdem.index.isin(train_index)]\n",
    "\n",
    "print(asthma_socdem.shape)\n",
    "\n",
    "print(reg_df_train.shape)\n",
    "\n",
    "print(reg_df_test.shape)"
   ]
  },
  {
   "cell_type": "markdown",
   "id": "3eaf4b29-62c2-433d-9f5c-53c876065e0a",
   "metadata": {
    "slideshow": {
     "slide_type": "slide"
    }
   },
   "source": [
    "### Step 2: Fit the regression model on the training data"
   ]
  },
  {
   "cell_type": "code",
   "execution_count": 83,
   "id": "69d34385-94bd-4400-9424-6c0c92b451f3",
   "metadata": {},
   "outputs": [],
   "source": [
    "reg_train = ols('asthma_pct ~ immigration5', data = reg_df_train) # setup the model\n",
    "\n",
    "reg_train_fit = reg_train.fit() # estimate/fit the model "
   ]
  },
  {
   "cell_type": "markdown",
   "id": "463b50dd-d6b8-4f17-97e9-50917d38909f",
   "metadata": {
    "slideshow": {
     "slide_type": "fragment"
    }
   },
   "source": [
    "### Step 3: Compute predicted (fitted) values using training data "
   ]
  },
  {
   "cell_type": "code",
   "execution_count": 84,
   "id": "14d9a8de-0ec5-47fb-9a0c-aace961d69e3",
   "metadata": {},
   "outputs": [],
   "source": [
    "# use the model fit on the training data to predict asthma rates\n",
    "# from the test set. \n",
    "\n",
    "predvalues_train = reg_train_fit.predict(reg_df_train['immigration5'])"
   ]
  },
  {
   "cell_type": "markdown",
   "id": "89189ed4-fa9a-4b4a-8350-0a2af1991ba7",
   "metadata": {
    "slideshow": {
     "slide_type": "slide"
    }
   },
   "source": [
    "### Step 4: Evaluate accuracy using root mean-squared error on training data\n",
    "\n",
    "- Another measure of accuracy of regression models.\n",
    "\n",
    "- Compares observed values of the dependent variable with the predicted values.\n",
    "\n",
    "![rmse.jpg](insights_rmse_formula.jpg)\n",
    "\n"
   ]
  },
  {
   "cell_type": "markdown",
   "id": "0e310300-7dde-4a04-bc1c-063a3eebdf77",
   "metadata": {
    "slideshow": {
     "slide_type": "slide"
    }
   },
   "source": [
    "It can be computed using the `rmse` function from `statsmodels`.\n"
   ]
  },
  {
   "cell_type": "code",
   "execution_count": 85,
   "id": "41b8f5d9-a9bd-4e66-a921-8397a7d154a3",
   "metadata": {},
   "outputs": [
    {
     "data": {
      "text/plain": [
       "1.3987103239995489"
      ]
     },
     "execution_count": 85,
     "metadata": {},
     "output_type": "execute_result"
    }
   ],
   "source": [
    "# Compute root mean-squared error for the training data.\n",
    "from statsmodels.tools.eval_measures import rmse\n",
    "\n",
    "rmse(predvalues_train, reg_df_train['asthma_pct'])\n"
   ]
  },
  {
   "cell_type": "markdown",
   "id": "8ac15ebd-324d-4eda-b327-ef2d0f5820df",
   "metadata": {},
   "source": [
    "- The observed asthma rates deviate from the predicted asthma rates in each neighbourhood by 1.4% in the training set.\n",
    "\n",
    "- Is this an acceptable prediction error?\n",
    "\n",
    "- Let's examine the accuracy of the linear regression model on the test set\n"
   ]
  },
  {
   "cell_type": "markdown",
   "id": "da085601-4d66-450a-bba2-c99f1f8fb6cf",
   "metadata": {
    "slideshow": {
     "slide_type": "slide"
    }
   },
   "source": [
    "### Step 5: Evaluate the accuracy of regression model on the test data using root mean-squared error\n",
    "\n",
    "- Compute predictions using test data"
   ]
  },
  {
   "cell_type": "code",
   "execution_count": 86,
   "id": "56e41e16-f735-4f17-a935-ea67532f36b8",
   "metadata": {},
   "outputs": [],
   "source": [
    "predvalues_test = reg_train_fit.predict(reg_df_test['immigration5'])\n"
   ]
  },
  {
   "cell_type": "markdown",
   "id": "769ad805-3bca-4a8e-8067-503042112add",
   "metadata": {},
   "source": [
    "- Now compute the root mean-squared error for the test data using the model fit on the training data."
   ]
  },
  {
   "cell_type": "code",
   "execution_count": 87,
   "id": "3a01ff07-c594-421c-b7ff-436d2895dc2c",
   "metadata": {},
   "outputs": [
    {
     "data": {
      "text/plain": [
       "1.1096219805062997"
      ]
     },
     "execution_count": 87,
     "metadata": {},
     "output_type": "execute_result"
    }
   ],
   "source": [
    "rmse(predvalues_test, reg_df_test['asthma_pct'])\n"
   ]
  },
  {
   "cell_type": "markdown",
   "id": "be475699-afc9-40cb-8ef0-bd27984450a6",
   "metadata": {
    "slideshow": {
     "slide_type": "slide"
    }
   },
   "source": [
    "## Conclusion of data analysis using linear regression model\n",
    "\n",
    "- The regression model appears to provide an accurate fit the data, although both the scatter plot and plot of residuals indicate that there is a lot of variation in asthma rates in neighbourhoods that have between 10% - 20% immigration.\n",
    "\n",
    "- As the percentage of immigrants to a neighbourhood within the last 5 years increases, the asthma rates will decreases. \n",
    "\n",
    "- Regression analyses on aggregated data such as neighbourhoods can be misleading when compared to non-aggregated data."
   ]
  },
  {
   "cell_type": "markdown",
   "id": "d6ffc6e5-0fad-4fa1-93c4-531c083f13d8",
   "metadata": {
    "slideshow": {
     "slide_type": "slide"
    }
   },
   "source": [
    "## Are there other sociaodemographic  factors in our data that might effect asthma rates?\n",
    "\n",
    "- Let's create a matrix scatter plot using [`pairplot`](https://seaborn.pydata.org/generated/seaborn.pairplot.html) in the `seaborn` library.\n",
    "\n",
    "- `pairplot` will visualize paired relationship between variables in a dataset."
   ]
  },
  {
   "cell_type": "code",
   "execution_count": 88,
   "id": "224bd66a",
   "metadata": {},
   "outputs": [
    {
     "data": {
      "text/plain": [
       "Index(['Neighbid', 'name_x', 'asthma_pct', 'name_y', 'median_income',\n",
       "       'rented_dwell', 'unemployment', 'immigration5', 'vismin'],\n",
       "      dtype='object')"
      ]
     },
     "execution_count": 88,
     "metadata": {},
     "output_type": "execute_result"
    }
   ],
   "source": [
    "asthma_socdem.columns"
   ]
  },
  {
   "cell_type": "code",
   "execution_count": 89,
   "id": "cb18fe13-b861-41af-9925-a8d4db5bc57f",
   "metadata": {
    "slideshow": {
     "slide_type": "slide"
    }
   },
   "outputs": [
    {
     "data": {
      "image/png": "[encoded data removed]",
      "text/plain": [
       "<Figure size 1250x1250 with 30 Axes>"
      ]
     },
     "metadata": {},
     "output_type": "display_data"
    }
   ],
   "source": [
    "# reduce the column for better presentation\n",
    "to_show = ['asthma_pct','median_income','rented_dwell','immigration5','vismin']\n",
    "sns.pairplot(asthma_socdem[to_show]);"
   ]
  },
  {
   "cell_type": "markdown",
   "id": "6ec32bfd-8e7f-40b1-82d5-3514c8f8a4f8",
   "metadata": {
    "slideshow": {
     "slide_type": "slide"
    }
   },
   "source": [
    "- Let's consider median income\n",
    "\n",
    "- Fit the regression model on all the data and produce a statistical summary."
   ]
  },
  {
   "cell_type": "code",
   "execution_count": 90,
   "id": "38b1224a-c855-4a67-aaf3-6b6ab1e9e129",
   "metadata": {
    "slideshow": {
     "slide_type": "fragment"
    }
   },
   "outputs": [
    {
     "data": {
      "text/html": [
       "<table class=\"simpletable\">\n",
       "<tr>\n",
       "        <td></td>           <th>coef</th>     <th>std err</th>      <th>t</th>      <th>P>|t|</th>  <th>[0.025</th>    <th>0.975]</th>  \n",
       "</tr>\n",
       "<tr>\n",
       "  <th>Intercept</th>     <td>   14.3041</td> <td>    0.497</td> <td>   28.758</td> <td> 0.000</td> <td>   13.321</td> <td>   15.288</td>\n",
       "</tr>\n",
       "<tr>\n",
       "  <th>immigration5</th>  <td>   -0.2054</td> <td>    0.019</td> <td>  -10.750</td> <td> 0.000</td> <td>   -0.243</td> <td>   -0.168</td>\n",
       "</tr>\n",
       "<tr>\n",
       "  <th>median_income</th> <td>-4.048e-05</td> <td> 7.45e-06</td> <td>   -5.431</td> <td> 0.000</td> <td>-5.52e-05</td> <td>-2.57e-05</td>\n",
       "</tr>\n",
       "</table>"
      ],
      "text/latex": [
       "\\begin{center}\n",
       "\\begin{tabular}{lcccccc}\n",
       "\\toprule\n",
       "                        & \\textbf{coef} & \\textbf{std err} & \\textbf{t} & \\textbf{P$> |$t$|$} & \\textbf{[0.025} & \\textbf{0.975]}  \\\\\n",
       "\\midrule\n",
       "\\textbf{Intercept}      &      14.3041  &        0.497     &    28.758  &         0.000        &       13.321    &       15.288     \\\\\n",
       "\\textbf{immigration5}   &      -0.2054  &        0.019     &   -10.750  &         0.000        &       -0.243    &       -0.168     \\\\\n",
       "\\textbf{median\\_income} &   -4.048e-05  &     7.45e-06     &    -5.431  &         0.000        &    -5.52e-05    &    -2.57e-05     \\\\\n",
       "\\bottomrule\n",
       "\\end{tabular}\n",
       "\\end{center}"
      ],
      "text/plain": [
       "<class 'statsmodels.iolib.table.SimpleTable'>"
      ]
     },
     "execution_count": 90,
     "metadata": {},
     "output_type": "execute_result"
    }
   ],
   "source": [
    "reg_asthmaimmunem = ols('asthma_pct ~ immigration5 + median_income', data = asthma_socdem) # setup the model\n",
    "\n",
    "reg_asthmaimmunem_fit = reg_asthmaimmunem.fit() # estimate/fit the model \n",
    "\n",
    "reg_asthmaimmunem_summ = reg_asthmaimmunem_fit.summary()\n",
    "\n",
    "reg_asthmaimmunem_summ.tables[1]"
   ]
  },
  {
   "cell_type": "markdown",
   "id": "3c7eb40d-16a0-4ecb-a46a-e61da520af23",
   "metadata": {},
   "source": [
    "- Notice that the slope estimate for `median_income` is 0, but so is the p-value and range of plausible values.\n",
    "\n",
    "- That seems odd.  What's happening?\n",
    "\n",
    "- We can see from the scatter plot that `immigration5` and `median_income` have a linear relationship.  When two variables have a linear relationship multiple linear regression models produce strange results.\n",
    "\n",
    "- It's important that independent variables in a multiple regression model are unrelated."
   ]
  },
  {
   "cell_type": "code",
   "execution_count": 91,
   "id": "39bd89d5-2057-4668-b6d2-999b066ba7e2",
   "metadata": {
    "slideshow": {
     "slide_type": "subslide"
    }
   },
   "outputs": [
    {
     "data": {
      "image/png": "[encoded data removed]",
      "text/plain": [
       "<Figure size 640x480 with 1 Axes>"
      ]
     },
     "metadata": {},
     "output_type": "display_data"
    }
   ],
   "source": [
    "sns.regplot(y = 'immigration5', x = 'median_income', data = asthma_socdem, ci = None);"
   ]
  }
 ],
 "metadata": {
  "celltoolbar": "Slideshow",
  "kernelspec": {
   "display_name": "Python 3 (ipykernel)",
   "language": "python",
   "name": "python3"
  },
  "language_info": {
   "codemirror_mode": {
    "name": "ipython",
    "version": 3
   },
   "file_extension": ".py",
   "mimetype": "text/x-python",
   "name": "python",
   "nbconvert_exporter": "python",
   "pygments_lexer": "ipython3",
   "version": "3.12.3"
  }
 },
 "nbformat": 4,
 "nbformat_minor": 5
}
