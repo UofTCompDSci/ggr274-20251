{
 "cells": [
  {
   "cell_type": "markdown",
   "id": "acb6306f-044e-4760-8ad2-ed982e5f8b00",
   "metadata": {
    "editable": true,
    "slideshow": {
     "slide_type": "slide"
    },
    "tags": []
   },
   "source": [
    "# Class 9\n",
    "\n",
    "## Mar. 11, 2024\n",
    "\n",
    "## Arrangment of the last 3 tutorials\n",
    "\n",
    "- You will conduct a communication exercise in three parts guided by your TAs.\n",
    "\n",
    "    - Visualize some data and write a statement about it.\n",
    "    - Do a short presentation.\n",
    "    - Reflect your presentation and improve your work.\n",
    "\n",
    "## Learning objectives\n",
    "\n",
    "By the end of this class, you'll be able to:\n",
    "\n",
    "- Obtain bootstrap confidence intervals;\n",
    "\n",
    "- Compare two samples using shuffling and bootstrapped resampling;\n",
    "\n",
    "- Propose hypothesis and use p-value to test hypothesis\n",
    "\n",
    "- Learn linear regression\n",
    "\n"
   ]
  },
  {
   "cell_type": "markdown",
   "id": "3860008a",
   "metadata": {
    "editable": true,
    "slideshow": {
     "slide_type": "slide"
    },
    "tags": []
   },
   "source": [
    "# Bootstrap - start with a story\n",
    "\n",
    "- A data scientist is using the data in a random sample to estimate an unknown statistical parameter such as **the mean time spent resting**. She uses the sample to calculate the value of a statistic that she will use as her estimate."
   ]
  },
  {
   "cell_type": "markdown",
   "id": "f66f165d",
   "metadata": {
    "editable": true,
    "slideshow": {
     "slide_type": "fragment"
    },
    "tags": []
   },
   "source": [
    "- Once she has calculated the observed value of her statistic, she could just present it as her estimate and go on her merry way. But she’s a data scientist. She knows that her random sample is just one of numerous possible random samples, and thus her estimate is just one of numerous plausible estimates."
   ]
  },
  {
   "cell_type": "markdown",
   "id": "ef2e805e",
   "metadata": {
    "editable": true,
    "slideshow": {
     "slide_type": "fragment"
    },
    "tags": []
   },
   "source": [
    "- By how much could those estimates vary? To answer this, it appears as though she needs to draw another sample from the population, and compute a new estimate based on the new sample. But she doesn’t have the resources to go back to the population and draw another sample."
   ]
  },
  {
   "cell_type": "markdown",
   "id": "e6214d63-3c94-40bc-b052-508ec8f20989",
   "metadata": {
    "editable": true,
    "slideshow": {
     "slide_type": ""
    },
    "tags": []
   },
   "source": [
    "![](stats.png)"
   ]
  },
  {
   "cell_type": "markdown",
   "id": "433e4c80",
   "metadata": {
    "editable": true,
    "slideshow": {
     "slide_type": "slide"
    },
    "tags": []
   },
   "source": [
    "- It looks as though the data scientist is stuck."
   ]
  },
  {
   "cell_type": "markdown",
   "id": "8313aa0a-6b55-42e1-8ad0-45aeb28b670a",
   "metadata": {
    "editable": true,
    "slideshow": {
     "slide_type": "fragment"
    },
    "tags": []
   },
   "source": [
    "- Fortunately, a brilliant idea called the bootstrap can help her out. Since it is not feasible to generate new samples from the population, the bootstrap generates new random samples by a method called resampling: the new samples are drawn at random from the **original sample**, instead of from the *population*."
   ]
  },
  {
   "cell_type": "markdown",
   "id": "d670c6a1-5ef6-4d57-80b9-0a2580f41d70",
   "metadata": {
    "editable": true,
    "slideshow": {
     "slide_type": "fragment"
    },
    "tags": []
   },
   "source": [
    "- We observed before that a large random sample from a population resembles the population from which it was drawn."
   ]
  },
  {
   "cell_type": "code",
   "execution_count": null,
   "id": "05c36ed5-b89f-4fad-9dba-8464b9134cae",
   "metadata": {
    "editable": true,
    "slideshow": {
     "slide_type": "slide"
    },
    "tags": []
   },
   "outputs": [],
   "source": [
    "import pandas as pd\n",
    "import matplotlib.pyplot as plt \n",
    "import numpy as np\n",
    "import seaborn as sns\n",
    "\n",
    "\n",
    "time_use_df = pd.read_csv('gss_tu2016_main_file.csv')"
   ]
  },
  {
   "cell_type": "markdown",
   "id": "379220ef-81ae-4b7c-91de-2513c1f68c82",
   "metadata": {
    "editable": true,
    "slideshow": {
     "slide_type": ""
    },
    "tags": []
   },
   "source": [
    "```\n",
    "dur01              Duration - Sleeping, resting, relaxing, sick in bed\n",
    "\n",
    "           VALUE  LABEL\n",
    "               0  No time spent doing this activity\n",
    "            9996  Valid skip\n",
    "            9997  Don't know\n",
    "            9998  Refusal\n",
    "            9999  Not stated\n",
    "\n",
    "           Data type: numeric\n",
    "           Missing-data codes: 9996-9999\n",
    "           Record/columns: 1/65-68\n",
    "```\n",
    "\n"
   ]
  },
  {
   "cell_type": "code",
   "execution_count": null,
   "id": "405316c7-cda5-4e8a-aeee-4efa79370a25",
   "metadata": {
    "editable": true,
    "slideshow": {
     "slide_type": "slide"
    },
    "tags": []
   },
   "outputs": [],
   "source": [
    "time_use_df['dur01'].plot.hist(color = 'grey', edgecolor = 'black');"
   ]
  },
  {
   "cell_type": "code",
   "execution_count": null,
   "id": "2b7fec49-8e5a-43f0-9f1f-8a4ef471cd5c",
   "metadata": {
    "editable": true,
    "slideshow": {
     "slide_type": ""
    },
    "tags": []
   },
   "outputs": [],
   "source": [
    "print(time_use_df['dur01'].median())\n",
    "print(time_use_df['dur01'].mean())"
   ]
  },
  {
   "cell_type": "code",
   "execution_count": null,
   "id": "bb5b0438-fba4-48e4-b22d-26f1f4d574b9",
   "metadata": {
    "editable": true,
    "slideshow": {
     "slide_type": ""
    },
    "tags": []
   },
   "outputs": [],
   "source": [
    "time_use_df.shape"
   ]
  },
  {
   "cell_type": "markdown",
   "id": "e2126334-e5e3-458f-a03e-37742809945b",
   "metadata": {
    "editable": true,
    "slideshow": {
     "slide_type": "slide"
    },
    "tags": []
   },
   "source": [
    "Recall what've done before in understanding the Laws of Average:"
   ]
  },
  {
   "cell_type": "code",
   "execution_count": null,
   "id": "f90689fe-16de-4e02-b263-acc792658db1",
   "metadata": {
    "editable": true,
    "slideshow": {
     "slide_type": ""
    },
    "tags": []
   },
   "outputs": [],
   "source": [
    "from ipywidgets import interact\n",
    "import ipywidgets as widgets\n",
    "\n",
    "def emp_hist_plot(n):\n",
    "    time_use_df['dur01'].sample(n, replace = True).plot.hist(bins=10, edgecolor=\"white\", color=\"darkgrey\");\n",
    "\n",
    "interact(emp_hist_plot, n = widgets.IntSlider(min = 10, max= 5000, step=50, value=10));"
   ]
  },
  {
   "cell_type": "markdown",
   "id": "23dd250a-bb55-4459-b863-b38b136b08b5",
   "metadata": {
    "editable": true,
    "slideshow": {
     "slide_type": "slide"
    },
    "tags": []
   },
   "source": [
    "- In this time, we acknowledge that this dataset only has one sample of entire Canada population.\n",
    "\n",
    "- How can we get the statstics, e.g., the average sleeping time, of the entire population?\n",
    "\n",
    "- Draw a random sample with replacement of the **same size (number of rows) as the original sample**\n",
    "\n",
    "- This opens the possibility for the new sample to be different from the original sample."
   ]
  },
  {
   "cell_type": "code",
   "execution_count": null,
   "id": "4dfe0955-e3ac-4d60-9ace-a802de0ffadd",
   "metadata": {
    "editable": true,
    "slideshow": {
     "slide_type": "fragment"
    },
    "tags": []
   },
   "outputs": [],
   "source": [
    "sleep_bs_sample = time_use_df['dur01'].sample(frac = 1, replace=True)\n",
    "\n",
    "sleep_bs_sample.plot.hist(color = 'grey', edgecolor = 'black');\n",
    "\n",
    "print(sleep_bs_sample.median())\n",
    "print(sleep_bs_sample.mean())"
   ]
  },
  {
   "cell_type": "markdown",
   "id": "c7a5eba8-1d54-422b-9f59-23e599549b16",
   "metadata": {
    "editable": true,
    "slideshow": {
     "slide_type": "slide"
    },
    "tags": []
   },
   "source": [
    "## Why is this a good idea?\n",
    "\n",
    "- By the law of averages, the distribution of the original sample is likely to resemble the population.  \n",
    "\n",
    "- The distributions of all the “resamples” are likely to resemble the original sample. \n",
    "\n",
    "- So the distributions of all the resamples are likely to resemble the population as well."
   ]
  },
  {
   "cell_type": "markdown",
   "id": "5b903b10-f489-4d6e-a24f-72c39e77b65d",
   "metadata": {
    "editable": true,
    "slideshow": {
     "slide_type": "fragment"
    },
    "tags": []
   },
   "source": [
    "## Resampled mean\n",
    "\n",
    "- We generated one resampled or *bootstrapped* mean above.\n",
    "\n",
    "- By resampling many times we can compute the empirical distribution of the mean sleep time.\n",
    "\n",
    "- The distribution of the boostrapped means should contain the population mean."
   ]
  },
  {
   "cell_type": "code",
   "execution_count": null,
   "id": "41a53037-8eef-4639-a488-485c97dcf17b",
   "metadata": {
    "editable": true,
    "slideshow": {
     "slide_type": "slide"
    },
    "tags": []
   },
   "outputs": [],
   "source": [
    "def one_bs_mean():\n",
    "    mean_bsample = time_use_df['dur01'].sample(frac = 1, replace=True).mean()\n",
    "    return mean_bsample\n",
    "\n",
    "one_bs_mean()"
   ]
  },
  {
   "cell_type": "markdown",
   "id": "b83d2454-acee-424f-8682-c573278d3741",
   "metadata": {
    "editable": true,
    "slideshow": {
     "slide_type": "fragment"
    },
    "tags": []
   },
   "source": [
    "- Now let's compute many resampled mean by writing a `for` loop."
   ]
  },
  {
   "cell_type": "code",
   "execution_count": null,
   "id": "d8d793ce-be2d-49e0-85f2-276b34253cc5",
   "metadata": {
    "editable": true,
    "slideshow": {
     "slide_type": ""
    },
    "tags": []
   },
   "outputs": [],
   "source": [
    "bootstrap_means = []  # empty list to collect means\n",
    "\n",
    "for _ in range(5000):\n",
    "    bootstrap_means.append(one_bs_mean())"
   ]
  },
  {
   "cell_type": "code",
   "execution_count": null,
   "id": "e7be41a3-629a-4d94-8857-2a942a9a60ae",
   "metadata": {
    "editable": true,
    "slideshow": {
     "slide_type": "fragment"
    },
    "tags": []
   },
   "outputs": [],
   "source": [
    "plt.hist(bootstrap_means, color = 'grey', edgecolor = 'black');"
   ]
  },
  {
   "cell_type": "markdown",
   "id": "ca296bbc-b1c0-4260-b5c6-bf1b41954080",
   "metadata": {
    "editable": true,
    "slideshow": {
     "slide_type": "slide"
    },
    "tags": []
   },
   "source": [
    "## Boostrap confidence intervals (CIs)\n",
    "\n",
    "- We can use the bootstrap distribution to construct a range of values such that 95% of the random samples will contain the true mean (i.e., population mean).\n",
    "\n",
    "- The range of values is called a confidence interval.\n",
    "\n",
    "- A 95% confidence interval for the mean can be constructed finding the 2.5% percentile and the 97.5% percentile.  \n",
    "\n",
    "- The reason for choosing 2.5% and 97.5% is that 0.05/2 = 0.025, and 1 - 0.025 = 0.975.   \n",
    "\n",
    "- We can do this using the `percentile` function in `numpy`."
   ]
  },
  {
   "cell_type": "code",
   "execution_count": null,
   "id": "7dcb3edb-4372-4e40-9b70-5464ef90aa88",
   "metadata": {
    "editable": true,
    "slideshow": {
     "slide_type": "fragment"
    },
    "tags": []
   },
   "outputs": [],
   "source": [
    "low_range = np.percentile(bootstrap_means, 2.5)\n",
    "high_range = np.percentile(bootstrap_means, 97.5)\n",
    "print(f\"A 95% bootstrap confidence interval for mean is {round(low_range,2)} minutes to {round(high_range,2)} minutes.\")"
   ]
  },
  {
   "cell_type": "markdown",
   "id": "b7fe4d25-0fb4-4ff0-b682-69f4745c84bf",
   "metadata": {
    "editable": true,
    "slideshow": {
     "slide_type": "slide"
    },
    "tags": []
   },
   "source": [
    "### The choice of percentage and CIs\n",
    "\n",
    "Larger percentages means larger CIs: having more confidence that true value is contained in this range."
   ]
  },
  {
   "cell_type": "code",
   "execution_count": null,
   "id": "702a667d-13d3-4af1-9988-d4061feb28a5",
   "metadata": {
    "editable": true,
    "slideshow": {
     "slide_type": "slide"
    },
    "tags": []
   },
   "outputs": [],
   "source": [
    "def plot_CIs(p):\n",
    "    plt.axvline(x = np.percentile(bootstrap_means, (100-p)/2), color = 'r', label = 'axvline - full height')\n",
    "    plt.axvline(x = np.percentile(bootstrap_means, p+(100-p)/2), color = 'r', label = 'axvline - full height')\n",
    "    plt.xlim(519, 526)\n",
    "\n",
    "interact(plot_CIs, p = widgets.IntSlider(min = 80, max= 99, value=5));"
   ]
  },
  {
   "cell_type": "markdown",
   "id": "2701bbb8-867f-4ae4-ade0-8e18973c40e0",
   "metadata": {
    "editable": true,
    "slideshow": {
     "slide_type": "slide"
    },
    "tags": []
   },
   "source": [
    "## Using Bootstrap confidence intervals to compare samples"
   ]
  },
  {
   "cell_type": "markdown",
   "id": "cd427010-66a9-4b43-8abb-02ae5ea66a6f",
   "metadata": {
    "editable": true,
    "slideshow": {
     "slide_type": "fragment"
    },
    "tags": []
   },
   "source": [
    "### Do people with no children under 14 spend more time resting? \n",
    "\n",
    "- Firstly, create a dataset (`DataFrame`) with children under 14 and time spent resting."
   ]
  },
  {
   "cell_type": "markdown",
   "id": "c5d3ffbc",
   "metadata": {
    "editable": true,
    "slideshow": {
     "slide_type": "subslide"
    },
    "tags": []
   },
   "source": [
    "```\n",
    "chh0014c           Child(ren) in household - 0 to 14 years\n",
    "\n",
    "           VALUE  LABEL\n",
    "               0  None\n",
    "               1  One\n",
    "               2  Two\n",
    "               3  Three or more\n",
    "               6  Valid skip\n",
    "               7  Don't know\n",
    "               8  Refusal\n",
    "               9  Not stated\n",
    "\n",
    "```"
   ]
  },
  {
   "cell_type": "code",
   "execution_count": null,
   "id": "ace720ab-2da6-4987-a59c-ee3255ce88fb",
   "metadata": {
    "editable": true,
    "slideshow": {
     "slide_type": "subslide"
    },
    "tags": []
   },
   "outputs": [],
   "source": [
    "cols = ['dur01', 'chh0014c']\n",
    "\n",
    "colnames = {cols[0] : 'resttime',\n",
    "            cols[1] : 'children'}\n",
    "\n",
    "restchild_df = time_use_df[cols]\n",
    "\n",
    "restchild_df = restchild_df.copy()\n",
    "\n",
    "restchild_df.rename(columns = colnames, inplace=True)\n",
    "\n",
    "restchild_df.head()"
   ]
  },
  {
   "cell_type": "markdown",
   "id": "6a16c3f7",
   "metadata": {
    "editable": true,
    "slideshow": {
     "slide_type": "slide"
    },
    "tags": []
   },
   "source": [
    "### Hypothesis testing\n",
    "\n",
    "Two claims:\n",
    "\n",
    "1. Null hypothesis: There is no difference in the average resting time between people with and without children under 14.  \n",
    "2. Alternative hypothesis: There is difference in the average resting time between people with and without children under 14.\n",
    "    - 2a. Alternative hypothesis: People with children with children under 14 have *less* resting time than the people with no children under 14 (preferred).\n",
    "    - 2b. Alternative hypothesis: People with children with children under 14 have *more* resting time than the people with no children under 14."
   ]
  },
  {
   "cell_type": "markdown",
   "id": "3f25392a-3982-4eca-a176-da1f859ac03b",
   "metadata": {
    "editable": true,
    "slideshow": {
     "slide_type": "slide"
    },
    "tags": []
   },
   "source": [
    "### Step 1: divide the samples with two subsamples (with and without children)\n",
    "\n",
    "Create a new column `'Child_in_house'` that indicates if a child is in the house."
   ]
  },
  {
   "cell_type": "code",
   "execution_count": null,
   "id": "f642a7de-cbb6-4023-ac0f-bc4be701502b",
   "metadata": {
    "editable": true,
    "slideshow": {
     "slide_type": ""
    },
    "tags": []
   },
   "outputs": [],
   "source": [
    "restchild_df.loc[restchild_df['children'] > 0, 'Child_in_house'] = 'Yes'\n",
    "\n",
    "restchild_df.loc[restchild_df['children'] == 0, 'Child_in_house'] = 'No'\n",
    "\n",
    "restchild_df.head()"
   ]
  },
  {
   "cell_type": "code",
   "execution_count": null,
   "id": "fd1f6571-7392-4a59-ae14-6f36b846760e",
   "metadata": {
    "editable": true,
    "slideshow": {
     "slide_type": ""
    },
    "tags": []
   },
   "outputs": [],
   "source": [
    "mean_rest_times = restchild_df.groupby('Child_in_house')['resttime'].mean()\n",
    "print(mean_rest_times)"
   ]
  },
  {
   "cell_type": "code",
   "execution_count": null,
   "id": "3a8ebc03-4a50-4228-bc9d-cdcee4ebbd89",
   "metadata": {
    "editable": true,
    "slideshow": {
     "slide_type": ""
    },
    "tags": []
   },
   "outputs": [],
   "source": [
    "print('Mean difference:', mean_rest_times.iloc[0] - mean_rest_times.iloc[1])"
   ]
  },
  {
   "cell_type": "code",
   "execution_count": null,
   "id": "7c5ae602-3a55-4f4e-bf8d-3905fb310d5e",
   "metadata": {
    "editable": true,
    "slideshow": {
     "slide_type": "slide"
    },
    "tags": []
   },
   "outputs": [],
   "source": [
    "restchild_df[['Child_in_house', 'resttime']].hist(by = 'Child_in_house', bins = 10, edgecolor = 'black', color = 'grey');"
   ]
  },
  {
   "cell_type": "markdown",
   "id": "de888864-f4b5-45ce-a540-ab23150baf87",
   "metadata": {
    "editable": true,
    "slideshow": {
     "slide_type": "slide"
    },
    "tags": []
   },
   "source": [
    "### Step 2: Create a function to create one bootstrap sample of the mean difference."
   ]
  },
  {
   "cell_type": "code",
   "execution_count": null,
   "id": "dbd62ecb-b137-42b9-918f-e4d89e05aa8e",
   "metadata": {
    "editable": true,
    "slideshow": {
     "slide_type": ""
    },
    "tags": []
   },
   "outputs": [],
   "source": [
    "child = restchild_df['Child_in_house'] == 'Yes'\n",
    "\n",
    "nochild = restchild_df['Child_in_house'] == 'No'\n",
    "\n",
    "def bs_one_mean_diff():\n",
    "    # sample sleep and rest with replacement\n",
    "    bssample = restchild_df.sample(frac = 1, replace =  True)\n",
    "    \n",
    "    # compute difference in means on bootstrap sample\n",
    "    bs_mean_diff = (bssample.loc[nochild, 'resttime'].mean() - \n",
    "                   bssample.loc[child, 'resttime'].mean())\n",
    "    return bs_mean_diff\n",
    "\n",
    "bs_one_mean_diff()"
   ]
  },
  {
   "cell_type": "markdown",
   "id": "8dbaeefe-6697-4b13-b14d-1672fbbd977d",
   "metadata": {
    "editable": true,
    "slideshow": {
     "slide_type": "slide"
    },
    "tags": []
   },
   "source": [
    "### Step 3: Compute bootstrap distribution "
   ]
  },
  {
   "cell_type": "code",
   "execution_count": null,
   "id": "52253fe5-71d4-46be-8afe-599b12d18fa3",
   "metadata": {
    "editable": true,
    "slideshow": {
     "slide_type": ""
    },
    "tags": []
   },
   "outputs": [],
   "source": [
    "bootst_mean_diffs = []\n",
    "\n",
    "for _ in range(5000):\n",
    "    bootst_mean_diffs.append(bs_one_mean_diff())"
   ]
  },
  {
   "cell_type": "code",
   "execution_count": null,
   "id": "c1e01f8e-24f0-47f9-8dc5-72cace020074",
   "metadata": {
    "editable": true,
    "slideshow": {
     "slide_type": ""
    },
    "tags": []
   },
   "outputs": [],
   "source": [
    "plt.hist(bootst_mean_diffs, color = 'grey', edgecolor = 'black');"
   ]
  },
  {
   "cell_type": "markdown",
   "id": "ea7ff042-269a-490b-85a7-3eebf7b07c41",
   "metadata": {
    "editable": true,
    "slideshow": {
     "slide_type": "slide"
    },
    "tags": []
   },
   "source": [
    "### Step 4: obtain a 95% confidence interval for the mean difference"
   ]
  },
  {
   "cell_type": "code",
   "execution_count": null,
   "id": "584a39aa-8cff-428a-ac3e-728da6efa3f3",
   "metadata": {
    "editable": true,
    "slideshow": {
     "slide_type": ""
    },
    "tags": []
   },
   "outputs": [],
   "source": [
    "np.percentile(bootst_mean_diffs, 2.5), np.percentile(bootst_mean_diffs, 97.5) "
   ]
  },
  {
   "cell_type": "markdown",
   "id": "a076632b-a50f-4251-a3af-915600d2dd2d",
   "metadata": {
    "editable": true,
    "slideshow": {
     "slide_type": "fragment"
    },
    "tags": []
   },
   "source": [
    "The confidence interval does not contain 0 and larger than 0.\n",
    "- The null hypothesis is rejected; the alternative hypothesis is accepted (in 95% CI).\n",
    "- The people with children have *significantly* less resting time than the people without children in 95% CI, thus supportting Hypothesis 2a. "
   ]
  },
  {
   "cell_type": "markdown",
   "id": "0b39808a-c6a5-43e6-8da8-e7f55302b093",
   "metadata": {
    "editable": true,
    "slideshow": {
     "slide_type": "slide"
    },
    "tags": []
   },
   "source": [
    "## In-class exercise\n",
    "\n",
    "Modify the code above to compute a 95% bootstrap confidence interval for the difference in 90th percentiles between respondents with and without children under 14. \n",
    "\n",
    "Does the confidence interval contain 0?"
   ]
  },
  {
   "cell_type": "code",
   "execution_count": null,
   "id": "6e08b687",
   "metadata": {
    "editable": true,
    "slideshow": {
     "slide_type": "fragment"
    },
    "tags": []
   },
   "outputs": [],
   "source": [
    "np.percentile(bootst_mean_diffs, 5), np.percentile(bootst_mean_diffs, 95) "
   ]
  },
  {
   "cell_type": "code",
   "execution_count": null,
   "id": "c10f79ac",
   "metadata": {
    "editable": true,
    "slideshow": {
     "slide_type": "slide"
    },
    "tags": []
   },
   "outputs": [],
   "source": [
    "plt.hist(bootst_mean_diffs, color = 'grey', edgecolor = 'black')\n",
    "# 95% confidence intervel in red line\n",
    "plt.axvline(x = np.percentile(bootst_mean_diffs, 2.5), color = 'r', label = 'axvline - full height')\n",
    "plt.axvline(x = np.percentile(bootst_mean_diffs, 97.5), color = 'r', label = 'axvline - full height')\n",
    "# 90% confidence intervel in blue line\n",
    "plt.axvline(x = np.percentile(bootst_mean_diffs, 5), color = 'b', label = 'axvline - full height')\n",
    "plt.axvline(x = np.percentile(bootst_mean_diffs, 95), color = 'b', label = 'axvline - full height');\n"
   ]
  },
  {
   "cell_type": "markdown",
   "id": "2bf04463",
   "metadata": {
    "editable": true,
    "slideshow": {
     "slide_type": "fragment"
    },
    "tags": []
   },
   "source": [
    "Larger confidence interval (95% v.s. 90%) mean wider distribution \n",
    "- Less likely (5% v.s. 10%) to be wrong to reject the null hypothesis"
   ]
  },
  {
   "cell_type": "markdown",
   "id": "7f1ea009",
   "metadata": {
    "editable": true,
    "slideshow": {
     "slide_type": "slide"
    },
    "tags": []
   },
   "source": [
    "## Another method to compare two samples (A review of shuffling)"
   ]
  },
  {
   "cell_type": "markdown",
   "id": "a666b573",
   "metadata": {
    "editable": true,
    "slideshow": {
     "slide_type": ""
    },
    "tags": []
   },
   "source": [
    "### Hypothesis testing\n",
    "\n",
    "Two claims:\n",
    "\n",
    "1. Null hypothesis: The average resting time of people with children is the same as the average resting time of people without children.\n",
    "2. Alternative hypothesis: The average resting time of people with children is different from the average resting time of people without children.\n",
    "- 2a. Alternative hypothesis: People with children with children under 14 have less resting time than the people with no children under 14."
   ]
  },
  {
   "cell_type": "markdown",
   "id": "96c8f22f",
   "metadata": {
    "editable": true,
    "slideshow": {
     "slide_type": "slide"
    },
    "tags": []
   },
   "source": [
    "#### A thought expriement: shuffling process\n",
    "\n",
    "\n",
    "- Imagine we have `len(restchild_df.loc[child])` cards labelled `Child` and `len(restchild_df.loc[nochild])` cards labelled `No_child`.\n",
    "\n",
    "\n",
    "- Shuffle the cards ...\n",
    "\n",
    "\n",
    "- Assign the cards to the samples then calculate the mean resting time difference between `Child` and `No_child`.  This is one simulated value of the test statistic. \n",
    "\n",
    "\n",
    "- Shuffle the cards again ...\n",
    "\n",
    "\n",
    "- Assign the cards to the samples then calculate the mean resting time difference between `Child` and `No_child`. This is second simulated value of the test statistic. \n",
    "\n",
    "\n",
    "- Continue shuffling, assigning , and computing the mean difference... in many times\n",
    "\n",
    "If there is no differences of the average rest time between people with or without children (null hypothesis), the shuffling process will change the mean difference. In other words, we will observe many 'unusual' mean differences."
   ]
  },
  {
   "cell_type": "code",
   "execution_count": null,
   "id": "b39a0928",
   "metadata": {
    "editable": true,
    "slideshow": {
     "slide_type": "slide"
    },
    "tags": []
   },
   "outputs": [],
   "source": [
    "restchild_df.head()"
   ]
  },
  {
   "cell_type": "markdown",
   "id": "6bd75650",
   "metadata": {
    "editable": true,
    "slideshow": {
     "slide_type": "fragment"
    },
    "tags": []
   },
   "source": [
    "### Step 1: shuffling the children label and assignment to the samples"
   ]
  },
  {
   "cell_type": "code",
   "execution_count": null,
   "id": "67aa4b87",
   "metadata": {
    "editable": true,
    "slideshow": {
     "slide_type": ""
    },
    "tags": []
   },
   "outputs": [],
   "source": [
    "shuffle_df = restchild_df.copy()\n",
    "restchild_sim = shuffle_df['Child_in_house'].sample(frac=1, replace = False).reset_index(drop = True)\n",
    "restchild_sim.head()"
   ]
  },
  {
   "cell_type": "markdown",
   "id": "954c8e90",
   "metadata": {
    "editable": true,
    "slideshow": {
     "slide_type": "slide"
    },
    "tags": []
   },
   "source": [
    "### Step 2: compute the mean resting time difference between people with and without children"
   ]
  },
  {
   "cell_type": "code",
   "execution_count": null,
   "id": "75e3ae63",
   "metadata": {
    "editable": true,
    "slideshow": {
     "slide_type": ""
    },
    "tags": []
   },
   "outputs": [],
   "source": [
    "mean_child = shuffle_df.loc[restchild_sim == 'Yes', 'resttime'].mean()\n",
    "mean_nochild = shuffle_df.loc[restchild_sim == 'No', 'resttime'].mean()\n",
    "\n",
    "sim_diff = mean_nochild - mean_child\n",
    "sim_diff"
   ]
  },
  {
   "cell_type": "markdown",
   "id": "4c09b408",
   "metadata": {
    "editable": true,
    "slideshow": {
     "slide_type": "slide"
    },
    "tags": []
   },
   "source": [
    "### Step 3: Repeat Steps 1 and 2 a large number of times (e.g., 5000) to get the distribution of mean differences. "
   ]
  },
  {
   "cell_type": "code",
   "execution_count": null,
   "id": "fe5448d1",
   "metadata": {
    "editable": true,
    "slideshow": {
     "slide_type": ""
    },
    "tags": []
   },
   "outputs": [],
   "source": [
    "simulated_diffs = []\n",
    "\n",
    "for _ in range(5000):\n",
    "    restchild_sim = shuffle_df['Child_in_house'].sample(frac=1, replace = False).reset_index(drop = True)\n",
    "    mean_child = shuffle_df.loc[restchild_sim == 'Yes', 'resttime'].mean()\n",
    "    mean_nochild = shuffle_df.loc[restchild_sim == 'No', 'resttime'].mean()\n",
    "    sim_diff = mean_nochild - mean_child\n",
    "    simulated_diffs.append(sim_diff)"
   ]
  },
  {
   "cell_type": "code",
   "execution_count": null,
   "id": "6b186af3",
   "metadata": {
    "editable": true,
    "slideshow": {
     "slide_type": ""
    },
    "tags": []
   },
   "outputs": [],
   "source": [
    "import matplotlib.pyplot as plt\n",
    "\n",
    "plt.hist(simulated_diffs, edgecolor = 'black', color = 'lightgrey');"
   ]
  },
  {
   "cell_type": "markdown",
   "id": "588369ed",
   "metadata": {
    "editable": true,
    "slideshow": {
     "slide_type": "slide"
    },
    "tags": []
   },
   "source": [
    "### Step 4: Compare the simulate mean differences to the observed mean difference and calculate p-value"
   ]
  },
  {
   "cell_type": "code",
   "execution_count": null,
   "id": "8e9217f4",
   "metadata": {
    "editable": true,
    "slideshow": {
     "slide_type": ""
    },
    "tags": []
   },
   "outputs": [],
   "source": [
    "obs_mean_nochild = restchild_df.loc[restchild_df['Child_in_house']=='No', 'resttime'].mean()\n",
    "obs_mean_child = restchild_df.loc[restchild_df['Child_in_house']=='Yes', 'resttime'].mean()\n",
    "\n",
    "obs_diff = obs_mean_nochild - obs_mean_child\n",
    "obs_diff"
   ]
  },
  {
   "cell_type": "code",
   "execution_count": null,
   "id": "d703e5e9",
   "metadata": {
    "editable": true,
    "slideshow": {
     "slide_type": ""
    },
    "tags": []
   },
   "outputs": [],
   "source": [
    "simulated_diffs_df = pd.DataFrame({'sim_diffs' : simulated_diffs})\n",
    "\n",
    "numgreater = (simulated_diffs_df['sim_diffs'] >= obs_diff).sum()\n",
    "print('The number of simulated differences greater than the observed difference is:', numgreater)\n",
    "\n",
    "numsmaller = (simulated_diffs_df['sim_diffs'] < -1 * obs_diff).sum()\n",
    "print('The number of simulated differences smaller than the observed difference is:', numsmaller)\n",
    "\n",
    "pvalue = (numgreater + numsmaller)/ 5000\n",
    "\n",
    "print('The p-value is:', pvalue)"
   ]
  },
  {
   "cell_type": "markdown",
   "id": "543d3151",
   "metadata": {
    "editable": true,
    "slideshow": {
     "slide_type": "slide"
    },
    "tags": []
   },
   "source": [
    "### Step 5: Interpretation\n",
    "\n",
    "None of the simulated differences is greater or smaller than the observed differences.\n",
    "- The null hypothesis is rejected.\n",
    "\n",
    "The observed differences of resting time between people with and without children are true difference (instead of random error).\n",
    "- obs_diff > 0, indicating people without children have more restting time.  "
   ]
  },
  {
   "cell_type": "markdown",
   "id": "680676cc",
   "metadata": {
    "editable": true,
    "slideshow": {
     "slide_type": "slide"
    },
    "tags": []
   },
   "source": [
    "## Think about: what is the difference between bootstrap and shuffling?\n"
   ]
  },
  {
   "cell_type": "markdown",
   "id": "9f9b89fd",
   "metadata": {
    "editable": true,
    "slideshow": {
     "slide_type": "subslide"
    },
    "tags": []
   },
   "source": [
    "1. Both bootstrap and shuffling can be applied to compare two samples, but their logics are different.\n",
    "- Bootstrap: resampling **with displacement** and get the distribution of mean differences, which represents the *mean differences in population*\n",
    "\n",
    "```bssample = restchild_df.sample(frac = 1, replace =  True)```\n",
    "\n",
    "- Shuffling: shuffle the label (reampling **without displacement**) and reassign to the samples to get the distribution of mean differences, which represents the *\"unusual\" values*\n",
    "\n",
    "```restchild_sim = shuffle_df['Child_in_house'].sample(frac=1, replace = False).reset_index(drop = True) ```\n",
    "\n",
    "2. Bootstrap can be applied to many other situations in order to obtain robust results (e.g., regression), while shuffling can only applied in comparison between samples.\n"
   ]
  },
  {
   "cell_type": "code",
   "execution_count": null,
   "id": "5a50b780-b156-4f68-a958-cb392dae7870",
   "metadata": {
    "editable": true,
    "slideshow": {
     "slide_type": ""
    },
    "tags": []
   },
   "outputs": [],
   "source": []
  },
  {
   "cell_type": "markdown",
   "id": "220300d3-0cab-4c66-bc66-dfae39fc1f5e",
   "metadata": {
    "editable": true,
    "slideshow": {
     "slide_type": "slide"
    },
    "tags": []
   },
   "source": [
    "# Linear Regression\n",
    "\n",
    "## Basic idea\n",
    "\n",
    "- Linear regression is a useful technique for creating models to explain (linear) relationships between variables. \n",
    "\n",
    "- For use in multiple regression, the dependent variable must be numeric and have meaningful numeric values (i.e., must be an interval variable).\n",
    "\n",
    "- The independent variables can be categorical or interval variables."
   ]
  },
  {
   "cell_type": "markdown",
   "id": "152d67e0-34de-45d3-b948-103fc4339746",
   "metadata": {
    "editable": true,
    "slideshow": {
     "slide_type": "slide"
    },
    "tags": []
   },
   "source": [
    "## Example 1: perfect linear relationship between dependent and independent variables\n",
    "\n",
    "### Data"
   ]
  },
  {
   "cell_type": "code",
   "execution_count": null,
   "id": "4219d97b-78d7-4c83-b5d2-cf92bb7692ee",
   "metadata": {
    "editable": true,
    "slideshow": {
     "slide_type": ""
    },
    "tags": []
   },
   "outputs": [],
   "source": [
    "import pandas as pd\n",
    "import numpy as np\n",
    "\n",
    "data = {'depvar' : np.arange(start = 0, stop = 8, step =1),\n",
    "       'indvar' : np.arange(start = 0, stop = 8, step =1)}\n",
    "\n",
    "df = pd.DataFrame(data)\n",
    "\n",
    "df"
   ]
  },
  {
   "cell_type": "markdown",
   "id": "0656b45c-b961-416f-bbfd-fca0919bc52c",
   "metadata": {
    "slideshow": {
     "slide_type": "slide"
    }
   },
   "source": [
    "### Plot the data"
   ]
  },
  {
   "cell_type": "code",
   "execution_count": null,
   "id": "edc1f32b-e190-418e-90c7-b8a2f01f8a02",
   "metadata": {
    "editable": true,
    "slideshow": {
     "slide_type": ""
    },
    "tags": []
   },
   "outputs": [],
   "source": [
    "import matplotlib.pyplot as plt\n",
    "\n",
    "plt.scatter(x = df['indvar'], y = df['depvar'])\n",
    "plt.xlabel('indvar')\n",
    "plt.ylabel('depvar');"
   ]
  },
  {
   "cell_type": "markdown",
   "id": "1cd74e7b-2c64-492b-baf4-a5510f1be516",
   "metadata": {
    "editable": true,
    "slideshow": {
     "slide_type": "-"
    },
    "tags": []
   },
   "source": [
    "- The scatter plot shows each pair of points (1, 1), (2, 2), etc. \n",
    "\n",
    "- `'indvar'` is sometimes called a predictor variable or covariate, and `'depvar'` is called the dependent variable.\n",
    "\n",
    "- The dependent variable is predicted exactly by the independent variable."
   ]
  },
  {
   "cell_type": "markdown",
   "id": "fd5318bf-1204-4b5d-a59c-7efe71fae001",
   "metadata": {
    "editable": true,
    "slideshow": {
     "slide_type": "slide"
    },
    "tags": []
   },
   "source": [
    "### Compute the regression line"
   ]
  },
  {
   "cell_type": "code",
   "execution_count": null,
   "id": "67a4c767-de14-440c-aa0d-d4253f96a1a1",
   "metadata": {
    "editable": true,
    "slideshow": {
     "slide_type": ""
    },
    "tags": []
   },
   "outputs": [],
   "source": [
    "from statsmodels.formula.api import ols\n",
    "\n",
    "regmod = ols('depvar ~ indvar', data = df) # setup the model"
   ]
  },
  {
   "cell_type": "markdown",
   "id": "ba52a7f4-4084-486a-9b53-aca3c9761627",
   "metadata": {
    "editable": true,
    "slideshow": {
     "slide_type": "fragment"
    },
    "tags": []
   },
   "source": [
    "- The code above uses the `ols` function from [`statsmodels.formula.api`](https://www.statsmodels.org/stable/api.html#statsmodels-formula-api)\n",
    "\n",
    "- The syntax in the function `ols` function `'depvar ~ indvar'` is a special syntax for describing statistical models.  \n",
    "\n",
    "- The column name to the **left** of `~` specifies the dependent variable.\n",
    "\n",
    "- The column name to the **right** of `~` specifies the independent variable(s)."
   ]
  },
  {
   "cell_type": "code",
   "execution_count": null,
   "id": "e317b998-1729-4816-a544-45f97e9a5db8",
   "metadata": {
    "editable": true,
    "slideshow": {
     "slide_type": "fragment"
    },
    "tags": []
   },
   "outputs": [],
   "source": [
    "regmod_fit = regmod.fit() # estimate/fit the model "
   ]
  },
  {
   "cell_type": "markdown",
   "id": "d733d036-d8ec-48e3-8ce4-02aeaac6f02f",
   "metadata": {},
   "source": [
    "After the model is setup then the `fit` function can be applied to the model.  This function computes the equation of the regression line."
   ]
  },
  {
   "cell_type": "code",
   "execution_count": null,
   "id": "f3a027a3-e2a9-4fec-a8b5-d1fde1312259",
   "metadata": {
    "editable": true,
    "slideshow": {
     "slide_type": "subslide"
    },
    "tags": []
   },
   "outputs": [],
   "source": [
    "regmod_fit.params # get parameter estimates"
   ]
  },
  {
   "cell_type": "markdown",
   "id": "577973f4-bea1-40c2-9fd6-886315af8b9c",
   "metadata": {},
   "source": [
    "- The estimates of the **y-intercept** and **slope** are labelled `Intercept` (1.11e-16 approx 0)  and `indvar` (1.00e+00 approx 1).\n",
    "\n",
    "- This means the regression equation is: $$\\texttt{depvar} = 0 + 1 \\times \\texttt{indvar}$$"
   ]
  },
  {
   "cell_type": "markdown",
   "id": "3f64f756-bd14-4083-a6ec-23a481cb1aff",
   "metadata": {
    "slideshow": {
     "slide_type": "slide"
    }
   },
   "source": [
    "## Example 2: another perfect linear relationship"
   ]
  },
  {
   "cell_type": "code",
   "execution_count": null,
   "id": "506058f5-cd7d-4428-b707-3618cb1a04e9",
   "metadata": {
    "editable": true,
    "slideshow": {
     "slide_type": ""
    },
    "tags": []
   },
   "outputs": [],
   "source": [
    "data = {'depvar' : np.arange(start = 0, stop = 8, step =1) + 2,\n",
    "       'indvar' : np.arange(start = 0, stop = 8, step =1)}\n",
    "\n",
    "df = pd.DataFrame(data)\n",
    "\n",
    "df"
   ]
  },
  {
   "cell_type": "code",
   "execution_count": null,
   "id": "9f22aad3-1582-45c7-b756-8edc969ed8ff",
   "metadata": {
    "editable": true,
    "slideshow": {
     "slide_type": "slide"
    },
    "tags": []
   },
   "outputs": [],
   "source": [
    "plt.scatter(x = df['indvar'], y = df['depvar'])\n",
    "plt.ylim([0, 10])\n",
    "plt.xlabel('indvar')\n",
    "plt.ylabel('depvar');"
   ]
  },
  {
   "cell_type": "code",
   "execution_count": null,
   "id": "ae1d07cd-1ec6-4512-a8b3-a998f4e6e910",
   "metadata": {
    "editable": true,
    "slideshow": {
     "slide_type": "fragment"
    },
    "tags": []
   },
   "outputs": [],
   "source": [
    "regmod = ols('depvar ~ indvar', data = df) # setup the model\n",
    "\n",
    "regmod_fit = regmod.fit() # estimate/fit the model \n",
    "\n",
    "regmod_fit.params # get parameter estimates"
   ]
  },
  {
   "cell_type": "markdown",
   "id": "8dc59280-a239-4dcd-87f8-d053439efd40",
   "metadata": {
    "editable": true,
    "slideshow": {
     "slide_type": "fragment"
    },
    "tags": []
   },
   "source": [
    "- The scatter plot is similar to Example 1 except that the values of the dependent variable has been increased by 2.\n",
    "\n",
    "- The equation of the regression line for this data is:  $$\\texttt{depvar} = 2 + 1 \\times \\texttt{indvar} $$\n",
    "\n",
    "### Interpretation of y-intercept\n",
    "\n",
    "- When the independent variable is 0 the dependent variable is 2.  This is the meaning of the **y-intercept** value of 2.\n",
    "\n",
    "### Interpretation of slope\n",
    "\n",
    "- For a one-unit change in the independent variable the dependent variable changes by 1 unit."
   ]
  },
  {
   "cell_type": "markdown",
   "id": "cb246ece-bd30-4a87-9dcb-cd906e03950d",
   "metadata": {
    "editable": true,
    "slideshow": {
     "slide_type": "slide"
    },
    "tags": []
   },
   "source": [
    "## Example 3: close to linear\n",
    "\n",
    "- Examples 1 and 2 were perfect linear relationships.\n",
    "\n",
    "- In this example we examine what happens if the relationship between the dependent and independent variables is almost linear."
   ]
  },
  {
   "cell_type": "code",
   "execution_count": null,
   "id": "991c323d-b0d2-407d-aa7a-d6b1d16d3fdb",
   "metadata": {
    "editable": true,
    "slideshow": {
     "slide_type": "fragment"
    },
    "tags": []
   },
   "outputs": [],
   "source": [
    "np.random.seed(11) #set the seed so that it's reproducible\n",
    "\n",
    "data = {'depvar' : np.arange(start = 0, stop = 8, step =1) + 2,\n",
    "        'indvar' : np.arange(start = 0, stop = 8, step =1) + np.random.uniform(low = 0, high = 2, size = 8)}\n",
    "\n",
    "df = pd.DataFrame(data)\n",
    "\n",
    "df"
   ]
  },
  {
   "cell_type": "code",
   "execution_count": null,
   "id": "051aa2ec-f2cf-4721-a4d7-e35be1772575",
   "metadata": {
    "editable": true,
    "slideshow": {
     "slide_type": "subslide"
    },
    "tags": []
   },
   "outputs": [],
   "source": [
    "plt.scatter(x = df['indvar'], y = df['depvar'])\n",
    "plt.ylim([0, 10])\n",
    "plt.xlabel('indvar')\n",
    "plt.ylabel('depvar');"
   ]
  },
  {
   "cell_type": "code",
   "execution_count": null,
   "id": "e82978fe-86ff-464e-ad13-bc8fc6b164ee",
   "metadata": {
    "editable": true,
    "slideshow": {
     "slide_type": "subslide"
    },
    "tags": []
   },
   "outputs": [],
   "source": [
    "regmod = ols('depvar ~ indvar', data = df) # setup the model\n",
    "\n",
    "regmod_fit = regmod.fit() # estimate/fit the model \n",
    "\n",
    "regmod_fit.params # get parameter estimates"
   ]
  },
  {
   "cell_type": "markdown",
   "id": "65c2f434-b5ac-41e4-aaad-8ffa3ce8f3a9",
   "metadata": {
    "editable": true,
    "slideshow": {
     "slide_type": "fragment"
    },
    "tags": []
   },
   "source": [
    "So, now the relationship isn't perfectly linear, but close.  The equation of this regression line is:\n",
    "\n",
    "$$\\texttt{depvar} = 1.63 + 0.92 \\times \\texttt{indvar}$$"
   ]
  },
  {
   "cell_type": "code",
   "execution_count": null,
   "id": "699e57b4-651d-480a-80e2-5dd09a6c4a19",
   "metadata": {
    "editable": true,
    "slideshow": {
     "slide_type": "subslide"
    },
    "tags": []
   },
   "outputs": [],
   "source": [
    "import seaborn as sns\n",
    "\n",
    "sns.regplot(x = 'indvar', y = 'depvar', data = df, ci = None);"
   ]
  },
  {
   "cell_type": "markdown",
   "id": "dd580628-d97a-48af-81f4-e94dce9d64c2",
   "metadata": {
    "editable": true,
    "slideshow": {
     "slide_type": "fragment"
    },
    "tags": []
   },
   "source": [
    "The `regplot` function in the `seaborn` library will produce a scatter plot with the regression line.\n",
    "\n",
    "The parameters of `regplot`\n",
    "\n",
    "- `x` is the independent variable.\n",
    "- `y` is the dependent variable.\n",
    "- `ci = None` specifies no confidence interval for the regression line "
   ]
  },
  {
   "cell_type": "markdown",
   "id": "526f21e5-9706-4a8b-a86c-f3ab20ab1a04",
   "metadata": {
    "slideshow": {
     "slide_type": "slide"
    }
   },
   "source": [
    "### Statistical summary of linear regression"
   ]
  },
  {
   "cell_type": "code",
   "execution_count": null,
   "id": "c6cdec22-2569-49fd-8e44-aeecb18a8695",
   "metadata": {
    "editable": true,
    "slideshow": {
     "slide_type": ""
    },
    "tags": []
   },
   "outputs": [],
   "source": [
    "import warnings\n",
    "warnings.filterwarnings('ignore') # turn off warnings\n",
    "\n",
    "regsum = regmod_fit.summary()"
   ]
  },
  {
   "cell_type": "markdown",
   "id": "dd463289",
   "metadata": {
    "editable": true,
    "slideshow": {
     "slide_type": ""
    },
    "tags": []
   },
   "source": [
    "- A statistical summary of the regression model is given above using the `summary` function in `statsmodels`.\n",
    "\n",
    "- There are three summary tables, but we will only be interested in the second summary table---`regsum.tables[1]` (in this course)."
   ]
  },
  {
   "cell_type": "code",
   "execution_count": null,
   "id": "744adbae",
   "metadata": {
    "editable": true,
    "slideshow": {
     "slide_type": "slide"
    },
    "tags": []
   },
   "outputs": [],
   "source": [
    "regsum.tables[1]"
   ]
  },
  {
   "cell_type": "markdown",
   "id": "68d50f9f",
   "metadata": {
    "slideshow": {
     "slide_type": "fragment"
    }
   },
   "source": [
    "What does the statistical summary represent?\n",
    "\n",
    "- the column labelled `coef` are same values as `regmod_fit.params`.  In this case the average increase `depvar` for a one unit change in `indvar` is 0.9229."
   ]
  },
  {
   "cell_type": "markdown",
   "id": "50e3c144",
   "metadata": {
    "slideshow": {
     "slide_type": "fragment"
    }
   },
   "source": [
    "- the `std err` column represents the standard deviation of the intercept and slope (we won't discuss in this course)."
   ]
  },
  {
   "cell_type": "markdown",
   "id": "eda83280",
   "metadata": {
    "slideshow": {
     "slide_type": "fragment"
    }
   },
   "source": [
    "- the `t` column represents the value of the t-statistic (we won't discuss in this course)."
   ]
  },
  {
   "cell_type": "code",
   "execution_count": null,
   "id": "fcde898f",
   "metadata": {
    "slideshow": {
     "slide_type": "slide"
    }
   },
   "outputs": [],
   "source": [
    "regsum.tables[1]"
   ]
  },
  {
   "cell_type": "markdown",
   "id": "3053dba5",
   "metadata": {
    "slideshow": {
     "slide_type": "fragment"
    }
   },
   "source": [
    "- the column `P>|t|` represents the p-value corresponding to the null hypothesis that the intercept or slope are equal to 0.  If the value is small then this is evidence against the null hypothesis.  But if the p-value is large then there is no evidence against the null hypothesis.  "
   ]
  },
  {
   "cell_type": "markdown",
   "id": "b51f3c8a",
   "metadata": {
    "slideshow": {
     "slide_type": "fragment"
    }
   },
   "source": [
    "- Currently, how small a p-value should be to provide evidence against a null hypothesis is being debated.  Although, the traditional threshold is 0.05 (i.e., a p-value less than or equal to 0.05 is supposed to indicate evidence against the null hypothesis)."
   ]
  },
  {
   "cell_type": "markdown",
   "id": "16e7416b",
   "metadata": {
    "slideshow": {
     "slide_type": "fragment"
    }
   },
   "source": [
    "- In the example above the p-value for the slope is 0.  This indicates strong evidence that the *true* value of the slope is non-zero."
   ]
  },
  {
   "cell_type": "markdown",
   "id": "c594adc6-f532-4a8e-9783-3f8557a2d035",
   "metadata": {
    "slideshow": {
     "slide_type": "fragment"
    }
   },
   "source": [
    "- The columns `[0.025   0.975]` form a plausible range of values for the y-intercept and slope (formally known as a 95% confidence interval). In this case the plausible values for the slope are 0.745 and 1.101.  If the plausible range includes 0 then this is usually interpreted as not providing evidence against the null hypothesis.  "
   ]
  },
  {
   "cell_type": "markdown",
   "id": "e28fdc4e-bcaa-40ed-ac92-2863d7a6569c",
   "metadata": {
    "editable": true,
    "slideshow": {
     "slide_type": "slide"
    },
    "tags": []
   },
   "source": [
    "## Predicted values and residuals\n",
    "\n",
    "If the values of the independent variable are plugged into the regression equation then we obtain the fitted values.\n",
    "\n",
    "$$\\texttt{depvar} = 1.63 + 0.92 \\times \\texttt{indvar}$$"
   ]
  },
  {
   "cell_type": "code",
   "execution_count": null,
   "id": "66fc7319-4336-4dbf-95c9-7ba4cddf2876",
   "metadata": {
    "editable": true,
    "slideshow": {
     "slide_type": ""
    },
    "tags": []
   },
   "outputs": [],
   "source": [
    "df"
   ]
  },
  {
   "cell_type": "markdown",
   "id": "8de88140-fa49-46a5-b777-70d0308229b3",
   "metadata": {
    "editable": true,
    "slideshow": {
     "slide_type": ""
    },
    "tags": []
   },
   "source": [
    "The fitted value for the first row of `df` is (when `indvar` == 0.360539) :"
   ]
  },
  {
   "cell_type": "code",
   "execution_count": null,
   "id": "c5fc3cad-fe61-44c5-b161-17f09628d009",
   "metadata": {
    "editable": true,
    "slideshow": {
     "slide_type": ""
    },
    "tags": []
   },
   "outputs": [],
   "source": [
    "1.6254 + 0.9229*0.360539"
   ]
  },
  {
   "cell_type": "markdown",
   "id": "d18df29c-3e11-4760-b96e-523cedca003b",
   "metadata": {
    "editable": true,
    "slideshow": {
     "slide_type": "subslide"
    },
    "tags": []
   },
   "source": [
    "To extract the fitted values from a regression model use the `fittedvalues` function in `statsmodels`."
   ]
  },
  {
   "cell_type": "code",
   "execution_count": null,
   "id": "54c6977e-53f6-4e00-bf17-12cc0b7b8bb3",
   "metadata": {
    "editable": true,
    "slideshow": {
     "slide_type": ""
    },
    "tags": []
   },
   "outputs": [],
   "source": [
    "regmod_fit.fittedvalues"
   ]
  },
  {
   "cell_type": "markdown",
   "id": "38cedecc-86c2-4ba5-8719-0f250f33324c",
   "metadata": {
    "editable": true,
    "slideshow": {
     "slide_type": "slide"
    },
    "tags": []
   },
   "source": [
    "- If the linear regression model is used on an independent variable that is not in the data set used to build the model then it's often referred to as a predicted value."
   ]
  },
  {
   "cell_type": "code",
   "execution_count": null,
   "id": "c7b01649",
   "metadata": {
    "editable": true,
    "slideshow": {
     "slide_type": ""
    },
    "tags": []
   },
   "outputs": [],
   "source": [
    "new_indvar = pd.DataFrame(data = {'indvar':[10,11,12,13]})\n",
    "regmod_fit.predict(new_indvar['indvar'])"
   ]
  },
  {
   "cell_type": "markdown",
   "id": "cc498828-9521-4237-9001-f2035dae6ed4",
   "metadata": {
    "editable": true,
    "slideshow": {
     "slide_type": "slide"
    },
    "tags": []
   },
   "source": [
    "The residual is the dependent variable minus the fitted value."
   ]
  },
  {
   "cell_type": "code",
   "execution_count": null,
   "id": "f6c9128a",
   "metadata": {
    "editable": true,
    "slideshow": {
     "slide_type": ""
    },
    "tags": []
   },
   "outputs": [],
   "source": [
    "df.head(2)"
   ]
  },
  {
   "cell_type": "code",
   "execution_count": null,
   "id": "0d6e6f55",
   "metadata": {
    "editable": true,
    "slideshow": {
     "slide_type": ""
    },
    "tags": []
   },
   "outputs": [],
   "source": [
    "regmod_fit.fittedvalues.head(2)"
   ]
  },
  {
   "cell_type": "markdown",
   "id": "980d5171",
   "metadata": {
    "editable": true,
    "slideshow": {
     "slide_type": "fragment"
    },
    "tags": []
   },
   "source": [
    " So, for the first row the residual is:"
   ]
  },
  {
   "cell_type": "code",
   "execution_count": null,
   "id": "218a3aba-e0ed-4ecd-a1f4-afb8ffdb855a",
   "metadata": {
    "editable": true,
    "slideshow": {
     "slide_type": ""
    },
    "tags": []
   },
   "outputs": [],
   "source": [
    "2 - 1.9581414431"
   ]
  },
  {
   "cell_type": "markdown",
   "id": "78330734-7069-4dfb-b0c6-baca2870126d",
   "metadata": {
    "editable": true,
    "slideshow": {
     "slide_type": "slide"
    },
    "tags": []
   },
   "source": [
    "To extract the residuals from a regression model use the `resid` function in `statsmodels`."
   ]
  },
  {
   "cell_type": "code",
   "execution_count": null,
   "id": "37cfe949-6ce5-40e3-9162-918dc27cc02d",
   "metadata": {
    "editable": true,
    "slideshow": {
     "slide_type": ""
    },
    "tags": []
   },
   "outputs": [],
   "source": [
    "regmod_fit.resid"
   ]
  },
  {
   "cell_type": "markdown",
   "id": "1bd1dd03-8f92-4b1f-b145-cfb941e52204",
   "metadata": {
    "editable": true,
    "slideshow": {
     "slide_type": "slide"
    },
    "tags": []
   },
   "source": [
    "- If the linear regression model fits the data well then the residuals should be close to 0.\n",
    "\n",
    "- One indication that the linear regression model fits well is to examine the **diagnostic** scatter plot of residuals versus fitted values.\n",
    "\n",
    "- **A plot that looks like a random scatter of points around 0 indicates that linear regression is an appropriate model.**\n",
    "\n",
    "- Since there are only 8 points it's hard to spot a pattern."
   ]
  },
  {
   "cell_type": "code",
   "execution_count": null,
   "id": "a0e40793-2dad-479e-81c6-82eef86663c6",
   "metadata": {
    "editable": true,
    "slideshow": {
     "slide_type": ""
    },
    "tags": []
   },
   "outputs": [],
   "source": [
    "plt.scatter(regmod_fit.fittedvalues, regmod_fit.resid)\n",
    "plt.axhline(y = 0)\n",
    "plt.xlabel('fitted values')\n",
    "plt.ylabel('residuals')"
   ]
  },
  {
   "cell_type": "markdown",
   "id": "67e9c545-9881-4a6b-86bb-53c8a8917389",
   "metadata": {
    "editable": true,
    "slideshow": {
     "slide_type": "slide"
    },
    "tags": []
   },
   "source": [
    "## Accuracy of linear regression\n",
    "\n",
    "- There are several measures of accuracy for linear regression.\n",
    "\n",
    "- One popular measure is R-squared, representing how much the dependent variable are explained by the independent variable(s).\n",
    "\n",
    "- R-squared can be calculated from a fitted model regression model using the `rsquared` function in `statsmodels`.\n",
    "\n",
    "- R-squared is always between 0 and 1.  \n",
    "     + R-squared of 0 indicates a poor fit\n",
    "     + R-squared of 1 indicates a perfect fit"
   ]
  },
  {
   "cell_type": "code",
   "execution_count": null,
   "id": "477426e6-74b4-43c7-9958-2cf9e159a8f7",
   "metadata": {
    "editable": true,
    "slideshow": {
     "slide_type": ""
    },
    "tags": []
   },
   "outputs": [],
   "source": [
    "regmod_fit.rsquared"
   ]
  },
  {
   "cell_type": "markdown",
   "id": "14c42520-e8fd-40f7-8eb3-bbacc52b9280",
   "metadata": {
    "editable": true,
    "slideshow": {
     "slide_type": "slide"
    },
    "tags": []
   },
   "source": [
    "## Example 4: regression with two or more independent variables\n",
    "\n",
    "It's possible to include more than one independent variable in a regression model.  "
   ]
  },
  {
   "cell_type": "code",
   "execution_count": null,
   "id": "ed511e4e-394c-4f5c-97d0-e0c0b56f9c7f",
   "metadata": {
    "editable": true,
    "slideshow": {
     "slide_type": ""
    },
    "tags": []
   },
   "outputs": [],
   "source": [
    "np.random.seed(11) #set the seed so that it's reproducible\n",
    "\n",
    "data = {'depvar' : np.arange(start = 0, stop = 8, step =1) + 2,\n",
    "        'indvar1' : np.arange(start = 0, stop = 8, step =1) + np.random.uniform(low = 0, high = 2, size = 8),\n",
    "        'indvar2' : np.arange(start = 0, stop = 8, step =1) + np.random.normal(loc = 0, scale = 1, size = 8)}\n",
    "\n",
    "df = pd.DataFrame(data)\n",
    "\n",
    "df"
   ]
  },
  {
   "cell_type": "markdown",
   "id": "c2b6ae14-8ed3-4d88-b15c-1dd7e4e17345",
   "metadata": {
    "editable": true,
    "slideshow": {
     "slide_type": "slide"
    },
    "tags": []
   },
   "source": [
    "To include more than one independent variable in a regression model add it to the right side of syntax for describing statistical models.\n",
    "\n",
    "`'depvar ~ indvar1 + indvar2'`"
   ]
  },
  {
   "cell_type": "code",
   "execution_count": null,
   "id": "6f3a1923-f061-4d60-997f-8970b8204dc1",
   "metadata": {
    "editable": true,
    "slideshow": {
     "slide_type": ""
    },
    "tags": []
   },
   "outputs": [],
   "source": [
    "regmod = ols('depvar ~ indvar1 + indvar2', data = df) # setup the model"
   ]
  },
  {
   "cell_type": "markdown",
   "id": "500b8b42-1792-4e9a-9b68-c4ff412d09b6",
   "metadata": {
    "editable": true,
    "slideshow": {
     "slide_type": "fragment"
    },
    "tags": []
   },
   "source": [
    "Now `fit` `regmod`."
   ]
  },
  {
   "cell_type": "code",
   "execution_count": null,
   "id": "e3e15379-8d0e-4f3d-82c5-f6fc2dd2e0d7",
   "metadata": {
    "editable": true,
    "slideshow": {
     "slide_type": ""
    },
    "tags": []
   },
   "outputs": [],
   "source": [
    "regmod_fit = regmod.fit() # estimate/fit the model "
   ]
  },
  {
   "cell_type": "markdown",
   "id": "fb7e9939-f15d-4359-9502-91397911f7f1",
   "metadata": {
    "editable": true,
    "slideshow": {
     "slide_type": "subslide"
    },
    "tags": []
   },
   "source": [
    "Extract the regression parameter estimates using `params`."
   ]
  },
  {
   "cell_type": "code",
   "execution_count": null,
   "id": "fa1c1eac-0d29-442f-baa7-a4c8e4d0ac95",
   "metadata": {
    "editable": true,
    "slideshow": {
     "slide_type": ""
    },
    "tags": []
   },
   "outputs": [],
   "source": [
    "regmod_fit.params # get parameter estimates"
   ]
  },
  {
   "cell_type": "markdown",
   "id": "e82bd6e0-c278-4cbe-8002-2cf2199c9e4d",
   "metadata": {
    "editable": true,
    "slideshow": {
     "slide_type": "fragment"
    },
    "tags": []
   },
   "source": [
    "The estimated linear (multiple) linear regression model is:\n",
    "\n",
    "$$\\texttt{depvar} = 1.892482 + 0.549341 \\times \\texttt{indvar1} + 0.385197 \\times \\texttt{indvar2}$$\n",
    "\n",
    "- The y-intercept value (1.892482) is the value of the dependent variable when `indvar1` and `indvar2` are both 0.\n",
    "\n",
    "-  If `indvar1` changes by one-unit, `depvar` changes (on average) by 0.549341 (when `indvar2` remains the same).\n",
    "\n",
    "-  If `indvar2` changes by one-unit, `depvar` changes (on average) by 0.385197 (when `indvar1` remains the same)."
   ]
  },
  {
   "cell_type": "markdown",
   "id": "2dfbe7d1-c3ec-4a6a-9754-d820fecd2074",
   "metadata": {
    "editable": true,
    "slideshow": {
     "slide_type": "slide"
    },
    "tags": []
   },
   "source": [
    "### Statistical summary of a multiple regression model"
   ]
  },
  {
   "cell_type": "code",
   "execution_count": null,
   "id": "28396441-c511-4ab3-9b83-d4542eb112d3",
   "metadata": {
    "editable": true,
    "slideshow": {
     "slide_type": ""
    },
    "tags": []
   },
   "outputs": [],
   "source": [
    "multregsummary = regmod_fit.summary()\n",
    "\n",
    "multregsummary.tables[1]"
   ]
  },
  {
   "cell_type": "markdown",
   "id": "dea969f8-bf51-4bf5-81ab-510c2c5a5e7d",
   "metadata": {
    "editable": true,
    "slideshow": {
     "slide_type": ""
    },
    "tags": []
   },
   "source": [
    "The statistical summary indicates:\n",
    "\n",
    "- the p-value for `indvar1` is 0.003 and the range of plausible values for the slope is 0.288 to 0.810.\n",
    "\n",
    "- the p-value for `indvar2` is 0.010 and the range of plausible values for the slope is 0.137 to 0.634.  \n",
    "\n",
    "- Since, both p-values are small there is evidence that slope is different from 0, and the range of plausible values does not include 0."
   ]
  },
  {
   "cell_type": "markdown",
   "id": "1d3fa76f-76d0-4202-9756-914c687961bb",
   "metadata": {
    "editable": true,
    "slideshow": {
     "slide_type": "slide"
    },
    "tags": []
   },
   "source": [
    "### Accuracy of multiple regression model"
   ]
  },
  {
   "cell_type": "code",
   "execution_count": null,
   "id": "785ae14d-82d3-4f73-b77d-e4a3a9fac628",
   "metadata": {
    "editable": true,
    "slideshow": {
     "slide_type": ""
    },
    "tags": []
   },
   "outputs": [],
   "source": [
    "regmod_fit.rsquared"
   ]
  },
  {
   "cell_type": "code",
   "execution_count": null,
   "id": "2b32863d-66f5-4252-a48a-cfc4fc148f69",
   "metadata": {
    "editable": true,
    "slideshow": {
     "slide_type": ""
    },
    "tags": []
   },
   "outputs": [],
   "source": [
    "plt.scatter(regmod_fit.fittedvalues, regmod_fit.resid)\n",
    "plt.axhline(y = 0)\n",
    "plt.xlabel('fitted values')\n",
    "plt.ylabel('residuals')"
   ]
  },
  {
   "cell_type": "markdown",
   "id": "c7184b67",
   "metadata": {
    "editable": true,
    "slideshow": {
     "slide_type": "fragment"
    },
    "tags": []
   },
   "source": [
    "Questions?"
   ]
  },
  {
   "cell_type": "markdown",
   "id": "aa9fea67-328b-48da-b3b0-68c1d3cfefe2",
   "metadata": {
    "editable": true,
    "slideshow": {
     "slide_type": "slide"
    },
    "tags": []
   },
   "source": [
    "## What is the effect of recent immigration on asthma rates in Toronto neighbourhoods?\n",
    "\n",
    "### Data\n",
    "\n",
    "- Data from <http://torontohealthprofiles.ca> contains data on asthma and immigration for each neighbourhood in Toronto.\n",
    "\n",
    "#### Sociodemographic data\n",
    "\n",
    "- Read sociodemographic data from the excel file `1_socdem_neighb_2006-2.xls` with sheet name `socdem_2006` into `pandas` using `read_excel`.\n"
   ]
  },
  {
   "cell_type": "code",
   "execution_count": null,
   "id": "26d12b0a-8674-4cb8-b626-b9a8571817e5",
   "metadata": {},
   "outputs": [],
   "source": [
    "fname = '1_socdem_neighb_2006-2.xls'\n",
    "sname = 'socdem_2006'\n",
    "socdem_neighb = pd.read_excel(fname, sheet_name = sname, header = 10) # the table starts in row #11\n",
    "socdem_neighb.head()"
   ]
  },
  {
   "cell_type": "markdown",
   "id": "4b539540-8056-4e1a-a853-9c9515764dec",
   "metadata": {
    "slideshow": {
     "slide_type": "slide"
    }
   },
   "source": [
    "Which column should we select to measure immigration?  There are several choices."
   ]
  },
  {
   "cell_type": "code",
   "execution_count": null,
   "id": "ca2e691e-d951-492d-96ef-308f1c74837b",
   "metadata": {},
   "outputs": [],
   "source": [
    "socdem_neighb.columns"
   ]
  },
  {
   "cell_type": "markdown",
   "id": "52be3a7e-2df5-40ac-bf08-73b69890bacc",
   "metadata": {},
   "source": [
    "- Let's use `'% Recent immigrants-within 5 years'` to represent recent immigrants in a neighborhood.\n",
    "\n",
    "- Later on we will want a few more sociodemographic columns, so let's create a new `DataFrame` and rename the columns."
   ]
  },
  {
   "cell_type": "code",
   "execution_count": null,
   "id": "db48fc31-2069-42a2-93e8-66995437fbdc",
   "metadata": {
    "slideshow": {
     "slide_type": "slide"
    }
   },
   "outputs": [],
   "source": [
    "cols = ['Neighbourhood id', 'Neighbourhood Name', \n",
    "        'Median household income after-tax $ ‡', \n",
    "        '% Rented Dwellings', '% Unemployment rate *', \n",
    "        '% Recent immigrants-within 5 years', '% Visible minority']\n",
    "\n",
    "socdem_neighb = socdem_neighb[cols]\n",
    "\n",
    "colnames = {cols[0] : 'Neighbid',\n",
    "            cols[1] : 'name',\n",
    "            cols[2] : 'median_income',\n",
    "            cols[3] : 'rented_dwell',\n",
    "            cols[4] : 'unemployment',\n",
    "            cols[5] : 'immigration5',\n",
    "            cols[6] : 'vismin'}\n",
    "\n",
    "socdem_neighb = socdem_neighb.copy()\n",
    "\n",
    "socdem_neighb.rename(columns = colnames, inplace = True)"
   ]
  },
  {
   "cell_type": "code",
   "execution_count": null,
   "id": "745a7301-e587-447d-9660-85ded9f5a687",
   "metadata": {},
   "outputs": [],
   "source": [
    "socdem_neighb.head()"
   ]
  },
  {
   "cell_type": "markdown",
   "id": "2c178336-f458-4297-84c6-1b44be7a68bd",
   "metadata": {
    "slideshow": {
     "slide_type": "slide"
    }
   },
   "source": [
    "#### Asthma data\n",
    "\n",
    "- Read data from the excel file `1_ahd_neighb_db_ast_hbp_mhv_copd_2007.xls` with sheet name `1_ahd_neighb_asthma_2007` into `pandas` using `read_excel`."
   ]
  },
  {
   "cell_type": "code",
   "execution_count": null,
   "id": "4783abcf-e435-413d-87c9-dc6cc1924c9f",
   "metadata": {},
   "outputs": [],
   "source": [
    "fname = '1_ahd_neighb_db_ast_hbp_mhv_copd_2007.xls'\n",
    "sname = '1_ahd_neighb_asthma_2007'\n",
    "\n",
    "asthma_neighb = pd.read_excel(fname, sheet_name = sname, header = 11) #the table starts with row #12\n",
    "asthma_neighb.head()"
   ]
  },
  {
   "cell_type": "markdown",
   "id": "cc43520d-f3b9-4d6b-ab9a-0d6e7f30e9cb",
   "metadata": {},
   "source": [
    "- The asthma rates are broken down by sex and age.  \n",
    "\n",
    "- Which rates should we choose?  \n",
    "\n",
    "- For this example, let's select asthma rates for both sexes age 20 - 64."
   ]
  },
  {
   "cell_type": "code",
   "execution_count": null,
   "id": "832a17a5-48e4-428f-8210-0f41b15513f7",
   "metadata": {
    "slideshow": {
     "slide_type": "slide"
    }
   },
   "outputs": [],
   "source": [
    "asthma_neighb.columns"
   ]
  },
  {
   "cell_type": "code",
   "execution_count": null,
   "id": "f4325284-4f52-4743-84ab-b3896c4c2b1b",
   "metadata": {},
   "outputs": [],
   "source": [
    "# Select the neghborhood_id, neighborhood_name, and both sexes with asthma\n",
    "\n",
    "important_cols = asthma_neighb.columns[[0, 1, 11]]"
   ]
  },
  {
   "cell_type": "code",
   "execution_count": null,
   "id": "aac0a460-5cd0-43a4-a9db-244187a6ed5d",
   "metadata": {
    "slideshow": {
     "slide_type": "slide"
    }
   },
   "outputs": [],
   "source": [
    "colnames = {important_cols[0]: 'Neighbid',\n",
    "           important_cols[1] : 'name',\n",
    "           important_cols[2] : 'asthma_pct'}\n",
    "\n",
    "asthma_rates = asthma_neighb.copy()\n",
    "\n",
    "asthma_rates = asthma_rates[important_cols]\n",
    "\n",
    "asthma_rates.rename(columns = colnames, inplace=True)\n",
    "\n",
    "asthma_rates.head()"
   ]
  },
  {
   "cell_type": "markdown",
   "id": "ed781842-9ac0-4c18-9a08-1e5e1d20d684",
   "metadata": {
    "slideshow": {
     "slide_type": "slide"
    }
   },
   "source": [
    "### Merge Sociodemographic and asthma data\n",
    "\n",
    "- To examine the relationship between asthma and immigration we will need to merge `socdem_neighb` and `asthma_rates`.\n",
    "\n",
    "- The `DataFrame`s can be merged on neighbourhood id."
   ]
  },
  {
   "cell_type": "code",
   "execution_count": null,
   "id": "6c8a9c83-c0be-43db-91e7-1fa5dcdad87d",
   "metadata": {},
   "outputs": [],
   "source": [
    "# Two datasets are merged based on neighborhood id\n",
    "\n",
    "asthma_socdem = asthma_rates.merge(socdem_neighb, left_on='Neighbid', right_on='Neighbid')\n",
    "\n",
    "asthma_socdem.head()"
   ]
  },
  {
   "cell_type": "markdown",
   "id": "a8353899-596b-4600-8429-74596ad838c8",
   "metadata": {
    "slideshow": {
     "slide_type": "slide"
    }
   },
   "source": [
    "## A regression model of asthma on immigration\n",
    "\n",
    "### Plot the data\n",
    "\n",
    "- What are the dependent and independent variables?\n",
    "\n",
    "- Does the relationship look linear?"
   ]
  },
  {
   "cell_type": "code",
   "execution_count": null,
   "id": "da76e715-2f1d-43a6-b005-16484cb4ae1c",
   "metadata": {},
   "outputs": [],
   "source": [
    "sns.regplot(y = 'asthma_pct', x = 'immigration5', data = asthma_socdem, ci = None);"
   ]
  },
  {
   "cell_type": "markdown",
   "id": "2486528b",
   "metadata": {},
   "source": [
    "Describe the relationship between asthma and immigration."
   ]
  },
  {
   "cell_type": "markdown",
   "id": "01fec488-1c99-4d5f-80d6-4533afe8c530",
   "metadata": {
    "slideshow": {
     "slide_type": "slide"
    }
   },
   "source": [
    "### Fit the regression model"
   ]
  },
  {
   "cell_type": "code",
   "execution_count": null,
   "id": "bc712fed-ea95-4a44-8789-e95cb65f695b",
   "metadata": {},
   "outputs": [],
   "source": [
    "reg_asthmaimm = ols('asthma_pct ~ immigration5', data = asthma_socdem) # setup the model\n",
    "\n",
    "reg_asthmaimm_fit = reg_asthmaimm.fit() # estimate/fit the model "
   ]
  },
  {
   "cell_type": "markdown",
   "id": "7eef08ae-f71a-4523-944a-258e192e305f",
   "metadata": {},
   "source": [
    "### Statistical summary of the regression model"
   ]
  },
  {
   "cell_type": "code",
   "execution_count": null,
   "id": "5ce14cca-bf23-4185-bf48-aadd0e2e5909",
   "metadata": {},
   "outputs": [],
   "source": [
    "reg_asthmaimm_summ = reg_asthmaimm_fit.summary()\n",
    "\n",
    "reg_asthmaimm_summ.tables[1]"
   ]
  },
  {
   "cell_type": "markdown",
   "id": "065c9aed-d70c-4368-a41c-d20c594076cb",
   "metadata": {},
   "source": [
    "#  The regression model is the equation:\n",
    "\n",
    "$$\\texttt{asthma_pct} = 11.8266  - 0.1597 \\times \\texttt{immigration5}$$\n",
    "\n",
    "- The **slope** indicates that for a 1% **increase** in immigration in the past 5 years the percentage of asthma cases in a neighbourhood **decrease** by 0.1597 (approximately 16%).\n",
    "\n",
    "- The **y-intercept** indicates that when a neighbourhood has 0% immigration the past 5 years then asthma rates are 11%.  \n",
    "\n",
    "- Are there any neighbourhoods with 0% immigration in the past 5 years?"
   ]
  },
  {
   "cell_type": "code",
   "execution_count": null,
   "id": "4efcd6e5-c58c-4d5d-a75f-b099997a67cb",
   "metadata": {
    "slideshow": {
     "slide_type": "slide"
    }
   },
   "outputs": [],
   "source": [
    "asthma_socdem['immigration5'].describe()"
   ]
  },
  {
   "cell_type": "markdown",
   "id": "471059ea-079e-4ce7-9449-2378c465af8f",
   "metadata": {},
   "source": [
    "- The **y-intercept** in regression models often doesn't have a sensible interpretation, but is often mathematically important for regression to work well."
   ]
  },
  {
   "cell_type": "markdown",
   "id": "d54410e6-2539-46aa-a1a5-363e9ea16185",
   "metadata": {
    "slideshow": {
     "slide_type": "slide"
    }
   },
   "source": [
    "## Accuracy of the regression model "
   ]
  },
  {
   "cell_type": "code",
   "execution_count": null,
   "id": "92e0cd87-f0ab-4347-8f40-8f276c0c6048",
   "metadata": {},
   "outputs": [],
   "source": [
    "reg_asthmaimm_fit.rsquared"
   ]
  },
  {
   "cell_type": "code",
   "execution_count": null,
   "id": "31963fa1-fb91-4917-9142-6a0fc7c97e2f",
   "metadata": {},
   "outputs": [],
   "source": [
    "plt.scatter(x = reg_asthmaimm_fit.fittedvalues , y = reg_asthmaimm_fit.resid)\n",
    "plt.axhline(y = 0)\n",
    "plt.xlabel('fitted values')\n",
    "plt.ylabel('residuals')"
   ]
  },
  {
   "cell_type": "markdown",
   "id": "69b027b8",
   "metadata": {
    "slideshow": {
     "slide_type": "fragment"
    }
   },
   "source": [
    "- The R-squared statistics indicates a relatively good explanation of the model (quite larger than 0)\n",
    "\n",
    "- The residual plot indicates some important variables are missing, as we can see larger abolute values as fitted values increase (not a random distributed pattern)"
   ]
  },
  {
   "cell_type": "markdown",
   "id": "6e49a657",
   "metadata": {
    "slideshow": {
     "slide_type": "subslide"
    }
   },
   "source": [
    "### Summary\n",
    "\n",
    "Therefore, we can conclude that the immigration rate in recent 5 years in a neighborhood is negatively associated with the prevalence of asthma in the neighborhood.\n",
    "\n",
    "Why not causal relationship?\n",
    "\n",
    "What is the implication?\n"
   ]
  },
  {
   "cell_type": "code",
   "execution_count": null,
   "id": "76a16b06",
   "metadata": {},
   "outputs": [],
   "source": []
  },
  {
   "cell_type": "markdown",
   "id": "febf86a6-4c9c-4dd7-9ab9-7a3ad63db7b4",
   "metadata": {
    "slideshow": {
     "slide_type": "slide"
    },
    "tags": []
   },
   "source": [
    "## Training and testing a model\n",
    "\n",
    "- Ideally we could assess the accuracy of this linear regression model on a new set of data (i.e., immigration rates in Toronto neighbourhoods in future years.) \n",
    "\n",
    "- But, we don't have this data.\n",
    "\n",
    "- One trick that data scientists use to fit the model on part of the data (training data) and use the remaining part (testing data) to test the accuracy.\n",
    "\n",
    "- If we only have one data set then the training data can be obtained by randomly selecting rows from the data to fit the regression model, then the remaining rows can be used to test the accuracy of the model."
   ]
  },
  {
   "cell_type": "markdown",
   "id": "f3053abf-1539-4987-b995-527f849a5f60",
   "metadata": {
    "slideshow": {
     "slide_type": "slide"
    }
   },
   "source": [
    "### Splitting a `pandas` `DataFrame` by `index`"
   ]
  },
  {
   "cell_type": "code",
   "execution_count": null,
   "id": "bf20f6cb-0617-4723-9f27-fa49b04d362c",
   "metadata": {},
   "outputs": [],
   "source": [
    "data = {'a' : [1, 2, 3, 4, 5]}\n",
    "\n",
    "df = pd.DataFrame(data)\n",
    "\n",
    "df.index"
   ]
  },
  {
   "cell_type": "markdown",
   "id": "43ae2793-7975-4131-8202-0e749ba2fdaa",
   "metadata": {},
   "source": [
    "A Boolean array that is `True` if the index is `0` or `1` and `False` otherwise. "
   ]
  },
  {
   "cell_type": "code",
   "execution_count": null,
   "id": "3e371a29-01a8-4a23-9e66-c2feebcc43f4",
   "metadata": {},
   "outputs": [],
   "source": [
    "df.index.isin([0,1])"
   ]
  },
  {
   "cell_type": "markdown",
   "id": "bf1f5310-28e8-48c1-a994-dec914ae031a",
   "metadata": {},
   "source": [
    "To create a Boolean series that is `False` if the index is `0` or `1` and `True` otherwise we can negate `df.index.isin([0,1])` this Boolean series using the `~` operator `~df.index.isin([0,1])`"
   ]
  },
  {
   "cell_type": "code",
   "execution_count": null,
   "id": "9c32e20a-f682-4b6d-bdd8-cdb943535ced",
   "metadata": {},
   "outputs": [],
   "source": [
    "~df.index.isin([0,1])"
   ]
  },
  {
   "cell_type": "code",
   "execution_count": null,
   "id": "d8619ec2-f59d-432b-967c-8f80515c2889",
   "metadata": {},
   "outputs": [],
   "source": [
    "df[~df.index.isin([0,1])]"
   ]
  },
  {
   "cell_type": "markdown",
   "id": "2a1c5620-b7e3-4f84-b914-955f1edf9ad1",
   "metadata": {
    "slideshow": {
     "slide_type": "slide"
    },
    "tags": []
   },
   "source": [
    "### Creating training and test data sets from a single dataset"
   ]
  },
  {
   "cell_type": "markdown",
   "id": "35e64299-3f9b-445b-b366-5e43b4e3d129",
   "metadata": {},
   "source": [
    "### Step 1: \n",
    "\n",
    "- split the data into a training set with 75% of the rows.\n",
    "\n",
    "- use the remaining 25% of the data for testing. "
   ]
  },
  {
   "cell_type": "code",
   "execution_count": null,
   "id": "e651f3a7-637c-4e83-985a-68ee170d2170",
   "metadata": {},
   "outputs": [],
   "source": [
    "np.random.seed(11) # for reproducibility\n",
    "\n",
    "# randomly select 75% of neighbourhoods\n",
    "reg_df_train = asthma_socdem.sample(frac = 0.75, replace = False) \n",
    "\n",
    "# get index of training data\n",
    "train_index = reg_df_train.index"
   ]
  },
  {
   "cell_type": "markdown",
   "id": "c7cccdbb-7931-4120-9817-5e1edefe646e",
   "metadata": {
    "tags": []
   },
   "source": [
    "- Exclude indicies from `reg_df_train` using `pandas` `isin` function. "
   ]
  },
  {
   "cell_type": "code",
   "execution_count": null,
   "id": "6df8c9c9-aa05-4aa6-8e2a-36f8d2d29d74",
   "metadata": {},
   "outputs": [],
   "source": [
    "# exclude rows in training to define test data\n",
    "reg_df_test = asthma_socdem[~asthma_socdem.index.isin(train_index)]\n",
    "\n",
    "print(asthma_socdem.shape)\n",
    "\n",
    "print(reg_df_train.shape)\n",
    "\n",
    "print(reg_df_test.shape)"
   ]
  },
  {
   "cell_type": "markdown",
   "id": "3eaf4b29-62c2-433d-9f5c-53c876065e0a",
   "metadata": {
    "slideshow": {
     "slide_type": "slide"
    }
   },
   "source": [
    "### Step 2: Fit the regression model on the training data"
   ]
  },
  {
   "cell_type": "code",
   "execution_count": null,
   "id": "69d34385-94bd-4400-9424-6c0c92b451f3",
   "metadata": {},
   "outputs": [],
   "source": [
    "reg_train = ols('asthma_pct ~ immigration5', data = reg_df_train) # setup the model\n",
    "\n",
    "reg_train_fit = reg_train.fit() # estimate/fit the model "
   ]
  },
  {
   "cell_type": "markdown",
   "id": "463b50dd-d6b8-4f17-97e9-50917d38909f",
   "metadata": {
    "slideshow": {
     "slide_type": "fragment"
    }
   },
   "source": [
    "### Step 3: Compute predicted (fitted) values using training data "
   ]
  },
  {
   "cell_type": "code",
   "execution_count": null,
   "id": "14d9a8de-0ec5-47fb-9a0c-aace961d69e3",
   "metadata": {},
   "outputs": [],
   "source": [
    "# use the model fit on the training data to predict asthma rates\n",
    "# from the test set. \n",
    "\n",
    "predvalues_train = reg_train_fit.predict(reg_df_train['immigration5'])"
   ]
  },
  {
   "cell_type": "markdown",
   "id": "89189ed4-fa9a-4b4a-8350-0a2af1991ba7",
   "metadata": {
    "slideshow": {
     "slide_type": "slide"
    }
   },
   "source": [
    "### Step 4: Evaluate accuracy using root mean-squared error on training data\n",
    "\n",
    "- Another measure of accuracy of regression models.\n",
    "\n",
    "- Compares observed values of the dependent variable with the predicted values.\n",
    "\n",
    "![rmse.jpg](insights_rmse_formula.jpg)\n",
    "\n"
   ]
  },
  {
   "cell_type": "markdown",
   "id": "0e310300-7dde-4a04-bc1c-063a3eebdf77",
   "metadata": {
    "slideshow": {
     "slide_type": "slide"
    }
   },
   "source": [
    "It can be computed using the `rmse` function from `statsmodels`.\n"
   ]
  },
  {
   "cell_type": "code",
   "execution_count": null,
   "id": "41b8f5d9-a9bd-4e66-a921-8397a7d154a3",
   "metadata": {},
   "outputs": [],
   "source": [
    "# Compute root mean-squared error for the training data.\n",
    "from statsmodels.tools.eval_measures import rmse\n",
    "\n",
    "rmse(predvalues_train, reg_df_train['asthma_pct'])\n"
   ]
  },
  {
   "cell_type": "markdown",
   "id": "8ac15ebd-324d-4eda-b327-ef2d0f5820df",
   "metadata": {},
   "source": [
    "- The observed asthma rates deviate from the predicted asthma rates in each neighbourhood by 1.4% in the training set.\n",
    "\n",
    "- Is this an acceptable prediction error?\n",
    "\n",
    "- Let's examine the accuracy of the linear regression model on the test set\n"
   ]
  },
  {
   "cell_type": "markdown",
   "id": "da085601-4d66-450a-bba2-c99f1f8fb6cf",
   "metadata": {
    "slideshow": {
     "slide_type": "slide"
    }
   },
   "source": [
    "### Step 5: Evaluate the accuracy of regression model on the test data using root mean-squared error\n",
    "\n",
    "- Compute predictions using test data"
   ]
  },
  {
   "cell_type": "code",
   "execution_count": null,
   "id": "56e41e16-f735-4f17-a935-ea67532f36b8",
   "metadata": {},
   "outputs": [],
   "source": [
    "predvalues_test = reg_train_fit.predict(reg_df_test['immigration5'])\n"
   ]
  },
  {
   "cell_type": "markdown",
   "id": "769ad805-3bca-4a8e-8067-503042112add",
   "metadata": {},
   "source": [
    "- Now compute the root mean-squared error for the test data using the model fit on the training data."
   ]
  },
  {
   "cell_type": "code",
   "execution_count": null,
   "id": "3a01ff07-c594-421c-b7ff-436d2895dc2c",
   "metadata": {},
   "outputs": [],
   "source": [
    "rmse(predvalues_test, reg_df_test['asthma_pct'])\n"
   ]
  },
  {
   "cell_type": "markdown",
   "id": "be475699-afc9-40cb-8ef0-bd27984450a6",
   "metadata": {
    "slideshow": {
     "slide_type": "slide"
    }
   },
   "source": [
    "## Conclusion of data analysis using linear regression model\n",
    "\n",
    "- The regression model appears to provide an accurate fit the data, although both the scatter plot and plot of residuals indicate that there is a lot of variation in asthma rates in neighbourhoods that have between 10% - 20% immigration.\n",
    "\n",
    "- As the percentage of immigrants to a neighbourhood within the last 5 years increases, the asthma rates will decreases. \n",
    "\n",
    "- Regression analyses on aggregated data such as neighbourhoods can be misleading when compared to non-aggregated data."
   ]
  },
  {
   "cell_type": "markdown",
   "id": "d6ffc6e5-0fad-4fa1-93c4-531c083f13d8",
   "metadata": {
    "slideshow": {
     "slide_type": "slide"
    }
   },
   "source": [
    "## Are there other sociaodemographic  factors in our data that might effect asthma rates?\n",
    "\n",
    "- Let's create a matrix scatter plot using [`pairplot`](https://seaborn.pydata.org/generated/seaborn.pairplot.html) in the `seaborn` library.\n",
    "\n",
    "- `pairplot` will visualize paired relationship between variables in a dataset."
   ]
  },
  {
   "cell_type": "code",
   "execution_count": null,
   "id": "224bd66a",
   "metadata": {},
   "outputs": [],
   "source": [
    "asthma_socdem.columns"
   ]
  },
  {
   "cell_type": "code",
   "execution_count": null,
   "id": "cb18fe13-b861-41af-9925-a8d4db5bc57f",
   "metadata": {
    "slideshow": {
     "slide_type": "slide"
    }
   },
   "outputs": [],
   "source": [
    "# reduce the column for better presentation\n",
    "to_show = ['asthma_pct','median_income','rented_dwell','immigration5','vismin']\n",
    "sns.pairplot(asthma_socdem[to_show]);"
   ]
  },
  {
   "cell_type": "markdown",
   "id": "6ec32bfd-8e7f-40b1-82d5-3514c8f8a4f8",
   "metadata": {
    "slideshow": {
     "slide_type": "slide"
    }
   },
   "source": [
    "- Let's consider median income\n",
    "\n",
    "- Fit the regression model on all the data and produce a statistical summary."
   ]
  },
  {
   "cell_type": "code",
   "execution_count": null,
   "id": "38b1224a-c855-4a67-aaf3-6b6ab1e9e129",
   "metadata": {
    "slideshow": {
     "slide_type": "fragment"
    }
   },
   "outputs": [],
   "source": [
    "reg_asthmaimmunem = ols('asthma_pct ~ immigration5 + median_income', data = asthma_socdem) # setup the model\n",
    "\n",
    "reg_asthmaimmunem_fit = reg_asthmaimmunem.fit() # estimate/fit the model \n",
    "\n",
    "reg_asthmaimmunem_summ = reg_asthmaimmunem_fit.summary()\n",
    "\n",
    "reg_asthmaimmunem_summ.tables[1]"
   ]
  },
  {
   "cell_type": "markdown",
   "id": "3c7eb40d-16a0-4ecb-a46a-e61da520af23",
   "metadata": {},
   "source": [
    "- Notice that the slope estimate for `median_income` is 0, but so is the p-value and range of plausible values.\n",
    "\n",
    "- That seems odd.  What's happening?\n",
    "\n",
    "- We can see from the scatter plot that `immigration5` and `median_income` have a linear relationship.  When two variables have a linear relationship multiple linear regression models produce strange results.\n",
    "\n",
    "- It's important that independent variables in a multiple regression model are unrelated."
   ]
  },
  {
   "cell_type": "code",
   "execution_count": null,
   "id": "39bd89d5-2057-4668-b6d2-999b066ba7e2",
   "metadata": {
    "slideshow": {
     "slide_type": "subslide"
    }
   },
   "outputs": [],
   "source": [
    "sns.regplot(y = 'immigration5', x = 'median_income', data = asthma_socdem, ci = None);"
   ]
  }
 ],
 "metadata": {
  "celltoolbar": "Slideshow",
  "kernelspec": {
   "display_name": "Python 3 (ipykernel)",
   "language": "python",
   "name": "python3"
  },
  "language_info": {
   "codemirror_mode": {
    "name": "ipython",
    "version": 3
   },
   "file_extension": ".py",
   "mimetype": "text/x-python",
   "name": "python",
   "nbconvert_exporter": "python",
   "pygments_lexer": "ipython3",
   "version": "3.12.3"
  }
 },
 "nbformat": 4,
 "nbformat_minor": 5
}
