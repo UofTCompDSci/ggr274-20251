{
 "cells": [
  {
   "cell_type": "markdown",
   "id": "61180397",
   "metadata": {},
   "source": [
    "# GGR274 Lab 9: Tell us a stroy! (Part 1)\n",
    "\n",
    "***\n",
    "\n",
    "## Introduction\n",
    "\n",
    "From this week, you'll train your ability of result interpretation during lab.\n",
    "\n",
    "- This is part 1 of the communication exercise. You will identify one important insight from a previous tutorial or assignment and prepare a presentation in this tutorial. You will then communicate your story in class during the next tutorial (lab 10), and improve your illustration in the last tutorial (lab 11).\n",
    "\n",
    "## Logistics\n",
    "\n",
    "This lab notebook is submitted by **next Thursday (March 20) 23:59**, containing the following:\n",
    "\n",
    "- The code to produce the visualization plot, i.e., dataset loading and data analysis;\n",
    "\n",
    "- One presentation slide containing the figure;\n",
    "\n",
    "- A one page write-up explaining why you picked the chart and why the audience should care.\n",
    "\n",
    "Submission instructions:\n",
    "\n",
    "1. Download this file (`Lab_9.ipynb`) from JupyterHub. (See [our JupyterHub Guide](../../../guides/jupyterhub_guide.ipynb) for detailed instructions.)\n",
    "2. Submit this file to MarkUs under the **lab09** assignment. (See [our MarkUs Guide](../../../guides/markus_guide.ipynb) for detailed instructions.)\n",
    "\n",
    "\n",
    "## Marking scheme\n",
    "\n",
    "You'll get half point if you submit the notebook with all the questions completed. You'll get the other half point if you attend your lab section. You TA will be checking your submission and recording your attendance.\n"
   ]
  },
  {
   "cell_type": "markdown",
   "id": "a9d856e2",
   "metadata": {},
   "source": [
    "***\n",
    "## Create a data vizualization\n",
    "\n",
    "1. Identify an interesting question relevant to any dataset seen in class, tutorials or assignments thus far.  This could be your project question (recommended) or another question.\n",
    "\n",
    "2. Create one data vizualization that you think answers the question. Your vizualization should fill the screen, and have a large clear title. The title should communicate the key piece of information that you will be presenting. \n",
    "\n",
    "3. You will give a 1 minute lightening presentation next tutorial (lab 10).\n"
   ]
  },
  {
   "cell_type": "markdown",
   "id": "6f20c67c-5884-46f1-a7dc-62deef70e513",
   "metadata": {},
   "source": [
    "## 1. Write some codes to prepare the data\n",
    "\n",
    "- Load necessary packages\n",
    "\n",
    "- Load dataset\n",
    "\n",
    "- Data cleaning (selecting the important columnes, reclassify the values, ...)"
   ]
  },
  {
   "cell_type": "code",
   "execution_count": null,
   "id": "413d5ae4-c144-44e4-af50-7bf43ceda33d",
   "metadata": {},
   "outputs": [],
   "source": [
    "## Write your code here"
   ]
  },
  {
   "cell_type": "markdown",
   "id": "9d160607-986b-49d5-9a9d-ff49d99f0887",
   "metadata": {},
   "source": [
    "## 2. Plot the data\n",
    "\n",
    "- Use `dataframe.plot` or `matplotlib.pyplot` package to plot your data\n",
    "\n",
    "- Select an appropriate way to plot (box, histogram, line, ...)"
   ]
  },
  {
   "cell_type": "code",
   "execution_count": null,
   "id": "a6bfa0ce-154e-46d8-9ffe-99eac5af225c",
   "metadata": {},
   "outputs": [],
   "source": [
    "## Write your code here"
   ]
  },
  {
   "cell_type": "markdown",
   "id": "e9248f5a-b1ac-43a2-ad54-afa6f2375d91",
   "metadata": {},
   "source": [
    "## 3. Guidance for presentation\n",
    "\n",
    "Imagine you are giving a talk to answer the research question. You have come to a point in the talk where you are going to use the vizualization.\n",
    "\n",
    "\n",
    "> **Speaker says**: “The key point is that ______________________________________.”\n",
    ">\n",
    "> (Summarize one main idea communicated by your vizualization)\n",
    ">\n",
    "> **Speaker says**, “Here we see ________________________________.”\n",
    ">\n",
    "> (Summarize one interesting feature of your vizualization)\n",
    "\n",
    "You will present your visuliazation in next class."
   ]
  },
  {
   "cell_type": "markdown",
   "id": "d6db29a0-3748-4ff5-905a-d762b2e65963",
   "metadata": {},
   "source": [
    "## 4. Write-up\n",
    "\n",
    "Write a short document (500 words max.) explaining your choice of the question and visualization for this communication exercise. "
   ]
  },
  {
   "cell_type": "markdown",
   "id": "7e8cd5a7-cf21-4751-b2cf-0a1f6a505b75",
   "metadata": {},
   "source": [
    ">Write the document here"
   ]
  },
  {
   "cell_type": "code",
   "execution_count": null,
   "id": "5282c311-ebbc-4d46-88bf-d924e157cfe8",
   "metadata": {},
   "outputs": [],
   "source": []
  }
 ],
 "metadata": {
  "kernelspec": {
   "display_name": "Python 3 (ipykernel)",
   "language": "python",
   "name": "python3"
  },
  "language_info": {
   "codemirror_mode": {
    "name": "ipython",
    "version": 3
   },
   "file_extension": ".py",
   "mimetype": "text/x-python",
   "name": "python",
   "nbconvert_exporter": "python",
   "pygments_lexer": "ipython3",
   "version": "3.12.7"
  }
 },
 "nbformat": 4,
 "nbformat_minor": 5
}
