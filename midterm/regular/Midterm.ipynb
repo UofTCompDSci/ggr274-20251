{
 "cells": [
  {
   "cell_type": "markdown",
   "id": "4bf0a802",
   "metadata": {},
   "source": [
    "# GGR274 Midterm Test\n",
    "\n",
    "<mark> **Read this section before starting the test** </mark>\n",
    "\n",
    "## Test Instructions\n",
    "\n",
    "- The test is divided into eight questions. Complete all questions below.\n",
    "\n",
    "- The answers to the questions will be submitted on MarkUs using a similar workflow to the lab and homework assignments, except that MarkUs will not give you feedback on passing or failing the autotests.\n",
    "\n",
    "- We have provided some code to help you check your programming work in each cell.\n",
    "\n",
    "- Answers where you are asked to write Python code will be autograded, and written answers will be graded manually by the teaching team.\n",
    "\n",
    "## Marking Rubric\n",
    "\n",
    "\n",
    "Section     | 0 | 1 | 2 | 3\n",
    "------------|---|---|---|---\n",
    "python computation steps       |auto test fails | auto test passes | NA | NA \n",
    "Describe what you did to the data (for each part) | No answer | A partial description is given that explains what the python code did to the data| A full description that uses data science terminology is given that explains what the python code did to the data and why this step is important | NA\n",
    "Conclusion (for each part) | No answer | The question is answered but no explanation is given or the explanation is irrelvant to the data analysis presented | The question is answered based on the data analysis presented, but the analysis does not fully support the explanation | The question is answered and the explanation is fully supported by the data analysis\n",
    "\n",
    "\n",
    "## Aids Allowed and Academic Integrity\n",
    "\n",
    "- You are allowed to use any materials from the course or any other written sources (e.g., books, websites). \n",
    "\n",
    "- You are not allowed to directly receive or give help during the test period.  In other words, all work must be your own, and you must not discuss or post any information about this test with anyone during the test period.\n",
    "\n",
    "- As a student, you alone are responsible for ensuring the integrity of your work and for understanding what [constitutes an academic offense](https://www.artsci.utoronto.ca/current/academic-advising-and-support/student-academic-integrity/academic-misconduct).\n",
    "\n",
    "## Time Allowed\n",
    "\n",
    "- The test will be available at 09:10 AM on Tuesday, February 11, and must be submitted on MarkUs (see Submission Instructions) by 11:05 AM on Tuesday, February 11.\n",
    "\n",
    "- Late tests will receive a grade of zero unless you have an approved accommodation from your instructor.\n",
    "\n",
    "## How do I ask a question during the test?\n",
    "\n",
    "- There will be members of the teaching team in the regular classroom (SS 2118) during the midterm for in-person help.\n",
    "\n",
    "- The teaching team will be available during the test on a [zoom class link](https://utoronto.zoom.us/j/89236564519) in case you have any questions during the midterm.\n",
    "\n",
    "- The class discussion forum on Piazza will be disabled during the test period.\n"
   ]
  },
  {
   "cell_type": "markdown",
   "id": "fa9d4025",
   "metadata": {},
   "source": [
    "## Submission Instructions\n",
    "\n",
    "You will submit your work on [MarkUs](https://markus.teach.cs.toronto.edu/markus/main/login_remote_auth\n",
    ").\n",
    "To submit your work:\n",
    "\n",
    "1. Download this file (`Midterm.ipynb`) from JupyterHub. Complete your work in this file. (See [our JupyterHub Guide](../../guides/jupyterhub_guide.ipynb) for detailed instructions.)\n",
    "2. Submit this file to MarkUs under the **midterm** assignment. (See [our MarkUs Guide](../../guides/markus_guide.ipynb) for detailed instructions.)\n",
    "3. IMPORTANT: Double-check to sure that the file is named exactly Midterm.ipynb \n"
   ]
  },
  {
   "cell_type": "markdown",
   "id": "e647f035",
   "metadata": {},
   "source": [
    "## Questions\n",
    "\n",
    "Below is an outline of the questions that you will answer in this midterm test.  \n",
    "\n",
    "For your convenience you can keep track of which questions you have answered by ticking off the boxes by adding an `x` in between the square brackets `[  ]`.\n",
    "\n",
    "```\n",
    "- [ ] \n",
    "- [x] \n",
    "```\n",
    "The above Markdown will render like this\n",
    "\n",
    "- [ ] \n",
    "- [x] \n",
    "\n",
    " <mark> **Check marks are not required for full marks. This is to help you stay organized during the test, but please feel free to ignore this if you wish.** </mark>\n",
    "\n",
    "## List of Questions in this Test\n",
    "\n",
    "Below are hyperlinks to individual test questions. A hyperlink back to this section is provided at the end of most questions. \n",
    " \n",
    "\n",
    "- [ ] [Question 1a](#Question-1a) (__1 mark__) \n",
    "\n",
    "\n",
    "- [ ] [Question 1b](#Question-1b) (__1 mark__)\n",
    "\n",
    "\n",
    "- [ ] [Question 2](#Question-2) (__4 marks__)\n",
    "\n",
    "\n",
    "- [ ] [Question 3a](#Question-3a) (__1 mark__)\n",
    "\n",
    "\n",
    "- [ ] [Question 3b](#Question-3b) (__1 mark__)\n",
    "\n",
    "\n",
    "- [ ] [Question 3c](#Question-3c) (__1 mark__)\n",
    "\n",
    "\n",
    "- [ ] [Question 4a](#Question-4a) (__1 mark__)\n",
    "\n",
    "\n",
    "- [ ] [Question 4b](#Question-4b) (__1 mark__)\n",
    "\n",
    "\n",
    "- [ ] [Question 4c](#Question-4c) (__2 marks__)\n",
    "\n",
    "\n",
    "- [ ] [Question 4d](#Question-4d) (__2 marks__)\n",
    "\n",
    "\n",
    "- [ ] [Question 4e](#Question-4e) (__2 marks__)\n",
    "\n",
    "\n",
    "- [ ] [Question 4f](#Question-4f) (__2 marks__)\n",
    "\n",
    "\n",
    "- [ ] [Question 5](#Question-5) (__2 marks__)\n",
    "\n",
    "\n",
    "- [ ] [Question 6](#Question-6) (__2 marks__)\n",
    "\n",
    "\n",
    "- [ ] [Question 7a](#Question-7a) (__4 marks__)\n",
    "\n",
    "\n",
    "- [ ] [Question 7b](#Question-7b) (__1 mark__)\n",
    "\n",
    "\n",
    "- [ ] [Question 7c](#Question-7c) (__1 mark__)\n",
    "\n",
    "  \n",
    "- [ ] [Question 8a](#Question-8a) (__3 marks__)\n",
    "\n",
    "\n",
    "- [ ] [Question 8b](#Question-8b) (__3 marks__)\n",
    "\n",
    "\n",
    "- [ ] [Question 8c](#Question-8c) (__3 marks__)\n",
    "\n",
    "\n",
    "- [ ] [Question 8d](#Question-8d) (__3 marks__)\n",
    "  \n"
   ]
  },
  {
   "cell_type": "code",
   "execution_count": null,
   "id": "7d0a9256",
   "metadata": {},
   "outputs": [],
   "source": [
    "# Compute total marks in this test and print out a nice message.\n",
    "\n",
    "num_question_parts = 21\n",
    "\n",
    "total_test_marks = (\n",
    "    2 * 1 + # Question 1\n",
    "    4 * 1 + # Question 2\n",
    "    3 * 1 + # Question 3\n",
    "    2 * 1 + 4 * 2 + # Question 4\n",
    "    2 * 1 + # Question 5\n",
    "    2 * 1 + # Question 6\n",
    "    6 * 1 + # Question 7\n",
    "    4 * 3 # Question 8 \n",
    ")\n",
    "\n",
    "time = 110\n",
    "\n",
    "print(f\"\"\"\n",
    "There are {num_question_parts} question parts.\\n\n",
    "The total number of marks in this test is {total_test_marks}. \\n\n",
    "The total amount of time to complete this test is {time} minutes. \\n\n",
    "\\U0001F447The test questions start below.\\U0001F447\n",
    "\"\"\")"
   ]
  },
  {
   "cell_type": "markdown",
   "id": "1e771606",
   "metadata": {},
   "source": [
    "## Question 1\n",
    "\n",
    "The latest census data, from 2021, shows that Ontario had a population of 14,223,942 at the time.  The City of Toronto made up 19.6% of the popuation. These values are represented in the variables below.\n",
    "\n",
    "*[Take me back to [Questions section](#Questions).]*"
   ]
  },
  {
   "cell_type": "code",
   "execution_count": 23,
   "id": "677ed25b",
   "metadata": {},
   "outputs": [],
   "source": [
    "# These variables are given to you. Do not change them!\n",
    "ontario_population = 14223942\n",
    "toronto_percentage_str = '19.6%'\n"
   ]
  },
  {
   "cell_type": "markdown",
   "id": "e4efd6c4",
   "metadata": {},
   "source": [
    "### Question 1a\n",
    "\n",
    "Use the Python functions `float` and `str.replace()` to convert `toronto_percentage_str` to a floating point number.  \n",
    "\n",
    "Step 1: Use `str.replace()` to remove the `%` from the string `'19.6%'`.  Store the result in `toronto_percentage_str`. __(1 mark)__\n",
    "\n",
    "Recall that the arguments to `str.replace()` are the substring to replace and the string to replace it with. In this case, we want to replace `%` with the empty string `''`\n",
    "\n",
    "Step 2: Use `float()` with other computation to convert `toronto_percentage_str` to a float between 0 and 1 representing the fraction of Ontarians that reside in Toronto.  Store the result in `toronto_fraction`. __(1 mark)__\n",
    "\n",
    "*[Take me back to [Questions section](#Questions).]*"
   ]
  },
  {
   "cell_type": "code",
   "execution_count": null,
   "id": "db228f0c",
   "metadata": {},
   "outputs": [],
   "source": [
    "# Write your code here\n",
    "\n",
    "\n",
    "# This code is provided for you to check your work\n",
    "print(toronto_fraction)"
   ]
  },
  {
   "cell_type": "markdown",
   "id": "287910c5",
   "metadata": {},
   "source": [
    "### Question 1b\n",
    "\n",
    "Use the variables in [Question 1a](#Question-1a) to calculate the *number* of people who live in Toronto. Round the result to the nearest integer, and store the result in a variable called `toronto_population`. __(1 mark)__\n",
    "\n",
    "*[Take me back to [Questions section](#Questions).]*"
   ]
  },
  {
   "cell_type": "code",
   "execution_count": null,
   "id": "50851f75",
   "metadata": {},
   "outputs": [],
   "source": [
    "# Write your code here\n",
    "\n",
    "\n",
    "# This code is provided for you to check your work\n",
    "print(f\"Number of Torontonians: {toronto_population}\")"
   ]
  },
  {
   "cell_type": "markdown",
   "id": "08cc2df3",
   "metadata": {},
   "source": [
    "## Question 2\n",
    "\n",
    "We have given you a long string in the code cell below.\n",
    "You have the following tasks:\n",
    "\n",
    "1. First, **split** the string into words using the `split()` method with a correct argument. Store the result in a variable called `all_words`. __(0.5 mark)__\n",
    "   \n",
    "2. Then, create an empty list called `longer_words` (__0.5 mark__). \n",
    "3. Using a `for` loop, iterate over `all_words`. Add words with a length greater than 3 to the list `longer_words`.  (__2 marks__).\n",
    "4. Calculate the average length of the words in `longer_words`, and store it in a variable named `avg_length`. __(1 mark)__. \n",
    "\n",
    "You can print out your three variables `all_words`, `longer_words` and `avg_length` to check your work for this question.\n",
    "Remember you can also print out variables from inside the loop if you want to check intermediary steps.\n",
    "\n",
    "*[Take me back to [Questions section](#Questions).]*"
   ]
  },
  {
   "cell_type": "code",
   "execution_count": null,
   "id": "71a52407",
   "metadata": {},
   "outputs": [],
   "source": [
    "# This variable is given to you: do not change it!\n",
    "article = \"The Black History Month Luncheon will host a celebrated Toronto TV personality, a spoken word poet and human rights activist – and two women who, as high school students, found a new way to solve a math problem that’s thousands of years old.\"\n",
    "# Write your code here\n",
    "\n",
    "# This code is provided to you to check your work\n",
    "print(all_words)\n",
    "print(longer_words)\n",
    "print(avg_length)"
   ]
  },
  {
   "cell_type": "markdown",
   "id": "9e20eee7",
   "metadata": {},
   "source": [
    "## Question 3\n",
    "\n",
    "In the questions below you will use data from the Statistics Canada Time Use dataset to explore how _time spent with people outside the household_ differs between _people who recently moved to a new residence_ vs. _those who lived in the same residence for a long time_.\n",
    "\n",
    "The code blocks and questions below will guide you through this analysis.\n",
    "\n",
    "*[Take me back to [Questions section](#Questions).]*"
   ]
  },
  {
   "cell_type": "markdown",
   "id": "f726b4a6",
   "metadata": {},
   "source": [
    "### Question 3a\n",
    "\n",
    "We will use your student number as data for this midterm. Complete the assignment statement below by typing your student number as an `int`. In other words assign your student number as an integer to the variable `student_number` __(1 mark)__\n",
    "\n",
    "*[Take me back to [Questions section](#Questions).]*"
   ]
  },
  {
   "cell_type": "code",
   "execution_count": null,
   "id": "6f855177",
   "metadata": {},
   "outputs": [],
   "source": [
    "# Replace the ... with your student number\n",
    "student_number = ...\n",
    "\n",
    "# This checks that you correctly typed in your student_number as an int.\n",
    "# Make sure there's no error when you run this cell!\n",
    "assert type(student_number) == int"
   ]
  },
  {
   "cell_type": "markdown",
   "id": "a600c343",
   "metadata": {},
   "source": [
    "### Question 3b\n",
    "\n",
    "Read the CSV file `gss_tu2016_filtered.csv` into a `DataFrame` and store it in a variable named `time_use_all_data`. __(1 mark)__\n",
    "\n",
    "*[Take me back to [Questions section](#Questions).]*"
   ]
  },
  {
   "cell_type": "code",
   "execution_count": null,
   "id": "6303177d",
   "metadata": {},
   "outputs": [],
   "source": [
    "import pandas as pd\n",
    "\n",
    "\n",
    "# Write your answer in this cell\n",
    "\n",
    "\n",
    "# This code is provided to help you check your work\n",
    "time_use_all_data.head()"
   ]
  },
  {
   "cell_type": "markdown",
   "id": "58d7eb53",
   "metadata": {},
   "source": [
    "### Question 3c\n",
    "\n",
    "Run the code cell below.  This code uses `pandas.DataFrame.sample` to take a random sample of 75% of the rows from `time_use_all_data`, and names the resulting `DataFrame` `time_use_data`. __(1 mark)__\n",
    "\n",
    "*[Take me back to [Questions section](#Questions).]*"
   ]
  },
  {
   "cell_type": "code",
   "execution_count": null,
   "id": "af756597",
   "metadata": {},
   "outputs": [],
   "source": [
    "#\n",
    "# CAUTION: Don't modify this code cell\n",
    "#\n",
    "seed = student_number % 1000\n",
    "time_use_data = time_use_all_data.sample(frac = 0.75, random_state = seed)\n",
    "\n",
    "# The following checks that your DataFrame has the correct shape.\n",
    "# You will automatically get the 1 mark if the first message ('Your time_use_data ... move on!') is printed.\n",
    "\n",
    "if time_use_data.shape == (13042, 214):\n",
    "    print('Your time_use_data variable has the correct shape, and you are ready to move on!')\n",
    "else:\n",
    "    print('Please check that you have entered your student number correctly and have run the previous cells.')"
   ]
  },
  {
   "cell_type": "markdown",
   "id": "b6a13e92",
   "metadata": {
    "tags": []
   },
   "source": [
    "## Question 4\n",
    "\n",
    "### Question 4a\n",
    "\n",
    "Create a **list** of the following column names from `time_use_data` and store this list in a variable named `important_columns`:\n",
    "\n",
    "- `\"lrd_10\"`: Length of time respondent has lived in current dwelling\n",
    "- `\"durs200\"`: Duration of time spent alone\n",
    "- `\"durs201\"`: Duration of time spent with a spouse/partner\n",
    "- `\"durs202\"`: Duration of time spent with household children (<15)\n",
    "- `\"durs203\"`: Duration of time spent with household children (>=15)\n",
    "- `\"durs204\"`: Duration of time spent with parents or parents-in-law\n",
    "- `\"durs205\"`: Duration of time spent with other household adults\n",
    "- `\"durs206\"`: Duration of time spent with family members from other households\n",
    "- `\"durs207\"`: Duration of time spent with friend(s)\n",
    "- `\"durs208\"`: Duration of time spent with colleagu(s)/classmate(s)\n",
    "\n",
    "**Important: Make sure that the column names in `important_columns` are in the order presented above (i.e., the first element of the list should be `\"lrd_10\"`).** \n",
    "\n",
    "__(1 mark)__\n",
    "\n",
    "*[Take me back to [Questions section](#Questions).]*"
   ]
  },
  {
   "cell_type": "code",
   "execution_count": null,
   "id": "56c1180e",
   "metadata": {},
   "outputs": [],
   "source": [
    "# Write your answer in this cell\n",
    "\n",
    "\n",
    "# Check your work: important_columns should be a list of 3 strings\n",
    "print(f\"important_columns: {important_columns}\")"
   ]
  },
  {
   "cell_type": "markdown",
   "id": "d710a37a",
   "metadata": {},
   "source": [
    "### Question 4b\n",
    "\n",
    "Use `important_columns` to create a new `DataFrame` from `time_use_data` that only contains the three columns listed in [Question 4a](#Question-4a) and store this new `DataFrame` in a variable named `sub_time_use_data`. __(1 mark)__\n",
    "\n",
    "*[Take me back to [Questions section](#Questions).]*"
   ]
  },
  {
   "cell_type": "code",
   "execution_count": null,
   "id": "130aa8cf",
   "metadata": {},
   "outputs": [],
   "source": [
    "# Write your answer in this cell\n",
    "\n",
    "\n",
    "# This code is provided to help you check your work\n",
    "sub_time_use_data.head()"
   ]
  },
  {
   "cell_type": "markdown",
   "id": "87df9096",
   "metadata": {},
   "source": [
    "### Question  4c\n",
    "\n",
    "Briefly describe in plain language what you did to the data when you completed [Question 4a](#Question-4a) and [Question 4b](#Question-4b).  Put your answer in the Markdown cell below. __(2 marks)__\n",
    "\n",
    "*[Take me back to [Questions section](#Questions).]*"
   ]
  },
  {
   "cell_type": "markdown",
   "id": "df0afa30",
   "metadata": {},
   "source": [
    "> **Write your answer to 4c here**\n",
    ">\n",
    ">"
   ]
  },
  {
   "cell_type": "markdown",
   "id": "92068f58",
   "metadata": {},
   "source": [
    "### Definition of Data Values \n",
    "\n",
    "```\n",
    "lrd_10             Length of time respondent has lived in current dwelling\n",
    "\n",
    "           VALUE  LABEL\n",
    "               1  Less than 6 months\n",
    "               2  6 months to less than 1 year\n",
    "               3  1 year to less than 3 years\n",
    "               4  3 years to less than 5 years\n",
    "               5  5 years to less than 10 years\n",
    "               6  10 years and over\n",
    "              96  Valid skip\n",
    "              97  Don't know\n",
    "              98  Refusal\n",
    "              99  Not stated\n",
    "\n",
    "           Data type: numeric\n",
    "           Missing-data codes: 96-99\n",
    "\n",
    "___________________________________________________________________________________________\n",
    "\n",
    "durs201            Duration - Social contact - Spouse/partner\n",
    "durs202            Duration - Social contact - Household children (<15)\n",
    "durs203            Duration - Social contact - Household children (>=15)\n",
    "durs204            Duration - Social contact - Parents or parents-in-law\n",
    "durs205            Duration - Social contact - Other household adults\n",
    "durs206            Duration - Social contact - Family members from other households\n",
    "durs207            Duration - Social contact - Friend(s)\n",
    "durs208            Duration - Social contact - Colleague(s)/classmate(s)\n",
    "\n",
    "           VALUE  LABEL\n",
    "               0  No time spent doing this activity\n",
    "            9996  Valid skip\n",
    "            9997  Don't know\n",
    "            9998  Refusal\n",
    "            9999  Not stated\n",
    "\n",
    "           Data type: numeric\n",
    "           Missing-data codes: 9996-9999\n",
    "\n"
   ]
  },
  {
   "cell_type": "markdown",
   "id": "1503dc38",
   "metadata": {},
   "source": [
    "### Question 4d\n",
    "\n",
    "Using [Code cell 1 written by a Data Scientist](#Code-cell-1-written-by-a-Data-Scientist) below, answer the following question:\n",
    "\n",
    "Which column in `sub_time_use_data` is transformed in that code cell?  Briefly explain how you know. __(2 marks)__\n",
    "\n",
    "*[Take me back to [Questions section](#Questions).]*"
   ]
  },
  {
   "cell_type": "markdown",
   "id": "c0c7e41c",
   "metadata": {},
   "source": [
    "> **Write your answer to 4d here**\n",
    ">\n",
    ">"
   ]
  },
  {
   "cell_type": "markdown",
   "id": "a4bdd5d7",
   "metadata": {},
   "source": [
    "### Question 4e\n",
    "\n",
    "In the [Code cell 1 written by a Data Scientist](#Code-cell-1-written-by-a-Data-Scientist) below, briefly explain why \n",
    "\n",
    "```python\n",
    "cond2 = (sub_time_use_data[\"lrd_10\"] > 4) & (sub_time_use_data[\"lrd_10\"] < 7)\n",
    "sub_time_use_data.loc[cond2, \"lrd_10 recode\"] = \"5 years and over\"\n",
    "``` \n",
    "\n",
    "required 2 logical operators as opposed to 1 used for the group who lived in current residence for \"less than 1 year\". __(2 marks)__\n",
    "\n",
    "*[Take me back to [Questions section](#Questions).]*"
   ]
  },
  {
   "cell_type": "markdown",
   "id": "a36e7bf2",
   "metadata": {},
   "source": [
    "> **Write your answer to 4e here**"
   ]
  },
  {
   "cell_type": "markdown",
   "id": "c4a671aa",
   "metadata": {},
   "source": [
    "### Code cell 1 written by a Data Scientist\n",
    "\n",
    "Run the code cell below, but do **not** modify the code."
   ]
  },
  {
   "cell_type": "code",
   "execution_count": null,
   "id": "db26b791",
   "metadata": {},
   "outputs": [],
   "source": [
    "# This code was written by a Data Scientist\n",
    "#\n",
    "# CAUTION: Don't modify this code cell\n",
    "#\n",
    "sub_time_use_data = sub_time_use_data.copy()\n",
    "\n",
    "cond1 = sub_time_use_data[\"lrd_10\"] <= 2\n",
    "\n",
    "sub_time_use_data.loc[cond1, \"lrd_10 recode\"] = \"Less than 1 year\"\n",
    "\n",
    "cond2 = (sub_time_use_data[\"lrd_10\"] > 4) & (sub_time_use_data[\"lrd_10\"] < 7)\n",
    "\n",
    "sub_time_use_data.loc[cond2, \"lrd_10 recode\"] = \"5 years and over\"\n",
    "\n",
    "cond3 = (sub_time_use_data[\"lrd_10\"] == 3) | (sub_time_use_data[\"lrd_10\"] > 7)\n",
    "\n",
    "sub_time_use_data.loc[cond3, \"lrd_10 recode\"] = None"
   ]
  },
  {
   "cell_type": "markdown",
   "id": "8f2c00af",
   "metadata": {},
   "source": [
    "### Code cell 2 written by a Data Scientist\n",
    "\n",
    "Run the code cell below, but do **not** modify the code."
   ]
  },
  {
   "cell_type": "code",
   "execution_count": null,
   "id": "c4f093f9",
   "metadata": {},
   "outputs": [],
   "source": [
    "# This code was written by a Data Scientist\n",
    "#\n",
    "# CAUTION: Don't modify this code cell\n",
    "#\n",
    "\n",
    "sub_time_use_data[\"durs200to205\"] = sub_time_use_data[[\n",
    "    \"durs200\", \"durs201\", \"durs202\", \"durs203\", \"durs204\", \"durs205\"\n",
    "]].sum(axis=1)\n",
    "sub_time_use_data[\"durs206to208\"] = sub_time_use_data[[\n",
    "    \"durs206\", \"durs207\", \"durs208\"\n",
    "]].sum(axis=1)"
   ]
  },
  {
   "cell_type": "markdown",
   "id": "7cbaa954",
   "metadata": {},
   "source": [
    "### Code cell 3 written by a Data Scientist\n",
    "\n",
    "Run the code cell below, but do **not** modify the code."
   ]
  },
  {
   "cell_type": "code",
   "execution_count": null,
   "id": "49d1dd5d",
   "metadata": {},
   "outputs": [],
   "source": [
    "# This code was written by a Data Scientist\n",
    "#\n",
    "# CAUTION: Don't modify this code cell\n",
    "#\n",
    "column_names = {\n",
    "    \"lrd_10 recode\" : \"Time in current residence\", \n",
    "    \"durs200to205\": \"Social contact in household (min)\",\n",
    "    \"durs206to208\": \"Social contact outside household (min)\"\n",
    "}\n",
    "\n",
    "sub_time_use_rename = sub_time_use_data[\n",
    "    [\"lrd_10 recode\", \"durs200to205\", \"durs206to208\"]].copy()\n",
    "\n",
    "sub_time_use_rename.rename(columns = column_names, inplace = True)"
   ]
  },
  {
   "cell_type": "markdown",
   "id": "f7413540",
   "metadata": {},
   "source": [
    "### Question 4f\n",
    "\n",
    "In the Markdown cell below, briefly explain what value of the `inplace` parameter was used in the `rename` method in [Code cell 3 written by a Data Scientist](#Code-cell-3-written-by-a-Data-Scientist-is-in-the-code-cell-below), and why it was used. _Hint: You may find this [documentation](https://pandas.pydata.org/docs/reference/api/pandas.DataFrame.rename.html) helpful._ __(2 marks)__\n",
    "\n",
    "*[Take me back to [Questions section](#Questions).]*"
   ]
  },
  {
   "cell_type": "markdown",
   "id": "761f4aca",
   "metadata": {},
   "source": [
    "> **Write your answer to 4f here** \n",
    ">\n",
    "> "
   ]
  },
  {
   "cell_type": "markdown",
   "id": "8e436817",
   "metadata": {},
   "source": [
    "## Question 5\n",
    "\n",
    "The two social contact duration columns in `sub_time_use_rename` currently list their times in *minutes*.\n",
    "\n",
    "**Add two new columns** to `sub_time_use_rename` called `\"Social contact in household (hours)\"` and `\"Social contact outside household (hours)\"`, which contain their respective durations converted into **hours** (by dividing by the number of minutes by 60). __(2 marks, 1 mark each)__\n",
    "\n",
    "\n",
    "*[Take me back to [Questions section](#Questions).]*"
   ]
  },
  {
   "cell_type": "code",
   "execution_count": null,
   "id": "80d373bf",
   "metadata": {},
   "outputs": [],
   "source": [
    "# Write your answer in this cell\n",
    "\n",
    "# Check your work: you should see your two new columns added to sub_time_use_rename\n",
    "sub_time_use_rename.head()"
   ]
  },
  {
   "cell_type": "markdown",
   "id": "416a8be0",
   "metadata": {},
   "source": [
    "## Question 6\n",
    "\n",
    "Use `sub_time_use_rename` to:\n",
    "\n",
    "- Create a boolean `Series` named `new_residents` that is `True` if a respondent has lived in the current residence for _less than 1 year_, and `False` otherwise. __(1 mark)__\n",
    "\n",
    "- Create a boolean `Series` named `established_residents` that is `True` if a respondent has lived in the current residence for _5 years and over_, and `False` otherwise. __(1 mark)__\n",
    "\n",
    "*[Take me back to [Questions section](#Questions).]*"
   ]
  },
  {
   "cell_type": "code",
   "execution_count": null,
   "id": "11acf498",
   "metadata": {},
   "outputs": [],
   "source": [
    "# Write your answer here\n",
    "\n",
    "\n",
    "\n",
    "# Check your work\n",
    "print(new_residents.value_counts())\n",
    "print(established_residents.value_counts())"
   ]
  },
  {
   "cell_type": "markdown",
   "id": "abb060c6",
   "metadata": {},
   "source": [
    "## Question 7\n",
    "\n",
    "### Question 7a\n",
    "\n",
    "Use the `DataFrame` method `describe` to summarize the following distributions:\n",
    "\n",
    "- `\"Social contact in household (hours)\"` for those who lived _less than 1 year_ in current resident in `sub_time_use_rename`. Name the summary of the distribution `new_residents_in_household_summary`. __(1 mark)__  \n",
    "\n",
    "- `\"Social contact outside household (hours)\"` for those who lived _less than 1 year_ in current resident in `sub_time_use_rename`. Name the summary of the distribution `new_residents_outside_household_summary`. __(1 mark)__\n",
    "\n",
    "- `\"Social contact in household (hours)\"` for those who lived _5 years and over_ in current resident in `sub_time_use_rename`. Name the summary of the distribution `established_residents_in_household_summary`. __(1 mark)__\n",
    "\n",
    "- `\"Social contact outside household (hours)\"` for those who lived _5 years and over_ in current resident in `sub_time_use_rename`. Name the summary of the distribution `established_residents_outside_household_summary`. __(1 mark)__\n",
    "*[Take me back to [Questions section](#Questions).]*"
   ]
  },
  {
   "cell_type": "code",
   "execution_count": null,
   "id": "435dacef",
   "metadata": {},
   "outputs": [],
   "source": [
    "# Write your answer here\n",
    "\n",
    "\n"
   ]
  },
  {
   "cell_type": "code",
   "execution_count": null,
   "id": "672fe86b",
   "metadata": {
    "scrolled": true
   },
   "outputs": [],
   "source": [
    "# Check your work (less than 1 year group)\n",
    "print(new_residents_in_household_summary)\n",
    "print(new_residents_outside_household_summary)"
   ]
  },
  {
   "cell_type": "code",
   "execution_count": null,
   "id": "d58af4ab",
   "metadata": {},
   "outputs": [],
   "source": [
    "# Check your work (5 years and over group)\n",
    "print(established_residents_in_household_summary)\n",
    "print(established_residents_outside_household_summary)"
   ]
  },
  {
   "cell_type": "markdown",
   "id": "f1250a16",
   "metadata": {},
   "source": [
    "### Question 7b\n",
    "\n",
    "Below `sub_time_use_prop = sub_time_use_rename.copy()` creates a copy of `sub_time_use_rename` named `sub_time_use_prop`. \n",
    "\n",
    "Add a new column named `Outside household socializing proportion` to `sub_time_use_prop` which contains the following proportion:\n",
    "\n",
    "$$\\frac{\\text{Time spent with persons outside household in hours}}{\\text{Time spent with persons outside household in hours} + \\text{Time spent with persons wthin household in hours}}$$\n",
    "\n",
    "**(1 mark)**\n",
    "\n",
    "*[Take me back to [Questions section](#Questions).]*"
   ]
  },
  {
   "cell_type": "code",
   "execution_count": null,
   "id": "8c2b169c",
   "metadata": {},
   "outputs": [],
   "source": [
    "sub_time_use_prop = sub_time_use_rename.copy()\n",
    "# Write your answer here\n",
    "\n",
    "\n",
    "# Check your work\n",
    "sub_time_use_prop.head()"
   ]
  },
  {
   "cell_type": "markdown",
   "id": "610b6009",
   "metadata": {},
   "source": [
    "### Question 7c\n",
    "\n",
    "In this step you will create a boxplot to compare the distributions of proportions of time spent with people outside household for those who lived for less than 1 year in the current residence (_new residents_) and those who lived 5 years and over (_established residents_).\n",
    "\n",
    "Use the `DataFrame` method called `boxplot` to create the following boxplot from `sub_time_use_prop`:\n",
    "\n",
    "- A boxplot of the `\"Outside household socializing proportion\"` for the two groups - _new residents_ and _established residents_. Store the result in a variable called `boxplot_social_contact`. __(1 mark)__\n",
    "   \n",
    " Do not use the optional input arguments such as `figsize` to avoid potential errors in MarkUs.\n",
    "\n",
    "*[Take me back to [Questions section](#Questions).]*"
   ]
  },
  {
   "cell_type": "code",
   "execution_count": null,
   "id": "0975dce0",
   "metadata": {},
   "outputs": [],
   "source": [
    "# Write your answer in this cell\n",
    "\n",
    "\n",
    "# Check your work\n",
    "boxplot_social;"
   ]
  },
  {
   "cell_type": "markdown",
   "id": "d1e8b91a",
   "metadata": {},
   "source": [
    "## Question 8\n",
    "\n",
    "Answer the following questions based on the data analysis.\n",
    "\n",
    "### Question 8a\n",
    "\n",
    "Compare the distributions of time spent with persons within household. Which group spends more time with people within household on average? Refer to the appropriate numerical summary(s) to support your answer. Answer in 2-3 sentences. __(3 marks)__\n",
    "\n",
    "*[Take me back to [Questions section](#Questions).]*"
   ]
  },
  {
   "cell_type": "markdown",
   "id": "b7440450",
   "metadata": {},
   "source": [
    "> **Write your answer to 8a here**\n",
    ">\n",
    ">"
   ]
  },
  {
   "cell_type": "markdown",
   "id": "e54d4dc8",
   "metadata": {},
   "source": [
    "### Question 8b\n",
    "\n",
    "Compare the distributions of the proportion of time spent with persons outside household. What does the box plot suggest about the spread of the proportions? Refer to the appropriate statistical characteristics depicted on the box plot to support your answer. Answer in 2-3 sentences. __(3 marks)__\n",
    "\n",
    "*[Take me back to [Questions section](#Questions).]*"
   ]
  },
  {
   "cell_type": "markdown",
   "id": "c1438223",
   "metadata": {},
   "source": [
    "> **Write your answer to 8b here**\n",
    ">\n",
    ">"
   ]
  },
  {
   "cell_type": "markdown",
   "id": "1726a324",
   "metadata": {},
   "source": [
    "### Question 8c\n",
    "\n",
    "What limitations might there be in using a box plot to investigate the relationship between the proportion of time spent outside household and their time in current residence? What information is difficult to interpret? Identify at least 2 pieces of quantities that is difficult to identify compared to the list of numerical descriptions using `.describe()`. Explain whether the box plot provides a related quantity or does not provide a related quantity at all. __(3 marks)__\n",
    "\n",
    "*[Take me back to [Questions section](#Questions).]*"
   ]
  },
  {
   "cell_type": "markdown",
   "id": "7bb870ae",
   "metadata": {},
   "source": [
    "> **Write your answer to 8c here**\n",
    ">\n",
    "> "
   ]
  },
  {
   "cell_type": "markdown",
   "id": "615f4451",
   "metadata": {},
   "source": [
    "### Question 8d\n",
    "\n",
    "Before conducting the analysis, Michael hypothesized that _those who lived in current residence for a long period of time would tend to spend more time with people ouside their households because they would have established relationships with their neighbours and friends in vicinity._ \n",
    "\n",
    "Does the data analysis support Michael's hypothesis? Refer to the appropriate statistical characteristics from box plot to support your answer. Answer in 2-3 sentences. __(3 marks)__\n",
    "\n",
    "*[Take me back to [Questions section](#Questions).]*"
   ]
  },
  {
   "cell_type": "markdown",
   "id": "c39ef612",
   "metadata": {},
   "source": [
    "> **Write your answer to 8d here**\n",
    ">\n",
    ">"
   ]
  }
 ],
 "metadata": {
  "kernelspec": {
   "display_name": "Python 3 (ipykernel)",
   "language": "python",
   "name": "python3"
  },
  "language_info": {
   "codemirror_mode": {
    "name": "ipython",
    "version": 3
   },
   "file_extension": ".py",
   "mimetype": "text/x-python",
   "name": "python",
   "nbconvert_exporter": "python",
   "pygments_lexer": "ipython3",
   "version": "3.12.7"
  }
 },
 "nbformat": 4,
 "nbformat_minor": 5
}
