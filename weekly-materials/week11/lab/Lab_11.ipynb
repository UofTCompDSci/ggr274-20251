{
 "cells": [
  {
   "cell_type": "markdown",
   "id": "53a30acb-40c5-42c4-8ca7-3f901c7b59e0",
   "metadata": {},
   "source": [
    "# GGR274 Lab 11: Tell us a stroy! (Part 3)\n",
    "\n",
    "***\n",
    "\n",
    "## Introduction\n",
    "\n",
    "- This is part 3 of the communication exercise. You'll make some improvment to your visulization plot and presentation using the experience you learned from the last lab.\n",
    "\n",
    "## Logistics\n",
    "\n",
    "This lab notebook is submitted by **this Thursday (March 27) 23:59**.\n",
    "\n",
    "Submission instructions:\n",
    "\n",
    "1. Download this file (`Lab_11.ipynb`) from JupyterHub. (See [our JupyterHub Guide](../../../guides/jupyterhub_guide.ipynb) for detailed instructions.)\n",
    "2. Submit this file to MarkUs under the **lab11** assignment. (See [our MarkUs Guide](../../../guides/markus_guide.ipynb) for detailed instructions.)\n",
    "\n",
    "\n",
    "## Marking scheme\n",
    "\n",
    "You'll get half point if you submit the notebook with all the questions completed. You'll get the other half point if you attend your lab section. You TA will be checking your submission and recording your attendance."
   ]
  },
  {
   "cell_type": "markdown",
   "id": "981b632d-23a2-4a8f-a954-c1c0663dfb99",
   "metadata": {},
   "source": [
    "***\n",
    "## Group discussion and improvement\n",
    "\n",
    "Divide into groups with 2-3 people, exchange your experience from the presentation last week, and discuss the following questions:\n",
    "\n",
    "- Identify the positive points about your presentation. What did you do well? \n",
    "\n",
    "- Idenfify areas of improvement about your presention. What could you have done better? What are the main aspects of public speaking that you think you should improve?\n",
    "\n",
    "And then, try to improve your visulization code and summarize your improvement."
   ]
  },
  {
   "cell_type": "code",
   "execution_count": 1,
   "id": "0d5dec66-8807-4590-82ba-5b94fc3b0f81",
   "metadata": {},
   "outputs": [],
   "source": [
    "## Write your new codes here\n",
    "## You can copy and revise the code from your Lab_9 notebook"
   ]
  },
  {
   "cell_type": "markdown",
   "id": "46527982-83db-48bb-bfda-11624129b425",
   "metadata": {},
   "source": [
    ">Summarize what you have revised the code and what you think you can improve the presentation here"
   ]
  },
  {
   "cell_type": "markdown",
   "id": "3fca8acb-80ee-4d83-b031-81d7a6fc346a",
   "metadata": {},
   "source": [
    "## One more thing...\n",
    "\n",
    "If your presentataion is about your project and/or you have started your project, you can also think about how to integrate the experience into your project!"
   ]
  }
 ],
 "metadata": {
  "kernelspec": {
   "display_name": "Python 3 (ipykernel)",
   "language": "python",
   "name": "python3"
  },
  "language_info": {
   "codemirror_mode": {
    "name": "ipython",
    "version": 3
   },
   "file_extension": ".py",
   "mimetype": "text/x-python",
   "name": "python",
   "nbconvert_exporter": "python",
   "pygments_lexer": "ipython3",
   "version": "3.12.3"
  }
 },
 "nbformat": 4,
 "nbformat_minor": 5
}
