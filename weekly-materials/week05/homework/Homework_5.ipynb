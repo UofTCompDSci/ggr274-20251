{
 "cells": [
  {
   "cell_type": "markdown",
   "metadata": {},
   "source": [
    "# Homework 5\n",
    "\n",
    "## Logistics\n",
    "\n",
    "**Due date**: The homework is due 23:59 on Monday, February 10.\n",
    "\n",
    "You will submit your work on [MarkUs](https://markus.teach.cs.toronto.edu/markus/main/login_remote_auth).\n",
    "To submit your work:\n",
    "\n",
    "1. Download this file (`Homework_5.ipynb`) from JupyterHub. (See [our JupyterHub Guide](../../../guides/jupyterhub_guide.ipynb) for detailed instructions.)\n",
    "2. Submit this file to MarkUs under the **hw5** assignment. (See [our MarkUs Guide](../../../guides/markus_guide.ipynb) for detailed instructions.)\n",
    "All homeworks will take place in a Jupyter notebook (like this one). When you are done, you will download this notebook and submit it to MarkUs."
   ]
  },
  {
   "cell_type": "markdown",
   "metadata": {},
   "source": [
    "## Introduction\n",
    "\n",
    "In this homework we explore: \n",
    "- row, column selection\n",
    "- create new columns\n",
    "- grouping\n",
    "- summary statistics\n",
    "- visualizing distributions\n",
    "\n",
    "**Question:** Explore sleeping, exercising, and socializing among Canadians."
   ]
  },
  {
   "cell_type": "markdown",
   "metadata": {},
   "source": [
    "## Task 1\n",
    "\n",
    "a) Use the `pandas` method `read_csv` to read the file `gss_tu2016_filtered.csv` into a DataFrame.  Store this `DataFrame` in a variable called `time_use_df`."
   ]
  },
  {
   "cell_type": "code",
   "execution_count": null,
   "metadata": {},
   "outputs": [],
   "source": [
    "import pandas as pd\n",
    "\n",
    "# Write your code here"
   ]
  },
  {
   "cell_type": "markdown",
   "metadata": {},
   "source": [
    "b) Create a subset of `time_use_df` with only the following columns: `dur41`, `dur47`, `sleepdur`, `agegr10`, `prv`.  To do this follow these steps:\n",
    "\n",
    "- Create a list called `analysis_columns` with the column names.\n",
    "- Use `analysis_columns` to select these columns from `time_use_df` and store this `DataFrame` in a variable called `time_use_subset_df`."
   ]
  },
  {
   "cell_type": "code",
   "execution_count": null,
   "metadata": {},
   "outputs": [],
   "source": [
    "# Write your code here\n"
   ]
  },
  {
   "cell_type": "markdown",
   "metadata": {},
   "source": [
    "c) In the next steps you will rename the columns of `time_use_subset_df` according to the following table:\n",
    "\n",
    "Old name | New name\n",
    "---------|------------\n",
    "`dur41`  |`Socializing time`\n",
    "`dur47`  |`Exercising time`\n",
    "`sleepdur`| `Sleep time`\n",
    "`agegr10`|`Age group`\n",
    "`prv`    |`Province` \n",
    "\n",
    "Step 1: Create a dictionary called `new_col_names` with each *Old name* as a key and each *New name* as the corresponding value."
   ]
  },
  {
   "cell_type": "code",
   "execution_count": null,
   "metadata": {},
   "outputs": [],
   "source": [
    "# Write your code here\n"
   ]
  },
  {
   "cell_type": "markdown",
   "metadata": {},
   "source": [
    "Step 2: Use `new_col_names` to rename the columns of `time_use_subset_df` and store the DataFrame with renamed columns in a variable called `time_use_subset_renamed_df`."
   ]
  },
  {
   "cell_type": "code",
   "execution_count": null,
   "metadata": {},
   "outputs": [],
   "source": [
    "# Write your code here\n"
   ]
  },
  {
   "cell_type": "markdown",
   "metadata": {},
   "source": [
    "## Task 2\n",
    "\n",
    "Create columns in `time_use_subset_renamed_df` that converts time use from minutes to hours.  Since 60 minutes is equal to 1 hour we can divide the time use columns by 60 to compute the time in hours.\n",
    "\n",
    "To do this create new columns in `time_use_subset_renamed_df` called \n",
    "\n",
    "  + `Socializing time (hour)`, \n",
    "  + `Exercising time (hour)`, and \n",
    "  + `Sleep time (hour)` \n",
    "  \n",
    "These columns are (respectively) `Socializing time`, `Exercising time`, and `Sleep time` in hours."
   ]
  },
  {
   "cell_type": "code",
   "execution_count": null,
   "metadata": {},
   "outputs": [],
   "source": [
    "# Write your code here\n"
   ]
  },
  {
   "cell_type": "markdown",
   "metadata": {},
   "source": [
    "## Task 3\n",
    "\n",
    "Some respondents in the time use survey spent no time exercising, socializing, and sleeping.  In this section we will create a `DataFrame` that only has respondents who spent time sleeping, exercising, and socializing.  In other words respondents that spent no time on these activities will be excluded.\n",
    "\n",
    "a) Create a boolean `Series` called `well_balanced` that is `True` if time spent exercising **and** time spent sleeping **and** time spent socializing are all greater than 0, and `False` otherwise."
   ]
  },
  {
   "cell_type": "code",
   "execution_count": null,
   "metadata": {},
   "outputs": [],
   "source": [
    "# Write your code here\n"
   ]
  },
  {
   "cell_type": "markdown",
   "metadata": {},
   "source": [
    "b) Use `well_balanced` to filter (i.e. select) the rows of `time_use_subset_renamed_df` where respondents had non-zero times of sleeping, exercising, and socializing.  Store this filtered DataFrame in `well_balanced_df`."
   ]
  },
  {
   "cell_type": "code",
   "execution_count": null,
   "metadata": {},
   "outputs": [],
   "source": [
    "# Write your code here\n"
   ]
  },
  {
   "cell_type": "markdown",
   "metadata": {},
   "source": [
    "c) The number of rows in a `pandas` `DataFrame` can be computed by `len()`.  For example, `len(well_balanced_df)` is the number of rows in `well_balanced_df`.  Compute the number of respondents who were *removed* from `time_use_subset_renamed_df` when it was filtered using `well_balanced` and store this number in a variable called `diff`."
   ]
  },
  {
   "cell_type": "code",
   "execution_count": null,
   "metadata": {},
   "outputs": [],
   "source": [
    "# Write your code here\n"
   ]
  },
  {
   "cell_type": "markdown",
   "metadata": {},
   "source": [
    "d) Use `diff` to compute the percentage of respondents removed from `time_use_subset_renamed_df`. Round the percentage to two decimal places, and store the result value in a variable called `pct_lost`."
   ]
  },
  {
   "cell_type": "code",
   "execution_count": null,
   "metadata": {},
   "outputs": [],
   "source": [
    "# Write your code here\n"
   ]
  },
  {
   "cell_type": "markdown",
   "metadata": {},
   "source": [
    "## Task 4\n",
    "\n",
    "In this section you will explore the distributions of time spent socializing, exercising, and sleeping by age group and province.\n",
    "\n",
    "a) Compute the mean hours spent sleeping, socializing, and exercising by age group using `.groupby` on `well_balanced_df`.  Store this DataFrame in a variable called `group_means`.\n"
   ]
  },
  {
   "cell_type": "code",
   "execution_count": null,
   "metadata": {},
   "outputs": [],
   "source": [
    "# Write your code here\n"
   ]
  },
  {
   "cell_type": "markdown",
   "metadata": {},
   "source": [
    "\n",
    "b) Create a new column in `group_means` called `Total time (hour)` that is the sum of the time (in hours) spent sleeping, exercising, and socializing.\n"
   ]
  },
  {
   "cell_type": "code",
   "execution_count": null,
   "metadata": {},
   "outputs": [],
   "source": [
    "# Write your code here\n"
   ]
  },
  {
   "cell_type": "markdown",
   "metadata": {},
   "source": [
    "c) Create a new index for `group_means` using the labels of Age group found in the [code book](gss_tu2016_codebook.txt) (`gss_tu2016_codebook.txt`) and store the values in a _list_ called `index_new`. "
   ]
  },
  {
   "cell_type": "code",
   "execution_count": null,
   "metadata": {},
   "outputs": [],
   "source": [
    "# Write your code here\n"
   ]
  },
  {
   "cell_type": "markdown",
   "metadata": {},
   "source": [
    "d) Change the index of `group_means` to correspond to `index_new`. "
   ]
  },
  {
   "cell_type": "code",
   "execution_count": null,
   "metadata": {},
   "outputs": [],
   "source": [
    "# Write your code here\n",
    "\n",
    "\n",
    "# Display group_means to check that the index has been updated.\n",
    "# On the left-hand side you should see the Age group labels, from \"15-24\" to \"75+\".\n",
    "group_means"
   ]
  },
  {
   "cell_type": "markdown",
   "metadata": {},
   "source": [
    "e) Sort `group_means` in descending order of `Total time (hour)`.  Store this sorted `DataFrame` in a variable called `group_means_sorted`\n"
   ]
  },
  {
   "cell_type": "code",
   "execution_count": null,
   "metadata": {},
   "outputs": [],
   "source": [
    "# Write your code here\n"
   ]
  },
  {
   "cell_type": "markdown",
   "metadata": {},
   "source": [
    "f) First, create a copy of `well_balanced_df` (using the `DataFrame` `.copy()` method), and store it in a variable called `time_spent_with_total_df`. Create a column `Total time (hour)` in `time_spent_with_total_df` by adding the three columns `Socializing time (hour)`, `Exercising time (hour)`, and `Sleep time (hour)`."
   ]
  },
  {
   "cell_type": "code",
   "execution_count": null,
   "metadata": {},
   "outputs": [],
   "source": [
    "# Write your code here\n"
   ]
  },
  {
   "cell_type": "markdown",
   "metadata": {},
   "source": [
    "g) Complete the code below to create three side-by-side boxplots from `time_spent_with_total_df` using `layout=(2, 2)` and `figsize=(20, 20)` of time spent (in hours) socializing, exercising, sleeping, and their sum for each age group. Store these boxplots in a variable called `time_boxplots`."
   ]
  },
  {
   "cell_type": "code",
   "execution_count": null,
   "metadata": {},
   "outputs": [],
   "source": [
    "# Complete the code below\n",
    "time_boxplots = well_balanced_df.boxplot(\n",
    "    column = # complete the line\n",
    "    by = # complete the line\n",
    "    figsize = # complete the line\n",
    "    layout = # complete the line\n",
    ")"
   ]
  },
  {
   "cell_type": "markdown",
   "metadata": {},
   "source": [
    "## Task 5\n",
    "\n",
    "The tick marks on the horizontal axes of `time_boxplots` are not informative unless the viewer knows which age group each value represents.  Fix labels of boxplot by recoding `Age group` using the labels in the code book (see `gss_tu2016_codebook.txt`).\n",
    "\n",
    "a) First, create a copy of `time_spent_with_total_df` (using the `DataFrame` `.copy()` method), and store it in a variable called `time_spent_age_label_df`. For that new `DataFrame`, recode `Age group` by adding a column called `Age group label` with the Age group labels found in the code book."
   ]
  },
  {
   "cell_type": "code",
   "execution_count": null,
   "metadata": {},
   "outputs": [],
   "source": [
    "# Write your code here\n"
   ]
  },
  {
   "cell_type": "markdown",
   "metadata": {},
   "source": [
    "b) Create the same boxplots as in Task 4 g) using `layout = (2, 2)` and `figsize = (20, 20)`, but use `Age group label` to create the boxplot, so that the ticks on horizontal axes of the boxplot are informative. Store this boxplot in a variable called `time_boxplots_age_label`.\n"
   ]
  },
  {
   "cell_type": "code",
   "execution_count": null,
   "metadata": {},
   "outputs": [],
   "source": [
    "# Write your code here\n"
   ]
  },
  {
   "cell_type": "markdown",
   "metadata": {},
   "source": [
    "## Task 6 (Written Discussion)\n",
    "\n",
    "a) Which age group spends the most time sleeping, exercising, and socializing?  Does your ranking change if you use mean or median as a summary measure of time?  Briefly explain why or why not your ranking changes, and which ranking is the best representation.\n",
    "\n",
    "b) Which age group shows the most variability in time spent socializing?  Provide a brief explanation of why this group shows the most variability.\n",
    "\n",
    "c) State one limitations of basing this data analysis on only respondents that spent more than zero time sleeping, exercising, and socializing.  Briefly explain why it's a limitation to your findings in Tasks 4 and 5."
   ]
  },
  {
   "cell_type": "markdown",
   "metadata": {},
   "source": [
    "> _Answer Task 6 here._"
   ]
  },
  {
   "cell_type": "markdown",
   "metadata": {},
   "source": [
    "## Marking Rubric\n",
    "\n",
    "\n",
    "Section     | 0 | 1 | 2 | 3\n",
    "------------|---|---|---|---\n",
    "Computational questions including visualizations (for each part) |auto test fails | auto test passes | NA | NA \n",
    "Qualitative questions (for each part) | No answer | The question is answered but no explanation is given | The question is answered but the explanation is irrelevant or not supported | The question is answered and the explanation is supported"
   ]
  }
 ],
 "metadata": {
  "kernelspec": {
   "display_name": "Python 3",
   "language": "python",
   "name": "python3"
  },
  "language_info": {
   "codemirror_mode": {
    "name": "ipython",
    "version": 3
   },
   "file_extension": ".py",
   "mimetype": "text/x-python",
   "name": "python",
   "nbconvert_exporter": "python",
   "pygments_lexer": "ipython3",
   "version": "3.7.4"
  },
  "vscode": {
   "interpreter": {
    "hash": "8b8edaa195e148f815789564e9a10f57d8b792ac9e1a5daafce5fbae42bebd0e"
   }
  }
 },
 "nbformat": 4,
 "nbformat_minor": 2
}
