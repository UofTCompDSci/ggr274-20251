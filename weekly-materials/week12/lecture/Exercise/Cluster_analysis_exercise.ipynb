{
 "cells": [
  {
   "cell_type": "markdown",
   "id": "d2174d6b",
   "metadata": {
    "editable": true,
    "slideshow": {
     "slide_type": ""
    },
    "tags": []
   },
   "source": [
    "# Exercise: Run a cluster analysis\n"
   ]
  },
  {
   "cell_type": "markdown",
   "id": "1c0b2e16",
   "metadata": {
    "editable": true,
    "slideshow": {
     "slide_type": ""
    },
    "tags": []
   },
   "source": [
    "**Goal**:\n",
    "You will use the skills you've learned throughout the course to conduct two analyses where you compute the Moran's I statistic. Additionally, you will explore how to run a sptial correlation between two variables.\n",
    "\n",
    "**Step 1**\n",
    "Load the `Toronto_Neighbourhoods.geojson` and `toronto_health_data_2017.csv` files into python.\n",
    "\n",
    "**Step 2**\n",
    "Merge the health data with the spatial data\n",
    "\n",
    "**Step 3**\n",
    "Generate maps of two of the three health variables included in the dataset (e.g., pick diabetes and mental health, or mental health and asthma). Make sure to classify the data and make it look nice. \n",
    "\n",
    "For each of the two columns do the following to pratice *spatial autocorrelation*:\n",
    "\n",
    "**Step 4**\n",
    "Calculate a weights matrix using `libpysal` (referred to as `lps` below).\n",
    "*Hint* The function is `lps.weights.Queen.from_dataframe`.\n",
    "\n",
    "**Step 5**\n",
    "Use the `esda.Moran()` function to calculate the moran's I statistic and plot it. \n",
    "\n",
    "**Step 6**\n",
    "Use the `esda.Moran_Local()` function to calculate the LISA statistic and plot it.\n",
    "\n",
    "**Step 7**\n",
    "Interpret the global and local Moran's statistics in a few sentences. What do they tell us about the spatial distribution of the two health outcomes you selected?\n",
    "\n",
    "Do the following steps to explore *spatial correlation*\n",
    "\n",
    "**Step 8**\n",
    "Two options to conduct sptial correlation:\n",
    "1. Use a linear regression between the spatial lags of one health outcomes and the spatial lags of the other one.\n",
    "2. Calcuating Lee's L statistics (similar with Moran's I, but apply to two or more variables). See [wiki](https://en.wikipedia.org/wiki/Lee%27s_L) and [esda.Spatial_pearson](https://pysal.org/esda/generated/esda.Spatial_Pearson.html) for how to do it.\n",
    "\n",
    "**Step 9**\n",
    "Interpret the spatial correlation results. Do they tell us whether the spatial distribution of the two health outcomes are similar?"
   ]
  },
  {
   "cell_type": "code",
   "execution_count": 1,
   "id": "6909af8e",
   "metadata": {
    "editable": true,
    "slideshow": {
     "slide_type": ""
    },
    "tags": []
   },
   "outputs": [],
   "source": [
    "import numpy as np\n",
    "import pandas as pd\n",
    "import geopandas as gpd\n",
    "import matplotlib.pyplot as plt\n",
    "import mapclassify\n",
    "import esda\n",
    "import splot\n",
    "import libpysal as lps\n",
    "import contextily as cx\n",
    "from splot.esda import moran_scatterplot\n",
    "from splot.esda import lisa_cluster\n",
    "from statsmodels.formula.api import ols"
   ]
  },
  {
   "cell_type": "code",
   "execution_count": 1,
   "id": "a2589c14",
   "metadata": {},
   "outputs": [],
   "source": [
    "#start your code here - add cells as needed"
   ]
  },
  {
   "cell_type": "code",
   "execution_count": null,
   "id": "2e3eb187",
   "metadata": {},
   "outputs": [],
   "source": []
  }
 ],
 "metadata": {
  "kernelspec": {
   "display_name": "Python 3 (ipykernel)",
   "language": "python",
   "name": "python3"
  },
  "language_info": {
   "codemirror_mode": {
    "name": "ipython",
    "version": 3
   },
   "file_extension": ".py",
   "mimetype": "text/x-python",
   "name": "python",
   "nbconvert_exporter": "python",
   "pygments_lexer": "ipython3",
   "version": "3.12.3"
  }
 },
 "nbformat": 4,
 "nbformat_minor": 5
}
